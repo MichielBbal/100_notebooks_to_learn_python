{
 "cells": [
  {
   "cell_type": "markdown",
   "id": "c62666c0",
   "metadata": {},
   "source": [
    "# Programming some algorithms\n",
    "\n",
    "### Contents\n",
    "1. Factorials\n",
    "2. Permutations\n",
    "3. Fibonacci sunflowers\n",
    "4. Random walk or Monte Carlo simulation\n",
    "5. Some sorting algorithms"
   ]
  },
  {
   "cell_type": "markdown",
   "id": "b3e63750",
   "metadata": {},
   "source": []
  },
  {
   "cell_type": "markdown",
   "id": "5ce757c0",
   "metadata": {},
   "source": [
    "## 1. Factorials\n",
    "source: https://www.youtube.com/watch?v=fW_OS3LGB9Q&t=661s"
   ]
  },
  {
   "cell_type": "code",
   "execution_count": null,
   "id": "7339945f",
   "metadata": {
    "scrolled": false
   },
   "outputs": [],
   "source": [
    "def iterative_factorial(n):\n",
    "    if n == 1:\n",
    "        return n\n",
    "    else:\n",
    "        temp = iterative_factorial(n-1)\n",
    "        print(temp)\n",
    "        return temp * n\n",
    "print(iterative_factorial(6))"
   ]
  },
  {
   "cell_type": "code",
   "execution_count": null,
   "id": "36cb4e76",
   "metadata": {},
   "outputs": [],
   "source": [
    "def recur_factorial(n):\n",
    "    if n == 1: \n",
    "        return n\n",
    "    else: \n",
    "        return n * recur_factorial(n-1)\n",
    "print(recur_factorial(5))"
   ]
  },
  {
   "cell_type": "markdown",
   "id": "1cee0b3b",
   "metadata": {},
   "source": [
    "## 2. Permutations"
   ]
  },
  {
   "cell_type": "code",
   "execution_count": null,
   "id": "99388438",
   "metadata": {},
   "outputs": [],
   "source": [
    "def permute(string, pocket=''):\n",
    "    if len(string) == 0:\n",
    "        print(pocket)\n",
    "    else:\n",
    "        for i in range(len(string)):\n",
    "            letter = string[i]\n",
    "            front = string[0:i]\n",
    "            back = string[i+1:]\n",
    "            together = front + back\n",
    "            permute(together, letter+pocket)\n",
    "\n",
    "print(permute(\"ABC\", \"\"))"
   ]
  },
  {
   "cell_type": "markdown",
   "id": "d13a9e7d",
   "metadata": {},
   "source": [
    "## 3. Fibonacci sunflowers"
   ]
  },
  {
   "cell_type": "code",
   "execution_count": null,
   "id": "90dae298",
   "metadata": {},
   "outputs": [],
   "source": [
    "from numpy import pi, cos, sin, sqrt, arange\n",
    "import matplotlib.pyplot as pp\n",
    "\n",
    "num_pts = 100\n",
    "indices = arange(0, num_pts, dtype=float) + 0.5\n",
    "\n",
    "r = sqrt(indices/num_pts)\n",
    "theta = pi * (1 + 5**0.5) * indices\n",
    "\n",
    "pp.scatter(r*cos(theta), r*sin(theta))\n",
    "pp.show()"
   ]
  },
  {
   "cell_type": "code",
   "execution_count": null,
   "id": "c5e68d33",
   "metadata": {},
   "outputs": [],
   "source": [
    "from numpy import pi, cos, sin, arccos, arange\n",
    "import mpl_toolkits.mplot3d\n",
    "import matplotlib.pyplot as pp\n",
    "\n",
    "num_pts = 100\n",
    "indices = arange(0, num_pts, dtype=float) + 0.5\n",
    "\n",
    "phi = arccos(1 - 2*indices/num_pts)\n",
    "theta = pi * (1 + 5**0.5) * indices\n",
    "\n",
    "x, y, z = cos(theta) * sin(phi), sin(theta) * sin(phi), cos(phi);\n",
    "\n",
    "pp.figure().add_subplot(111, projection='3d').scatter(x, y, z);\n",
    "pp.show()"
   ]
  },
  {
   "cell_type": "code",
   "execution_count": null,
   "id": "27e31bf0",
   "metadata": {},
   "outputs": [],
   "source": [
    "import math\n",
    "\n",
    "def fibonacci_sphere(samples=100):\n",
    "\n",
    "    points = []\n",
    "    phi = math.pi * (3. - math.sqrt(5.))  # golden angle in radians\n",
    "\n",
    "    for i in range(samples):\n",
    "        y = 1 - (i / float(samples - 1)) * 2  # y goes from 1 to -1\n",
    "        radius = math.sqrt(1 - y * y)  # radius at y\n",
    "\n",
    "        theta = phi * i  # golden angle increment\n",
    "\n",
    "        x = math.cos(theta) * radius\n",
    "        z = math.sin(theta) * radius\n",
    "\n",
    "        points.append((x, y, z))\n",
    "\n",
    "    return points\n",
    "fibonnaci_sphere()"
   ]
  },
  {
   "cell_type": "markdown",
   "id": "442a6279",
   "metadata": {},
   "source": [
    "## 4. Monte Carlo simulation or Random Walk\n",
    "source: https://www.youtube.com/watch?v=BfS2H1y6tzQ"
   ]
  },
  {
   "cell_type": "code",
   "execution_count": null,
   "id": "03548afe",
   "metadata": {},
   "outputs": [],
   "source": [
    "# script to do a Monte Carlo simulation\n",
    "import random \n",
    "\n",
    "def random_walk(n):\n",
    "    \"\"\" return coordinates after an n block walk\"\"\"\n",
    "    x, y = 0, 0\n",
    "    for i in range(n):\n",
    "        (dx, dy) = random.choice([(0,1), (0,-1), (1,0), (-1,0)])\n",
    "        x += dx\n",
    "        y += dy                       \n",
    "    return (x,y)\n",
    "\n",
    "#for i in range(25):\n",
    "#    walk = random_walk(10)\n",
    "#    print(walk, 'Distance from home =', \n",
    "#         abs(walk[0])+abs(walk[1]))\n",
    "    \n",
    "number_of_walks = 10000\n",
    "\n",
    "for walk_length in range(1,10):\n",
    "    no_transport = 0\n",
    "    for i in range(number_of_walks):\n",
    "        (x, y) = random_walk(walk_length)\n",
    "        distance = abs(x) + abs(y)\n",
    "        if distance <=4:\n",
    "            no_transport +=1\n",
    "    no_transport_percentage = float(no_transport) / number_of_walks\n",
    "    print(\"Walk size = \", walk_length,\n",
    "          \"/ % no transport = \", 100*no_transport_percentage)"
   ]
  },
  {
   "cell_type": "markdown",
   "id": "5503b9d4",
   "metadata": {},
   "source": [
    "## 5. Some sorting algorithms\n",
    "\n",
    "Here we will use three main sorting algorithms:\n",
    "1. Insertion sort\n",
    "2. Quick sort\n",
    "3. Bubble sort\n",
    "\n",
    "#### Insertion sort\n",
    "Insertin sort is the most basic sorting algorithm."
   ]
  },
  {
   "cell_type": "code",
   "execution_count": null,
   "id": "55f12981",
   "metadata": {},
   "outputs": [],
   "source": [
    "#bubble sort\n",
    "def bubble_sort(nums):\n",
    "  # Set a flag to indicate whether any swaps were made\n",
    "  swapped = True\n",
    "\n",
    "  # Continue looping until no swaps are made\n",
    "  while swapped:\n",
    "    swapped = False\n",
    "\n",
    "    # Loop through the list of numbers\n",
    "    for i in range(len(nums) - 1):\n",
    "      # If the current number is greater than the next number,\n",
    "      # swap them and set the swapped flag to True\n",
    "        if nums[i] > nums[i + 1]:\n",
    "            nums[i], nums[i + 1] = nums[i + 1], nums[i]\n",
    "            swapped = True\n",
    "\n",
    "  # Return the sorted list of numbers\n",
    "  return nums"
   ]
  },
  {
   "cell_type": "code",
   "execution_count": null,
   "id": "1a8f59f6",
   "metadata": {},
   "outputs": [],
   "source": [
    "numbers = [25, 42, 14, 31, 93]\n",
    "bubble_sort(numbers)  # [1, 2, 3, 4, 5]"
   ]
  },
  {
   "cell_type": "markdown",
   "id": "f085e7d1",
   "metadata": {},
   "source": [
    "## 6. Some basic math algorithms"
   ]
  },
  {
   "cell_type": "markdown",
   "id": "35b07223",
   "metadata": {},
   "source": [
    "Finding the grootste gemene deler (GGD) or Euclides algorithm.\n",
    "\n",
    "pseudo code\n",
    "\n",
    "Take two numbers\n",
    "Repeat the following steps:\n",
    "    Distract the smallest number of the largest.\n",
    "    Replace the largest with the result of previous step.\n",
    "Stop repeating when two numbers are equal.\n",
    "You have the GGD."
   ]
  },
  {
   "cell_type": "code",
   "execution_count": null,
   "id": "0972407b",
   "metadata": {},
   "outputs": [],
   "source": [
    "a = 18\n",
    "b = 12\n",
    "while True:\n",
    "    if a > b: \n",
    "    a = a - b\n",
    "    print(new)  "
   ]
  },
  {
   "cell_type": "code",
   "execution_count": null,
   "id": "f90c276e",
   "metadata": {},
   "outputs": [],
   "source": []
  }
 ],
 "metadata": {
  "kernelspec": {
   "display_name": "Python 3 (ipykernel)",
   "language": "python",
   "name": "python3"
  },
  "language_info": {
   "codemirror_mode": {
    "name": "ipython",
    "version": 3
   },
   "file_extension": ".py",
   "mimetype": "text/x-python",
   "name": "python",
   "nbconvert_exporter": "python",
   "pygments_lexer": "ipython3",
   "version": "3.10.9"
  }
 },
 "nbformat": 4,
 "nbformat_minor": 5
}
