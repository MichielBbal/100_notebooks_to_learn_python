{
 "cells": [
  {
   "cell_type": "markdown",
   "metadata": {},
   "source": [
    "# Intro to Numpy"
   ]
  },
  {
   "cell_type": "markdown",
   "metadata": {},
   "source": [
    "Numpy = <b>Num</b>erical <b>py</b>thon\n",
    "\n",
    "\n",
    "## Contents\n",
    "1. My first arrays\n",
    "2. Creating arrays from ranges\n",
    "3. Change the shape of an array with .reshape\n",
    "4. Get and change specific cell(s) or row\n",
    "5. Fill arrays with specific values\n",
    "6. Convert a numpy array to a list\n",
    "7. Convert an image to a numpy array and vice versa\n",
    "8. Calculations with tensors\n",
    "\n",
    "## Introduction\n",
    "\n",
    "\n",
    "\n"
   ]
  },
  {
   "cell_type": "markdown",
   "metadata": {},
   "source": [
    "## 0. Some theory \n",
    "\n",
    "#### Definitions of array, tensor, scalar, vector, matrix\n",
    "\n",
    "An array is used in numpy as a general term for a data structure. It can have multiple dimensions.\n",
    "\n",
    "A tensor is a container for data, usually numerical data. Tensors are classified based on the number of dimensions often called axis. \n",
    "\n",
    "- A scalar has 0 dimensions and is a rank-0 tensor.\n",
    "- A vector has 1 dimension = rank-1 tensor.\n",
    "- A matrix has 2 dimensions = rank-2 tensor.\n",
    "- There are also rank-3 and higher tensors. \n",
    "\n",
    "Some examples:\n",
    "- shape(12) 0D-array, zero dimensions\n",
    "- shape(4,) 4 digits 1D array; uses 1 dimensions\n",
    "- shape (2,3) - 2x3 array ; uses 2 dimensions\n",
    "- shape (4,3,2) 4x3x2 array; uses 3 dimensions\n",
    "\n",
    "\n",
    "### Arrays compared to lists\n",
    "Arrays are better than lists:\n",
    "- Lists are slow, arrays are faster\n",
    "- Numpy is a fixed Type. \n",
    "    -  5 = binary 00000101 => Numpy=>  Int32 00000000 0000000 0000000 00000101\n",
    "                              List => 10x zo veel memory\n",
    "\n",
    "- No type checking when iterating through objects\n",
    "- Numpy uses contiguous memory\n",
    "- You can't multiply lists, but you can multiply arrays.\n",
    "\n",
    "### Some real world examples of data tensors:\n",
    "\n",
    "- Datasets are rank-2 tensors of shape: (no. of samples, features). Features could be things like age, gender, income)\n",
    "- Timeseries are rank-3 tensors of shape: (no. of samples, timesteps, features)\n",
    "- Image<b>s</b> are rank-4 tensors of shape: (no. of samples, height, width, channels (= like RGB))\n",
    "- Videos are rank-5 tensors of shape: (no. of samples, frames, height, width, channels)"
   ]
  },
  {
   "cell_type": "markdown",
   "metadata": {},
   "source": [
    "<img src=\"https://cac.cornell.edu/myers/teaching/ComputationalMethods/python/anatomyarray.png\" /> "
   ]
  },
  {
   "cell_type": "markdown",
   "metadata": {},
   "source": [
    "## 1. My first arrays"
   ]
  },
  {
   "cell_type": "code",
   "execution_count": 2,
   "metadata": {},
   "outputs": [
    {
     "name": "stdout",
     "output_type": "stream",
     "text": [
      "[1 2 3]\n",
      "This array has 1 dimensions\n"
     ]
    }
   ],
   "source": [
    "import numpy as np \n",
    "#initialize an array\n",
    "a = np.array([1,2,3]) # 1D array  = \n",
    "print(a)\n",
    "type(a)\n",
    "print(f'This array has {a.ndim} dimensions')"
   ]
  },
  {
   "cell_type": "code",
   "execution_count": 3,
   "metadata": {},
   "outputs": [
    {
     "name": "stdout",
     "output_type": "stream",
     "text": [
      "[[0. 0.]\n",
      " [0. 0.]]\n",
      "This array has 2 dimensions\n"
     ]
    }
   ],
   "source": [
    "#create an array with zero's\n",
    "my_a = np.zeros((2,2))  # use an array of 2x2 with values of zero\n",
    "print(my_a)\n",
    "print(f'This array has {my_a.ndim} dimensions')"
   ]
  },
  {
   "cell_type": "code",
   "execution_count": 4,
   "metadata": {},
   "outputs": [
    {
     "name": "stdout",
     "output_type": "stream",
     "text": [
      "[[3. 2. 1.]]\n",
      "This array has 2 dimensions\n"
     ]
    }
   ],
   "source": [
    "#create an empty array\n",
    "z = np.empty((1,3)) # 1 x 3 array. \n",
    "print(z)\n",
    "print(f'This array has {z.ndim} dimensions')"
   ]
  },
  {
   "cell_type": "code",
   "execution_count": 18,
   "metadata": {},
   "outputs": [
    {
     "data": {
      "text/plain": [
       "array([ 0. ,  2.5,  5. ,  7.5, 10. ])"
      ]
     },
     "execution_count": 18,
     "metadata": {},
     "output_type": "execute_result"
    }
   ],
   "source": [
    "#with linspace you can create so called floating point ranges\n",
    "np.linspace(0.0, 10, num= 5)"
   ]
  },
  {
   "cell_type": "code",
   "execution_count": 6,
   "metadata": {},
   "outputs": [
    {
     "name": "stdout",
     "output_type": "stream",
     "text": [
      "this is the array:\n",
      " [[9. 8. 7.]\n",
      " [6. 5. 4.]]\n",
      "\n",
      "\n",
      "dimensions: 2\n",
      "shape: (2, 3)\n",
      "bytes: 48\n",
      "dtype: float64\n"
     ]
    }
   ],
   "source": [
    "#print attributes of the array: dimensions, shape, bytes and datatype\n",
    "b = np.array([[9.0,8.0,7.0], [6.0,5.0,4.0]])\n",
    "print(f'this is the array:\\n {b}')\n",
    "print('\\n')\n",
    "print(f'dimensions: {b.ndim}') #get dimension\n",
    "print(f'shape: {b.shape}') #shape of array\n",
    "print(f'bytes: {b.nbytes}') # number of bytes (floats are bigger than integers)\n",
    "print(f'dtype: {b.dtype}') #prints the datatype"
   ]
  },
  {
   "cell_type": "code",
   "execution_count": 7,
   "metadata": {},
   "outputs": [
    {
     "name": "stdout",
     "output_type": "stream",
     "text": [
      "[[[1 2]\n",
      "  [3 4]\n",
      "  [5 6]\n",
      "  [7 8]]]\n",
      "dimensions: 3\n"
     ]
    }
   ],
   "source": [
    "#3d exmaple\n",
    "b = np.array([[[1,2], [3,4], [5,6], [7,8]]])\n",
    "print(b)\n",
    "print(f'dimensions: {b.ndim}')"
   ]
  },
  {
   "cell_type": "markdown",
   "metadata": {},
   "source": [
    "## 2. Creating arrays from ranges\n",
    "With numpy you can easily create an array from a range of numbers using *arange*."
   ]
  },
  {
   "cell_type": "code",
   "execution_count": 10,
   "metadata": {},
   "outputs": [
    {
     "data": {
      "text/plain": [
       "array([0, 1, 2, 3, 4])"
      ]
     },
     "execution_count": 10,
     "metadata": {},
     "output_type": "execute_result"
    }
   ],
   "source": [
    "# this will create a 1d array with values in range 0-5\n",
    "import numpy as np\n",
    "my_array = np.arange(5)\n",
    "my_array"
   ]
  },
  {
   "cell_type": "code",
   "execution_count": 13,
   "metadata": {},
   "outputs": [
    {
     "data": {
      "text/plain": [
       "array([3, 4, 5, 6, 7])"
      ]
     },
     "execution_count": 13,
     "metadata": {},
     "output_type": "execute_result"
    }
   ],
   "source": [
    "#you can specify start and end\n",
    "import numpy as np\n",
    "my_array = np.arange(3,8)\n",
    "my_array"
   ]
  },
  {
   "cell_type": "code",
   "execution_count": 15,
   "metadata": {},
   "outputs": [
    {
     "data": {
      "text/plain": [
       "array([0, 2, 4, 6, 8])"
      ]
     },
     "execution_count": 15,
     "metadata": {},
     "output_type": "execute_result"
    }
   ],
   "source": [
    "#you can also specify the step\n",
    "import numpy as np\n",
    "my_array = np.arange(0,9,2)\n",
    "my_array"
   ]
  },
  {
   "cell_type": "markdown",
   "metadata": {},
   "source": [
    "## 3. Change the shape of an array with .reshape"
   ]
  },
  {
   "cell_type": "code",
   "execution_count": 17,
   "metadata": {},
   "outputs": [
    {
     "name": "stdout",
     "output_type": "stream",
     "text": [
      "dimensions: 2\n",
      "shape: (3, 4)\n",
      "[[ 0  1  2  3]\n",
      " [ 4  5  6  7]\n",
      " [ 8  9 10 11]]\n"
     ]
    }
   ],
   "source": [
    "#reshaping an array\n",
    "import numpy as np\n",
    "a_2d = np.arange(12).reshape((3, 4)) #creating a numpy array with range and directly reshaping it to a 2d array\n",
    "print(f'dimensions: {a_2d.ndim}')\n",
    "print(f'shape: {a_2d.shape}')\n",
    "print(a_2d)"
   ]
  },
  {
   "cell_type": "code",
   "execution_count": 22,
   "metadata": {},
   "outputs": [
    {
     "name": "stdout",
     "output_type": "stream",
     "text": [
      "[[1]\n",
      " [2]\n",
      " [3]] (3, 1) 2\n"
     ]
    }
   ],
   "source": [
    "#reshape an array\n",
    "a = np.array([1,2,3])\n",
    "b = a.reshape(3,1)\n",
    "print(b, b.shape, b.ndim)"
   ]
  },
  {
   "cell_type": "markdown",
   "metadata": {},
   "source": [
    "## 4. Get and change specific cells and row \n",
    "Array indexing and replacing"
   ]
  },
  {
   "cell_type": "code",
   "execution_count": 54,
   "metadata": {},
   "outputs": [
    {
     "name": "stdout",
     "output_type": "stream",
     "text": [
      "[[ 1  2  3  4  5  6  7]\n",
      " [ 8  9 10 11 12 13 14]]\n",
      "[[ 1  2  3  4  5  6  7]\n",
      " [ 8  9 10 11 12 20 14]]\n"
     ]
    }
   ],
   "source": [
    "# Create two arrays:\n",
    "a= np.array([[1,2,3,4,5,6,7], [8,9,10,11,12,13,14]])\n",
    "print(a)\n",
    "a[1,5] #get specific element in row 1 and column 5)\n",
    "a[0,:]# Get a specific row and column\n",
    "a[:,2]\n",
    "# startindex:endindex:stepsize\n",
    "a[0, 1:6:2]\n",
    "a[1,5] = 20 #change cell in 2nd row 6th column with value 20\n",
    "print(a)"
   ]
  },
  {
   "cell_type": "markdown",
   "metadata": {},
   "source": [
    "## 5. Fill arrays with specific values"
   ]
  },
  {
   "cell_type": "code",
   "execution_count": 2,
   "metadata": {},
   "outputs": [
    {
     "data": {
      "text/plain": [
       "array([0., 0., 0., 0., 0.])"
      ]
     },
     "execution_count": 2,
     "metadata": {},
     "output_type": "execute_result"
    }
   ],
   "source": [
    "# Initialize arrays\n",
    "# all 0s matrix\n",
    "import numpy as np\n",
    "np.zeros(5)"
   ]
  },
  {
   "cell_type": "code",
   "execution_count": 33,
   "metadata": {},
   "outputs": [
    {
     "data": {
      "text/plain": [
       "array([[1., 1., 1.],\n",
       "       [1., 1., 1.]])"
      ]
     },
     "execution_count": 33,
     "metadata": {},
     "output_type": "execute_result"
    }
   ],
   "source": [
    "#Making an array with 1's\n",
    "np.ones((2,3))"
   ]
  },
  {
   "cell_type": "code",
   "execution_count": 36,
   "metadata": {},
   "outputs": [
    {
     "data": {
      "text/plain": [
       "array([[99, 99],\n",
       "       [99, 99]])"
      ]
     },
     "execution_count": 36,
     "metadata": {},
     "output_type": "execute_result"
    }
   ],
   "source": [
    "#getting a with specific value\n",
    "np.full((2,2), 99)"
   ]
  },
  {
   "cell_type": "code",
   "execution_count": 37,
   "metadata": {},
   "outputs": [
    {
     "data": {
      "text/plain": [
       "array([[4, 4, 4, 4, 4, 4, 4],\n",
       "       [4, 4, 4, 4, 4, 4, 4]])"
      ]
     },
     "execution_count": 37,
     "metadata": {},
     "output_type": "execute_result"
    }
   ],
   "source": [
    "np.full_like(a,4)"
   ]
  },
  {
   "cell_type": "code",
   "execution_count": 4,
   "metadata": {},
   "outputs": [
    {
     "name": "stdout",
     "output_type": "stream",
     "text": [
      "[[[0.81664254 0.67157768 0.43366994]\n",
      "  [0.28445811 0.03461231 0.3681639 ]]\n",
      "\n",
      " [[0.55011652 0.8799819  0.7719926 ]\n",
      "  [0.51737198 0.59302084 0.34314455]]\n",
      "\n",
      " [[0.84116544 0.00270992 0.20712559]\n",
      "  [0.28706737 0.62310318 0.148667  ]]\n",
      "\n",
      " [[0.16983813 0.02812003 0.74218525]\n",
      "  [0.53657873 0.40787288 0.76006229]]]\n",
      "(4, 2, 3)\n"
     ]
    }
   ],
   "source": [
    "#random numbers\n",
    "a = np.random.rand(4,2,3)\n",
    "print(a)\n",
    "print(a.shape)"
   ]
  },
  {
   "cell_type": "code",
   "execution_count": 5,
   "metadata": {},
   "outputs": [
    {
     "data": {
      "text/plain": [
       "array([[6, 6, 5],\n",
       "       [5, 4, 4],\n",
       "       [6, 5, 5]])"
      ]
     },
     "execution_count": 5,
     "metadata": {},
     "output_type": "execute_result"
    }
   ],
   "source": [
    "np.random.randint(4,7, size=(3,3)) #startvalue, endvalue, shape"
   ]
  },
  {
   "cell_type": "code",
   "execution_count": 47,
   "metadata": {},
   "outputs": [
    {
     "data": {
      "text/plain": [
       "array([[1., 0., 0., 0., 0.],\n",
       "       [0., 1., 0., 0., 0.],\n",
       "       [0., 0., 1., 0., 0.],\n",
       "       [0., 0., 0., 1., 0.],\n",
       "       [0., 0., 0., 0., 1.]])"
      ]
     },
     "execution_count": 47,
     "metadata": {},
     "output_type": "execute_result"
    }
   ],
   "source": [
    "np.identity(5)"
   ]
  },
  {
   "cell_type": "markdown",
   "metadata": {},
   "source": [
    "## 6. Convert a numpy array to a list and v.v.\n",
    "\n",
    "source: https://numpy.org/doc/stable/reference/generated/numpy.asarray.html"
   ]
  },
  {
   "cell_type": "code",
   "execution_count": 20,
   "metadata": {},
   "outputs": [
    {
     "name": "stdout",
     "output_type": "stream",
     "text": [
      "NumPy Array:[1 2 3]\n",
      "List: [1, 2, 3]\n"
     ]
    }
   ],
   "source": [
    "#convert 1d array to list\n",
    "import numpy as np\n",
    "\n",
    "arr = np.array([1, 2, 3])\n",
    "print(f'NumPy Array:{arr}')\n",
    "\n",
    "list1 = arr.tolist() #use the tolist method to convert to a list\n",
    "print(f'List: {list1}')"
   ]
  },
  {
   "cell_type": "code",
   "execution_count": 26,
   "metadata": {},
   "outputs": [
    {
     "name": "stdout",
     "output_type": "stream",
     "text": [
      "<class 'numpy.ndarray'>\n",
      "<class 'list'>\n"
     ]
    }
   ],
   "source": [
    "#print some stuff\n",
    "print(type(arr))\n",
    "print(type(list1))"
   ]
  },
  {
   "cell_type": "code",
   "execution_count": 21,
   "metadata": {},
   "outputs": [
    {
     "name": "stdout",
     "output_type": "stream",
     "text": [
      "[1 3 5]\n"
     ]
    }
   ],
   "source": [
    "#convert a list to an array\n",
    "import numpy as np\n",
    "a = [1, 3, 5] #create a list1 \n",
    "b = np.asarray(a) #convert it to a array\n",
    "print(b)"
   ]
  },
  {
   "cell_type": "markdown",
   "metadata": {},
   "source": [
    "## 7. Convert an image to a numpy array"
   ]
  },
  {
   "cell_type": "markdown",
   "metadata": {},
   "source": [
    "I recommend using the asarray() function in Numpy to convert the PIL Image object. \n",
    "You can read about it here: https://numpy.org/doc/stable/reference/generated/numpy.asarray.html"
   ]
  },
  {
   "cell_type": "code",
   "execution_count": 1,
   "metadata": {},
   "outputs": [
    {
     "name": "stdout",
     "output_type": "stream",
     "text": [
      "['pixellib_example.jpg', 'claxon_iphone_log.jpg', 'claxon_michiel_log.jpg', 'claxon_close.jpg', 'claxon_close_log.jpg', 'claxon_colorbar_log.jpg', 'thuis.jpg', 'road.jpg', 'buik3.jpg', 'newimage.jpg', 'claxon_1m_log.jpg', 'output.jpg', 'road2.jpg', 'claxon_1m.jpg', 'scatter.jpg', 'Zebra_Zuid-Afrika.jpg']\n"
     ]
    }
   ],
   "source": [
    "import glob\n",
    "img_list = glob.glob('*.jpg')\n",
    "print(img_list)"
   ]
  },
  {
   "cell_type": "code",
   "execution_count": 1,
   "metadata": {},
   "outputs": [
    {
     "name": "stdout",
     "output_type": "stream",
     "text": [
      "(425, 640, 3)\n",
      "--------------------------------------------------\n",
      "[[ 83 130 200]\n",
      " [ 83 130 200]\n",
      " [ 84 131 201]\n",
      " ...\n",
      " [ 89 128 193]\n",
      " [ 89 127 192]\n",
      " [ 87 125 190]]\n",
      "--------------------------------------------------\n",
      "[[[ 83 130 200]\n",
      "  [ 83 130 200]\n",
      "  [ 84 131 201]\n",
      "  ...\n",
      "  [ 89 128 193]\n",
      "  [ 89 127 192]\n",
      "  [ 87 125 190]]\n",
      "\n",
      " [[ 84 131 201]\n",
      "  [ 84 131 201]\n",
      "  [ 84 131 201]\n",
      "  ...\n",
      "  [ 89 127 190]\n",
      "  [ 88 126 189]\n",
      "  [ 86 124 187]]\n",
      "\n",
      " [[ 84 131 201]\n",
      "  [ 84 131 201]\n",
      "  [ 84 131 201]\n",
      "  ...\n",
      "  [ 97 133 195]\n",
      "  [ 97 133 195]\n",
      "  [ 96 132 194]]\n",
      "\n",
      " ...\n",
      "\n",
      " [[169 156 147]\n",
      "  [184 171 162]\n",
      "  [176 163 155]\n",
      "  ...\n",
      "  [172 159 150]\n",
      "  [157 144 135]\n",
      "  [159 146 137]]\n",
      "\n",
      " [[174 164 155]\n",
      "  [177 167 158]\n",
      "  [173 163 154]\n",
      "  ...\n",
      "  [163 150 142]\n",
      "  [154 141 133]\n",
      "  [167 154 146]]\n",
      "\n",
      " [[170 160 151]\n",
      "  [192 182 173]\n",
      "  [230 221 214]\n",
      "  ...\n",
      "  [170 160 151]\n",
      "  [169 159 150]\n",
      "  [159 149 140]]]\n"
     ]
    },
    {
     "data": {
      "image/png": "[encoded data removed]",
      "text/plain": [
       "<Figure size 432x288 with 1 Axes>"
      ]
     },
     "metadata": {
      "needs_background": "light"
     },
     "output_type": "display_data"
    }
   ],
   "source": [
    "from PIL import Image\n",
    "import numpy as np\n",
    "\n",
    "img = Image.open('road.jpg')\n",
    "img_array = np.asarray(img)#use np.asarray to convert to an image\n",
    "import matplotlib.pyplot as plt\n",
    "plt.imshow(img_array)\n",
    "print(img_array.shape) #print the dimensions of the image: size is 425 x 640 and color depth is 3 (RGB).\n",
    "print('-'*50)\n",
    "print(img_array[0])\n",
    "print('-'*50)\n",
    "print(img_array)"
   ]
  },
  {
   "cell_type": "markdown",
   "metadata": {},
   "source": [
    "## 8 Calculations with arrays"
   ]
  },
  {
   "cell_type": "markdown",
   "metadata": {},
   "source": [
    "### 6.a Broadcasting"
   ]
  },
  {
   "cell_type": "code",
   "execution_count": 8,
   "metadata": {},
   "outputs": [
    {
     "name": "stdout",
     "output_type": "stream",
     "text": [
      "(2, 2) 2\n",
      "(3,) 1\n",
      "ValueError occured\n"
     ]
    }
   ],
   "source": [
    "#broadcasting. If you have arrays with different dimonsions and you want to add them you will get a ValueError\n",
    "a = np.array([[1,2],[3,4]])\n",
    "e = np.array([10, 20, 30])\n",
    "print(a.shape, a.ndim)\n",
    "print(e.shape, e.ndim)\n",
    "try:\n",
    "    a + e\n",
    "except ValueError:\n",
    "    print('ValueError occured')"
   ]
  },
  {
   "cell_type": "code",
   "execution_count": 3,
   "metadata": {},
   "outputs": [
    {
     "name": "stdout",
     "output_type": "stream",
     "text": [
      "[[ 6 12]\n",
      " [ 8 14]]\n",
      "(2, 2) 2\n",
      "(1, 2) 2\n",
      "(2, 2) 2\n"
     ]
    }
   ],
   "source": [
    "# However, with same number of dimensions this works\n",
    "a = np.array([[1,2],[3,4]])\n",
    "b = np.array([[5,10]])\n",
    "c = a+b\n",
    "print(c)\n",
    "print(a.shape, a.ndim)\n",
    "print(b.shape, b.ndim)\n",
    "print(c.shape, b.ndim)"
   ]
  },
  {
   "cell_type": "code",
   "execution_count": 4,
   "metadata": {},
   "outputs": [
    {
     "name": "stdout",
     "output_type": "stream",
     "text": [
      "(3, 1) 2\n",
      "(2, 2) 2\n",
      "-----------\n",
      "[[1 2]\n",
      " [3 4]]\n",
      "[[10]\n",
      " [20]\n",
      " [30]]\n",
      "-----------\n"
     ]
    }
   ],
   "source": [
    "#You can use the .reshape method to add an extra dimension\n",
    "ee = e.reshape(3,1)\n",
    "print(ee.shape, ee.ndim)\n",
    "print(a.shape, a.ndim)\n",
    "print('-----------')\n",
    "print(a)\n",
    "print(ee)\n",
    "print('-----------')\n"
   ]
  },
  {
   "cell_type": "markdown",
   "metadata": {},
   "source": [
    "### 6b. Dot product"
   ]
  },
  {
   "cell_type": "code",
   "execution_count": null,
   "metadata": {},
   "outputs": [],
   "source": []
  },
  {
   "cell_type": "code",
   "execution_count": 6,
   "metadata": {},
   "outputs": [
    {
     "name": "stdout",
     "output_type": "stream",
     "text": [
      "5.793872380924844\n",
      "() 0\n"
     ]
    }
   ],
   "source": [
    "#the dot product (Dutch: inwendig product or inproduct)\n",
    "import numpy as np\n",
    "x = np.random.random((32,))\n",
    "y = np.random.random((32,))\n",
    "z= np.dot(x,y)\n",
    "print(z)\n",
    "print(z.shape, z.ndim)"
   ]
  },
  {
   "cell_type": "code",
   "execution_count": null,
   "metadata": {},
   "outputs": [],
   "source": []
  },
  {
   "cell_type": "code",
   "execution_count": null,
   "metadata": {},
   "outputs": [],
   "source": []
  }
 ],
 "metadata": {
  "kernelspec": {
   "display_name": "Python 3 (ipykernel)",
   "language": "python",
   "name": "python3"
  },
  "language_info": {
   "codemirror_mode": {
    "name": "ipython",
    "version": 3
   },
   "file_extension": ".py",
   "mimetype": "text/x-python",
   "name": "python",
   "nbconvert_exporter": "python",
   "pygments_lexer": "ipython3",
   "version": "3.10.9"
  }
 },
 "nbformat": 4,
 "nbformat_minor": 2
}
