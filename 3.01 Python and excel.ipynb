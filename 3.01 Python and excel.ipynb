{
 "cells": [
  {
   "cell_type": "markdown",
   "id": "593946a4",
   "metadata": {},
   "source": [
    "# Python and excel\n",
    "\n",
    "This notebook uses openpyxl as library. For writing/reading data to excel there are other libraries (such as xlsxwriter or pyexcel), but these are not used\n",
    "\n",
    "Some conventions:\n",
    "- workbook -> wb\n",
    "- worksheet -> ws\n",
    "\n",
    "### Contents\n",
    "0. Install packages\n",
    "1. My first excel\n",
    "2. Reading data from an existing excelsheet\n",
    "3. Writing to a spreadsheet\n",
    "4. Insert and remove rows / columns\n",
    "\n",
    "### Sources\n",
    "source: https://realpython.com/openpyxl-excel-spreadsheets-python/ <br>\n",
    "dataset: https://github.com/realpython/materials/blob/master/openpyxl-excel-spreadsheets-python/reviews-sample.xlsx\n"
   ]
  },
  {
   "cell_type": "markdown",
   "id": "5d7340c5",
   "metadata": {},
   "source": [
    "## 0. Install packages"
   ]
  },
  {
   "cell_type": "code",
   "execution_count": 2,
   "id": "478d90d7",
   "metadata": {},
   "outputs": [
    {
     "name": "stdout",
     "output_type": "stream",
     "text": [
      "Requirement already satisfied: openpyxl in c:\\users\\31653\\anaconda3\\lib\\site-packages (3.0.9)\n",
      "Requirement already satisfied: et-xmlfile in c:\\users\\31653\\anaconda3\\lib\\site-packages (from openpyxl) (1.0.1)\n"
     ]
    }
   ],
   "source": [
    "!pip install openpyxl"
   ]
  },
  {
   "cell_type": "markdown",
   "id": "64ea025e",
   "metadata": {},
   "source": [
    "## 1. My first excel"
   ]
  },
  {
   "cell_type": "code",
   "execution_count": 3,
   "id": "20ee5176",
   "metadata": {},
   "outputs": [],
   "source": [
    "#create a basic excelsheet with hello adn world in \n",
    "from openpyxl import Workbook\n",
    "\n",
    "wb = Workbook()\n",
    "ws = workbook.active\n",
    "\n",
    "ws[\"A1\"] = \"hello\"\n",
    "ws[\"B1\"] = \"world!\"\n",
    "\n",
    "wb.save(filename=\"hello_world.xlsx\")"
   ]
  },
  {
   "cell_type": "code",
   "execution_count": 4,
   "id": "1e61d17f",
   "metadata": {},
   "outputs": [
    {
     "name": "stdout",
     "output_type": "stream",
     "text": [
      "('hello', 'world!')\n"
     ]
    }
   ],
   "source": [
    "#check the result of the writing with the following script\n",
    "def print_rows():\n",
    "    for row in ws.iter_rows(values_only=True):\n",
    "        print(row)\n",
    "print_rows()"
   ]
  },
  {
   "cell_type": "markdown",
   "id": "a86e4937",
   "metadata": {},
   "source": [
    "## 2. Reading data from an existing excelsheet"
   ]
  },
  {
   "cell_type": "code",
   "execution_count": 2,
   "id": "b5b15a7d",
   "metadata": {},
   "outputs": [
    {
     "data": {
      "text/plain": [
       "['hello_world_append.xlsx', 'columns.xlsx', 'hello_world.xlsx']"
      ]
     },
     "execution_count": 2,
     "metadata": {},
     "output_type": "execute_result"
    }
   ],
   "source": [
    "#show all excelsheets\n",
    "import glob\n",
    "my_xlsx = glob.glob(r'*.xlsx')\n",
    "my_xlsx"
   ]
  },
  {
   "cell_type": "code",
   "execution_count": 3,
   "id": "693a3d9e",
   "metadata": {},
   "outputs": [
    {
     "data": {
      "text/plain": [
       "['Sheet']"
      ]
     },
     "execution_count": 3,
     "metadata": {},
     "output_type": "execute_result"
    }
   ],
   "source": [
    "#source: https://realpython.com/openpyxl-excel-spreadsheets-python/\n",
    "from openpyxl import load_workbook\n",
    "workbook = load_workbook(filename=\"columns.xlsx\")\n",
    "workbook.sheetnames"
   ]
  },
  {
   "cell_type": "code",
   "execution_count": 4,
   "id": "80fd5c24",
   "metadata": {},
   "outputs": [
    {
     "data": {
      "text/plain": [
       "'Sheet'"
      ]
     },
     "execution_count": 4,
     "metadata": {},
     "output_type": "execute_result"
    }
   ],
   "source": [
    "#selecting the right sheet\n",
    "sheet = workbook['Sheet']\n",
    "sheet.title"
   ]
  },
  {
   "cell_type": "code",
   "execution_count": 5,
   "id": "01ebfe00",
   "metadata": {},
   "outputs": [
    {
     "data": {
      "text/plain": [
       "((<Cell 'Sheet'.A1>, <Cell 'Sheet'.B1>),\n",
       " (<Cell 'Sheet'.A2>, <Cell 'Sheet'.B2>))"
      ]
     },
     "execution_count": 5,
     "metadata": {},
     "output_type": "execute_result"
    }
   ],
   "source": [
    "#get all the values from column A1:B2\n",
    "sheet[\"A1:B2\"]"
   ]
  },
  {
   "cell_type": "code",
   "execution_count": 6,
   "id": "c148c5a6",
   "metadata": {},
   "outputs": [
    {
     "name": "stdout",
     "output_type": "stream",
     "text": [
      "['1', None, None, None, None, None, None, None, None, None, None, None, None, None, None, None, None, None, None, None]\n"
     ]
    }
   ],
   "source": [
    "objects =[]\n",
    "for value in sheet.iter_rows(min_row=2, max_row=21, min_col=1, max_col=1, values_only=True):\n",
    "    #print(value[0])\n",
    "    objects.append(value[0])#value is a tuple so selectonly first item\n",
    "print(objects)    "
   ]
  },
  {
   "cell_type": "code",
   "execution_count": 7,
   "id": "c58985ea",
   "metadata": {},
   "outputs": [
    {
     "data": {
      "text/plain": [
       "tuple"
      ]
     },
     "execution_count": 7,
     "metadata": {},
     "output_type": "execute_result"
    }
   ],
   "source": [
    "#print the type\n",
    "type(value)"
   ]
  },
  {
   "cell_type": "markdown",
   "id": "6b69be33",
   "metadata": {},
   "source": [
    "## 3. Writing to a spreadsheet"
   ]
  },
  {
   "cell_type": "code",
   "execution_count": 29,
   "id": "935725fb",
   "metadata": {},
   "outputs": [],
   "source": [
    "#writing one item to a specific cell\n",
    "#source: https://realpython.com/openpyxl-excel-spreadsheets-python/\n",
    "from openpyxl import load_workbook\n",
    "\n",
    "# Start by opening the spreadsheet and selecting the main sheet\n",
    "workbook = load_workbook(filename=\"hello_world.xlsx\")\n",
    "sheet = workbook.active\n",
    "\n",
    "# Write what you want into a specific cell\n",
    "sheet[\"C1\"] = \"writing ;)\"\n",
    "\n",
    "# Save the spreadsheet\n",
    "workbook.save(filename=\"hello_world_append.xlsx\")"
   ]
  },
  {
   "cell_type": "code",
   "execution_count": 29,
   "id": "5603a4b7",
   "metadata": {},
   "outputs": [],
   "source": [
    "#writing to a row of items\n",
    "#source: https://stackoverflow.com/questions/29354868/how-can-openpyxl-write-list-data-in-sheet\n",
    "\n",
    "from openpyxl import load_workbook\n",
    "\n",
    "myList = ['First','Second','Third','Fourth','Fifth']\n",
    "wb = load_workbook('hello_world.xlsx')\n",
    "ws= wb.active\n",
    "ws.append(myList)\n",
    "wb.save(filename=\"hello_world.xlsx\")"
   ]
  },
  {
   "cell_type": "code",
   "execution_count": null,
   "id": "87fa91e3",
   "metadata": {},
   "outputs": [],
   "source": []
  },
  {
   "cell_type": "code",
   "execution_count": null,
   "id": "0457a27b",
   "metadata": {},
   "outputs": [],
   "source": []
  },
  {
   "cell_type": "code",
   "execution_count": 70,
   "id": "d3361819",
   "metadata": {},
   "outputs": [],
   "source": [
    "#same result as above\n",
    "from openpyxl import load_workbook\n",
    "\n",
    "myList = ['First','Second','Third','Fourth','Fifth']\n",
    "wb = load_workbook('hello_world.xlsx')\n",
    "ws= wb.active\n",
    "\n",
    "for row in ws.iter_cols():\n",
    "    ws.append(myList)\n",
    "    \n",
    "wb.save(filename=\"hello_world.xlsx\")"
   ]
  },
  {
   "cell_type": "code",
   "execution_count": 5,
   "id": "b6953d2b",
   "metadata": {},
   "outputs": [
    {
     "name": "stdout",
     "output_type": "stream",
     "text": [
      "('hello', 'world!')\n"
     ]
    }
   ],
   "source": [
    "print_rows()"
   ]
  },
  {
   "cell_type": "code",
   "execution_count": 17,
   "id": "a4cde2a3",
   "metadata": {},
   "outputs": [],
   "source": [
    "#writing to columns\n",
    "import openpyxl as xl\n",
    "wb = xl.load_workbook('hello_world.xlsx')\n",
    "ws = wb.active\n",
    "\n",
    "my_list = ['een', 'twee', 'drie', 'vier', 'vijf']\n",
    "for i in range(len(my_list)):\n",
    "    ws['A' + str(i+1)] = my_list[i]\n",
    "\n",
    "#for i in range(len(my_list)):\n",
    "#    print(ws['A' + str(i)].value)"
   ]
  },
  {
   "cell_type": "code",
   "execution_count": 18,
   "id": "e4dc67e7",
   "metadata": {},
   "outputs": [
    {
     "name": "stdout",
     "output_type": "stream",
     "text": [
      "('een',)\n",
      "('twee',)\n",
      "('drie',)\n",
      "('vier',)\n",
      "('vijf',)\n"
     ]
    }
   ],
   "source": [
    "print_rows()"
   ]
  },
  {
   "cell_type": "markdown",
   "id": "8f143667",
   "metadata": {},
   "source": [
    "## 4. Insert and remove rows / columns"
   ]
  },
  {
   "cell_type": "code",
   "execution_count": 43,
   "id": "889e0b27",
   "metadata": {},
   "outputs": [
    {
     "name": "stdout",
     "output_type": "stream",
     "text": [
      "('hello', 'world!', None, None, None)\n",
      "(None, None, None, None, None)\n",
      "('First', 'Second', 'Third', 'Fourth', 'Fifth')\n",
      "('First', 'Second', 'Third', 'Fourth', 'Fifth')\n",
      "('First', 'Second', 'Third', 'Fourth', 'Fifth')\n"
     ]
    }
   ],
   "source": [
    "ws.insert_rows(idx=2)\n",
    "wb.save(filename=\"hello_world.xlsx\")\n",
    "print_rows()"
   ]
  },
  {
   "cell_type": "code",
   "execution_count": 69,
   "id": "944bc150",
   "metadata": {},
   "outputs": [
    {
     "name": "stdout",
     "output_type": "stream",
     "text": [
      "('hello', 'world!', None, None, None)\n"
     ]
    }
   ],
   "source": [
    "ws.delete_rows(idx=2) #relatieve relatie\n",
    "wb.save(filename=\"hello_world.xlsx\")\n",
    "print_rows()"
   ]
  },
  {
   "cell_type": "code",
   "execution_count": 82,
   "id": "da7df74e",
   "metadata": {},
   "outputs": [
    {
     "data": {
      "text/plain": [
       "['Sheet']"
      ]
     },
     "execution_count": 82,
     "metadata": {},
     "output_type": "execute_result"
    }
   ],
   "source": [
    "#does not work with one sheet...\n",
    "import openpyxl as xl\n",
    "wb = xl.load_workbook('hello_world.xlsx')\n",
    "wb.sheetnames\n",
    "#wb.remove_sheet('Sheet')"
   ]
  },
  {
   "cell_type": "code",
   "execution_count": 1,
   "id": "4fdff9bb",
   "metadata": {},
   "outputs": [
    {
     "ename": "NameError",
     "evalue": "name 'ws' is not defined",
     "output_type": "error",
     "traceback": [
      "\u001b[1;31m---------------------------------------------------------------------------\u001b[0m",
      "\u001b[1;31mNameError\u001b[0m                                 Traceback (most recent call last)",
      "\u001b[1;32m~\\AppData\\Local\\Temp/ipykernel_37936/2704954005.py\u001b[0m in \u001b[0;36m<module>\u001b[1;34m\u001b[0m\n\u001b[0;32m      1\u001b[0m \u001b[1;31m#clear sheet with following command\u001b[0m\u001b[1;33m\u001b[0m\u001b[1;33m\u001b[0m\u001b[1;33m\u001b[0m\u001b[0m\n\u001b[1;32m----> 2\u001b[1;33m \u001b[1;32mfor\u001b[0m \u001b[0mrow\u001b[0m \u001b[1;32min\u001b[0m \u001b[0mws\u001b[0m\u001b[1;33m[\u001b[0m\u001b[1;34m'A1:G10'\u001b[0m\u001b[1;33m]\u001b[0m\u001b[1;33m:\u001b[0m\u001b[1;33m\u001b[0m\u001b[1;33m\u001b[0m\u001b[0m\n\u001b[0m\u001b[0;32m      3\u001b[0m   \u001b[1;32mfor\u001b[0m \u001b[0mcell\u001b[0m \u001b[1;32min\u001b[0m \u001b[0mrow\u001b[0m\u001b[1;33m:\u001b[0m\u001b[1;33m\u001b[0m\u001b[1;33m\u001b[0m\u001b[0m\n\u001b[0;32m      4\u001b[0m     \u001b[0mcell\u001b[0m\u001b[1;33m.\u001b[0m\u001b[0mvalue\u001b[0m \u001b[1;33m=\u001b[0m \u001b[1;32mNone\u001b[0m\u001b[1;33m\u001b[0m\u001b[1;33m\u001b[0m\u001b[0m\n",
      "\u001b[1;31mNameError\u001b[0m: name 'ws' is not defined"
     ]
    }
   ],
   "source": [
    "#clear sheet with following command\n",
    "for row in ws['A1:G10']:\n",
    "  for cell in row:\n",
    "    cell.value = None"
   ]
  },
  {
   "cell_type": "code",
   "execution_count": null,
   "id": "3d045d93",
   "metadata": {},
   "outputs": [],
   "source": []
  },
  {
   "cell_type": "code",
   "execution_count": null,
   "id": "40c16095",
   "metadata": {},
   "outputs": [],
   "source": []
  }
 ],
 "metadata": {
  "kernelspec": {
   "display_name": "Python 3 (ipykernel)",
   "language": "python",
   "name": "python3"
  },
  "language_info": {
   "codemirror_mode": {
    "name": "ipython",
    "version": 3
   },
   "file_extension": ".py",
   "mimetype": "text/x-python",
   "name": "python",
   "nbconvert_exporter": "python",
   "pygments_lexer": "ipython3",
   "version": "3.10.9"
  }
 },
 "nbformat": 4,
 "nbformat_minor": 5
}
