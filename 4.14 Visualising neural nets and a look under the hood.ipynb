{
 "cells": [
  {
   "cell_type": "markdown",
   "id": "8f4b4539",
   "metadata": {},
   "source": [
    "# Visualising neural nets\n",
    "\n",
    "TO DO\n",
    "link: https://twitter.com/fchollet/status/1654684625225277440\n",
    "\n",
    "### Contents\n",
    "1. Visualkeras\n",
    "2. Plotneuralnet\n",
    "3. Netron.app\n",
    "4. Neural net app"
   ]
  },
  {
   "cell_type": "markdown",
   "id": "a67699c3",
   "metadata": {},
   "source": [
    "## 1. Visualkeras\n",
    "\n",
    "- source: https://github.com/paulgavrikov/visualkeras\n",
    "- pypi: https://pypi.org/project/visualkeras/ "
   ]
  },
  {
   "cell_type": "markdown",
   "id": "47f3b51d",
   "metadata": {},
   "source": [
    "## 2. Plotneuralnet\n",
    "\n",
    "- source: https://github.com/HarisIqbal88/PlotNeuralNet\n",
    "- blog: https://pub.towardsai.net/creating-stunning-neural-network-visualizations-with-chatgpt-and-plotneuralnet-adab37589e5\n",
    "- tutorial: https://www.kdnuggets.com/2020/12/generating-beautiful-neural-network-visualizations.html"
   ]
  },
  {
   "cell_type": "markdown",
   "id": "df377f25",
   "metadata": {},
   "source": [
    "## 3. Netron.app"
   ]
  },
  {
   "cell_type": "markdown",
   "id": "ddedc32b",
   "metadata": {},
   "source": [
    "## 4. Neural net zoo\n",
    "\n",
    "https://www.asimovinstitute.org/neural-network-zoo/"
   ]
  },
  {
   "cell_type": "code",
   "execution_count": null,
   "id": "d03c478d",
   "metadata": {},
   "outputs": [],
   "source": []
  }
 ],
 "metadata": {
  "kernelspec": {
   "display_name": "Python 3 (ipykernel)",
   "language": "python",
   "name": "python3"
  },
  "language_info": {
   "codemirror_mode": {
    "name": "ipython",
    "version": 3
   },
   "file_extension": ".py",
   "mimetype": "text/x-python",
   "name": "python",
   "nbconvert_exporter": "python",
   "pygments_lexer": "ipython3",
   "version": "3.10.9"
  }
 },
 "nbformat": 4,
 "nbformat_minor": 5
}
