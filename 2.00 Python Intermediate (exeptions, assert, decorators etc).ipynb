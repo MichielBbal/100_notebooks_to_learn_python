{
 "cells": [
  {
   "cell_type": "markdown",
   "id": "6fbb6aa9",
   "metadata": {},
   "source": [
    "# Intermediate python \n",
    "## Contents\n",
    "1. Exception handling with try/except\n",
    "2. Assert\n",
    "3. Filter\n",
    "4. Decorator\n",
    "5. Generator"
   ]
  },
  {
   "cell_type": "markdown",
   "id": "8632028f",
   "metadata": {},
   "source": [
    "## 1. Exception handling with try/except"
   ]
  },
  {
   "cell_type": "code",
   "execution_count": 1,
   "id": "c13bd719",
   "metadata": {},
   "outputs": [
    {
     "name": "stdout",
     "output_type": "stream",
     "text": [
      "An exception occurred\n"
     ]
    }
   ],
   "source": [
    "#source: https://www.w3schools.com/python/python_try_except.asp\n",
    "# as x is not defined, the 'try' will not work and an exception will be raised.\n",
    "try:\n",
    "  print(x)\n",
    "except:\n",
    "  print(\"An exception occurred\")"
   ]
  },
  {
   "cell_type": "code",
   "execution_count": 3,
   "id": "a2add494",
   "metadata": {},
   "outputs": [
    {
     "ename": "NameError",
     "evalue": "name 'x' is not defined",
     "output_type": "error",
     "traceback": [
      "\u001b[0;31m---------------------------------------------------------------------------\u001b[0m",
      "\u001b[0;31mNameError\u001b[0m                                 Traceback (most recent call last)",
      "Cell \u001b[0;32mIn[3], line 2\u001b[0m\n\u001b[1;32m      1\u001b[0m \u001b[38;5;66;03m#try for yourself without try-except\u001b[39;00m\n\u001b[0;32m----> 2\u001b[0m \u001b[38;5;28mprint\u001b[39m(\u001b[43mx\u001b[49m)\n",
      "\u001b[0;31mNameError\u001b[0m: name 'x' is not defined"
     ]
    }
   ],
   "source": [
    "#try for yourself without try-except\n",
    "print(x)"
   ]
  },
  {
   "cell_type": "code",
   "execution_count": 4,
   "id": "ad7fd8cd",
   "metadata": {},
   "outputs": [
    {
     "name": "stdout",
     "output_type": "stream",
     "text": [
      "This is a NameError\n"
     ]
    }
   ],
   "source": [
    "#we can also put the NameError after the except statement\n",
    "try:\n",
    "    print(x)\n",
    "except NameError:\n",
    "    print('This is a NameError')"
   ]
  },
  {
   "cell_type": "code",
   "execution_count": 5,
   "id": "29d3b42d",
   "metadata": {},
   "outputs": [
    {
     "name": "stdout",
     "output_type": "stream",
     "text": [
      "An error occured\n",
      "The 'try except' is finished\n"
     ]
    }
   ],
   "source": [
    "try:\n",
    "  print(x)\n",
    "except:\n",
    "  print(\"An error occured\")\n",
    "finally:\n",
    "  print(\"The 'try except' is finished\")"
   ]
  },
  {
   "cell_type": "code",
   "execution_count": null,
   "id": "edfbe60c",
   "metadata": {},
   "outputs": [],
   "source": []
  },
  {
   "cell_type": "markdown",
   "id": "e2db0be8",
   "metadata": {},
   "source": [
    "Met Try-except statements kun je specifieke errors gebruiken tegen de gebruiker.\n"
   ]
  },
  {
   "cell_type": "code",
   "execution_count": 7,
   "id": "081fb010",
   "metadata": {},
   "outputs": [
    {
     "name": "stdout",
     "output_type": "stream",
     "text": [
      "Enter a number: 0\n",
      "You cannot divide by zero, sorry.\n"
     ]
    }
   ],
   "source": [
    "try:\n",
    "    x = int(input('Enter a number: '))\n",
    "    y = 1 / x\n",
    "    print(y)\n",
    "except ZeroDivisionError:\n",
    "    print(\"You cannot divide by zero, sorry.\")\n",
    "except ValueError:\n",
    "    print('You must print an integer value.')\n",
    "except:\n",
    "    print(\"Oh dear, something went wrong...\")"
   ]
  },
  {
   "cell_type": "code",
   "execution_count": null,
   "id": "3c0c7aa2",
   "metadata": {},
   "outputs": [
    {
     "name": "stdout",
     "output_type": "stream",
     "text": [
      "0\n",
      "1\n",
      "2\n",
      "3\n",
      "4\n",
      "Don't do that!\n",
      "5\n",
      "6\n",
      "7\n",
      "Don't do that!\n",
      "8\n",
      "Don't do that!\n",
      "9\n",
      "Don't do that!\n",
      "10\n",
      "11\n",
      "12\n",
      "Don't do that!\n",
      "13\n",
      "14\n",
      "15\n",
      "16\n",
      "17\n",
      "18\n",
      "19\n"
     ]
    }
   ],
   "source": [
    "#You can't stop this script...\n",
    "from time import sleep\n",
    "seconds = 0\n",
    "while True:\n",
    "    try:\n",
    "        print(seconds)\n",
    "        seconds += 1\n",
    "        sleep(1)\n",
    "    except KeyboardInterrupt:\n",
    "        print(\"Don't do that!\")"
   ]
  },
  {
   "cell_type": "markdown",
   "id": "e3d1d11e",
   "metadata": {},
   "source": [
    "## 2. Assert"
   ]
  },
  {
   "cell_type": "code",
   "execution_count": 9,
   "id": "a4ffa9df",
   "metadata": {},
   "outputs": [
    {
     "name": "stdout",
     "output_type": "stream",
     "text": [
      "AssertionError. x should be hello\n"
     ]
    }
   ],
   "source": [
    "#assign a value to variable x. Anything else except 'hello' will raise an error\n",
    "x = 'goodday'\n",
    "#if condition returns False, AssertionError is raised\n",
    "try:\n",
    "    assert x ==  'hello'\n",
    "    print('Yes, x is hello')\n",
    "except AssertionError:\n",
    "    print('AssertionError. x should be hello')"
   ]
  },
  {
   "cell_type": "markdown",
   "id": "c6fda638",
   "metadata": {},
   "source": [
    "## 3. Filter\n",
    "As the name suggests, a filter method literally filters out the elements defined.\n",
    "Let's filter only the negative numbers."
   ]
  },
  {
   "cell_type": "code",
   "execution_count": 13,
   "id": "177184f5",
   "metadata": {},
   "outputs": [
    {
     "name": "stdout",
     "output_type": "stream",
     "text": [
      "[-5, -4, -3, -2, -1]\n"
     ]
    }
   ],
   "source": [
    "#create a list with range -5 to 5\n",
    "number_list = range(-5, 5)\n",
    "\n",
    "#set the filter and assign result to new list 'less_than_zero'\n",
    "less_than_zero = filter(lambda x: x < 0, number_list)\n",
    "\n",
    "print(list(less_than_zero))"
   ]
  },
  {
   "cell_type": "markdown",
   "id": "e195a621",
   "metadata": {},
   "source": [
    "## 4. Decorator\n",
    "\n",
    "source: https://realpython.com/primer-on-python-decorators/\n",
    "\n",
    "A decorator is a function that takes another function and extends the behavior of the latter function without explicitly modifying it."
   ]
  },
  {
   "cell_type": "code",
   "execution_count": 21,
   "id": "987719c6",
   "metadata": {},
   "outputs": [
    {
     "name": "stdout",
     "output_type": "stream",
     "text": [
      "Something is happening before the function is called.\n",
      "Whee!\n",
      "Something is happening after the function is called.\n"
     ]
    }
   ],
   "source": [
    "def my_decorator(func):\n",
    "    def wrapper():\n",
    "        print(\"Something is happening before the function is called.\")\n",
    "        func()\n",
    "        print(\"Something is happening after the function is called.\")\n",
    "    return wrapper\n",
    "\n",
    "def say_whee():\n",
    "    print(\"Whee!\")\n",
    "    \n",
    "say_whee = my_decorator(say_whee) #the decorator\n",
    "\n",
    "say_whee()"
   ]
  },
  {
   "cell_type": "code",
   "execution_count": 22,
   "id": "bff36e41",
   "metadata": {},
   "outputs": [
    {
     "name": "stdout",
     "output_type": "stream",
     "text": [
      "Something is happening before the function is called.\n",
      "Whee!\n",
      "Something is happening after the function is called.\n"
     ]
    }
   ],
   "source": [
    "def my_decorator(func):\n",
    "    def wrapper():\n",
    "        print(\"Something is happening before the function is called.\")\n",
    "        func()\n",
    "        print(\"Something is happening after the function is called.\")\n",
    "    return wrapper\n",
    "\n",
    "@my_decorator\n",
    "def say_whee():\n",
    "    print(\"Whee!\")\n",
    "say_whee()"
   ]
  },
  {
   "cell_type": "code",
   "execution_count": 23,
   "id": "2e26ff38",
   "metadata": {},
   "outputs": [
    {
     "name": "stdout",
     "output_type": "stream",
     "text": [
      "Whee!\n",
      "Whee!\n"
     ]
    }
   ],
   "source": [
    "def do_twice(func):\n",
    "    def wrapper_do_twice():\n",
    "        func()\n",
    "        func()\n",
    "    return wrapper_do_twice\n",
    "\n",
    "@do_twice \n",
    "def say_whee():\n",
    "    print(\"Whee!\")\n",
    "say_whee()"
   ]
  },
  {
   "cell_type": "markdown",
   "id": "1be18ac8",
   "metadata": {},
   "source": [
    "## 5. Generator"
   ]
  },
  {
   "cell_type": "code",
   "execution_count": null,
   "id": "5297dedf",
   "metadata": {},
   "outputs": [],
   "source": []
  }
 ],
 "metadata": {
  "kernelspec": {
   "display_name": "Python 3 (ipykernel)",
   "language": "python",
   "name": "python3"
  },
  "language_info": {
   "codemirror_mode": {
    "name": "ipython",
    "version": 3
   },
   "file_extension": ".py",
   "mimetype": "text/x-python",
   "name": "python",
   "nbconvert_exporter": "python",
   "pygments_lexer": "ipython3",
   "version": "3.10.9"
  }
 },
 "nbformat": 4,
 "nbformat_minor": 5
}
