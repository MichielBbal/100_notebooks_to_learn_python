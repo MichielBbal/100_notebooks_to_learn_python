{
 "cells": [
  {
   "cell_type": "markdown",
   "id": "ed9c2d7d",
   "metadata": {},
   "source": [
    "# Real time audio visualizing \n",
    "\n",
    "source: https://www.youtube.com/watch?v=AShHJdSIxkY&t=39s\n",
    "\n",
    "## Contents\n",
    "0. Install packages\n",
    "1. Show live waveplot\n",
    "2. Show live audio spectrum (with FFT) (TO DO)\n",
    "3. Show live spectrogram (with isues...)\n",
    "\n",
    "\n",
    "### To do:\n",
    "- 2nd part of tutorial: display the audio spectrum in real time\n",
    "- using https://github.com/cdens/PySpectrogram to display real time spectrogram"
   ]
  },
  {
   "cell_type": "code",
   "execution_count": 1,
   "id": "a1210d9b",
   "metadata": {},
   "outputs": [],
   "source": [
    "## 0. Install packages"
   ]
  },
  {
   "cell_type": "markdown",
   "id": "78f57a88",
   "metadata": {},
   "source": [
    "## 1. Plot live waveform"
   ]
  },
  {
   "cell_type": "code",
   "execution_count": 1,
   "id": "0fcb8794",
   "metadata": {},
   "outputs": [],
   "source": [
    "import pyaudio\n",
    "import struct #struct will unpack audio data into integers\n",
    "import numpy as np\n",
    "import matplotlib.pyplot as plt\n",
    "\n",
    "%matplotlib tk\n",
    "#%matplotlib qt\n",
    "#\n",
    "%matplotlib inline\n",
    "CHUNK = 1024 * 2 #=2048\n",
    "FORMAT = pyaudio.paInt16\n",
    "CHANNELS = 1\n",
    "RATE = 44100 #sample rate"
   ]
  },
  {
   "cell_type": "code",
   "execution_count": 2,
   "id": "af56560d",
   "metadata": {},
   "outputs": [
    {
     "name": "stdout",
     "output_type": "stream",
     "text": [
      "Warning: Cannot change to a different GUI toolkit: notebook. Using tk instead.\n"
     ]
    },
    {
     "ename": "OSError",
     "evalue": "[Errno -9981] Input overflowed",
     "output_type": "error",
     "traceback": [
      "\u001b[0;31m---------------------------------------------------------------------------\u001b[0m",
      "\u001b[0;31mOSError\u001b[0m                                   Traceback (most recent call last)",
      "Input \u001b[0;32mIn [2]\u001b[0m, in \u001b[0;36m<cell line: 20>\u001b[0;34m()\u001b[0m\n\u001b[1;32m     17\u001b[0m ax\u001b[38;5;241m.\u001b[39mset_xlim(\u001b[38;5;241m0\u001b[39m, CHUNK)\n\u001b[1;32m     19\u001b[0m \u001b[38;5;28;01mwhile\u001b[39;00m \u001b[38;5;28;01mTrue\u001b[39;00m:\n\u001b[0;32m---> 20\u001b[0m     data \u001b[38;5;241m=\u001b[39m \u001b[43mstream\u001b[49m\u001b[38;5;241;43m.\u001b[39;49m\u001b[43mread\u001b[49m\u001b[43m(\u001b[49m\u001b[43mCHUNK\u001b[49m\u001b[43m)\u001b[49m\n\u001b[1;32m     21\u001b[0m     \u001b[38;5;66;03m#data_int = struct.unpack(str(CHUNK)+'h', data) \u001b[39;00m\n\u001b[1;32m     22\u001b[0m     data_int \u001b[38;5;241m=\u001b[39m np\u001b[38;5;241m.\u001b[39marray(struct\u001b[38;5;241m.\u001b[39munpack(\u001b[38;5;28mstr\u001b[39m(\u001b[38;5;241m2\u001b[39m\u001b[38;5;241m*\u001b[39mCHUNK)\u001b[38;5;241m+\u001b[39m \u001b[38;5;124m'\u001b[39m\u001b[38;5;124mB\u001b[39m\u001b[38;5;124m'\u001b[39m, data), dtype\u001b[38;5;241m=\u001b[39m\u001b[38;5;124m'\u001b[39m\u001b[38;5;124mb\u001b[39m\u001b[38;5;124m'\u001b[39m )[::\u001b[38;5;241m2\u001b[39m]\u001b[38;5;241m+\u001b[39m \u001b[38;5;241m128\u001b[39m\n",
      "File \u001b[0;32m~/opt/anaconda3/lib/python3.9/site-packages/pyaudio.py:612\u001b[0m, in \u001b[0;36mStream.read\u001b[0;34m(self, num_frames, exception_on_overflow)\u001b[0m\n\u001b[1;32m    608\u001b[0m \u001b[38;5;28;01mif\u001b[39;00m \u001b[38;5;129;01mnot\u001b[39;00m \u001b[38;5;28mself\u001b[39m\u001b[38;5;241m.\u001b[39m_is_input:\n\u001b[1;32m    609\u001b[0m     \u001b[38;5;28;01mraise\u001b[39;00m \u001b[38;5;167;01mIOError\u001b[39;00m(\u001b[38;5;124m\"\u001b[39m\u001b[38;5;124mNot input stream\u001b[39m\u001b[38;5;124m\"\u001b[39m,\n\u001b[1;32m    610\u001b[0m                   paCanNotReadFromAnOutputOnlyStream)\n\u001b[0;32m--> 612\u001b[0m \u001b[38;5;28;01mreturn\u001b[39;00m \u001b[43mpa\u001b[49m\u001b[38;5;241;43m.\u001b[39;49m\u001b[43mread_stream\u001b[49m\u001b[43m(\u001b[49m\u001b[38;5;28;43mself\u001b[39;49m\u001b[38;5;241;43m.\u001b[39;49m\u001b[43m_stream\u001b[49m\u001b[43m,\u001b[49m\u001b[43m \u001b[49m\u001b[43mnum_frames\u001b[49m\u001b[43m,\u001b[49m\u001b[43m \u001b[49m\u001b[43mexception_on_overflow\u001b[49m\u001b[43m)\u001b[49m\n",
      "\u001b[0;31mOSError\u001b[0m: [Errno -9981] Input overflowed"
     ]
    }
   ],
   "source": [
    "%matplotlib notebook\n",
    "p = pyaudio.PyAudio()\n",
    "\n",
    "stream = p.open(\n",
    "    format=FORMAT,\n",
    "    channels=CHANNELS,\n",
    "    rate=RATE,\n",
    "    input=True,\n",
    "    output=True,\n",
    "    frames_per_buffer=CHUNK\n",
    ")\n",
    "fig, ax = plt.subplots()\n",
    "\n",
    "x= np.arange(0, 2 * CHUNK, 2)\n",
    "line, = ax.plot(x, np.random.rand(CHUNK))\n",
    "ax.set_ylim(0,255)\n",
    "ax.set_xlim(0, CHUNK)\n",
    "\n",
    "while True:\n",
    "    data = stream.read(CHUNK)\n",
    "    #data_int = struct.unpack(str(CHUNK)+'h', data) \n",
    "    data_int = np.array(struct.unpack(str(2*CHUNK)+ 'B', data), dtype='b' )[::2]+ 128\n",
    "    line.set_ydata(data_int)\n",
    "    fig.canvas.draw()\n",
    "    fig.canvas.flush_events()\n",
    "# Close and terminate the stream\n",
    "stream.close()\n",
    "p.terminate()"
   ]
  },
  {
   "cell_type": "markdown",
   "id": "3bf18fe4",
   "metadata": {},
   "source": [
    "## 2. Plot live audio spectrum (with FFT - ISSUE)"
   ]
  },
  {
   "cell_type": "code",
   "execution_count": 1,
   "id": "e74104b5",
   "metadata": {},
   "outputs": [],
   "source": [
    "import pyaudio\n",
    "import struct #struct will unpack audio data into integers\n",
    "import numpy as np\n",
    "import matplotlib.pyplot as plt\n",
    "from scipy.fftpack import fft\n",
    "\n",
    "%matplotlib tk\n",
    "#%matplotlib qt\n",
    "#\n",
    "%matplotlib inline\n",
    "CHUNK = 1024 * 2 #=2048\n",
    "FORMAT = pyaudio.paInt16\n",
    "CHANNELS = 1\n",
    "RATE = 44100 #sample rate"
   ]
  },
  {
   "cell_type": "code",
   "execution_count": 2,
   "id": "58f9fb92",
   "metadata": {},
   "outputs": [
    {
     "name": "stdout",
     "output_type": "stream",
     "text": [
      "Warning: Cannot change to a different GUI toolkit: notebook. Using tk instead.\n"
     ]
    },
    {
     "ename": "OSError",
     "evalue": "[Errno -9981] Input overflowed",
     "output_type": "error",
     "traceback": [
      "\u001b[0;31m---------------------------------------------------------------------------\u001b[0m",
      "\u001b[0;31mOSError\u001b[0m                                   Traceback (most recent call last)",
      "Input \u001b[0;32mIn [2]\u001b[0m, in \u001b[0;36m<cell line: 31>\u001b[0;34m()\u001b[0m\n\u001b[1;32m     28\u001b[0m ax2\u001b[38;5;241m.\u001b[39mset_xlim(\u001b[38;5;241m20\u001b[39m, RATE \u001b[38;5;241m/\u001b[39m \u001b[38;5;241m2\u001b[39m)\n\u001b[1;32m     30\u001b[0m \u001b[38;5;28;01mwhile\u001b[39;00m \u001b[38;5;28;01mTrue\u001b[39;00m:\n\u001b[0;32m---> 31\u001b[0m     data \u001b[38;5;241m=\u001b[39m \u001b[43mstream\u001b[49m\u001b[38;5;241;43m.\u001b[39;49m\u001b[43mread\u001b[49m\u001b[43m(\u001b[49m\u001b[43mCHUNK\u001b[49m\u001b[43m)\u001b[49m\n\u001b[1;32m     32\u001b[0m     \u001b[38;5;66;03m#data_int = struct.unpack(str(CHUNK)+'h', data) \u001b[39;00m\n\u001b[1;32m     33\u001b[0m     data_int \u001b[38;5;241m=\u001b[39m np\u001b[38;5;241m.\u001b[39marray(struct\u001b[38;5;241m.\u001b[39munpack(\u001b[38;5;28mstr\u001b[39m(\u001b[38;5;241m2\u001b[39m\u001b[38;5;241m*\u001b[39mCHUNK)\u001b[38;5;241m+\u001b[39m \u001b[38;5;124m'\u001b[39m\u001b[38;5;124mB\u001b[39m\u001b[38;5;124m'\u001b[39m, data), dtype\u001b[38;5;241m=\u001b[39m\u001b[38;5;124m'\u001b[39m\u001b[38;5;124mb\u001b[39m\u001b[38;5;124m'\u001b[39m )[::\u001b[38;5;241m2\u001b[39m]\u001b[38;5;241m+\u001b[39m \u001b[38;5;241m128\u001b[39m\n",
      "File \u001b[0;32m~/opt/anaconda3/lib/python3.9/site-packages/pyaudio.py:612\u001b[0m, in \u001b[0;36mStream.read\u001b[0;34m(self, num_frames, exception_on_overflow)\u001b[0m\n\u001b[1;32m    608\u001b[0m \u001b[38;5;28;01mif\u001b[39;00m \u001b[38;5;129;01mnot\u001b[39;00m \u001b[38;5;28mself\u001b[39m\u001b[38;5;241m.\u001b[39m_is_input:\n\u001b[1;32m    609\u001b[0m     \u001b[38;5;28;01mraise\u001b[39;00m \u001b[38;5;167;01mIOError\u001b[39;00m(\u001b[38;5;124m\"\u001b[39m\u001b[38;5;124mNot input stream\u001b[39m\u001b[38;5;124m\"\u001b[39m,\n\u001b[1;32m    610\u001b[0m                   paCanNotReadFromAnOutputOnlyStream)\n\u001b[0;32m--> 612\u001b[0m \u001b[38;5;28;01mreturn\u001b[39;00m \u001b[43mpa\u001b[49m\u001b[38;5;241;43m.\u001b[39;49m\u001b[43mread_stream\u001b[49m\u001b[43m(\u001b[49m\u001b[38;5;28;43mself\u001b[39;49m\u001b[38;5;241;43m.\u001b[39;49m\u001b[43m_stream\u001b[49m\u001b[43m,\u001b[49m\u001b[43m \u001b[49m\u001b[43mnum_frames\u001b[49m\u001b[43m,\u001b[49m\u001b[43m \u001b[49m\u001b[43mexception_on_overflow\u001b[49m\u001b[43m)\u001b[49m\n",
      "\u001b[0;31mOSError\u001b[0m: [Errno -9981] Input overflowed"
     ]
    }
   ],
   "source": [
    "#SOURCE: https://www.youtube.com/watch?v=aQKX3mrDFoY&t=53s\n",
    "%matplotlib notebook\n",
    "p = pyaudio.PyAudio()\n",
    "\n",
    "stream = p.open(\n",
    "    format=FORMAT,\n",
    "    channels=CHANNELS,\n",
    "    rate=RATE,\n",
    "    input=True,\n",
    "    output=True,\n",
    "    frames_per_buffer=CHUNK\n",
    ")\n",
    "fig, (ax, ax2) = plt.subplots(2, figsize=(15,8))\n",
    "\n",
    "#variables for plotting\n",
    "x= np.arange(0, 2 * CHUNK, 2)\n",
    "x_fft = np.linspace(0, RATE, CHUNK)\n",
    "\n",
    "#create a line object with random data\n",
    "line, = ax.plot(x, np.random.rand(CHUNK), '-', lw=2)\n",
    "line_fft = ax2.plot(x_fft, np.random.rand(CHUNK), '-', lw=2)#linewidth\n",
    "\n",
    "#formatting axes\n",
    "ax.set_ylim(0,255)\n",
    "ax.set_xlim(0, CHUNK)\n",
    "ax.set_title('Audio Waveform')\n",
    "\n",
    "ax2.set_xlim(20, RATE / 2)\n",
    "\n",
    "while True:\n",
    "    data = stream.read(CHUNK)\n",
    "    #data_int = struct.unpack(str(CHUNK)+'h', data) \n",
    "    data_int = np.array(struct.unpack(str(2*CHUNK)+ 'B', data), dtype='b' )[::2]+ 128\n",
    "    line.set_ydata(data_int)\n",
    "    fig.canvas.draw()\n",
    "    fig.canvas.flush_events()\n",
    "# Close and terminate the stream\n",
    "stream.close()\n",
    "p.terminate()"
   ]
  },
  {
   "cell_type": "markdown",
   "id": "f9ccd68e",
   "metadata": {},
   "source": [
    "## 3. Plot live spectrogram"
   ]
  },
  {
   "cell_type": "code",
   "execution_count": 11,
   "id": "87595d57",
   "metadata": {},
   "outputs": [
    {
     "name": "stdout",
     "output_type": "stream",
     "text": [
      "['my-audio.wav', 'new_file.wav', 'out.wav', 'file.wav', 'loudness.wav', 'test2.wav', 'claxon_iphone.wav', 'test3.wav', 'my_wav.wav', 'mywav_reduced_noise2.wav', 'Yoda.wav', 'piano_c.wav', 'claxon_michiel.wav', 'claxon_close.wav', 'miaow_16k.wav', 'tone_220.wav', 'welcome.wav', 'silence.wav', 'example.wav', '11k16bitpcm.wav', 'claxon_freesound.wav', 'robot0.wav', 'my_test.wav', 'converted.wav', 'speech_whistling2.wav', 'robot1.wav', 'mywav_reduced_noise.wav', 'robot3.wav', 'test.wav', 'noise_add.wav', 'converted2.wav', 'robot2.wav', 'Sample_audio.wav', 'tone_440.wav', 'claxon_1m.wav', 'output.wav']\n"
     ]
    }
   ],
   "source": [
    "from glob import glob\n",
    "my_wavs = glob('*.wav')\n",
    "print(my_wavs)"
   ]
  },
  {
   "cell_type": "markdown",
   "id": "a5cedb7e",
   "metadata": {},
   "source": [
    "### 3a. Frame by Frame"
   ]
  },
  {
   "cell_type": "code",
   "execution_count": 17,
   "id": "1372a585",
   "metadata": {},
   "outputs": [
    {
     "data": {
      "image/png": "[encoded data removed]",
      "text/plain": [
       "<Figure size 432x288 with 2 Axes>"
      ]
     },
     "metadata": {},
     "output_type": "display_data"
    },
    {
     "data": {
      "image/png": "[encoded data removed]",
      "text/plain": [
       "<Figure size 432x288 with 1 Axes>"
      ]
     },
     "metadata": {},
     "output_type": "display_data"
    },
    {
     "data": {
      "image/png": "[encoded data removed]",
      "text/plain": [
       "<Figure size 432x288 with 1 Axes>"
      ]
     },
     "metadata": {},
     "output_type": "display_data"
    },
    {
     "data": {
      "image/png": "[encoded data removed]",
      "text/plain": [
       "<Figure size 432x288 with 1 Axes>"
      ]
     },
     "metadata": {},
     "output_type": "display_data"
    },
    {
     "data": {
      "image/png": "[encoded data removed]",
      "text/plain": [
       "<Figure size 432x288 with 1 Axes>"
      ]
     },
     "metadata": {},
     "output_type": "display_data"
    },
    {
     "data": {
      "image/png": "[encoded data removed]",
      "text/plain": [
       "<Figure size 432x288 with 1 Axes>"
      ]
     },
     "metadata": {},
     "output_type": "display_data"
    },
    {
     "data": {
      "image/png": "[encoded data removed]",
      "text/plain": [
       "<Figure size 432x288 with 1 Axes>"
      ]
     },
     "metadata": {},
     "output_type": "display_data"
    },
    {
     "data": {
      "image/png": "[encoded data removed]",
      "text/plain": [
       "<Figure size 432x288 with 1 Axes>"
      ]
     },
     "metadata": {},
     "output_type": "display_data"
    },
    {
     "data": {
      "image/png": "[encoded data removed]",
      "text/plain": [
       "<Figure size 432x288 with 1 Axes>"
      ]
     },
     "metadata": {},
     "output_type": "display_data"
    },
    {
     "data": {
      "image/png": "[encoded data removed]",
      "text/plain": [
       "<Figure size 432x288 with 1 Axes>"
      ]
     },
     "metadata": {},
     "output_type": "display_data"
    },
    {
     "data": {
      "image/png": "[encoded data removed]",
      "text/plain": [
       "<Figure size 432x288 with 1 Axes>"
      ]
     },
     "metadata": {},
     "output_type": "display_data"
    },
    {
     "data": {
      "image/png": "[encoded data removed]",
      "text/plain": [
       "<Figure size 432x288 with 1 Axes>"
      ]
     },
     "metadata": {},
     "output_type": "display_data"
    },
    {
     "data": {
      "image/png": "[encoded data removed]",
      "text/plain": [
       "<Figure size 432x288 with 1 Axes>"
      ]
     },
     "metadata": {},
     "output_type": "display_data"
    },
    {
     "data": {
      "image/png": "[encoded data removed]",
      "text/plain": [
       "<Figure size 432x288 with 1 Axes>"
      ]
     },
     "metadata": {},
     "output_type": "display_data"
    },
    {
     "data": {
      "image/png": "[encoded data removed]",
      "text/plain": [
       "<Figure size 432x288 with 1 Axes>"
      ]
     },
     "metadata": {},
     "output_type": "display_data"
    },
    {
     "data": {
      "image/png": "[encoded data removed]",
      "text/plain": [
       "<Figure size 432x288 with 1 Axes>"
      ]
     },
     "metadata": {},
     "output_type": "display_data"
    },
    {
     "data": {
      "image/png": "[encoded data removed]",
      "text/plain": [
       "<Figure size 432x288 with 1 Axes>"
      ]
     },
     "metadata": {},
     "output_type": "display_data"
    },
    {
     "data": {
      "image/png": "[encoded data removed]",
      "text/plain": [
       "<Figure size 432x288 with 1 Axes>"
      ]
     },
     "metadata": {},
     "output_type": "display_data"
    },
    {
     "data": {
      "image/png": "[encoded data removed]",
      "text/plain": [
       "<Figure size 432x288 with 1 Axes>"
      ]
     },
     "metadata": {},
     "output_type": "display_data"
    },
    {
     "data": {
      "image/png": "[encoded data removed]",
      "text/plain": [
       "<Figure size 432x288 with 1 Axes>"
      ]
     },
     "metadata": {},
     "output_type": "display_data"
    },
    {
     "data": {
      "image/png": "[encoded data removed]",
      "text/plain": [
       "<Figure size 432x288 with 1 Axes>"
      ]
     },
     "metadata": {},
     "output_type": "display_data"
    }
   ],
   "source": [
    "#source: https://github.com/Kurene/plot-spectrogram-in-realtime-by-matplotlib\n",
    "# this script creates frame after frame and so create a movie...\n",
    "%matplotlib inline\n",
    "\"\"\"\n",
    "License: MIT\n",
    "Created by Kurene@wizard-notes.com\n",
    "\"\"\"\n",
    "import time\n",
    "import numpy as np\n",
    "import soundfile as sf\n",
    "import matplotlib.pyplot as plt\n",
    "\n",
    "plt.style.use('dark_background')\n",
    "\n",
    "\n",
    "# Parameters (audio)\n",
    "sr         = 44100\n",
    "n_ch       = 2\n",
    "filepath   = \"piano_c.wav\"\n",
    "n_fft      = 4096\n",
    "hop_length = int(n_fft / 4 * 3) # 0 <= hop_length < n_fft\n",
    "overlap    = n_fft - hop_length\n",
    "n_plot_tf  = 80\n",
    "n_freqs    = n_fft//2 + 1\n",
    "f_max_idx  = 480 # 1 < f_max_idx < n_freqs\n",
    "window     = np.hamming(n_fft)\n",
    "amp        = np.zeros((n_plot_tf, f_max_idx))\n",
    "\n",
    "# Parameters (plot, video)\n",
    "fps = 1.0\n",
    "fig, ax = plt.subplots()\n",
    "image = ax.imshow(amp.T, aspect=\"auto\")\n",
    "ax.set_xlabel(f\"Time frame\")\n",
    "ax.set_ylabel(f\"Frequency\")\n",
    "fig.colorbar(image)\n",
    "vmax, vmin = 1.0, 0.0\n",
    "#min_fps = sr / hop_length\n",
    "\n",
    "pretime = time.time()\n",
    "for index, block in enumerate(sf.blocks(filepath, blocksize=n_fft, overlap=overlap)):\n",
    "    if block.shape[0] != n_fft:\n",
    "        continue\n",
    "    \n",
    "    x = np.mean(block, axis=1) # to monoral\n",
    "    amp[-1] = np.sqrt(np.abs(np.fft.rfft(window * x)))[0:f_max_idx]\n",
    "    if vmax < np.max(amp[-1]):\n",
    "        vmax = np.max(amp[-1])\n",
    "    image.set_clim(vmin, vmax)\n",
    "    image.set_data(amp.T[::-1])\n",
    "    \n",
    "    #plt.title(f\"fps: {fps:0.1f} Hz\\n(min. fps requirement: {min_fps:0.1f} Hz)\")\n",
    "    plt.title(f\"fps: {fps:0.1f} Hz\")\n",
    "    plt.pause(0.001)\n",
    "\n",
    "    amp[0:-1] = amp[1::]\n",
    "\n",
    "    curtime = time.time()\n",
    "    time_diff = curtime - pretime\n",
    "    fps = 1.0/(time_diff + 1e-16)\n",
    "    #print(f\"{index}:\\t{time_diff:0.3f} sec\")\n",
    "    pretime = curtime\n",
    "    \n",
    "plt.close()"
   ]
  },
  {
   "cell_type": "markdown",
   "id": "ec93bc6b",
   "metadata": {},
   "source": [
    "### 3b. Using PySpectrogram\n",
    "source: https://github.com/cdens/PySpectrogram\n",
    "\n",
    "This package uses pyQt5 to create a GUI. Not sure whether this works in Jupyter Notebook..."
   ]
  },
  {
   "cell_type": "markdown",
   "id": "0ac51a5d",
   "metadata": {},
   "source": [
    "## 3c. Using a third script\n",
    "source: https://stackoverflow.com/questions/43353172/producing-spectrogram-from-microphone"
   ]
  },
  {
   "cell_type": "code",
   "execution_count": 4,
   "id": "feff4282",
   "metadata": {},
   "outputs": [
    {
     "name": "stdout",
     "output_type": "stream",
     "text": [
      "Device %0: %MacBook Pro Microphone\n",
      "Found an input: device 0 - MacBook Pro Microphone\n"
     ]
    }
   ],
   "source": [
    "import pyaudio\n",
    "import struct\n",
    "import math\n",
    "import numpy as np\n",
    "from scipy import signal\n",
    "import matplotlib.pyplot as plt\n",
    "\n",
    "\n",
    "THRESHOLD = 40 # dB\n",
    "RATE = 44100\n",
    "INPUT_BLOCK_TIME = 0.03 # 30 ms\n",
    "INPUT_FRAMES_PER_BLOCK = int(RATE * INPUT_BLOCK_TIME)\n",
    "\n",
    "def get_rms(block):\n",
    "    return np.sqrt(np.mean(np.square(block)))\n",
    "\n",
    "class AudioHandler(object):\n",
    "    def __init__(self):\n",
    "        self.pa = pyaudio.PyAudio()\n",
    "        self.stream = self.open_mic_stream()\n",
    "        self.threshold = THRESHOLD\n",
    "        self.plot_counter = 0\n",
    "\n",
    "    def stop(self):\n",
    "        self.stream.close()\n",
    "\n",
    "    def find_input_device(self):\n",
    "        device_index = None\n",
    "        for i in range( self.pa.get_device_count() ):\n",
    "            devinfo = self.pa.get_device_info_by_index(i)\n",
    "            print('Device %{}: %{}'.format(i, devinfo['name']))\n",
    "\n",
    "            for keyword in ['mic','input']:\n",
    "                if keyword in devinfo['name'].lower():\n",
    "                    print('Found an input: device {} - {}'.format(i, devinfo['name']))\n",
    "                    device_index = i\n",
    "                    return device_index\n",
    "\n",
    "        if device_index == None:\n",
    "            print('No preferred input found; using default input device.')\n",
    "\n",
    "        return device_index\n",
    "\n",
    "    def open_mic_stream( self ):\n",
    "        device_index = self.find_input_device()\n",
    "\n",
    "        stream = self.pa.open(  format = pyaudio.paInt16,\n",
    "                                channels = 1,\n",
    "                                rate = RATE,\n",
    "                                input = True,\n",
    "                                input_device_index = device_index,\n",
    "                                frames_per_buffer = INPUT_FRAMES_PER_BLOCK)\n",
    "\n",
    "        return stream\n",
    "\n",
    "    def processBlock(self, snd_block):\n",
    "        f, t, Sxx = signal.spectrogram(snd_block, RATE)\n",
    "        plt.pcolormesh(t, f, Sxx)\n",
    "        plt.ylabel('Frequency [Hz]')\n",
    "        plt.xlabel('Time [sec]')\n",
    "        #plt.savefig('data/spec{}.png'.format(self.plot_counter), bbox_inches='tight')\n",
    "        self.plot_counter += 1\n",
    "\n",
    "    def listen(self):\n",
    "        try:\n",
    "            raw_block = self.stream.read(INPUT_FRAMES_PER_BLOCK, exception_on_overflow = False)\n",
    "            count = len(raw_block) / 2\n",
    "            format = '%dh' % (count)\n",
    "            snd_block = np.array(struct.unpack(format, raw_block))\n",
    "        except Exception as e:\n",
    "            print('Error recording: {}'.format(e))\n",
    "            return\n",
    "\n",
    "        amplitude = get_rms(snd_block)\n",
    "        if amplitude > self.threshold:\n",
    "            self.processBlock(snd_block)\n",
    "        else:\n",
    "            pass\n",
    "\n",
    "if __name__ == '__main__':\n",
    "    audio = AudioHandler()\n",
    "    for i in range(0,100):\n",
    "        audio.listen()"
   ]
  },
  {
   "cell_type": "code",
   "execution_count": 8,
   "id": "dd0d57bd",
   "metadata": {
    "scrolled": false
   },
   "outputs": [
    {
     "name": "stdout",
     "output_type": "stream",
     "text": [
      "Device %0: %MacBook Pro Microphone\n",
      "Found an input: device 0 - MacBook Pro Microphone\n",
      "start True False\n",
      "waiting\n",
      "waiting\n",
      "waiting\n",
      "waiting\n",
      "waiting\n",
      "waiting\n",
      "waiting\n",
      "done\n",
      "done\n",
      "waiting\n",
      "done\n",
      "done\n",
      "waiting\n",
      "done\n",
      "waiting\n",
      "done\n",
      "done\n",
      "waiting\n",
      "done\n",
      "waiting\n",
      "done\n",
      "done\n",
      "waiting\n",
      "done\n",
      "done\n",
      "waiting\n",
      "done\n",
      "done\n",
      "waiting\n",
      "done\n",
      "done\n",
      "waiting\n",
      "done\n",
      "done\n",
      "waiting\n",
      "done\n",
      "waiting\n"
     ]
    },
    {
     "name": "stderr",
     "output_type": "stream",
     "text": [
      "/var/folders/cj/qtbz9fvd3svc0x28yv2756mh0000gn/T/ipykernel_1280/3702381872.py:90: DeprecationWarning: The binary mode of fromstring is deprecated, as it behaves surprisingly on unicode inputs. Use frombuffer instead\n",
      "  t_snd_block.append(np.fromstring(raw_block,dtype=np.int16))\n"
     ]
    },
    {
     "name": "stdout",
     "output_type": "stream",
     "text": [
      "done\n",
      "waiting\n",
      "done\n",
      "waiting\n",
      "done\n",
      "done\n",
      "waiting\n",
      "done\n",
      "waiting\n",
      "done\n",
      "done\n",
      "waiting\n",
      "done\n",
      "waiting\n",
      "done\n",
      "waiting\n",
      "done\n",
      "waiting\n",
      "done\n",
      "waiting\n",
      "done\n",
      "done\n",
      "waiting\n",
      "done\n",
      "waiting\n",
      "done\n",
      "waiting\n",
      "done\n",
      "done\n",
      "waiting\n",
      "done\n",
      "done\n",
      "waiting\n",
      "done\n",
      "waiting\n",
      "done\n",
      "waiting\n",
      "done\n",
      "waiting\n",
      "done\n",
      "done\n",
      "waiting\n",
      "done\n",
      "done\n",
      "waiting\n",
      "done\n",
      "waiting\n",
      "done\n",
      "waiting\n",
      "done\n",
      "waiting\n",
      "done\n",
      "done\n",
      "waiting\n",
      "done\n",
      "waiting\n",
      "done\n",
      "waiting\n",
      "done\n",
      "waiting\n",
      "done\n",
      "done\n",
      "waiting\n",
      "done\n",
      "done\n",
      "waiting\n",
      "done\n",
      "waiting\n",
      "done\n",
      "waiting\n",
      "done\n",
      "done\n",
      "waiting\n",
      "done\n",
      "waiting\n",
      "done\n",
      "done\n",
      "waiting\n",
      "done\n",
      "done\n",
      "waiting\n",
      "done\n",
      "done\n",
      "waiting\n",
      "done\n",
      "done\n",
      "waiting\n",
      "done\n",
      "done\n",
      "waiting\n",
      "done\n",
      "done\n",
      "waiting\n",
      "done\n",
      "done\n",
      "waiting\n",
      "done\n",
      "waiting\n",
      "done\n",
      "waiting\n",
      "done\n",
      "waiting\n",
      "done\n",
      "waiting\n",
      "done\n",
      "done\n",
      "waiting\n",
      "done\n",
      "waiting\n",
      "done\n",
      "waiting\n",
      "done\n",
      "waiting\n",
      "done\n",
      "waiting\n",
      "done\n",
      "waiting\n",
      "done\n",
      "done\n",
      "waiting\n",
      "done\n",
      "waiting\n",
      "done\n",
      "waiting\n",
      "done\n",
      "done\n",
      "waiting\n",
      "done\n",
      "waiting\n",
      "done\n",
      "done\n",
      "waiting\n",
      "done\n",
      "done\n",
      "waiting\n",
      "done\n",
      "done\n",
      "waiting\n",
      "done\n",
      "waiting\n",
      "done\n",
      "waiting\n",
      "done\n",
      "done\n",
      "waiting\n",
      "done\n",
      "waiting\n",
      "done\n",
      "waiting\n",
      "done\n",
      "waiting\n",
      "done\n",
      "waiting\n",
      "done\n",
      "done\n",
      "waiting\n",
      "done\n",
      "waiting\n",
      "done\n",
      "waiting\n",
      "done\n",
      "done\n",
      "waiting\n",
      "done\n",
      "waiting\n",
      "done\n",
      "waiting\n",
      "done\n",
      "done\n",
      "waiting\n",
      "done\n",
      "waiting\n",
      "done\n",
      "done\n",
      "waiting\n",
      "done\n",
      "done\n",
      "waiting\n",
      "done\n",
      "waiting\n",
      "done\n",
      "done\n",
      "waiting\n",
      "done\n",
      "done\n",
      "waiting\n",
      "done\n",
      "done\n",
      "waiting\n",
      "done\n",
      "waiting\n",
      "done\n",
      "done\n",
      "waiting\n",
      "done\n",
      "done\n",
      "waiting\n",
      "done\n",
      "done\n",
      "waiting\n",
      "done\n",
      "waiting\n",
      "done\n"
     ]
    },
    {
     "ename": "FileNotFoundError",
     "evalue": "[Errno 2] No such file or directory: 'data/audio0.wav'",
     "output_type": "error",
     "traceback": [
      "\u001b[0;31m---------------------------------------------------------------------------\u001b[0m",
      "\u001b[0;31mFileNotFoundError\u001b[0m                         Traceback (most recent call last)",
      "Input \u001b[0;32mIn [8]\u001b[0m, in \u001b[0;36m<cell line: 98>\u001b[0;34m()\u001b[0m\n\u001b[1;32m     99\u001b[0m audio \u001b[38;5;241m=\u001b[39m AudioHandler()\n\u001b[1;32m    100\u001b[0m \u001b[38;5;28;01mfor\u001b[39;00m i \u001b[38;5;129;01min\u001b[39;00m \u001b[38;5;28mrange\u001b[39m(\u001b[38;5;241m0\u001b[39m,\u001b[38;5;241m5\u001b[39m):\n\u001b[0;32m--> 101\u001b[0m     \u001b[43maudio\u001b[49m\u001b[38;5;241;43m.\u001b[39;49m\u001b[43mlisten\u001b[49m\u001b[43m(\u001b[49m\u001b[43m)\u001b[49m\n",
      "Input \u001b[0;32mIn [8]\u001b[0m, in \u001b[0;36mAudioHandler.listen\u001b[0;34m(self)\u001b[0m\n\u001b[1;32m     93\u001b[0m     \u001b[38;5;28mprint\u001b[39m(\u001b[38;5;124m'\u001b[39m\u001b[38;5;124mError recording: \u001b[39m\u001b[38;5;132;01m{}\u001b[39;00m\u001b[38;5;124m'\u001b[39m\u001b[38;5;241m.\u001b[39mformat(e))\n\u001b[1;32m     94\u001b[0m     \u001b[38;5;28;01mreturn\u001b[39;00m\n\u001b[0;32m---> 96\u001b[0m \u001b[38;5;28;43mself\u001b[39;49m\u001b[38;5;241;43m.\u001b[39;49m\u001b[43mprocessBlock\u001b[49m\u001b[43m(\u001b[49m\u001b[43msnd_block\u001b[49m\u001b[43m)\u001b[49m\n",
      "Input \u001b[0;32mIn [8]\u001b[0m, in \u001b[0;36mAudioHandler.processBlock\u001b[0;34m(self, snd_block)\u001b[0m\n\u001b[1;32m     68\u001b[0m \u001b[38;5;66;03m#plt.savefig('data/spec{}.png'.format(self.plot_counter), bbox_inches='tight')\u001b[39;00m\n\u001b[1;32m     69\u001b[0m plt\u001b[38;5;241m.\u001b[39mclose()\n\u001b[0;32m---> 70\u001b[0m \u001b[43mwrite\u001b[49m\u001b[43m(\u001b[49m\u001b[38;5;124;43m'\u001b[39;49m\u001b[38;5;124;43mdata/audio\u001b[39;49m\u001b[38;5;132;43;01m{}\u001b[39;49;00m\u001b[38;5;124;43m.wav\u001b[39;49m\u001b[38;5;124;43m'\u001b[39;49m\u001b[38;5;241;43m.\u001b[39;49m\u001b[43mformat\u001b[49m\u001b[43m(\u001b[49m\u001b[38;5;28;43mself\u001b[39;49m\u001b[38;5;241;43m.\u001b[39;49m\u001b[43mplot_counter\u001b[49m\u001b[43m)\u001b[49m\u001b[43m,\u001b[49m\u001b[43mRATE\u001b[49m\u001b[43m,\u001b[49m\u001b[43msnd_block\u001b[49m\u001b[43m)\u001b[49m\n\u001b[1;32m     71\u001b[0m \u001b[38;5;28mself\u001b[39m\u001b[38;5;241m.\u001b[39mplot_counter \u001b[38;5;241m+\u001b[39m\u001b[38;5;241m=\u001b[39m \u001b[38;5;241m1\u001b[39m\n",
      "File \u001b[0;32m~/opt/anaconda3/lib/python3.9/site-packages/scipy/io/wavfile.py:766\u001b[0m, in \u001b[0;36mwrite\u001b[0;34m(filename, rate, data)\u001b[0m\n\u001b[1;32m    764\u001b[0m     fid \u001b[38;5;241m=\u001b[39m filename\n\u001b[1;32m    765\u001b[0m \u001b[38;5;28;01melse\u001b[39;00m:\n\u001b[0;32m--> 766\u001b[0m     fid \u001b[38;5;241m=\u001b[39m \u001b[38;5;28;43mopen\u001b[39;49m\u001b[43m(\u001b[49m\u001b[43mfilename\u001b[49m\u001b[43m,\u001b[49m\u001b[43m \u001b[49m\u001b[38;5;124;43m'\u001b[39;49m\u001b[38;5;124;43mwb\u001b[39;49m\u001b[38;5;124;43m'\u001b[39;49m\u001b[43m)\u001b[49m\n\u001b[1;32m    768\u001b[0m fs \u001b[38;5;241m=\u001b[39m rate\n\u001b[1;32m    770\u001b[0m \u001b[38;5;28;01mtry\u001b[39;00m:\n",
      "\u001b[0;31mFileNotFoundError\u001b[0m: [Errno 2] No such file or directory: 'data/audio0.wav'"
     ]
    }
   ],
   "source": [
    "import pyaudio\n",
    "import struct\n",
    "import math\n",
    "import numpy as np\n",
    "from scipy import signal\n",
    "import matplotlib.pyplot as plt\n",
    "from matplotlib.colors import LogNorm\n",
    "import time\n",
    "from scipy.io.wavfile import write\n",
    "\n",
    "THRESHOLD = 0 # dB\n",
    "RATE = 44100\n",
    "INPUT_BLOCK_TIME = 1 # 30 ms\n",
    "INPUT_FRAMES_PER_BLOCK = int(RATE * INPUT_BLOCK_TIME)\n",
    "INPUT_FRAMES_PER_BLOCK_BUFFER = int(RATE * INPUT_BLOCK_TIME)\n",
    "\n",
    "def get_rms(block):\n",
    "    return np.sqrt(np.mean(np.square(block)))\n",
    "\n",
    "class AudioHandler(object):\n",
    "    def __init__(self):\n",
    "        self.pa = pyaudio.PyAudio()\n",
    "        self.stream = self.open_mic_stream()\n",
    "        self.threshold = THRESHOLD\n",
    "        self.plot_counter = 0\n",
    "\n",
    "    def stop(self):\n",
    "        self.stream.close()\n",
    "\n",
    "    def find_input_device(self):\n",
    "        device_index = None\n",
    "        for i in range( self.pa.get_device_count() ):\n",
    "            devinfo = self.pa.get_device_info_by_index(i)\n",
    "            print('Device %{}: %{}'.format(i, devinfo['name']))\n",
    "\n",
    "            for keyword in ['mic','input']:\n",
    "                if keyword in devinfo['name'].lower():\n",
    "                    print('Found an input: device {} - {}'.format(i, devinfo['name']))\n",
    "                    device_index = i\n",
    "                    return device_index\n",
    "\n",
    "        if device_index == None:\n",
    "            print('No preferred input found; using default input device.')\n",
    "\n",
    "        return device_index\n",
    "\n",
    "    def open_mic_stream( self ):\n",
    "        device_index = self.find_input_device()\n",
    "\n",
    "        stream = self.pa.open(  format = self.pa.get_format_from_width(2,False),\n",
    "                                channels = 1,\n",
    "                                rate = RATE,\n",
    "                                input = True,\n",
    "                                input_device_index = device_index)\n",
    "\n",
    "        stream.start_stream()\n",
    "        return stream\n",
    "\n",
    "    def processBlock(self, snd_block):\n",
    "        f, t, Sxx = signal.spectrogram(snd_block, RATE)\n",
    "        zmin = Sxx.min()\n",
    "        zmax = Sxx.max()\n",
    "        plt.pcolormesh(t, f, Sxx, cmap='RdBu', norm=LogNorm(vmin=zmin, vmax=zmax))\n",
    "        plt.ylabel('Frequency [Hz]')\n",
    "        plt.xlabel('Time [sec]')\n",
    "        plt.axis([t.min(), t.max(), f.min(), f.max()])\n",
    "        plt.colorbar()\n",
    "        #plt.savefig('data/spec{}.png'.format(self.plot_counter), bbox_inches='tight')\n",
    "        plt.close()\n",
    "        write('data/audio{}.wav'.format(self.plot_counter),RATE,snd_block)\n",
    "        self.plot_counter += 1\n",
    "\n",
    "    def listen(self):\n",
    "        try:\n",
    "            print(\"start\", self.stream.is_active(), self.stream.is_stopped())\n",
    "            #raw_block = self.stream.read(INPUT_FRAMES_PER_BLOCK, exception_on_overflow = False)\n",
    "\n",
    "            total = 0\n",
    "            t_snd_block = []\n",
    "            while total < INPUT_FRAMES_PER_BLOCK:\n",
    "                while self.stream.get_read_available() <= 0:\n",
    "                    print('waiting')\n",
    "                    time.sleep(0.01)\n",
    "                while self.stream.get_read_available() > 0 and total < INPUT_FRAMES_PER_BLOCK:\n",
    "                    raw_block = self.stream.read(self.stream.get_read_available(), exception_on_overflow = False)\n",
    "                    count = len(raw_block) / 2\n",
    "                    total = total + count\n",
    "                    print (\"done\"), total,count\n",
    "                    format = '%dh' % (count)\n",
    "                    t_snd_block.append(np.fromstring(raw_block,dtype=np.int16))\n",
    "            snd_block = np.hstack(t_snd_block)\n",
    "        except Exception as e:\n",
    "            print('Error recording: {}'.format(e))\n",
    "            return\n",
    "\n",
    "        self.processBlock(snd_block)\n",
    "\n",
    "if __name__ == '__main__':\n",
    "    audio = AudioHandler()\n",
    "    for i in range(0,5):\n",
    "        audio.listen()"
   ]
  },
  {
   "cell_type": "code",
   "execution_count": 9,
   "id": "ddd305f0",
   "metadata": {},
   "outputs": [
    {
     "name": "stdout",
     "output_type": "stream",
     "text": [
      "['my-audio.wav', 'new_file.wav', 'out.wav', 'file.wav', 'loudness.wav', 'test2.wav', 'claxon_iphone.wav', 'test3.wav', 'my_wav.wav', 'mywav_reduced_noise2.wav', 'Yoda.wav', 'piano_c.wav', 'claxon_michiel.wav', 'claxon_close.wav', 'miaow_16k.wav', 'tone_220.wav', 'welcome.wav', 'silence.wav', 'example.wav', '11k16bitpcm.wav', 'claxon_freesound.wav', 'robot0.wav', 'my_test.wav', 'converted.wav', 'speech_whistling2.wav', 'robot1.wav', 'mywav_reduced_noise.wav', 'robot3.wav', 'test.wav', 'noise_add.wav', 'converted2.wav', 'robot2.wav', 'Sample_audio.wav', 'tone_440.wav', 'claxon_1m.wav', 'output.wav']\n"
     ]
    }
   ],
   "source": [
    "from glob import glob\n",
    "my_wavs = glob('*.wav')\n",
    "print(my_wavs)"
   ]
  },
  {
   "cell_type": "code",
   "execution_count": 13,
   "id": "3dd4cdb3",
   "metadata": {},
   "outputs": [
    {
     "data": {
      "text/plain": [
       "44100"
      ]
     },
     "execution_count": 13,
     "metadata": {},
     "output_type": "execute_result"
    }
   ],
   "source": [
    "import librosa\n",
    "librosa.get_samplerate(my_wavs[0])"
   ]
  },
  {
   "cell_type": "code",
   "execution_count": 14,
   "id": "50935ded",
   "metadata": {},
   "outputs": [
    {
     "ename": "AxisError",
     "evalue": "axis 1 is out of bounds for array of dimension 1",
     "output_type": "error",
     "traceback": [
      "\u001b[0;31m---------------------------------------------------------------------------\u001b[0m",
      "\u001b[0;31mAxisError\u001b[0m                                 Traceback (most recent call last)",
      "Input \u001b[0;32mIn [14]\u001b[0m, in \u001b[0;36m<cell line: 39>\u001b[0;34m()\u001b[0m\n\u001b[1;32m     40\u001b[0m \u001b[38;5;28;01mif\u001b[39;00m block\u001b[38;5;241m.\u001b[39mshape[\u001b[38;5;241m0\u001b[39m] \u001b[38;5;241m!=\u001b[39m n_fft:\n\u001b[1;32m     41\u001b[0m     \u001b[38;5;28;01mcontinue\u001b[39;00m\n\u001b[0;32m---> 43\u001b[0m x \u001b[38;5;241m=\u001b[39m \u001b[43mnp\u001b[49m\u001b[38;5;241;43m.\u001b[39;49m\u001b[43mmean\u001b[49m\u001b[43m(\u001b[49m\u001b[43mblock\u001b[49m\u001b[43m,\u001b[49m\u001b[43m \u001b[49m\u001b[43maxis\u001b[49m\u001b[38;5;241;43m=\u001b[39;49m\u001b[38;5;241;43m1\u001b[39;49m\u001b[43m)\u001b[49m \u001b[38;5;66;03m# to monoral\u001b[39;00m\n\u001b[1;32m     44\u001b[0m amp[\u001b[38;5;241m-\u001b[39m\u001b[38;5;241m1\u001b[39m] \u001b[38;5;241m=\u001b[39m np\u001b[38;5;241m.\u001b[39msqrt(np\u001b[38;5;241m.\u001b[39mabs(np\u001b[38;5;241m.\u001b[39mfft\u001b[38;5;241m.\u001b[39mrfft(window \u001b[38;5;241m*\u001b[39m x)))[\u001b[38;5;241m0\u001b[39m:f_max_idx]\n\u001b[1;32m     45\u001b[0m \u001b[38;5;28;01mif\u001b[39;00m vmax \u001b[38;5;241m<\u001b[39m np\u001b[38;5;241m.\u001b[39mmax(amp[\u001b[38;5;241m-\u001b[39m\u001b[38;5;241m1\u001b[39m]):\n",
      "File \u001b[0;32m<__array_function__ internals>:5\u001b[0m, in \u001b[0;36mmean\u001b[0;34m(*args, **kwargs)\u001b[0m\n",
      "File \u001b[0;32m~/opt/anaconda3/lib/python3.9/site-packages/numpy/core/fromnumeric.py:3440\u001b[0m, in \u001b[0;36mmean\u001b[0;34m(a, axis, dtype, out, keepdims, where)\u001b[0m\n\u001b[1;32m   3437\u001b[0m     \u001b[38;5;28;01melse\u001b[39;00m:\n\u001b[1;32m   3438\u001b[0m         \u001b[38;5;28;01mreturn\u001b[39;00m mean(axis\u001b[38;5;241m=\u001b[39maxis, dtype\u001b[38;5;241m=\u001b[39mdtype, out\u001b[38;5;241m=\u001b[39mout, \u001b[38;5;241m*\u001b[39m\u001b[38;5;241m*\u001b[39mkwargs)\n\u001b[0;32m-> 3440\u001b[0m \u001b[38;5;28;01mreturn\u001b[39;00m \u001b[43m_methods\u001b[49m\u001b[38;5;241;43m.\u001b[39;49m\u001b[43m_mean\u001b[49m\u001b[43m(\u001b[49m\u001b[43ma\u001b[49m\u001b[43m,\u001b[49m\u001b[43m \u001b[49m\u001b[43maxis\u001b[49m\u001b[38;5;241;43m=\u001b[39;49m\u001b[43maxis\u001b[49m\u001b[43m,\u001b[49m\u001b[43m \u001b[49m\u001b[43mdtype\u001b[49m\u001b[38;5;241;43m=\u001b[39;49m\u001b[43mdtype\u001b[49m\u001b[43m,\u001b[49m\n\u001b[1;32m   3441\u001b[0m \u001b[43m                      \u001b[49m\u001b[43mout\u001b[49m\u001b[38;5;241;43m=\u001b[39;49m\u001b[43mout\u001b[49m\u001b[43m,\u001b[49m\u001b[43m \u001b[49m\u001b[38;5;241;43m*\u001b[39;49m\u001b[38;5;241;43m*\u001b[39;49m\u001b[43mkwargs\u001b[49m\u001b[43m)\u001b[49m\n",
      "File \u001b[0;32m~/opt/anaconda3/lib/python3.9/site-packages/numpy/core/_methods.py:167\u001b[0m, in \u001b[0;36m_mean\u001b[0;34m(a, axis, dtype, out, keepdims, where)\u001b[0m\n\u001b[1;32m    163\u001b[0m arr \u001b[38;5;241m=\u001b[39m asanyarray(a)\n\u001b[1;32m    165\u001b[0m is_float16_result \u001b[38;5;241m=\u001b[39m \u001b[38;5;28;01mFalse\u001b[39;00m\n\u001b[0;32m--> 167\u001b[0m rcount \u001b[38;5;241m=\u001b[39m \u001b[43m_count_reduce_items\u001b[49m\u001b[43m(\u001b[49m\u001b[43marr\u001b[49m\u001b[43m,\u001b[49m\u001b[43m \u001b[49m\u001b[43maxis\u001b[49m\u001b[43m,\u001b[49m\u001b[43m \u001b[49m\u001b[43mkeepdims\u001b[49m\u001b[38;5;241;43m=\u001b[39;49m\u001b[43mkeepdims\u001b[49m\u001b[43m,\u001b[49m\u001b[43m \u001b[49m\u001b[43mwhere\u001b[49m\u001b[38;5;241;43m=\u001b[39;49m\u001b[43mwhere\u001b[49m\u001b[43m)\u001b[49m\n\u001b[1;32m    168\u001b[0m \u001b[38;5;28;01mif\u001b[39;00m rcount \u001b[38;5;241m==\u001b[39m \u001b[38;5;241m0\u001b[39m \u001b[38;5;28;01mif\u001b[39;00m where \u001b[38;5;129;01mis\u001b[39;00m \u001b[38;5;28;01mTrue\u001b[39;00m \u001b[38;5;28;01melse\u001b[39;00m umr_any(rcount \u001b[38;5;241m==\u001b[39m \u001b[38;5;241m0\u001b[39m, axis\u001b[38;5;241m=\u001b[39m\u001b[38;5;28;01mNone\u001b[39;00m):\n\u001b[1;32m    169\u001b[0m     warnings\u001b[38;5;241m.\u001b[39mwarn(\u001b[38;5;124m\"\u001b[39m\u001b[38;5;124mMean of empty slice.\u001b[39m\u001b[38;5;124m\"\u001b[39m, \u001b[38;5;167;01mRuntimeWarning\u001b[39;00m, stacklevel\u001b[38;5;241m=\u001b[39m\u001b[38;5;241m2\u001b[39m)\n",
      "File \u001b[0;32m~/opt/anaconda3/lib/python3.9/site-packages/numpy/core/_methods.py:76\u001b[0m, in \u001b[0;36m_count_reduce_items\u001b[0;34m(arr, axis, keepdims, where)\u001b[0m\n\u001b[1;32m     74\u001b[0m     items \u001b[38;5;241m=\u001b[39m nt\u001b[38;5;241m.\u001b[39mintp(\u001b[38;5;241m1\u001b[39m)\n\u001b[1;32m     75\u001b[0m     \u001b[38;5;28;01mfor\u001b[39;00m ax \u001b[38;5;129;01min\u001b[39;00m axis:\n\u001b[0;32m---> 76\u001b[0m         items \u001b[38;5;241m*\u001b[39m\u001b[38;5;241m=\u001b[39m arr\u001b[38;5;241m.\u001b[39mshape[\u001b[43mmu\u001b[49m\u001b[38;5;241;43m.\u001b[39;49m\u001b[43mnormalize_axis_index\u001b[49m\u001b[43m(\u001b[49m\u001b[43max\u001b[49m\u001b[43m,\u001b[49m\u001b[43m \u001b[49m\u001b[43marr\u001b[49m\u001b[38;5;241;43m.\u001b[39;49m\u001b[43mndim\u001b[49m\u001b[43m)\u001b[49m]\n\u001b[1;32m     77\u001b[0m \u001b[38;5;28;01melse\u001b[39;00m:\n\u001b[1;32m     78\u001b[0m     \u001b[38;5;66;03m# TODO: Optimize case when `where` is broadcast along a non-reduction\u001b[39;00m\n\u001b[1;32m     79\u001b[0m     \u001b[38;5;66;03m# axis and full sum is more excessive than needed.\u001b[39;00m\n\u001b[1;32m     80\u001b[0m \n\u001b[1;32m     81\u001b[0m     \u001b[38;5;66;03m# guarded to protect circular imports\u001b[39;00m\n\u001b[1;32m     82\u001b[0m     \u001b[38;5;28;01mfrom\u001b[39;00m \u001b[38;5;21;01mnumpy\u001b[39;00m\u001b[38;5;21;01m.\u001b[39;00m\u001b[38;5;21;01mlib\u001b[39;00m\u001b[38;5;21;01m.\u001b[39;00m\u001b[38;5;21;01mstride_tricks\u001b[39;00m \u001b[38;5;28;01mimport\u001b[39;00m broadcast_to\n",
      "\u001b[0;31mAxisError\u001b[0m: axis 1 is out of bounds for array of dimension 1"
     ]
    },
    {
     "data": {
      "image/png": "[encoded data removed]",
      "text/plain": [
       "<Figure size 432x288 with 2 Axes>"
      ]
     },
     "metadata": {},
     "output_type": "display_data"
    }
   ],
   "source": [
    "#source:https://github.com/Kurene/plot-spectrogram-in-realtime-by-matplotlib\n",
    "%matplotlib inline\n",
    "\"\"\"\n",
    "License: MIT\n",
    "Created by Kurene@wizard-notes.com\n",
    "\"\"\"\n",
    "import time\n",
    "import numpy as np\n",
    "import soundfile as sf\n",
    "import matplotlib.pyplot as plt\n",
    "\n",
    "plt.style.use('dark_background')\n",
    "\n",
    "\n",
    "# Parameters (audio)\n",
    "sr         = 44100\n",
    "n_ch       = 2\n",
    "filepath   = my_wavs[0]\n",
    "n_fft      = 4096\n",
    "hop_length = int(n_fft / 4 * 3) # 0 <= hop_length < n_fft\n",
    "overlap    = n_fft - hop_length\n",
    "n_plot_tf  = 80\n",
    "n_freqs    = n_fft//2 + 1\n",
    "f_max_idx  = 480 # 1 < f_max_idx < n_freqs\n",
    "window     = np.hamming(n_fft)\n",
    "amp        = np.zeros((n_plot_tf, f_max_idx))\n",
    "\n",
    "# Parameters (plot, video)\n",
    "fps = 1.0\n",
    "fig, ax = plt.subplots()\n",
    "image = ax.imshow(amp.T, aspect=\"auto\")\n",
    "ax.set_xlabel(f\"Time frame\")\n",
    "ax.set_ylabel(f\"Frequency\")\n",
    "fig.colorbar(image)\n",
    "vmax, vmin = 1.0, 0.0\n",
    "#min_fps = sr / hop_length\n",
    "\n",
    "pretime = time.time()\n",
    "for index, block in enumerate(sf.blocks(filepath, blocksize=n_fft, overlap=overlap)):\n",
    "    if block.shape[0] != n_fft:\n",
    "        continue\n",
    "    \n",
    "    x = np.mean(block, axis=1) # to monoral\n",
    "    amp[-1] = np.sqrt(np.abs(np.fft.rfft(window * x)))[0:f_max_idx]\n",
    "    if vmax < np.max(amp[-1]):\n",
    "        vmax = np.max(amp[-1])\n",
    "    image.set_clim(vmin, vmax)\n",
    "    image.set_data(amp.T[::-1])\n",
    "    \n",
    "    #plt.title(f\"fps: {fps:0.1f} Hz\\n(min. fps requirement: {min_fps:0.1f} Hz)\")\n",
    "    plt.title(f\"fps: {fps:0.1f} Hz\")\n",
    "    plt.pause(0.001)\n",
    "\n",
    "    amp[0:-1] = amp[1::]\n",
    "\n",
    "    curtime = time.time()\n",
    "    time_diff = curtime - pretime\n",
    "    fps = 1.0/(time_diff + 1e-16)\n",
    "    #print(f\"{index}:\\t{time_diff:0.3f} sec\")\n",
    "    pretime = curtime"
   ]
  },
  {
   "cell_type": "code",
   "execution_count": null,
   "id": "d14b55eb",
   "metadata": {},
   "outputs": [],
   "source": []
  }
 ],
 "metadata": {
  "kernelspec": {
   "display_name": "Python 3 (ipykernel)",
   "language": "python",
   "name": "python3"
  },
  "language_info": {
   "codemirror_mode": {
    "name": "ipython",
    "version": 3
   },
   "file_extension": ".py",
   "mimetype": "text/x-python",
   "name": "python",
   "nbconvert_exporter": "python",
   "pygments_lexer": "ipython3",
   "version": "3.9.12"
  }
 },
 "nbformat": 4,
 "nbformat_minor": 5
}
