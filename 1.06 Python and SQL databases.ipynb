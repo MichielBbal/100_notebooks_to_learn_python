{
 "cells": [
  {
   "cell_type": "markdown",
   "metadata": {},
   "source": [
    "# Python and SQL databases\n",
    "\n",
    "\n",
    "### Contents:\n",
    "0. Install packages\n",
    "1. Sqlite3\n",
    "2. MySQL\n",
    "3. Duckdb\n",
    "\n",
    "Please see also the notebook on InfluxDB in chapter 5 of this series."
   ]
  },
  {
   "cell_type": "markdown",
   "metadata": {},
   "source": [
    "## 0. Install packages"
   ]
  },
  {
   "cell_type": "code",
   "execution_count": null,
   "metadata": {},
   "outputs": [],
   "source": [
    "%pip install mysql-connector-python"
   ]
  },
  {
   "cell_type": "code",
   "execution_count": 1,
   "metadata": {},
   "outputs": [
    {
     "name": "stdout",
     "output_type": "stream",
     "text": [
      "pip 21.2.4 from /Users/michielbontenbal/opt/anaconda3/lib/python3.9/site-packages/pip (python 3.9)\n",
      "Note: you may need to restart the kernel to use updated packages.\n"
     ]
    }
   ],
   "source": [
    "%pip --version"
   ]
  },
  {
   "cell_type": "code",
   "execution_count": null,
   "metadata": {},
   "outputs": [],
   "source": [
    "%pip install duckdb"
   ]
  },
  {
   "cell_type": "markdown",
   "metadata": {},
   "source": [
    "## 1. Sqlite3\n",
    "\n",
    "Sqlite3 is a built in module in Python3, so you only have to import this module and it works out of the box. \n",
    "\n",
    "To use it, you'll need to make two objects:\n",
    "1. a connection\n",
    "2. a cursor, which is used to interact with the database.\n",
    "\n",
    "We use the SQL language to interact with the database. See https://en.wikipedia.org/wiki/SQL for more info.\n",
    "Or find an overview of SQL statements here: https://s3.amazonaws.com/assets.datacamp.com/email/other/SQL+for+Data+Science.pdf\n",
    "\n",
    "Sqlite3 library automatically creates a database for us, if it does not exist already.\n",
    "You can download a database viewer from https://sqlitebrowser.org/ to check your database."
   ]
  },
  {
   "cell_type": "code",
   "execution_count": 2,
   "metadata": {},
   "outputs": [],
   "source": [
    "import sqlite3\n",
    "conn = sqlite3.connect('michiel.db') #database is created\n",
    "cur = conn.cursor()\n",
    "cur.execute('CREATE TABLE if not exists store(item TEXT, quantity INTEGER, price REAL)')\n",
    "cur.execute(\"INSERT INTO store VALUES('fiets', 10, 1234.56)\")\n",
    "conn.commit()\n",
    "conn.close()"
   ]
  },
  {
   "cell_type": "code",
   "execution_count": 3,
   "metadata": {},
   "outputs": [
    {
     "data": {
      "text/plain": [
       "[('fiets', 10, 1234.56), ('auto', 12, 10.5), ('fiets', 10, 1234.56)]"
      ]
     },
     "execution_count": 3,
     "metadata": {},
     "output_type": "execute_result"
    }
   ],
   "source": [
    "conn = sqlite3.connect('michiel.db')\n",
    "cur = conn.cursor()\n",
    "cur.execute('SELECT * FROM store')\n",
    "rows = cur.fetchall()\n",
    "rows"
   ]
  },
  {
   "cell_type": "code",
   "execution_count": 3,
   "metadata": {},
   "outputs": [],
   "source": [
    "import sqlite3\n",
    "conn = sqlite3.connect('michiel.db')\n",
    "cur = conn.cursor()\n",
    "\n",
    "def insert(item, quantity, price):\n",
    "    cur.execute(\"INSERT INTO store VALUES(?,?,?)\", (item, quantity, price))\n",
    "    conn.commit()\n",
    "\n",
    "insert('auto', 12, 10.5)\n",
    "#conn.close()"
   ]
  },
  {
   "cell_type": "code",
   "execution_count": 32,
   "metadata": {},
   "outputs": [
    {
     "name": "stdout",
     "output_type": "stream",
     "text": [
      "('fiets', 10, 1234.56)\n",
      "('fiets', 10, 1234.56)\n"
     ]
    }
   ],
   "source": [
    "#You can search the database by using LIKE\n",
    "search = cur.execute(\"SELECT * FROM store WHERE item LIKE 'fiets'\")\n",
    "for x in search:\n",
    "    print(x)"
   ]
  },
  {
   "cell_type": "code",
   "execution_count": 35,
   "metadata": {},
   "outputs": [
    {
     "name": "stdout",
     "output_type": "stream",
     "text": [
      "SELECT * FROM store WHERE item LIKE 'item'\n"
     ]
    }
   ],
   "source": [
    "sql = \"SELECT * FROM store WHERE item LIKE '\"+ str('item')+\"'\"\n",
    "print(sql)"
   ]
  },
  {
   "cell_type": "code",
   "execution_count": 38,
   "metadata": {},
   "outputs": [
    {
     "name": "stdout",
     "output_type": "stream",
     "text": [
      "SELECT * FROM store WHERE item LIKE 'item'\n"
     ]
    },
    {
     "ename": "TypeError",
     "evalue": "'function' object is not iterable",
     "output_type": "error",
     "traceback": [
      "\u001b[0;31m---------------------------------------------------------------------------\u001b[0m",
      "\u001b[0;31mTypeError\u001b[0m                                 Traceback (most recent call last)",
      "Input \u001b[0;32mIn [38]\u001b[0m, in \u001b[0;36m<cell line: 10>\u001b[0;34m()\u001b[0m\n\u001b[1;32m      8\u001b[0m \u001b[38;5;28mprint\u001b[39m(sql)\n\u001b[1;32m      9\u001b[0m search(\u001b[38;5;124m'\u001b[39m\u001b[38;5;124mfiets\u001b[39m\u001b[38;5;124m'\u001b[39m)\n\u001b[0;32m---> 10\u001b[0m \u001b[38;5;28;01mfor\u001b[39;00m x \u001b[38;5;129;01min\u001b[39;00m search:\n\u001b[1;32m     11\u001b[0m     \u001b[38;5;28mprint\u001b[39m(x)\n",
      "\u001b[0;31mTypeError\u001b[0m: 'function' object is not iterable"
     ]
    }
   ],
   "source": [
    "#You can search the database by using LIKE\n",
    "\n",
    "def search(item):\n",
    "    sql = \"SELECT * FROM store WHERE item LIKE '\"+ str(item)+\"'\"\n",
    "    search = cur.execute(sql)\n",
    "    #conn.commit()\n",
    "\n",
    "print(sql)\n",
    "search('fiets')\n",
    "for x in search:\n",
    "    print(x)"
   ]
  },
  {
   "cell_type": "markdown",
   "metadata": {},
   "source": [
    "## 2. MySQL connector Python\n",
    "\n",
    "pypi: https://pypi.org/project/mysql-connector-python/\n",
    "source: https://www.w3schools.com/python/python_mysql_getstarted.asp"
   ]
  },
  {
   "cell_type": "markdown",
   "metadata": {},
   "source": [
    "### Install MySQL\n",
    "\n",
    "Make sure you have installed MySQL on your device!\n",
    "For Apple see this instruction using brew: https://flaviocopes.com/mysql-how-to-install/\n",
    "For Windows, you can install it from here: https://dev.mysql.com/downloads/installer/        "
   ]
  },
  {
   "cell_type": "code",
   "execution_count": 2,
   "metadata": {},
   "outputs": [],
   "source": [
    "#check if MySQL is installed, if this code runs without errors it is installed.\n",
    "import mysql.connector"
   ]
  },
  {
   "cell_type": "code",
   "execution_count": 3,
   "metadata": {},
   "outputs": [
    {
     "name": "stdout",
     "output_type": "stream",
     "text": [
      "<mysql.connector.connection.MySQLConnection object at 0x7fd349a260a0>\n"
     ]
    }
   ],
   "source": [
    "import mysql.connector\n",
    "import config #i've stored the password in the config file\n",
    "\n",
    "mydb = mysql.connector.connect(\n",
    "  host=\"localhost\",\n",
    "  user=\"root\",\n",
    "  password=config.mysql_pw\n",
    ")\n",
    "\n",
    "print(mydb)"
   ]
  },
  {
   "cell_type": "code",
   "execution_count": 4,
   "metadata": {},
   "outputs": [],
   "source": [
    "#next create a cursor object to interact with the database and then crate a database\n",
    "mycursor = mydb.cursor()\n",
    "mycursor.execute(\"CREATE DATABASE if not exists mydatabase\")"
   ]
  },
  {
   "cell_type": "code",
   "execution_count": 5,
   "metadata": {},
   "outputs": [
    {
     "name": "stdout",
     "output_type": "stream",
     "text": [
      "('information_schema',)\n",
      "('mydatabase',)\n",
      "('mysql',)\n",
      "('performance_schema',)\n",
      "('sys',)\n"
     ]
    }
   ],
   "source": [
    "#show databases\n",
    "mycursor.execute(\"SHOW DATABASES\")\n",
    "for i in mycursor:\n",
    "    print(i)"
   ]
  },
  {
   "cell_type": "code",
   "execution_count": 6,
   "metadata": {},
   "outputs": [],
   "source": [
    "#create a connection with the database selected\n",
    "mydb = mysql.connector.connect(\n",
    "  host=\"localhost\",\n",
    "  user=\"root\",\n",
    "  password=config.mysql_pw,\n",
    "  database='mydatabase'   \n",
    ")"
   ]
  },
  {
   "cell_type": "code",
   "execution_count": 40,
   "metadata": {},
   "outputs": [
    {
     "name": "stdout",
     "output_type": "stream",
     "text": [
      "done\n"
     ]
    }
   ],
   "source": [
    "#create a CURSOR object and with it create a table 'customers'\n",
    "mycursor = mydb.cursor()\n",
    "mycursor.execute(\"CREATE TABLE if not exists customers (name VARCHAR(255), address VARCHAR(255))\")\n",
    "print('done')"
   ]
  },
  {
   "cell_type": "code",
   "execution_count": 41,
   "metadata": {},
   "outputs": [
    {
     "name": "stdout",
     "output_type": "stream",
     "text": [
      "('customers',)\n"
     ]
    }
   ],
   "source": [
    "#show all tables\n",
    "mycursor.execute(\"SHOW TABLES\")\n",
    "for x in mycursor:\n",
    "    print(x)"
   ]
  },
  {
   "cell_type": "code",
   "execution_count": 13,
   "metadata": {},
   "outputs": [],
   "source": [
    "# insert data into table\n",
    "mycursor.execute(\"INSERT INTO customers VALUES('Henk', 'Wibautstraat')\")\n",
    "#mydb.commit()"
   ]
  },
  {
   "cell_type": "code",
   "execution_count": 16,
   "metadata": {},
   "outputs": [
    {
     "data": {
      "text/plain": [
       "[('Henk', 'Wibautstraat', None)]"
      ]
     },
     "execution_count": 16,
     "metadata": {},
     "output_type": "execute_result"
    }
   ],
   "source": [
    "#select records\n",
    "mycursor.execute('SELECT * FROM customers')\n",
    "rows = mycursor.fetchall()\n",
    "rows"
   ]
  },
  {
   "cell_type": "code",
   "execution_count": 11,
   "metadata": {},
   "outputs": [],
   "source": [
    "#delete record\n",
    "sql = 'DELETE FROM customers WHERE name=\"Henk\"'\n",
    "mycursor.execute(sql)"
   ]
  },
  {
   "cell_type": "code",
   "execution_count": 26,
   "metadata": {},
   "outputs": [],
   "source": [
    "#drop a table\n",
    "mycursor.execute('DROP TABLE customers')"
   ]
  },
  {
   "cell_type": "markdown",
   "metadata": {},
   "source": [
    "## 3. MariaDB\n",
    "\n",
    "source: https://mariadb.com/resources/blog/how-to-connect-python-programs-to-mariadb/"
   ]
  },
  {
   "cell_type": "code",
   "execution_count": 3,
   "metadata": {},
   "outputs": [
    {
     "name": "stdout",
     "output_type": "stream",
     "text": [
      "Collecting mariadb\n",
      "  Using cached mariadb-1.1.5.post3.tar.gz (82 kB)\n",
      "  Installing build dependencies ... \u001b[?25ldone\n",
      "\u001b[?25h  Getting requirements to build wheel ... \u001b[?25lerror\n",
      "\u001b[31m  ERROR: Command errored out with exit status 1:\n",
      "   command: /Users/michielbontenbal/opt/anaconda3/bin/python /Users/michielbontenbal/opt/anaconda3/lib/python3.9/site-packages/pip/_vendor/pep517/in_process/_in_process.py get_requires_for_build_wheel /var/folders/cj/qtbz9fvd3svc0x28yv2756mh0000gn/T/tmphj4kocs3\n",
      "       cwd: /private/var/folders/cj/qtbz9fvd3svc0x28yv2756mh0000gn/T/pip-install-73gppnef/mariadb_170633504dea4e4298c60a55e1c8dd64\n",
      "  Complete output (30 lines):\n",
      "  /bin/sh: mariadb_config: command not found\n",
      "  Traceback (most recent call last):\n",
      "    File \"/Users/michielbontenbal/opt/anaconda3/lib/python3.9/site-packages/pip/_vendor/pep517/in_process/_in_process.py\", line 349, in <module>\n",
      "      main()\n",
      "    File \"/Users/michielbontenbal/opt/anaconda3/lib/python3.9/site-packages/pip/_vendor/pep517/in_process/_in_process.py\", line 331, in main\n",
      "      json_out['return_val'] = hook(**hook_input['kwargs'])\n",
      "    File \"/Users/michielbontenbal/opt/anaconda3/lib/python3.9/site-packages/pip/_vendor/pep517/in_process/_in_process.py\", line 117, in get_requires_for_build_wheel\n",
      "      return hook(config_settings)\n",
      "    File \"/private/var/folders/cj/qtbz9fvd3svc0x28yv2756mh0000gn/T/pip-build-env-0qvrtuba/overlay/lib/python3.9/site-packages/setuptools/build_meta.py\", line 338, in get_requires_for_build_wheel\n",
      "      return self._get_build_requires(config_settings, requirements=['wheel'])\n",
      "    File \"/private/var/folders/cj/qtbz9fvd3svc0x28yv2756mh0000gn/T/pip-build-env-0qvrtuba/overlay/lib/python3.9/site-packages/setuptools/build_meta.py\", line 320, in _get_build_requires\n",
      "      self.run_setup()\n",
      "    File \"/private/var/folders/cj/qtbz9fvd3svc0x28yv2756mh0000gn/T/pip-build-env-0qvrtuba/overlay/lib/python3.9/site-packages/setuptools/build_meta.py\", line 484, in run_setup\n",
      "      super(_BuildMetaLegacyBackend,\n",
      "    File \"/private/var/folders/cj/qtbz9fvd3svc0x28yv2756mh0000gn/T/pip-build-env-0qvrtuba/overlay/lib/python3.9/site-packages/setuptools/build_meta.py\", line 335, in run_setup\n",
      "      exec(code, locals())\n",
      "    File \"<string>\", line 27, in <module>\n",
      "    File \"/private/var/folders/cj/qtbz9fvd3svc0x28yv2756mh0000gn/T/pip-install-73gppnef/mariadb_170633504dea4e4298c60a55e1c8dd64/mariadb_posix.py\", line 62, in get_config\n",
      "      cc_version = mariadb_config(config_prg, \"cc_version\")\n",
      "    File \"/private/var/folders/cj/qtbz9fvd3svc0x28yv2756mh0000gn/T/pip-install-73gppnef/mariadb_170633504dea4e4298c60a55e1c8dd64/mariadb_posix.py\", line 28, in mariadb_config\n",
      "      raise EnvironmentError(\n",
      "  OSError: mariadb_config not found.\n",
      "  \n",
      "  This error typically indicates that MariaDB Connector/C, a dependency which\n",
      "  must be preinstalled, is not found.\n",
      "  If MariaDB Connector/C is not installed, see installation instructions\n",
      "  If MariaDB Connector/C is installed, either set the environment variable\n",
      "  MARIADB_CONFIG or edit the configuration file 'site.cfg' to set the\n",
      "   'mariadb_config' option to the file location of the mariadb_config utility.\n",
      "  \n",
      "  ----------------------------------------\u001b[0m\n",
      "\u001b[33mWARNING: Discarding https://files.pythonhosted.org/packages/be/14/f17f00028c553f3411a4825dfdd3d949479fb1a2c1eddedf76f723d17828/mariadb-1.1.5.post3.tar.gz#sha256=f9336dd4cb3207e621933bb5221f33fac0d7184db64dc44c70531430f4ecdcee (from https://pypi.org/simple/mariadb/) (requires-python:>=3.7). Command errored out with exit status 1: /Users/michielbontenbal/opt/anaconda3/bin/python /Users/michielbontenbal/opt/anaconda3/lib/python3.9/site-packages/pip/_vendor/pep517/in_process/_in_process.py get_requires_for_build_wheel /var/folders/cj/qtbz9fvd3svc0x28yv2756mh0000gn/T/tmphj4kocs3 Check the logs for full command output.\u001b[0m\n",
      "\u001b[?25h  Using cached mariadb-1.1.5.post2.tar.gz (82 kB)\n",
      "  Installing build dependencies ... \u001b[?25ldone\n",
      "\u001b[?25h  Getting requirements to build wheel ... \u001b[?25lerror\n",
      "\u001b[31m  ERROR: Command errored out with exit status 1:\n",
      "   command: /Users/michielbontenbal/opt/anaconda3/bin/python /Users/michielbontenbal/opt/anaconda3/lib/python3.9/site-packages/pip/_vendor/pep517/in_process/_in_process.py get_requires_for_build_wheel /var/folders/cj/qtbz9fvd3svc0x28yv2756mh0000gn/T/tmp2cqsagkd\n",
      "       cwd: /private/var/folders/cj/qtbz9fvd3svc0x28yv2756mh0000gn/T/pip-install-73gppnef/mariadb_46f82010fed54483a119c50a4e60f711\n",
      "  Complete output (30 lines):\n",
      "  /bin/sh: mariadb_config: command not found\n",
      "  Traceback (most recent call last):\n",
      "    File \"/Users/michielbontenbal/opt/anaconda3/lib/python3.9/site-packages/pip/_vendor/pep517/in_process/_in_process.py\", line 349, in <module>\n",
      "      main()\n",
      "    File \"/Users/michielbontenbal/opt/anaconda3/lib/python3.9/site-packages/pip/_vendor/pep517/in_process/_in_process.py\", line 331, in main\n",
      "      json_out['return_val'] = hook(**hook_input['kwargs'])\n",
      "    File \"/Users/michielbontenbal/opt/anaconda3/lib/python3.9/site-packages/pip/_vendor/pep517/in_process/_in_process.py\", line 117, in get_requires_for_build_wheel\n",
      "      return hook(config_settings)\n",
      "    File \"/private/var/folders/cj/qtbz9fvd3svc0x28yv2756mh0000gn/T/pip-build-env-1uw2qp8f/overlay/lib/python3.9/site-packages/setuptools/build_meta.py\", line 338, in get_requires_for_build_wheel\n",
      "      return self._get_build_requires(config_settings, requirements=['wheel'])\n",
      "    File \"/private/var/folders/cj/qtbz9fvd3svc0x28yv2756mh0000gn/T/pip-build-env-1uw2qp8f/overlay/lib/python3.9/site-packages/setuptools/build_meta.py\", line 320, in _get_build_requires\n",
      "      self.run_setup()\n",
      "    File \"/private/var/folders/cj/qtbz9fvd3svc0x28yv2756mh0000gn/T/pip-build-env-1uw2qp8f/overlay/lib/python3.9/site-packages/setuptools/build_meta.py\", line 484, in run_setup\n",
      "      super(_BuildMetaLegacyBackend,\n",
      "    File \"/private/var/folders/cj/qtbz9fvd3svc0x28yv2756mh0000gn/T/pip-build-env-1uw2qp8f/overlay/lib/python3.9/site-packages/setuptools/build_meta.py\", line 335, in run_setup\n",
      "      exec(code, locals())\n",
      "    File \"<string>\", line 27, in <module>\n",
      "    File \"/private/var/folders/cj/qtbz9fvd3svc0x28yv2756mh0000gn/T/pip-install-73gppnef/mariadb_46f82010fed54483a119c50a4e60f711/mariadb_posix.py\", line 62, in get_config\n",
      "      cc_version = mariadb_config(config_prg, \"cc_version\")\n",
      "    File \"/private/var/folders/cj/qtbz9fvd3svc0x28yv2756mh0000gn/T/pip-install-73gppnef/mariadb_46f82010fed54483a119c50a4e60f711/mariadb_posix.py\", line 28, in mariadb_config\n",
      "      raise EnvironmentError(\n",
      "  OSError: mariadb_config not found.\n",
      "  \n",
      "  This error typically indicates that MariaDB Connector/C, a dependency which\n",
      "  must be preinstalled, is not found.\n",
      "  If MariaDB Connector/C is not installed, see installation instructions\n",
      "  If MariaDB Connector/C is installed, either set the environment variable\n",
      "  MARIADB_CONFIG or edit the configuration file 'site.cfg' to set the\n",
      "   'mariadb_config' option to the file location of the mariadb_config utility.\n",
      "  \n",
      "  ----------------------------------------\u001b[0m\n",
      "\u001b[33mWARNING: Discarding https://files.pythonhosted.org/packages/ce/37/46bece87d3bf1f2ae1e04e1b3d6f30f23d35e827fee07d1ee36fbc1fd71e/mariadb-1.1.5.post2.tar.gz#sha256=3eddff734817b7aa6958d213190786f08db1f97b98cc49bda1cd6d43b789c22f (from https://pypi.org/simple/mariadb/) (requires-python:>=3.7). Command errored out with exit status 1: /Users/michielbontenbal/opt/anaconda3/bin/python /Users/michielbontenbal/opt/anaconda3/lib/python3.9/site-packages/pip/_vendor/pep517/in_process/_in_process.py get_requires_for_build_wheel /var/folders/cj/qtbz9fvd3svc0x28yv2756mh0000gn/T/tmp2cqsagkd Check the logs for full command output.\u001b[0m\n",
      "\u001b[?25h  Using cached mariadb-1.1.5.post1.tar.gz (82 kB)\n",
      "  Installing build dependencies ... \u001b[?25ldone\n",
      "\u001b[33m  WARNING: Missing build requirements in pyproject.toml for mariadb from https://files.pythonhosted.org/packages/63/0b/c9c74cdc520b70d070387155233a2b008b96b998ae90170297726a1db72e/mariadb-1.1.5.post1.tar.gz#sha256=43c2b46026c0ce6bedc00197883f209497ce4813c7cde348309601fac05b46b4.\u001b[0m\n",
      "\u001b[33m  WARNING: The project does not specify a build backend, and pip cannot fall back to setuptools without 'wheel'.\u001b[0m\n",
      "\u001b[?25h  Getting requirements to build wheel ... \u001b[?25lerror\n",
      "\u001b[31m  ERROR: Command errored out with exit status 1:\n",
      "   command: /Users/michielbontenbal/opt/anaconda3/bin/python /Users/michielbontenbal/opt/anaconda3/lib/python3.9/site-packages/pip/_vendor/pep517/in_process/_in_process.py get_requires_for_build_wheel /var/folders/cj/qtbz9fvd3svc0x28yv2756mh0000gn/T/tmpl4utvuec\n",
      "       cwd: /private/var/folders/cj/qtbz9fvd3svc0x28yv2756mh0000gn/T/pip-install-73gppnef/mariadb_edd8f0e4ff9f45ca999412dd8ded1d26\n",
      "  Complete output (30 lines):\n",
      "  /bin/sh: mariadb_config: command not found\n",
      "  Traceback (most recent call last):\n",
      "    File \"/Users/michielbontenbal/opt/anaconda3/lib/python3.9/site-packages/pip/_vendor/pep517/in_process/_in_process.py\", line 349, in <module>\n",
      "      main()\n",
      "    File \"/Users/michielbontenbal/opt/anaconda3/lib/python3.9/site-packages/pip/_vendor/pep517/in_process/_in_process.py\", line 331, in main\n",
      "      json_out['return_val'] = hook(**hook_input['kwargs'])\n",
      "    File \"/Users/michielbontenbal/opt/anaconda3/lib/python3.9/site-packages/pip/_vendor/pep517/in_process/_in_process.py\", line 117, in get_requires_for_build_wheel\n",
      "      return hook(config_settings)\n",
      "    File \"/private/var/folders/cj/qtbz9fvd3svc0x28yv2756mh0000gn/T/pip-build-env-iydlv5mz/overlay/lib/python3.9/site-packages/setuptools/build_meta.py\", line 338, in get_requires_for_build_wheel\n",
      "      return self._get_build_requires(config_settings, requirements=['wheel'])\n",
      "    File \"/private/var/folders/cj/qtbz9fvd3svc0x28yv2756mh0000gn/T/pip-build-env-iydlv5mz/overlay/lib/python3.9/site-packages/setuptools/build_meta.py\", line 320, in _get_build_requires\n",
      "      self.run_setup()\n",
      "    File \"/private/var/folders/cj/qtbz9fvd3svc0x28yv2756mh0000gn/T/pip-build-env-iydlv5mz/overlay/lib/python3.9/site-packages/setuptools/build_meta.py\", line 484, in run_setup\n",
      "      super(_BuildMetaLegacyBackend,\n",
      "    File \"/private/var/folders/cj/qtbz9fvd3svc0x28yv2756mh0000gn/T/pip-build-env-iydlv5mz/overlay/lib/python3.9/site-packages/setuptools/build_meta.py\", line 335, in run_setup\n",
      "      exec(code, locals())\n",
      "    File \"<string>\", line 27, in <module>\n",
      "    File \"/private/var/folders/cj/qtbz9fvd3svc0x28yv2756mh0000gn/T/pip-install-73gppnef/mariadb_edd8f0e4ff9f45ca999412dd8ded1d26/mariadb_posix.py\", line 62, in get_config\n",
      "      cc_version = mariadb_config(config_prg, \"cc_version\")\n",
      "    File \"/private/var/folders/cj/qtbz9fvd3svc0x28yv2756mh0000gn/T/pip-install-73gppnef/mariadb_edd8f0e4ff9f45ca999412dd8ded1d26/mariadb_posix.py\", line 28, in mariadb_config\n",
      "      raise EnvironmentError(\n",
      "  OSError: mariadb_config not found.\n",
      "  \n",
      "  This error typically indicates that MariaDB Connector/C, a dependency which\n",
      "  must be preinstalled, is not found.\n",
      "  If MariaDB Connector/C is not installed, see installation instructions\n",
      "  If MariaDB Connector/C is installed, either set the environment variable\n",
      "  MARIADB_CONFIG or edit the configuration file 'site.cfg' to set the\n",
      "   'mariadb_config' option to the file location of the mariadb_config utility.\n",
      "  \n",
      "  ----------------------------------------\u001b[0m\n",
      "\u001b[33mWARNING: Discarding https://files.pythonhosted.org/packages/63/0b/c9c74cdc520b70d070387155233a2b008b96b998ae90170297726a1db72e/mariadb-1.1.5.post1.tar.gz#sha256=43c2b46026c0ce6bedc00197883f209497ce4813c7cde348309601fac05b46b4 (from https://pypi.org/simple/mariadb/) (requires-python:>=3.7). Command errored out with exit status 1: /Users/michielbontenbal/opt/anaconda3/bin/python /Users/michielbontenbal/opt/anaconda3/lib/python3.9/site-packages/pip/_vendor/pep517/in_process/_in_process.py get_requires_for_build_wheel /var/folders/cj/qtbz9fvd3svc0x28yv2756mh0000gn/T/tmpl4utvuec Check the logs for full command output.\u001b[0m\n",
      "\u001b[?25h  Using cached mariadb-1.1.5.tar.gz (81 kB)\n"
     ]
    },
    {
     "name": "stdout",
     "output_type": "stream",
     "text": [
      "\u001b[31m    ERROR: Command errored out with exit status 1:\n",
      "     command: /Users/michielbontenbal/opt/anaconda3/bin/python -c 'import io, os, sys, setuptools, tokenize; sys.argv[0] = '\"'\"'/private/var/folders/cj/qtbz9fvd3svc0x28yv2756mh0000gn/T/pip-install-73gppnef/mariadb_d7565ccca35a4663b6a16517bff70ebb/setup.py'\"'\"'; __file__='\"'\"'/private/var/folders/cj/qtbz9fvd3svc0x28yv2756mh0000gn/T/pip-install-73gppnef/mariadb_d7565ccca35a4663b6a16517bff70ebb/setup.py'\"'\"';f = getattr(tokenize, '\"'\"'open'\"'\"', open)(__file__) if os.path.exists(__file__) else io.StringIO('\"'\"'from setuptools import setup; setup()'\"'\"');code = f.read().replace('\"'\"'\\r\\n'\"'\"', '\"'\"'\\n'\"'\"');f.close();exec(compile(code, __file__, '\"'\"'exec'\"'\"'))' egg_info --egg-base /private/var/folders/cj/qtbz9fvd3svc0x28yv2756mh0000gn/T/pip-pip-egg-info-m3_hr51q\n",
      "         cwd: /private/var/folders/cj/qtbz9fvd3svc0x28yv2756mh0000gn/T/pip-install-73gppnef/mariadb_d7565ccca35a4663b6a16517bff70ebb/\n",
      "    Complete output (18 lines):\n",
      "    /bin/sh: mariadb_config: command not found\n",
      "    Traceback (most recent call last):\n",
      "      File \"<string>\", line 1, in <module>\n",
      "      File \"/private/var/folders/cj/qtbz9fvd3svc0x28yv2756mh0000gn/T/pip-install-73gppnef/mariadb_d7565ccca35a4663b6a16517bff70ebb/setup.py\", line 27, in <module>\n",
      "        cfg = get_config(options)\n",
      "      File \"/private/var/folders/cj/qtbz9fvd3svc0x28yv2756mh0000gn/T/pip-install-73gppnef/mariadb_d7565ccca35a4663b6a16517bff70ebb/mariadb_posix.py\", line 62, in get_config\n",
      "        cc_version = mariadb_config(config_prg, \"cc_version\")\n",
      "      File \"/private/var/folders/cj/qtbz9fvd3svc0x28yv2756mh0000gn/T/pip-install-73gppnef/mariadb_d7565ccca35a4663b6a16517bff70ebb/mariadb_posix.py\", line 28, in mariadb_config\n",
      "        raise EnvironmentError(\n",
      "    OSError: mariadb_config not found.\n",
      "    \n",
      "    This error typically indicates that MariaDB Connector/C, a dependency which\n",
      "    must be preinstalled, is not found.\n",
      "    If MariaDB Connector/C is not installed, see installation instructions\n",
      "    If MariaDB Connector/C is installed, either set the environment variable\n",
      "    MARIADB_CONFIG or edit the configuration file 'site.cfg' to set the\n",
      "     'mariadb_config' option to the file location of the mariadb_config utility.\n",
      "    \n",
      "    ----------------------------------------\u001b[0m\n",
      "\u001b[33mWARNING: Discarding https://files.pythonhosted.org/packages/78/b2/907c2b1908612b0d27b80ea1ee6b362f5d151645ef33ef095c198fe78799/mariadb-1.1.5.tar.gz#sha256=bd9c91ecf247ada57ee0eb20bc117f8465f6debaa068384ba636d77da0c154c5 (from https://pypi.org/simple/mariadb/) (requires-python:>=3.7). Command errored out with exit status 1: python setup.py egg_info Check the logs for full command output.\u001b[0m\n",
      "  Using cached mariadb-1.1.4.zip (97 kB)\n",
      "\u001b[31m    ERROR: Command errored out with exit status 1:\n",
      "     command: /Users/michielbontenbal/opt/anaconda3/bin/python -c 'import io, os, sys, setuptools, tokenize; sys.argv[0] = '\"'\"'/private/var/folders/cj/qtbz9fvd3svc0x28yv2756mh0000gn/T/pip-install-73gppnef/mariadb_0729fffbfab54dd592d247926eba6139/setup.py'\"'\"'; __file__='\"'\"'/private/var/folders/cj/qtbz9fvd3svc0x28yv2756mh0000gn/T/pip-install-73gppnef/mariadb_0729fffbfab54dd592d247926eba6139/setup.py'\"'\"';f = getattr(tokenize, '\"'\"'open'\"'\"', open)(__file__) if os.path.exists(__file__) else io.StringIO('\"'\"'from setuptools import setup; setup()'\"'\"');code = f.read().replace('\"'\"'\\r\\n'\"'\"', '\"'\"'\\n'\"'\"');f.close();exec(compile(code, __file__, '\"'\"'exec'\"'\"'))' egg_info --egg-base /private/var/folders/cj/qtbz9fvd3svc0x28yv2756mh0000gn/T/pip-pip-egg-info-vhw2kmlf\n",
      "         cwd: /private/var/folders/cj/qtbz9fvd3svc0x28yv2756mh0000gn/T/pip-install-73gppnef/mariadb_0729fffbfab54dd592d247926eba6139/\n",
      "    Complete output (18 lines):\n",
      "    /bin/sh: mariadb_config: command not found\n",
      "    Traceback (most recent call last):\n",
      "      File \"<string>\", line 1, in <module>\n",
      "      File \"/private/var/folders/cj/qtbz9fvd3svc0x28yv2756mh0000gn/T/pip-install-73gppnef/mariadb_0729fffbfab54dd592d247926eba6139/setup.py\", line 27, in <module>\n",
      "        cfg = get_config(options)\n",
      "      File \"/private/var/folders/cj/qtbz9fvd3svc0x28yv2756mh0000gn/T/pip-install-73gppnef/mariadb_0729fffbfab54dd592d247926eba6139/mariadb_posix.py\", line 62, in get_config\n",
      "        cc_version = mariadb_config(config_prg, \"cc_version\")\n",
      "      File \"/private/var/folders/cj/qtbz9fvd3svc0x28yv2756mh0000gn/T/pip-install-73gppnef/mariadb_0729fffbfab54dd592d247926eba6139/mariadb_posix.py\", line 28, in mariadb_config\n",
      "        raise EnvironmentError(\n",
      "    OSError: mariadb_config not found.\n",
      "    \n",
      "    This error typically indicates that MariaDB Connector/C, a dependency which\n",
      "    must be preinstalled, is not found.\n",
      "    If MariaDB Connector/C is not installed, see installation instructions\n",
      "    If MariaDB Connector/C is installed, either set the environment variable\n",
      "    MARIADB_CONFIG or edit the configuration file 'site.cfg' to set the\n",
      "     'mariadb_config' option to the file location of the mariadb_config utility.\n",
      "    \n",
      "    ----------------------------------------\u001b[0m\n",
      "\u001b[33mWARNING: Discarding https://files.pythonhosted.org/packages/c9/1c/201f431285356652ddf6daa89973e7d37ef1b519dc01d9cce9c866610c84/mariadb-1.1.4.zip#sha256=73a0acbd2ace381ec1bcfc61ced7a79a519e66c02c24e12ae6d27baa03717876 (from https://pypi.org/simple/mariadb/) (requires-python:>=3.7). Command errored out with exit status 1: python setup.py egg_info Check the logs for full command output.\u001b[0m\n",
      "  Using cached mariadb-1.1.3.tar.gz (80 kB)\n",
      "\u001b[31m    ERROR: Command errored out with exit status 1:\n",
      "     command: /Users/michielbontenbal/opt/anaconda3/bin/python -c 'import io, os, sys, setuptools, tokenize; sys.argv[0] = '\"'\"'/private/var/folders/cj/qtbz9fvd3svc0x28yv2756mh0000gn/T/pip-install-73gppnef/mariadb_310640e9546b44578637fae1c0270740/setup.py'\"'\"'; __file__='\"'\"'/private/var/folders/cj/qtbz9fvd3svc0x28yv2756mh0000gn/T/pip-install-73gppnef/mariadb_310640e9546b44578637fae1c0270740/setup.py'\"'\"';f = getattr(tokenize, '\"'\"'open'\"'\"', open)(__file__) if os.path.exists(__file__) else io.StringIO('\"'\"'from setuptools import setup; setup()'\"'\"');code = f.read().replace('\"'\"'\\r\\n'\"'\"', '\"'\"'\\n'\"'\"');f.close();exec(compile(code, __file__, '\"'\"'exec'\"'\"'))' egg_info --egg-base /private/var/folders/cj/qtbz9fvd3svc0x28yv2756mh0000gn/T/pip-pip-egg-info-q9rc5f21\n",
      "         cwd: /private/var/folders/cj/qtbz9fvd3svc0x28yv2756mh0000gn/T/pip-install-73gppnef/mariadb_310640e9546b44578637fae1c0270740/\n",
      "    Complete output (18 lines):\n",
      "    /bin/sh: mariadb_config: command not found\n",
      "    Traceback (most recent call last):\n",
      "      File \"<string>\", line 1, in <module>\n",
      "      File \"/private/var/folders/cj/qtbz9fvd3svc0x28yv2756mh0000gn/T/pip-install-73gppnef/mariadb_310640e9546b44578637fae1c0270740/setup.py\", line 26, in <module>\n",
      "        cfg = get_config(options)\n",
      "      File \"/private/var/folders/cj/qtbz9fvd3svc0x28yv2756mh0000gn/T/pip-install-73gppnef/mariadb_310640e9546b44578637fae1c0270740/mariadb_posix.py\", line 63, in get_config\n",
      "        cc_version = mariadb_config(config_prg, \"cc_version\")\n",
      "      File \"/private/var/folders/cj/qtbz9fvd3svc0x28yv2756mh0000gn/T/pip-install-73gppnef/mariadb_310640e9546b44578637fae1c0270740/mariadb_posix.py\", line 28, in mariadb_config\n",
      "        raise EnvironmentError(\n",
      "    OSError: mariadb_config not found.\n",
      "    \n",
      "    This error typically indicates that MariaDB Connector/C, a dependency which must be preinstalled,\n",
      "    is not found.\n",
      "    If MariaDB Connector/C is not installed, see installation instructions\n",
      "    at: https://github.com/mariadb-corporation/mariadb-connector-c/wiki/install.md.\n",
      "    If MariaDB Connector/C is installed, either set the environment variable MARIADB_CONFIG or edit\n",
      "    the configuration file 'site.cfg' to set the 'mariadb_config' option to the file location of the\n",
      "    mariadb_config utility.\n",
      "    ----------------------------------------\u001b[0m\n",
      "\u001b[33mWARNING: Discarding https://files.pythonhosted.org/packages/76/c0/68a69fb86d93aa21febd3c27f9aa605b39eba4674699f22c02ecc4ab65f2/mariadb-1.1.3.tar.gz#sha256=e11ad852934a242660ba0a4fa2bd2af51e053bec41962ea128ba90022ed8ad5e (from https://pypi.org/simple/mariadb/) (requires-python:>=3.7). Command errored out with exit status 1: python setup.py egg_info Check the logs for full command output.\u001b[0m\n",
      "  Using cached mariadb-1.1.2.tar.gz (79 kB)\n"
     ]
    },
    {
     "name": "stdout",
     "output_type": "stream",
     "text": [
      "\u001b[31m    ERROR: Command errored out with exit status 1:\n",
      "     command: /Users/michielbontenbal/opt/anaconda3/bin/python -c 'import io, os, sys, setuptools, tokenize; sys.argv[0] = '\"'\"'/private/var/folders/cj/qtbz9fvd3svc0x28yv2756mh0000gn/T/pip-install-73gppnef/mariadb_8b1a13648ccd48eca5579319d23d264e/setup.py'\"'\"'; __file__='\"'\"'/private/var/folders/cj/qtbz9fvd3svc0x28yv2756mh0000gn/T/pip-install-73gppnef/mariadb_8b1a13648ccd48eca5579319d23d264e/setup.py'\"'\"';f = getattr(tokenize, '\"'\"'open'\"'\"', open)(__file__) if os.path.exists(__file__) else io.StringIO('\"'\"'from setuptools import setup; setup()'\"'\"');code = f.read().replace('\"'\"'\\r\\n'\"'\"', '\"'\"'\\n'\"'\"');f.close();exec(compile(code, __file__, '\"'\"'exec'\"'\"'))' egg_info --egg-base /private/var/folders/cj/qtbz9fvd3svc0x28yv2756mh0000gn/T/pip-pip-egg-info-fpjlwlzb\n",
      "         cwd: /private/var/folders/cj/qtbz9fvd3svc0x28yv2756mh0000gn/T/pip-install-73gppnef/mariadb_8b1a13648ccd48eca5579319d23d264e/\n",
      "    Complete output (18 lines):\n",
      "    /bin/sh: mariadb_config: command not found\n",
      "    Traceback (most recent call last):\n",
      "      File \"<string>\", line 1, in <module>\n",
      "      File \"/private/var/folders/cj/qtbz9fvd3svc0x28yv2756mh0000gn/T/pip-install-73gppnef/mariadb_8b1a13648ccd48eca5579319d23d264e/setup.py\", line 26, in <module>\n",
      "        cfg = get_config(options)\n",
      "      File \"/private/var/folders/cj/qtbz9fvd3svc0x28yv2756mh0000gn/T/pip-install-73gppnef/mariadb_8b1a13648ccd48eca5579319d23d264e/mariadb_posix.py\", line 63, in get_config\n",
      "        cc_version = mariadb_config(config_prg, \"cc_version\")\n",
      "      File \"/private/var/folders/cj/qtbz9fvd3svc0x28yv2756mh0000gn/T/pip-install-73gppnef/mariadb_8b1a13648ccd48eca5579319d23d264e/mariadb_posix.py\", line 28, in mariadb_config\n",
      "        raise EnvironmentError(\n",
      "    OSError: mariadb_config not found.\n",
      "    \n",
      "    This error typically indicates that MariaDB Connector/C, a dependency which must be preinstalled,\n",
      "    is not found.\n",
      "    If MariaDB Connector/C is not installed, see installation instructions\n",
      "    at: https://github.com/mariadb-corporation/mariadb-connector-c/wiki/install.md.\n",
      "    If MariaDB Connector/C is installed, either set the environment variable MARIADB_CONFIG or edit\n",
      "    the configuration file 'site.cfg' to set the 'mariadb_config' option to the file location of the\n",
      "    mariadb_config utility.\n",
      "    ----------------------------------------\u001b[0m\n",
      "\u001b[33mWARNING: Discarding https://files.pythonhosted.org/packages/59/46/a8ccc82fdc3de0ef5a6b31e9678fbc9301cb460957e2c94c1d02fd2c4ea4/mariadb-1.1.2.tar.gz#sha256=e1ed6b9bbd3051a9666f9b882f6f71b26f16c2acabcbd0db6c5cb5fff5d2100a (from https://pypi.org/simple/mariadb/) (requires-python:>=3.7). Command errored out with exit status 1: python setup.py egg_info Check the logs for full command output.\u001b[0m\n",
      "  Using cached mariadb-1.0.11.zip (85 kB)\n",
      "\u001b[31m    ERROR: Command errored out with exit status 1:\n",
      "     command: /Users/michielbontenbal/opt/anaconda3/bin/python -c 'import io, os, sys, setuptools, tokenize; sys.argv[0] = '\"'\"'/private/var/folders/cj/qtbz9fvd3svc0x28yv2756mh0000gn/T/pip-install-73gppnef/mariadb_cf9cb1e6c5534b12a3f63b6d47a19ba8/setup.py'\"'\"'; __file__='\"'\"'/private/var/folders/cj/qtbz9fvd3svc0x28yv2756mh0000gn/T/pip-install-73gppnef/mariadb_cf9cb1e6c5534b12a3f63b6d47a19ba8/setup.py'\"'\"';f = getattr(tokenize, '\"'\"'open'\"'\"', open)(__file__) if os.path.exists(__file__) else io.StringIO('\"'\"'from setuptools import setup; setup()'\"'\"');code = f.read().replace('\"'\"'\\r\\n'\"'\"', '\"'\"'\\n'\"'\"');f.close();exec(compile(code, __file__, '\"'\"'exec'\"'\"'))' egg_info --egg-base /private/var/folders/cj/qtbz9fvd3svc0x28yv2756mh0000gn/T/pip-pip-egg-info-kir6lprk\n",
      "         cwd: /private/var/folders/cj/qtbz9fvd3svc0x28yv2756mh0000gn/T/pip-install-73gppnef/mariadb_cf9cb1e6c5534b12a3f63b6d47a19ba8/\n",
      "    Complete output (17 lines):\n",
      "    /bin/sh: mariadb_config: command not found\n",
      "    Traceback (most recent call last):\n",
      "      File \"<string>\", line 1, in <module>\n",
      "      File \"/private/var/folders/cj/qtbz9fvd3svc0x28yv2756mh0000gn/T/pip-install-73gppnef/mariadb_cf9cb1e6c5534b12a3f63b6d47a19ba8/setup.py\", line 26, in <module>\n",
      "        cfg = get_config(options)\n",
      "      File \"/private/var/folders/cj/qtbz9fvd3svc0x28yv2756mh0000gn/T/pip-install-73gppnef/mariadb_cf9cb1e6c5534b12a3f63b6d47a19ba8/mariadb_posix.py\", line 59, in get_config\n",
      "        cc_version = mariadb_config(config_prg, \"cc_version\")\n",
      "      File \"/private/var/folders/cj/qtbz9fvd3svc0x28yv2756mh0000gn/T/pip-install-73gppnef/mariadb_cf9cb1e6c5534b12a3f63b6d47a19ba8/mariadb_posix.py\", line 28, in mariadb_config\n",
      "        raise EnvironmentError(\n",
      "    OSError: mariadb_config not found.\n",
      "    \n",
      "    Please make sure, that MariaDB Connector/C is installed on your system.\n",
      "    Either set the environment variable MARIADB_CONFIG or edit the configuration\n",
      "    file 'site.cfg' and set the 'mariadb_config option, which should point\n",
      "    to the mariadb_config utility.\n",
      "    The MariaDB Download website at <https://downloads.mariadb.com/Connectors/c/>\n",
      "    provides latest stable releease of Connector/C.\n",
      "    ----------------------------------------\u001b[0m\n",
      "\u001b[33mWARNING: Discarding https://files.pythonhosted.org/packages/37/0a/ce5724f852f2937c6955bcea09659aa2d85d487df1c9de6711344b71527d/mariadb-1.0.11.zip#sha256=76916c892bc936c5b0f36e25a1411f651a7b7ce978992ae3a8de7e283efdacbf (from https://pypi.org/simple/mariadb/) (requires-python:>=3.6). Command errored out with exit status 1: python setup.py egg_info Check the logs for full command output.\u001b[0m\n",
      "  Using cached mariadb-1.0.10.zip (85 kB)\n",
      "\u001b[31m    ERROR: Command errored out with exit status 1:\n",
      "     command: /Users/michielbontenbal/opt/anaconda3/bin/python -c 'import io, os, sys, setuptools, tokenize; sys.argv[0] = '\"'\"'/private/var/folders/cj/qtbz9fvd3svc0x28yv2756mh0000gn/T/pip-install-73gppnef/mariadb_3471c4662b4d41c5871085fdf88a86fd/setup.py'\"'\"'; __file__='\"'\"'/private/var/folders/cj/qtbz9fvd3svc0x28yv2756mh0000gn/T/pip-install-73gppnef/mariadb_3471c4662b4d41c5871085fdf88a86fd/setup.py'\"'\"';f = getattr(tokenize, '\"'\"'open'\"'\"', open)(__file__) if os.path.exists(__file__) else io.StringIO('\"'\"'from setuptools import setup; setup()'\"'\"');code = f.read().replace('\"'\"'\\r\\n'\"'\"', '\"'\"'\\n'\"'\"');f.close();exec(compile(code, __file__, '\"'\"'exec'\"'\"'))' egg_info --egg-base /private/var/folders/cj/qtbz9fvd3svc0x28yv2756mh0000gn/T/pip-pip-egg-info-jol8j8nz\n",
      "         cwd: /private/var/folders/cj/qtbz9fvd3svc0x28yv2756mh0000gn/T/pip-install-73gppnef/mariadb_3471c4662b4d41c5871085fdf88a86fd/\n",
      "    Complete output (17 lines):\n",
      "    /bin/sh: mariadb_config: command not found\n",
      "    Traceback (most recent call last):\n",
      "      File \"<string>\", line 1, in <module>\n",
      "      File \"/private/var/folders/cj/qtbz9fvd3svc0x28yv2756mh0000gn/T/pip-install-73gppnef/mariadb_3471c4662b4d41c5871085fdf88a86fd/setup.py\", line 26, in <module>\n",
      "        cfg = get_config(options)\n",
      "      File \"/private/var/folders/cj/qtbz9fvd3svc0x28yv2756mh0000gn/T/pip-install-73gppnef/mariadb_3471c4662b4d41c5871085fdf88a86fd/mariadb_posix.py\", line 59, in get_config\n",
      "        cc_version = mariadb_config(config_prg, \"cc_version\")\n",
      "      File \"/private/var/folders/cj/qtbz9fvd3svc0x28yv2756mh0000gn/T/pip-install-73gppnef/mariadb_3471c4662b4d41c5871085fdf88a86fd/mariadb_posix.py\", line 28, in mariadb_config\n",
      "        raise EnvironmentError(\n",
      "    OSError: mariadb_config not found.\n",
      "    \n",
      "    Please make sure, that MariaDB Connector/C is installed on your system.\n",
      "    Either set the environment variable MARIADB_CONFIG or edit the configuration\n",
      "    file 'site.cfg' and set the 'mariadb_config option, which should point\n",
      "    to the mariadb_config utility.\n",
      "    The MariaDB Download website at <https://downloads.mariadb.com/Connectors/c/>\n",
      "    provides latest stable releease of Connector/C.\n",
      "    ----------------------------------------\u001b[0m\n",
      "\u001b[33mWARNING: Discarding https://files.pythonhosted.org/packages/fa/3e/406aab309101bb61cfc6745badfa3ec6c4c6f026f76b2428f597e73f7975/mariadb-1.0.10.zip#sha256=79028ba6051173dad1ad0be7518389cab70239f92b4ff8b8813dae55c3f2c53d (from https://pypi.org/simple/mariadb/) (requires-python:>=3.6). Command errored out with exit status 1: python setup.py egg_info Check the logs for full command output.\u001b[0m\n",
      "  Using cached mariadb-1.0.9.zip (85 kB)\n"
     ]
    },
    {
     "name": "stdout",
     "output_type": "stream",
     "text": [
      "\u001b[31m    ERROR: Command errored out with exit status 1:\n",
      "     command: /Users/michielbontenbal/opt/anaconda3/bin/python -c 'import io, os, sys, setuptools, tokenize; sys.argv[0] = '\"'\"'/private/var/folders/cj/qtbz9fvd3svc0x28yv2756mh0000gn/T/pip-install-73gppnef/mariadb_b16449604fed4171afb21c0038f0e3a5/setup.py'\"'\"'; __file__='\"'\"'/private/var/folders/cj/qtbz9fvd3svc0x28yv2756mh0000gn/T/pip-install-73gppnef/mariadb_b16449604fed4171afb21c0038f0e3a5/setup.py'\"'\"';f = getattr(tokenize, '\"'\"'open'\"'\"', open)(__file__) if os.path.exists(__file__) else io.StringIO('\"'\"'from setuptools import setup; setup()'\"'\"');code = f.read().replace('\"'\"'\\r\\n'\"'\"', '\"'\"'\\n'\"'\"');f.close();exec(compile(code, __file__, '\"'\"'exec'\"'\"'))' egg_info --egg-base /private/var/folders/cj/qtbz9fvd3svc0x28yv2756mh0000gn/T/pip-pip-egg-info-crtxt3u9\n",
      "         cwd: /private/var/folders/cj/qtbz9fvd3svc0x28yv2756mh0000gn/T/pip-install-73gppnef/mariadb_b16449604fed4171afb21c0038f0e3a5/\n",
      "    Complete output (17 lines):\n",
      "    /bin/sh: mariadb_config: command not found\n",
      "    Traceback (most recent call last):\n",
      "      File \"<string>\", line 1, in <module>\n",
      "      File \"/private/var/folders/cj/qtbz9fvd3svc0x28yv2756mh0000gn/T/pip-install-73gppnef/mariadb_b16449604fed4171afb21c0038f0e3a5/setup.py\", line 26, in <module>\n",
      "        cfg = get_config(options)\n",
      "      File \"/private/var/folders/cj/qtbz9fvd3svc0x28yv2756mh0000gn/T/pip-install-73gppnef/mariadb_b16449604fed4171afb21c0038f0e3a5/mariadb_posix.py\", line 59, in get_config\n",
      "        cc_version = mariadb_config(config_prg, \"cc_version\")\n",
      "      File \"/private/var/folders/cj/qtbz9fvd3svc0x28yv2756mh0000gn/T/pip-install-73gppnef/mariadb_b16449604fed4171afb21c0038f0e3a5/mariadb_posix.py\", line 28, in mariadb_config\n",
      "        raise EnvironmentError(\n",
      "    OSError: mariadb_config not found.\n",
      "    \n",
      "    Please make sure, that MariaDB Connector/C is installed on your system.\n",
      "    Either set the environment variable MARIADB_CONFIG or edit the configuration\n",
      "    file 'site.cfg' and set the 'mariadb_config option, which should point\n",
      "    to the mariadb_config utility.\n",
      "    The MariaDB Download website at <https://downloads.mariadb.com/Connectors/c/>\n",
      "    provides latest stable releease of Connector/C.\n",
      "    ----------------------------------------\u001b[0m\n",
      "\u001b[33mWARNING: Discarding https://files.pythonhosted.org/packages/e4/b0/0fa0bf67c347464e04c970e406e6d4b0eea0b76c9aff6111c85708950cfc/mariadb-1.0.9.zip#sha256=02a9b3d0a076e9a0d0ea1c48b45ed09b6475e2b6a4e8c81ed9f1e82caf3bfc29 (from https://pypi.org/simple/mariadb/) (requires-python:>=3.6). Command errored out with exit status 1: python setup.py egg_info Check the logs for full command output.\u001b[0m\n",
      "  Using cached mariadb-1.0.8.zip (85 kB)\n",
      "\u001b[31m    ERROR: Command errored out with exit status 1:\n",
      "     command: /Users/michielbontenbal/opt/anaconda3/bin/python -c 'import io, os, sys, setuptools, tokenize; sys.argv[0] = '\"'\"'/private/var/folders/cj/qtbz9fvd3svc0x28yv2756mh0000gn/T/pip-install-73gppnef/mariadb_3d0812938926416c97c92e596a41e13c/setup.py'\"'\"'; __file__='\"'\"'/private/var/folders/cj/qtbz9fvd3svc0x28yv2756mh0000gn/T/pip-install-73gppnef/mariadb_3d0812938926416c97c92e596a41e13c/setup.py'\"'\"';f = getattr(tokenize, '\"'\"'open'\"'\"', open)(__file__) if os.path.exists(__file__) else io.StringIO('\"'\"'from setuptools import setup; setup()'\"'\"');code = f.read().replace('\"'\"'\\r\\n'\"'\"', '\"'\"'\\n'\"'\"');f.close();exec(compile(code, __file__, '\"'\"'exec'\"'\"'))' egg_info --egg-base /private/var/folders/cj/qtbz9fvd3svc0x28yv2756mh0000gn/T/pip-pip-egg-info-4rahbskw\n",
      "         cwd: /private/var/folders/cj/qtbz9fvd3svc0x28yv2756mh0000gn/T/pip-install-73gppnef/mariadb_3d0812938926416c97c92e596a41e13c/\n",
      "    Complete output (17 lines):\n",
      "    /bin/sh: mariadb_config: command not found\n",
      "    Traceback (most recent call last):\n",
      "      File \"<string>\", line 1, in <module>\n",
      "      File \"/private/var/folders/cj/qtbz9fvd3svc0x28yv2756mh0000gn/T/pip-install-73gppnef/mariadb_3d0812938926416c97c92e596a41e13c/setup.py\", line 26, in <module>\n",
      "        cfg = get_config(options)\n",
      "      File \"/private/var/folders/cj/qtbz9fvd3svc0x28yv2756mh0000gn/T/pip-install-73gppnef/mariadb_3d0812938926416c97c92e596a41e13c/mariadb_posix.py\", line 59, in get_config\n",
      "        cc_version = mariadb_config(config_prg, \"cc_version\")\n",
      "      File \"/private/var/folders/cj/qtbz9fvd3svc0x28yv2756mh0000gn/T/pip-install-73gppnef/mariadb_3d0812938926416c97c92e596a41e13c/mariadb_posix.py\", line 28, in mariadb_config\n",
      "        raise EnvironmentError(\n",
      "    OSError: mariadb_config not found.\n",
      "    \n",
      "    Please make sure, that MariaDB Connector/C is installed on your system.\n",
      "    Either set the environment variable MARIADB_CONFIG or edit the configuration\n",
      "    file 'site.cfg' and set the 'mariadb_config option, which should point\n",
      "    to the mariadb_config utility.\n",
      "    The MariaDB Download website at <https://downloads.mariadb.com/Connectors/c/>\n",
      "    provides latest stable releease of Connector/C.\n",
      "    ----------------------------------------\u001b[0m\n",
      "\u001b[33mWARNING: Discarding https://files.pythonhosted.org/packages/e5/30/e80702b8e9eecaddfb510a34d16dec0150d0661b07bb49fd6f55fa18781f/mariadb-1.0.8.zip#sha256=4b7b1b307a30a3cb12272d9b1dca0d13b66bd3d415b4aceb0a407f0983f341a3 (from https://pypi.org/simple/mariadb/) (requires-python:>=3.6). Command errored out with exit status 1: python setup.py egg_info Check the logs for full command output.\u001b[0m\n",
      "  Using cached mariadb-1.0.7.tar.gz (67 kB)\n",
      "\u001b[31m    ERROR: Command errored out with exit status 1:\n",
      "     command: /Users/michielbontenbal/opt/anaconda3/bin/python -c 'import io, os, sys, setuptools, tokenize; sys.argv[0] = '\"'\"'/private/var/folders/cj/qtbz9fvd3svc0x28yv2756mh0000gn/T/pip-install-73gppnef/mariadb_e37f523ebbce4316b4ecb514d6dd13e6/setup.py'\"'\"'; __file__='\"'\"'/private/var/folders/cj/qtbz9fvd3svc0x28yv2756mh0000gn/T/pip-install-73gppnef/mariadb_e37f523ebbce4316b4ecb514d6dd13e6/setup.py'\"'\"';f = getattr(tokenize, '\"'\"'open'\"'\"', open)(__file__) if os.path.exists(__file__) else io.StringIO('\"'\"'from setuptools import setup; setup()'\"'\"');code = f.read().replace('\"'\"'\\r\\n'\"'\"', '\"'\"'\\n'\"'\"');f.close();exec(compile(code, __file__, '\"'\"'exec'\"'\"'))' egg_info --egg-base /private/var/folders/cj/qtbz9fvd3svc0x28yv2756mh0000gn/T/pip-pip-egg-info-847p4tgt\n",
      "         cwd: /private/var/folders/cj/qtbz9fvd3svc0x28yv2756mh0000gn/T/pip-install-73gppnef/mariadb_e37f523ebbce4316b4ecb514d6dd13e6/\n",
      "    Complete output (17 lines):\n",
      "    /bin/sh: mariadb_config: command not found\n",
      "    Traceback (most recent call last):\n",
      "      File \"<string>\", line 1, in <module>\n",
      "      File \"/private/var/folders/cj/qtbz9fvd3svc0x28yv2756mh0000gn/T/pip-install-73gppnef/mariadb_e37f523ebbce4316b4ecb514d6dd13e6/setup.py\", line 26, in <module>\n",
      "        cfg = get_config(options)\n",
      "      File \"/private/var/folders/cj/qtbz9fvd3svc0x28yv2756mh0000gn/T/pip-install-73gppnef/mariadb_e37f523ebbce4316b4ecb514d6dd13e6/mariadb_posix.py\", line 59, in get_config\n",
      "        cc_version = mariadb_config(config_prg, \"cc_version\")\n",
      "      File \"/private/var/folders/cj/qtbz9fvd3svc0x28yv2756mh0000gn/T/pip-install-73gppnef/mariadb_e37f523ebbce4316b4ecb514d6dd13e6/mariadb_posix.py\", line 28, in mariadb_config\n",
      "        raise EnvironmentError(\n",
      "    OSError: mariadb_config not found.\n",
      "    \n",
      "    Please make sure, that MariaDB Connector/C is installed on your system.\n",
      "    Either set the environment variable MARIADB_CONFIG or edit the configuration\n",
      "    file 'site.cfg' and set the 'mariadb_config option, which should point\n",
      "    to the mariadb_config utility.\n",
      "    The MariaDB Download website at <https://downloads.mariadb.com/Connectors/c/>\n",
      "    provides latest stable releease of Connector/C.\n",
      "    ----------------------------------------\u001b[0m\n",
      "\u001b[33mWARNING: Discarding https://files.pythonhosted.org/packages/4e/6d/0c9bf9668da4e86417f73573353d3659d222ef76a93ce1717fb33284cdea/mariadb-1.0.7.tar.gz#sha256=3c7eebcb94588b879069a00ae3894ef404f24ed350c40d633ccb98964bc1de55 (from https://pypi.org/simple/mariadb/) (requires-python:>=3.6). Command errored out with exit status 1: python setup.py egg_info Check the logs for full command output.\u001b[0m\n",
      "  Using cached mariadb-1.0.6.tar.gz (67 kB)\n",
      "\u001b[31m    ERROR: Command errored out with exit status 1:\n",
      "     command: /Users/michielbontenbal/opt/anaconda3/bin/python -c 'import io, os, sys, setuptools, tokenize; sys.argv[0] = '\"'\"'/private/var/folders/cj/qtbz9fvd3svc0x28yv2756mh0000gn/T/pip-install-73gppnef/mariadb_ff4fd49de2e7476787a10efd3f3a13fa/setup.py'\"'\"'; __file__='\"'\"'/private/var/folders/cj/qtbz9fvd3svc0x28yv2756mh0000gn/T/pip-install-73gppnef/mariadb_ff4fd49de2e7476787a10efd3f3a13fa/setup.py'\"'\"';f = getattr(tokenize, '\"'\"'open'\"'\"', open)(__file__) if os.path.exists(__file__) else io.StringIO('\"'\"'from setuptools import setup; setup()'\"'\"');code = f.read().replace('\"'\"'\\r\\n'\"'\"', '\"'\"'\\n'\"'\"');f.close();exec(compile(code, __file__, '\"'\"'exec'\"'\"'))' egg_info --egg-base /private/var/folders/cj/qtbz9fvd3svc0x28yv2756mh0000gn/T/pip-pip-egg-info-m3dagyhv\n",
      "         cwd: /private/var/folders/cj/qtbz9fvd3svc0x28yv2756mh0000gn/T/pip-install-73gppnef/mariadb_ff4fd49de2e7476787a10efd3f3a13fa/\n",
      "    Complete output (17 lines):\n",
      "    /bin/sh: mariadb_config: command not found\n",
      "    Traceback (most recent call last):\n",
      "      File \"<string>\", line 1, in <module>\n",
      "      File \"/private/var/folders/cj/qtbz9fvd3svc0x28yv2756mh0000gn/T/pip-install-73gppnef/mariadb_ff4fd49de2e7476787a10efd3f3a13fa/setup.py\", line 26, in <module>\n",
      "        cfg = get_config(options)\n",
      "      File \"/private/var/folders/cj/qtbz9fvd3svc0x28yv2756mh0000gn/T/pip-install-73gppnef/mariadb_ff4fd49de2e7476787a10efd3f3a13fa/mariadb_posix.py\", line 59, in get_config\n",
      "        cc_version = mariadb_config(config_prg, \"cc_version\")\n",
      "      File \"/private/var/folders/cj/qtbz9fvd3svc0x28yv2756mh0000gn/T/pip-install-73gppnef/mariadb_ff4fd49de2e7476787a10efd3f3a13fa/mariadb_posix.py\", line 28, in mariadb_config\n",
      "        raise EnvironmentError(\n",
      "    OSError: mariadb_config not found.\n",
      "    \n",
      "    Please make sure, that MariaDB Connector/C is installed on your system.\n",
      "    Either set the environment variable MARIADB_CONFIG or edit the configuration\n",
      "    file 'site.cfg' and set the 'mariadb_config option, which should point\n",
      "    to the mariadb_config utility.\n",
      "    The MariaDB Download website at <https://downloads.mariadb.com/Connectors/c/>\n",
      "    provides latest stable releease of Connector/C.\n",
      "    ----------------------------------------\u001b[0m\n",
      "\u001b[33mWARNING: Discarding https://files.pythonhosted.org/packages/4a/db/702321e2144ba88a4803591e855f64cafad821c0adb783934b74536d7609/mariadb-1.0.6.tar.gz#sha256=aeb692f0748e22a5aa7a15c30a2921a57de940008b3937a56840d3c2db257e1b (from https://pypi.org/simple/mariadb/) (requires-python:>=3.6). Command errored out with exit status 1: python setup.py egg_info Check the logs for full command output.\u001b[0m\n",
      "  Using cached mariadb-1.0.5.tar.gz (67 kB)\n"
     ]
    },
    {
     "name": "stdout",
     "output_type": "stream",
     "text": [
      "\u001b[31m    ERROR: Command errored out with exit status 1:\n",
      "     command: /Users/michielbontenbal/opt/anaconda3/bin/python -c 'import io, os, sys, setuptools, tokenize; sys.argv[0] = '\"'\"'/private/var/folders/cj/qtbz9fvd3svc0x28yv2756mh0000gn/T/pip-install-73gppnef/mariadb_35f9066967434b6ebffd830f2f8bd7da/setup.py'\"'\"'; __file__='\"'\"'/private/var/folders/cj/qtbz9fvd3svc0x28yv2756mh0000gn/T/pip-install-73gppnef/mariadb_35f9066967434b6ebffd830f2f8bd7da/setup.py'\"'\"';f = getattr(tokenize, '\"'\"'open'\"'\"', open)(__file__) if os.path.exists(__file__) else io.StringIO('\"'\"'from setuptools import setup; setup()'\"'\"');code = f.read().replace('\"'\"'\\r\\n'\"'\"', '\"'\"'\\n'\"'\"');f.close();exec(compile(code, __file__, '\"'\"'exec'\"'\"'))' egg_info --egg-base /private/var/folders/cj/qtbz9fvd3svc0x28yv2756mh0000gn/T/pip-pip-egg-info-r5duy5n_\n",
      "         cwd: /private/var/folders/cj/qtbz9fvd3svc0x28yv2756mh0000gn/T/pip-install-73gppnef/mariadb_35f9066967434b6ebffd830f2f8bd7da/\n",
      "    Complete output (17 lines):\n",
      "    /bin/sh: mariadb_config: command not found\n",
      "    Traceback (most recent call last):\n",
      "      File \"<string>\", line 1, in <module>\n",
      "      File \"/private/var/folders/cj/qtbz9fvd3svc0x28yv2756mh0000gn/T/pip-install-73gppnef/mariadb_35f9066967434b6ebffd830f2f8bd7da/setup.py\", line 26, in <module>\n",
      "        cfg = get_config(options)\n",
      "      File \"/private/var/folders/cj/qtbz9fvd3svc0x28yv2756mh0000gn/T/pip-install-73gppnef/mariadb_35f9066967434b6ebffd830f2f8bd7da/mariadb_posix.py\", line 59, in get_config\n",
      "        cc_version = mariadb_config(config_prg, \"cc_version\")\n",
      "      File \"/private/var/folders/cj/qtbz9fvd3svc0x28yv2756mh0000gn/T/pip-install-73gppnef/mariadb_35f9066967434b6ebffd830f2f8bd7da/mariadb_posix.py\", line 28, in mariadb_config\n",
      "        raise EnvironmentError(\n",
      "    OSError: mariadb_config not found.\n",
      "    \n",
      "    Please make sure, that MariaDB Connector/C is installed on your system.\n",
      "    Either set the environment variable MARIADB_CONFIG or edit the configuration\n",
      "    file 'site.cfg' and set the 'mariadb_config option, which should point\n",
      "    to the mariadb_config utility.\n",
      "    The MariaDB Download website at <https://downloads.mariadb.com/Connectors/c/>\n",
      "    provides latest stable releease of Connector/C.\n",
      "    ----------------------------------------\u001b[0m\n",
      "\u001b[33mWARNING: Discarding https://files.pythonhosted.org/packages/ea/a2/b15b7aa791f525e5adbd27a0f3cad3c287b1566c4abd78a214b9f2f7dd7a/mariadb-1.0.5.tar.gz#sha256=e639f98a881e9b25e446c564a8e52c6ef0bcf7abcf7d5a6749bc7ef5d36e504d (from https://pypi.org/simple/mariadb/) (requires-python:>=3.6). Command errored out with exit status 1: python setup.py egg_info Check the logs for full command output.\u001b[0m\n",
      "  Using cached mariadb-1.0.4.tar.gz (66 kB)\n",
      "\u001b[31m    ERROR: Command errored out with exit status 1:\n",
      "     command: /Users/michielbontenbal/opt/anaconda3/bin/python -c 'import io, os, sys, setuptools, tokenize; sys.argv[0] = '\"'\"'/private/var/folders/cj/qtbz9fvd3svc0x28yv2756mh0000gn/T/pip-install-73gppnef/mariadb_65d8af316a644444b105fddc5d58e823/setup.py'\"'\"'; __file__='\"'\"'/private/var/folders/cj/qtbz9fvd3svc0x28yv2756mh0000gn/T/pip-install-73gppnef/mariadb_65d8af316a644444b105fddc5d58e823/setup.py'\"'\"';f = getattr(tokenize, '\"'\"'open'\"'\"', open)(__file__) if os.path.exists(__file__) else io.StringIO('\"'\"'from setuptools import setup; setup()'\"'\"');code = f.read().replace('\"'\"'\\r\\n'\"'\"', '\"'\"'\\n'\"'\"');f.close();exec(compile(code, __file__, '\"'\"'exec'\"'\"'))' egg_info --egg-base /private/var/folders/cj/qtbz9fvd3svc0x28yv2756mh0000gn/T/pip-pip-egg-info-i9kau3b4\n",
      "         cwd: /private/var/folders/cj/qtbz9fvd3svc0x28yv2756mh0000gn/T/pip-install-73gppnef/mariadb_65d8af316a644444b105fddc5d58e823/\n",
      "    Complete output (17 lines):\n",
      "    /bin/sh: mariadb_config: command not found\n",
      "    Traceback (most recent call last):\n",
      "      File \"<string>\", line 1, in <module>\n",
      "      File \"/private/var/folders/cj/qtbz9fvd3svc0x28yv2756mh0000gn/T/pip-install-73gppnef/mariadb_65d8af316a644444b105fddc5d58e823/setup.py\", line 26, in <module>\n",
      "        cfg = get_config(options)\n",
      "      File \"/private/var/folders/cj/qtbz9fvd3svc0x28yv2756mh0000gn/T/pip-install-73gppnef/mariadb_65d8af316a644444b105fddc5d58e823/mariadb_posix.py\", line 59, in get_config\n",
      "        cc_version = mariadb_config(config_prg, \"cc_version\")\n",
      "      File \"/private/var/folders/cj/qtbz9fvd3svc0x28yv2756mh0000gn/T/pip-install-73gppnef/mariadb_65d8af316a644444b105fddc5d58e823/mariadb_posix.py\", line 28, in mariadb_config\n",
      "        raise EnvironmentError(\n",
      "    OSError: mariadb_config not found.\n",
      "    \n",
      "    Please make sure, that MariaDB Connector/C is installed on your system.\n",
      "    Either set the environment variable MARIADB_CONFIG or edit the configuration\n",
      "    file 'site.cfg' and set the 'mariadb_config option, which should point\n",
      "    to the mariadb_config utility.\n",
      "    The MariaDB Download website at <https://downloads.mariadb.com/Connectors/c/>\n",
      "    provides latest stable releease of Connector/C.\n",
      "    ----------------------------------------\u001b[0m\n",
      "\u001b[33mWARNING: Discarding https://files.pythonhosted.org/packages/f5/c5/a932f8c81f8605abc737f5d097fecb5e314040e69305dc9379d3aad35f09/mariadb-1.0.4.tar.gz#sha256=0f5ab2fd83aa5996f0c6bc1ccbcaf80de3aa6eb28ca20a8ba3c670593de4d71a (from https://pypi.org/simple/mariadb/) (requires-python:>=3.6). Command errored out with exit status 1: python setup.py egg_info Check the logs for full command output.\u001b[0m\n",
      "  Using cached mariadb-1.0.3.tar.gz (66 kB)\n",
      "\u001b[31m    ERROR: Command errored out with exit status 1:\n",
      "     command: /Users/michielbontenbal/opt/anaconda3/bin/python -c 'import io, os, sys, setuptools, tokenize; sys.argv[0] = '\"'\"'/private/var/folders/cj/qtbz9fvd3svc0x28yv2756mh0000gn/T/pip-install-73gppnef/mariadb_57a93c8b04554cf3bd3adebbfbd2b243/setup.py'\"'\"'; __file__='\"'\"'/private/var/folders/cj/qtbz9fvd3svc0x28yv2756mh0000gn/T/pip-install-73gppnef/mariadb_57a93c8b04554cf3bd3adebbfbd2b243/setup.py'\"'\"';f = getattr(tokenize, '\"'\"'open'\"'\"', open)(__file__) if os.path.exists(__file__) else io.StringIO('\"'\"'from setuptools import setup; setup()'\"'\"');code = f.read().replace('\"'\"'\\r\\n'\"'\"', '\"'\"'\\n'\"'\"');f.close();exec(compile(code, __file__, '\"'\"'exec'\"'\"'))' egg_info --egg-base /private/var/folders/cj/qtbz9fvd3svc0x28yv2756mh0000gn/T/pip-pip-egg-info-bbsckisl\n",
      "         cwd: /private/var/folders/cj/qtbz9fvd3svc0x28yv2756mh0000gn/T/pip-install-73gppnef/mariadb_57a93c8b04554cf3bd3adebbfbd2b243/\n",
      "    Complete output (17 lines):\n",
      "    /bin/sh: mariadb_config: command not found\n",
      "    Traceback (most recent call last):\n",
      "      File \"<string>\", line 1, in <module>\n",
      "      File \"/private/var/folders/cj/qtbz9fvd3svc0x28yv2756mh0000gn/T/pip-install-73gppnef/mariadb_57a93c8b04554cf3bd3adebbfbd2b243/setup.py\", line 26, in <module>\n",
      "        cfg = get_config(options)\n",
      "      File \"/private/var/folders/cj/qtbz9fvd3svc0x28yv2756mh0000gn/T/pip-install-73gppnef/mariadb_57a93c8b04554cf3bd3adebbfbd2b243/mariadb_posix.py\", line 59, in get_config\n",
      "        cc_version = mariadb_config(config_prg, \"cc_version\")\n",
      "      File \"/private/var/folders/cj/qtbz9fvd3svc0x28yv2756mh0000gn/T/pip-install-73gppnef/mariadb_57a93c8b04554cf3bd3adebbfbd2b243/mariadb_posix.py\", line 28, in mariadb_config\n",
      "        raise EnvironmentError(\n",
      "    OSError: mariadb_config not found.\n",
      "    \n",
      "    Please make sure, that MariaDB Connector/C is installed on your system.\n",
      "    Either set the environment variable MARIADB_CONFIG or edit the configuration\n",
      "    file 'site.cfg' and set the 'mariadb_config option, which should point\n",
      "    to the mariadb_config utility.\n",
      "    The MariaDB Download website at <https://downloads.mariadb.com/Connectors/c/>\n",
      "    provides latest stable releease of Connector/C.\n",
      "    ----------------------------------------\u001b[0m\n",
      "\u001b[33mWARNING: Discarding https://files.pythonhosted.org/packages/ea/72/de31a4a6bd847fdfe8b1f28d2615ea3062b836fe3367f703c91bd89580af/mariadb-1.0.3.tar.gz#sha256=72ecc86515986d9023b1fe77d12bc6f394efba502153b3271b1ba27c463efb56 (from https://pypi.org/simple/mariadb/) (requires-python:>=3.6). Command errored out with exit status 1: python setup.py egg_info Check the logs for full command output.\u001b[0m\n",
      "  Using cached mariadb-1.0.2.tar.gz (65 kB)\n",
      "\u001b[31m    ERROR: Command errored out with exit status 1:\n",
      "     command: /Users/michielbontenbal/opt/anaconda3/bin/python -c 'import io, os, sys, setuptools, tokenize; sys.argv[0] = '\"'\"'/private/var/folders/cj/qtbz9fvd3svc0x28yv2756mh0000gn/T/pip-install-73gppnef/mariadb_0ec7fd3ccb454323aa2ed49290cbfbf6/setup.py'\"'\"'; __file__='\"'\"'/private/var/folders/cj/qtbz9fvd3svc0x28yv2756mh0000gn/T/pip-install-73gppnef/mariadb_0ec7fd3ccb454323aa2ed49290cbfbf6/setup.py'\"'\"';f = getattr(tokenize, '\"'\"'open'\"'\"', open)(__file__) if os.path.exists(__file__) else io.StringIO('\"'\"'from setuptools import setup; setup()'\"'\"');code = f.read().replace('\"'\"'\\r\\n'\"'\"', '\"'\"'\\n'\"'\"');f.close();exec(compile(code, __file__, '\"'\"'exec'\"'\"'))' egg_info --egg-base /private/var/folders/cj/qtbz9fvd3svc0x28yv2756mh0000gn/T/pip-pip-egg-info-sgjj4ct0\n",
      "         cwd: /private/var/folders/cj/qtbz9fvd3svc0x28yv2756mh0000gn/T/pip-install-73gppnef/mariadb_0ec7fd3ccb454323aa2ed49290cbfbf6/\n",
      "    Complete output (17 lines):\n",
      "    /bin/sh: mariadb_config: command not found\n",
      "    Traceback (most recent call last):\n",
      "      File \"<string>\", line 1, in <module>\n",
      "      File \"/private/var/folders/cj/qtbz9fvd3svc0x28yv2756mh0000gn/T/pip-install-73gppnef/mariadb_0ec7fd3ccb454323aa2ed49290cbfbf6/setup.py\", line 26, in <module>\n",
      "        cfg = get_config(options)\n",
      "      File \"/private/var/folders/cj/qtbz9fvd3svc0x28yv2756mh0000gn/T/pip-install-73gppnef/mariadb_0ec7fd3ccb454323aa2ed49290cbfbf6/mariadb_posix.py\", line 59, in get_config\n",
      "        cc_version = mariadb_config(config_prg, \"cc_version\")\n",
      "      File \"/private/var/folders/cj/qtbz9fvd3svc0x28yv2756mh0000gn/T/pip-install-73gppnef/mariadb_0ec7fd3ccb454323aa2ed49290cbfbf6/mariadb_posix.py\", line 28, in mariadb_config\n",
      "        raise EnvironmentError(\n",
      "    OSError: mariadb_config not found.\n",
      "    \n",
      "    Please make sure, that MariaDB Connector/C is installed on your system.\n",
      "    Either set the environment variable MARIADB_CONFIG or edit the configuration\n",
      "    file 'site.cfg' and set the 'mariadb_config option, which should point\n",
      "    to the mariadb_config utility.\n",
      "    The MariaDB Download website at <https://downloads.mariadb.com/Connectors/c/>\n",
      "    provides latest stable releease of Connector/C.\n",
      "    ----------------------------------------\u001b[0m\n",
      "\u001b[33mWARNING: Discarding https://files.pythonhosted.org/packages/30/87/76711e376b8e84e293dac5fd42d6fdd44739630aac339c46ea5b234485b6/mariadb-1.0.2.tar.gz#sha256=fe975cb43105bf18751a40cf2f7a3008436dfb871e2f200e8eba78139afe222f (from https://pypi.org/simple/mariadb/) (requires-python:>=3.6). Command errored out with exit status 1: python setup.py egg_info Check the logs for full command output.\u001b[0m\n",
      "  Using cached mariadb-1.0.1.tar.gz (65 kB)\n"
     ]
    },
    {
     "name": "stdout",
     "output_type": "stream",
     "text": [
      "\u001b[31m    ERROR: Command errored out with exit status 1:\n",
      "     command: /Users/michielbontenbal/opt/anaconda3/bin/python -c 'import io, os, sys, setuptools, tokenize; sys.argv[0] = '\"'\"'/private/var/folders/cj/qtbz9fvd3svc0x28yv2756mh0000gn/T/pip-install-73gppnef/mariadb_2899af2e741644b2bf2a6c90f31039e3/setup.py'\"'\"'; __file__='\"'\"'/private/var/folders/cj/qtbz9fvd3svc0x28yv2756mh0000gn/T/pip-install-73gppnef/mariadb_2899af2e741644b2bf2a6c90f31039e3/setup.py'\"'\"';f = getattr(tokenize, '\"'\"'open'\"'\"', open)(__file__) if os.path.exists(__file__) else io.StringIO('\"'\"'from setuptools import setup; setup()'\"'\"');code = f.read().replace('\"'\"'\\r\\n'\"'\"', '\"'\"'\\n'\"'\"');f.close();exec(compile(code, __file__, '\"'\"'exec'\"'\"'))' egg_info --egg-base /private/var/folders/cj/qtbz9fvd3svc0x28yv2756mh0000gn/T/pip-pip-egg-info-d4ny5rru\n",
      "         cwd: /private/var/folders/cj/qtbz9fvd3svc0x28yv2756mh0000gn/T/pip-install-73gppnef/mariadb_2899af2e741644b2bf2a6c90f31039e3/\n",
      "    Complete output (12 lines):\n",
      "    /bin/sh: mariadb_config: command not found\n",
      "    Traceback (most recent call last):\n",
      "      File \"<string>\", line 1, in <module>\n",
      "      File \"/private/var/folders/cj/qtbz9fvd3svc0x28yv2756mh0000gn/T/pip-install-73gppnef/mariadb_2899af2e741644b2bf2a6c90f31039e3/setup.py\", line 26, in <module>\n",
      "        cfg = get_config(options)\n",
      "      File \"/private/var/folders/cj/qtbz9fvd3svc0x28yv2756mh0000gn/T/pip-install-73gppnef/mariadb_2899af2e741644b2bf2a6c90f31039e3/mariadb_posix.py\", line 51, in get_config\n",
      "        cc_version = mariadb_config(config_prg, \"cc_version\")\n",
      "      File \"/private/var/folders/cj/qtbz9fvd3svc0x28yv2756mh0000gn/T/pip-install-73gppnef/mariadb_2899af2e741644b2bf2a6c90f31039e3/mariadb_posix.py\", line 28, in mariadb_config\n",
      "        raise EnvironmentError(\n",
      "    OSError: mariadb_config not found.\n",
      "    Please make sure, that MariaDB Connector/C is installed on your system, edit the configuration file 'site.cfg' and set the 'mariadb_config'\n",
      "    option, which should point to the mariadb_config utility.\n",
      "    ----------------------------------------\u001b[0m\n",
      "\u001b[33mWARNING: Discarding https://files.pythonhosted.org/packages/15/73/250a30543f9987af2e3f7856f29917fa22580cd6b457b8e2df0d6d80b3f3/mariadb-1.0.1.tar.gz#sha256=c80ddede70efa11d34fe8a5bb59774d8c431926e4a2f7b66c7bf55611229d857 (from https://pypi.org/simple/mariadb/) (requires-python:>=3.6). Command errored out with exit status 1: python setup.py egg_info Check the logs for full command output.\u001b[0m\n",
      "  Using cached mariadb-1.0.0.tar.gz (78 kB)\n",
      "\u001b[31m    ERROR: Command errored out with exit status 1:\n",
      "     command: /Users/michielbontenbal/opt/anaconda3/bin/python -c 'import io, os, sys, setuptools, tokenize; sys.argv[0] = '\"'\"'/private/var/folders/cj/qtbz9fvd3svc0x28yv2756mh0000gn/T/pip-install-73gppnef/mariadb_026eb71adcbc4176afcba459dfb7b490/setup.py'\"'\"'; __file__='\"'\"'/private/var/folders/cj/qtbz9fvd3svc0x28yv2756mh0000gn/T/pip-install-73gppnef/mariadb_026eb71adcbc4176afcba459dfb7b490/setup.py'\"'\"';f = getattr(tokenize, '\"'\"'open'\"'\"', open)(__file__) if os.path.exists(__file__) else io.StringIO('\"'\"'from setuptools import setup; setup()'\"'\"');code = f.read().replace('\"'\"'\\r\\n'\"'\"', '\"'\"'\\n'\"'\"');f.close();exec(compile(code, __file__, '\"'\"'exec'\"'\"'))' egg_info --egg-base /private/var/folders/cj/qtbz9fvd3svc0x28yv2756mh0000gn/T/pip-pip-egg-info-qj5ji3ya\n",
      "         cwd: /private/var/folders/cj/qtbz9fvd3svc0x28yv2756mh0000gn/T/pip-install-73gppnef/mariadb_026eb71adcbc4176afcba459dfb7b490/\n",
      "    Complete output (12 lines):\n",
      "    /bin/sh: mariadb_config: command not found\n",
      "    Traceback (most recent call last):\n",
      "      File \"<string>\", line 1, in <module>\n",
      "      File \"/private/var/folders/cj/qtbz9fvd3svc0x28yv2756mh0000gn/T/pip-install-73gppnef/mariadb_026eb71adcbc4176afcba459dfb7b490/setup.py\", line 26, in <module>\n",
      "        cfg = get_config(options)\n",
      "      File \"/private/var/folders/cj/qtbz9fvd3svc0x28yv2756mh0000gn/T/pip-install-73gppnef/mariadb_026eb71adcbc4176afcba459dfb7b490/mariadb_posix.py\", line 49, in get_config\n",
      "        cc_version = mariadb_config(config_prg, \"cc_version\")\n",
      "      File \"/private/var/folders/cj/qtbz9fvd3svc0x28yv2756mh0000gn/T/pip-install-73gppnef/mariadb_026eb71adcbc4176afcba459dfb7b490/mariadb_posix.py\", line 26, in mariadb_config\n",
      "        raise EnvironmentError(\n",
      "    OSError: mariadb_config not found.\n",
      "    Please make sure, that MariaDB Connector/C is installed on your system, edit the configuration file 'site.cfg' and set the 'mariadb_config'\n",
      "    option, which should point to the mariadb_config utility.\n",
      "    ----------------------------------------\u001b[0m\n",
      "\u001b[33mWARNING: Discarding https://files.pythonhosted.org/packages/8f/c9/7050899dc1066409a17e1147d3afe1b078e582afdb755c6d3cb9c9a5c3ab/mariadb-1.0.0.tar.gz#sha256=3feeea1e103acb60dacce7d828236e5f20b334dc04b571847d80823d37671db3 (from https://pypi.org/simple/mariadb/) (requires-python:>=3.6). Command errored out with exit status 1: python setup.py egg_info Check the logs for full command output.\u001b[0m\n",
      "  Using cached mariadb-0.9.59.tar.gz (79 kB)\n",
      "\u001b[31m    ERROR: Command errored out with exit status 1:\n",
      "     command: /Users/michielbontenbal/opt/anaconda3/bin/python -c 'import io, os, sys, setuptools, tokenize; sys.argv[0] = '\"'\"'/private/var/folders/cj/qtbz9fvd3svc0x28yv2756mh0000gn/T/pip-install-73gppnef/mariadb_2b924e9ed2684a4685a829f476420c74/setup.py'\"'\"'; __file__='\"'\"'/private/var/folders/cj/qtbz9fvd3svc0x28yv2756mh0000gn/T/pip-install-73gppnef/mariadb_2b924e9ed2684a4685a829f476420c74/setup.py'\"'\"';f = getattr(tokenize, '\"'\"'open'\"'\"', open)(__file__) if os.path.exists(__file__) else io.StringIO('\"'\"'from setuptools import setup; setup()'\"'\"');code = f.read().replace('\"'\"'\\r\\n'\"'\"', '\"'\"'\\n'\"'\"');f.close();exec(compile(code, __file__, '\"'\"'exec'\"'\"'))' egg_info --egg-base /private/var/folders/cj/qtbz9fvd3svc0x28yv2756mh0000gn/T/pip-pip-egg-info-jupwc6g9\n",
      "         cwd: /private/var/folders/cj/qtbz9fvd3svc0x28yv2756mh0000gn/T/pip-install-73gppnef/mariadb_2b924e9ed2684a4685a829f476420c74/\n",
      "    Complete output (12 lines):\n",
      "    /bin/sh: mariadb_config: command not found\n",
      "    Traceback (most recent call last):\n",
      "      File \"<string>\", line 1, in <module>\n",
      "      File \"/private/var/folders/cj/qtbz9fvd3svc0x28yv2756mh0000gn/T/pip-install-73gppnef/mariadb_2b924e9ed2684a4685a829f476420c74/setup.py\", line 26, in <module>\n",
      "        cfg = get_config(options)\n",
      "      File \"/private/var/folders/cj/qtbz9fvd3svc0x28yv2756mh0000gn/T/pip-install-73gppnef/mariadb_2b924e9ed2684a4685a829f476420c74/mariadb_posix.py\", line 49, in get_config\n",
      "        cc_version = mariadb_config(config_prg, \"cc_version\")\n",
      "      File \"/private/var/folders/cj/qtbz9fvd3svc0x28yv2756mh0000gn/T/pip-install-73gppnef/mariadb_2b924e9ed2684a4685a829f476420c74/mariadb_posix.py\", line 26, in mariadb_config\n",
      "        raise EnvironmentError(\n",
      "    OSError: mariadb_config not found.\n",
      "    Please make sure, that MariaDB Connector/C is installed on your system, edit the configuration file 'site.cfg' and set the 'mariadb_config'\n",
      "    option, which should point to the mariadb_config utility.\n",
      "    ----------------------------------------\u001b[0m\n",
      "\u001b[33mWARNING: Discarding https://files.pythonhosted.org/packages/ca/55/872c5b1fb3d00c0f690011d3e62d8c27e2be043e6b8efae5636620dee2e6/mariadb-0.9.59.tar.gz#sha256=7a952b9a29e37757976afe791f067fef21ebcbd416a486b8d77ab29da0b16172 (from https://pypi.org/simple/mariadb/) (requires-python:>=3.6). Command errored out with exit status 1: python setup.py egg_info Check the logs for full command output.\u001b[0m\n",
      "  Using cached mariadb-0.9.58.tar.gz (79 kB)\n",
      "\u001b[31m    ERROR: Command errored out with exit status 1:\n",
      "     command: /Users/michielbontenbal/opt/anaconda3/bin/python -c 'import io, os, sys, setuptools, tokenize; sys.argv[0] = '\"'\"'/private/var/folders/cj/qtbz9fvd3svc0x28yv2756mh0000gn/T/pip-install-73gppnef/mariadb_60eae282724e4d89a215c1224b811517/setup.py'\"'\"'; __file__='\"'\"'/private/var/folders/cj/qtbz9fvd3svc0x28yv2756mh0000gn/T/pip-install-73gppnef/mariadb_60eae282724e4d89a215c1224b811517/setup.py'\"'\"';f = getattr(tokenize, '\"'\"'open'\"'\"', open)(__file__) if os.path.exists(__file__) else io.StringIO('\"'\"'from setuptools import setup; setup()'\"'\"');code = f.read().replace('\"'\"'\\r\\n'\"'\"', '\"'\"'\\n'\"'\"');f.close();exec(compile(code, __file__, '\"'\"'exec'\"'\"'))' egg_info --egg-base /private/var/folders/cj/qtbz9fvd3svc0x28yv2756mh0000gn/T/pip-pip-egg-info-itpmjpxq\n",
      "         cwd: /private/var/folders/cj/qtbz9fvd3svc0x28yv2756mh0000gn/T/pip-install-73gppnef/mariadb_60eae282724e4d89a215c1224b811517/\n",
      "    Complete output (12 lines):\n",
      "    /bin/sh: mariadb_config: command not found\n",
      "    Traceback (most recent call last):\n",
      "      File \"<string>\", line 1, in <module>\n",
      "      File \"/private/var/folders/cj/qtbz9fvd3svc0x28yv2756mh0000gn/T/pip-install-73gppnef/mariadb_60eae282724e4d89a215c1224b811517/setup.py\", line 24, in <module>\n",
      "        cfg = get_config(options)\n",
      "      File \"/private/var/folders/cj/qtbz9fvd3svc0x28yv2756mh0000gn/T/pip-install-73gppnef/mariadb_60eae282724e4d89a215c1224b811517/mariadb_posix.py\", line 49, in get_config\n",
      "        cc_version = mariadb_config(config_prg, \"cc_version\")\n",
      "      File \"/private/var/folders/cj/qtbz9fvd3svc0x28yv2756mh0000gn/T/pip-install-73gppnef/mariadb_60eae282724e4d89a215c1224b811517/mariadb_posix.py\", line 26, in mariadb_config\n",
      "        raise EnvironmentError(\n",
      "    OSError: mariadb_config not found.\n",
      "    Please make sure, that MariaDB Connector/C is installed on your system, edit the configuration file 'site.cfg' and set the 'mariadb_config'\n",
      "    option, which should point to the mariadb_config utility.\n",
      "    ----------------------------------------\u001b[0m\n",
      "\u001b[33mWARNING: Discarding https://files.pythonhosted.org/packages/1e/18/f3ecade20a1bb45ace7b002b98ff8d46a72aa7895301ebf3d69ddccb7806/mariadb-0.9.58.tar.gz#sha256=4c3c8adc3957242f196fb040d24feb99b544caa85ae262e5d911b4a5444de6a7 (from https://pypi.org/simple/mariadb/) (requires-python:>=3.6). Command errored out with exit status 1: python setup.py egg_info Check the logs for full command output.\u001b[0m\n",
      "  Using cached mariadb-0.9.57.tar.gz (76 kB)\n"
     ]
    },
    {
     "name": "stdout",
     "output_type": "stream",
     "text": [
      "\u001b[31m    ERROR: Command errored out with exit status 1:\n",
      "     command: /Users/michielbontenbal/opt/anaconda3/bin/python -c 'import io, os, sys, setuptools, tokenize; sys.argv[0] = '\"'\"'/private/var/folders/cj/qtbz9fvd3svc0x28yv2756mh0000gn/T/pip-install-73gppnef/mariadb_6241dfb1a8184620b3a34a4015cf86dc/setup.py'\"'\"'; __file__='\"'\"'/private/var/folders/cj/qtbz9fvd3svc0x28yv2756mh0000gn/T/pip-install-73gppnef/mariadb_6241dfb1a8184620b3a34a4015cf86dc/setup.py'\"'\"';f = getattr(tokenize, '\"'\"'open'\"'\"', open)(__file__) if os.path.exists(__file__) else io.StringIO('\"'\"'from setuptools import setup; setup()'\"'\"');code = f.read().replace('\"'\"'\\r\\n'\"'\"', '\"'\"'\\n'\"'\"');f.close();exec(compile(code, __file__, '\"'\"'exec'\"'\"'))' egg_info --egg-base /private/var/folders/cj/qtbz9fvd3svc0x28yv2756mh0000gn/T/pip-pip-egg-info-asmnim8z\n",
      "         cwd: /private/var/folders/cj/qtbz9fvd3svc0x28yv2756mh0000gn/T/pip-install-73gppnef/mariadb_6241dfb1a8184620b3a34a4015cf86dc/\n",
      "    Complete output (12 lines):\n",
      "    /bin/sh: mariadb_config: command not found\n",
      "    Traceback (most recent call last):\n",
      "      File \"<string>\", line 1, in <module>\n",
      "      File \"/private/var/folders/cj/qtbz9fvd3svc0x28yv2756mh0000gn/T/pip-install-73gppnef/mariadb_6241dfb1a8184620b3a34a4015cf86dc/setup.py\", line 24, in <module>\n",
      "        cfg = get_config(options)\n",
      "      File \"/private/var/folders/cj/qtbz9fvd3svc0x28yv2756mh0000gn/T/pip-install-73gppnef/mariadb_6241dfb1a8184620b3a34a4015cf86dc/mariadb_posix.py\", line 49, in get_config\n",
      "        cc_version = mariadb_config(config_prg, \"cc_version\")\n",
      "      File \"/private/var/folders/cj/qtbz9fvd3svc0x28yv2756mh0000gn/T/pip-install-73gppnef/mariadb_6241dfb1a8184620b3a34a4015cf86dc/mariadb_posix.py\", line 26, in mariadb_config\n",
      "        raise EnvironmentError(\n",
      "    OSError: mariadb_config not found.\n",
      "    Please make sure, that MariaDB Connector/C is installed on your system, edit the configuration file 'site.cfg' and set the 'mariadb_config'\n",
      "    option, which should point to the mariadb_config utility.\n",
      "    ----------------------------------------\u001b[0m\n",
      "\u001b[33mWARNING: Discarding https://files.pythonhosted.org/packages/8b/0a/f1691cd95ab780fabcc891ceb71a64a101d18aadb8cf07a86ef9eb9f823c/mariadb-0.9.57.tar.gz#sha256=e5b33d95121eef76137219ce02478b1ba06e900f055cf7dde7c748c53c5ff377 (from https://pypi.org/simple/mariadb/) (requires-python:>=3.6). Command errored out with exit status 1: python setup.py egg_info Check the logs for full command output.\u001b[0m\n",
      "  Using cached mariadb-0.9.56.tar.gz (76 kB)\n",
      "\u001b[31m    ERROR: Command errored out with exit status 1:\n",
      "     command: /Users/michielbontenbal/opt/anaconda3/bin/python -c 'import io, os, sys, setuptools, tokenize; sys.argv[0] = '\"'\"'/private/var/folders/cj/qtbz9fvd3svc0x28yv2756mh0000gn/T/pip-install-73gppnef/mariadb_2786c0c25dcb4983afeca40f028d7511/setup.py'\"'\"'; __file__='\"'\"'/private/var/folders/cj/qtbz9fvd3svc0x28yv2756mh0000gn/T/pip-install-73gppnef/mariadb_2786c0c25dcb4983afeca40f028d7511/setup.py'\"'\"';f = getattr(tokenize, '\"'\"'open'\"'\"', open)(__file__) if os.path.exists(__file__) else io.StringIO('\"'\"'from setuptools import setup; setup()'\"'\"');code = f.read().replace('\"'\"'\\r\\n'\"'\"', '\"'\"'\\n'\"'\"');f.close();exec(compile(code, __file__, '\"'\"'exec'\"'\"'))' egg_info --egg-base /private/var/folders/cj/qtbz9fvd3svc0x28yv2756mh0000gn/T/pip-pip-egg-info-8wxdt5_y\n",
      "         cwd: /private/var/folders/cj/qtbz9fvd3svc0x28yv2756mh0000gn/T/pip-install-73gppnef/mariadb_2786c0c25dcb4983afeca40f028d7511/\n",
      "    Complete output (12 lines):\n",
      "    /bin/sh: mariadb_config: command not found\n",
      "    Traceback (most recent call last):\n",
      "      File \"<string>\", line 1, in <module>\n",
      "      File \"/private/var/folders/cj/qtbz9fvd3svc0x28yv2756mh0000gn/T/pip-install-73gppnef/mariadb_2786c0c25dcb4983afeca40f028d7511/setup.py\", line 24, in <module>\n",
      "        cfg = get_config(options)\n",
      "      File \"/private/var/folders/cj/qtbz9fvd3svc0x28yv2756mh0000gn/T/pip-install-73gppnef/mariadb_2786c0c25dcb4983afeca40f028d7511/mariadb_posix.py\", line 49, in get_config\n",
      "        cc_version = mariadb_config(config_prg, \"cc_version\")\n",
      "      File \"/private/var/folders/cj/qtbz9fvd3svc0x28yv2756mh0000gn/T/pip-install-73gppnef/mariadb_2786c0c25dcb4983afeca40f028d7511/mariadb_posix.py\", line 26, in mariadb_config\n",
      "        raise EnvironmentError(\n",
      "    OSError: mariadb_config not found.\n",
      "    Please make sure, that MariaDB Connector/C is installed on your system, edit the configuration file 'site.cfg' and set the 'mariadb_config'\n",
      "    option, which should point to the mariadb_config utility.\n",
      "    ----------------------------------------\u001b[0m\n",
      "\u001b[33mWARNING: Discarding https://files.pythonhosted.org/packages/ba/8a/8a8db9b28afe901c51c171ef96bee7706c8875152a81974201b77a0a5e9e/mariadb-0.9.56.tar.gz#sha256=c66777108b94c3b4645b97bee25d557871bf0285531db2ae31788c8248bd52b9 (from https://pypi.org/simple/mariadb/) (requires-python:>=3.6). Command errored out with exit status 1: python setup.py egg_info Check the logs for full command output.\u001b[0m\n",
      "  Using cached mariadb-0.9.55.tar.gz (76 kB)\n",
      "\u001b[31m    ERROR: Command errored out with exit status 1:\n",
      "     command: /Users/michielbontenbal/opt/anaconda3/bin/python -c 'import io, os, sys, setuptools, tokenize; sys.argv[0] = '\"'\"'/private/var/folders/cj/qtbz9fvd3svc0x28yv2756mh0000gn/T/pip-install-73gppnef/mariadb_94fba0abaeae4389bd147485dfa80335/setup.py'\"'\"'; __file__='\"'\"'/private/var/folders/cj/qtbz9fvd3svc0x28yv2756mh0000gn/T/pip-install-73gppnef/mariadb_94fba0abaeae4389bd147485dfa80335/setup.py'\"'\"';f = getattr(tokenize, '\"'\"'open'\"'\"', open)(__file__) if os.path.exists(__file__) else io.StringIO('\"'\"'from setuptools import setup; setup()'\"'\"');code = f.read().replace('\"'\"'\\r\\n'\"'\"', '\"'\"'\\n'\"'\"');f.close();exec(compile(code, __file__, '\"'\"'exec'\"'\"'))' egg_info --egg-base /private/var/folders/cj/qtbz9fvd3svc0x28yv2756mh0000gn/T/pip-pip-egg-info-gwabtsx1\n",
      "         cwd: /private/var/folders/cj/qtbz9fvd3svc0x28yv2756mh0000gn/T/pip-install-73gppnef/mariadb_94fba0abaeae4389bd147485dfa80335/\n",
      "    Complete output (12 lines):\n",
      "    /bin/sh: mariadb_config: command not found\n",
      "    Traceback (most recent call last):\n",
      "      File \"<string>\", line 1, in <module>\n",
      "      File \"/private/var/folders/cj/qtbz9fvd3svc0x28yv2756mh0000gn/T/pip-install-73gppnef/mariadb_94fba0abaeae4389bd147485dfa80335/setup.py\", line 24, in <module>\n",
      "        cfg = get_config(options)\n",
      "      File \"/private/var/folders/cj/qtbz9fvd3svc0x28yv2756mh0000gn/T/pip-install-73gppnef/mariadb_94fba0abaeae4389bd147485dfa80335/mariadb_posix.py\", line 49, in get_config\n",
      "        cc_version = mariadb_config(config_prg, \"cc_version\")\n",
      "      File \"/private/var/folders/cj/qtbz9fvd3svc0x28yv2756mh0000gn/T/pip-install-73gppnef/mariadb_94fba0abaeae4389bd147485dfa80335/mariadb_posix.py\", line 26, in mariadb_config\n",
      "        raise EnvironmentError(\n",
      "    OSError: mariadb_config not found.\n",
      "    Please make sure, that MariaDB Connector/C is installed on your system, edit the configuration file 'site.cfg' and set the 'mariadb_config'\n",
      "    option, which should point to the mariadb_config utility.\n",
      "    ----------------------------------------\u001b[0m\n",
      "\u001b[33mWARNING: Discarding https://files.pythonhosted.org/packages/7d/58/9277c227669bae5c3605eea5a1f136f199188b4b7be4b4e2a96f96c84877/mariadb-0.9.55.tar.gz#sha256=c3e2d1d7b8eb975e64242fc0ebf4b0cfe096cd3df5e94c82894f4d53dfce7913 (from https://pypi.org/simple/mariadb/) (requires-python:>=3.6). Command errored out with exit status 1: python setup.py egg_info Check the logs for full command output.\u001b[0m\n",
      "  Using cached mariadb-0.9.54.tar.gz (72 kB)\n",
      "\u001b[31m    ERROR: Command errored out with exit status 1:\n",
      "     command: /Users/michielbontenbal/opt/anaconda3/bin/python -c 'import io, os, sys, setuptools, tokenize; sys.argv[0] = '\"'\"'/private/var/folders/cj/qtbz9fvd3svc0x28yv2756mh0000gn/T/pip-install-73gppnef/mariadb_06cd8b30cbec40cb8a09a157b22739eb/setup.py'\"'\"'; __file__='\"'\"'/private/var/folders/cj/qtbz9fvd3svc0x28yv2756mh0000gn/T/pip-install-73gppnef/mariadb_06cd8b30cbec40cb8a09a157b22739eb/setup.py'\"'\"';f = getattr(tokenize, '\"'\"'open'\"'\"', open)(__file__) if os.path.exists(__file__) else io.StringIO('\"'\"'from setuptools import setup; setup()'\"'\"');code = f.read().replace('\"'\"'\\r\\n'\"'\"', '\"'\"'\\n'\"'\"');f.close();exec(compile(code, __file__, '\"'\"'exec'\"'\"'))' egg_info --egg-base /private/var/folders/cj/qtbz9fvd3svc0x28yv2756mh0000gn/T/pip-pip-egg-info-w7khgdxi\n",
      "         cwd: /private/var/folders/cj/qtbz9fvd3svc0x28yv2756mh0000gn/T/pip-install-73gppnef/mariadb_06cd8b30cbec40cb8a09a157b22739eb/\n",
      "    Complete output (12 lines):\n",
      "    /bin/sh: mariadb_config: command not found\n",
      "    Traceback (most recent call last):\n",
      "      File \"<string>\", line 1, in <module>\n",
      "      File \"/private/var/folders/cj/qtbz9fvd3svc0x28yv2756mh0000gn/T/pip-install-73gppnef/mariadb_06cd8b30cbec40cb8a09a157b22739eb/setup.py\", line 24, in <module>\n",
      "        cfg = get_config(options)\n",
      "      File \"/private/var/folders/cj/qtbz9fvd3svc0x28yv2756mh0000gn/T/pip-install-73gppnef/mariadb_06cd8b30cbec40cb8a09a157b22739eb/mariadb_posix.py\", line 49, in get_config\n",
      "        cc_version = mariadb_config(config_prg, \"cc_version\")\n",
      "      File \"/private/var/folders/cj/qtbz9fvd3svc0x28yv2756mh0000gn/T/pip-install-73gppnef/mariadb_06cd8b30cbec40cb8a09a157b22739eb/mariadb_posix.py\", line 26, in mariadb_config\n",
      "        raise EnvironmentError(\n",
      "    OSError: mariadb_config not found.\n",
      "    Please make sure, that MariaDB Connector/C is installed on your system, edit the configuration file 'site.cfg' and set the 'mariadb_config'\n",
      "    option, which should point to the mariadb_config utility.\n",
      "    ----------------------------------------\u001b[0m\n",
      "\u001b[33mWARNING: Discarding https://files.pythonhosted.org/packages/99/16/d6cc180f0075ae486903003c201d7eab183caa4bdba3faec20d63c3d69e9/mariadb-0.9.54.tar.gz#sha256=2e8706f0d8f4024cf94a1255130090100ca74a44c85d4d801b227f10bfc56a86 (from https://pypi.org/simple/mariadb/) (requires-python:>=3.6). Command errored out with exit status 1: python setup.py egg_info Check the logs for full command output.\u001b[0m\n",
      "  Using cached mariadb-0.9.53.tar.gz (70 kB)\n"
     ]
    },
    {
     "name": "stdout",
     "output_type": "stream",
     "text": [
      "\u001b[31m    ERROR: Command errored out with exit status 1:\n",
      "     command: /Users/michielbontenbal/opt/anaconda3/bin/python -c 'import io, os, sys, setuptools, tokenize; sys.argv[0] = '\"'\"'/private/var/folders/cj/qtbz9fvd3svc0x28yv2756mh0000gn/T/pip-install-73gppnef/mariadb_a4818b6ab50e4163910539dfa649e59c/setup.py'\"'\"'; __file__='\"'\"'/private/var/folders/cj/qtbz9fvd3svc0x28yv2756mh0000gn/T/pip-install-73gppnef/mariadb_a4818b6ab50e4163910539dfa649e59c/setup.py'\"'\"';f = getattr(tokenize, '\"'\"'open'\"'\"', open)(__file__) if os.path.exists(__file__) else io.StringIO('\"'\"'from setuptools import setup; setup()'\"'\"');code = f.read().replace('\"'\"'\\r\\n'\"'\"', '\"'\"'\\n'\"'\"');f.close();exec(compile(code, __file__, '\"'\"'exec'\"'\"'))' egg_info --egg-base /private/var/folders/cj/qtbz9fvd3svc0x28yv2756mh0000gn/T/pip-pip-egg-info-4huhmpku\n",
      "         cwd: /private/var/folders/cj/qtbz9fvd3svc0x28yv2756mh0000gn/T/pip-install-73gppnef/mariadb_a4818b6ab50e4163910539dfa649e59c/\n",
      "    Complete output (12 lines):\n",
      "    /bin/sh: mariadb_config: command not found\n",
      "    Traceback (most recent call last):\n",
      "      File \"<string>\", line 1, in <module>\n",
      "      File \"/private/var/folders/cj/qtbz9fvd3svc0x28yv2756mh0000gn/T/pip-install-73gppnef/mariadb_a4818b6ab50e4163910539dfa649e59c/setup.py\", line 24, in <module>\n",
      "        cfg = get_config(options)\n",
      "      File \"/private/var/folders/cj/qtbz9fvd3svc0x28yv2756mh0000gn/T/pip-install-73gppnef/mariadb_a4818b6ab50e4163910539dfa649e59c/mariadb_posix.py\", line 49, in get_config\n",
      "        cc_version = mariadb_config(config_prg, \"cc_version\")\n",
      "      File \"/private/var/folders/cj/qtbz9fvd3svc0x28yv2756mh0000gn/T/pip-install-73gppnef/mariadb_a4818b6ab50e4163910539dfa649e59c/mariadb_posix.py\", line 26, in mariadb_config\n",
      "        raise EnvironmentError(\n",
      "    OSError: mariadb_config not found.\n",
      "    Please make sure, that MariaDB Connector/C is installed on your system, edit the configuration file 'site.cfg' and set the 'mariadb_config'\n",
      "    option, which should point to the mariadb_config utility.\n",
      "    ----------------------------------------\u001b[0m\n",
      "\u001b[33mWARNING: Discarding https://files.pythonhosted.org/packages/94/df/1c0d68f2f24b987b2ecb6d46175132b29da15d60a6c51bc65d4de3bf2f9c/mariadb-0.9.53.tar.gz#sha256=6cefbb3be85b932a491025c4ccfa9024cc98947426fbff6b48129e8142ee9de9 (from https://pypi.org/simple/mariadb/) (requires-python:>=3.6). Command errored out with exit status 1: python setup.py egg_info Check the logs for full command output.\u001b[0m\n",
      "  Using cached mariadb-0.9.52.tar.gz (72 kB)\n",
      "\u001b[31m    ERROR: Command errored out with exit status 1:\n",
      "     command: /Users/michielbontenbal/opt/anaconda3/bin/python -c 'import io, os, sys, setuptools, tokenize; sys.argv[0] = '\"'\"'/private/var/folders/cj/qtbz9fvd3svc0x28yv2756mh0000gn/T/pip-install-73gppnef/mariadb_9d25a83d396f49c5a7816cd16d74bd93/setup.py'\"'\"'; __file__='\"'\"'/private/var/folders/cj/qtbz9fvd3svc0x28yv2756mh0000gn/T/pip-install-73gppnef/mariadb_9d25a83d396f49c5a7816cd16d74bd93/setup.py'\"'\"';f = getattr(tokenize, '\"'\"'open'\"'\"', open)(__file__) if os.path.exists(__file__) else io.StringIO('\"'\"'from setuptools import setup; setup()'\"'\"');code = f.read().replace('\"'\"'\\r\\n'\"'\"', '\"'\"'\\n'\"'\"');f.close();exec(compile(code, __file__, '\"'\"'exec'\"'\"'))' egg_info --egg-base /private/var/folders/cj/qtbz9fvd3svc0x28yv2756mh0000gn/T/pip-pip-egg-info-o7x0db5t\n",
      "         cwd: /private/var/folders/cj/qtbz9fvd3svc0x28yv2756mh0000gn/T/pip-install-73gppnef/mariadb_9d25a83d396f49c5a7816cd16d74bd93/\n",
      "    Complete output (12 lines):\n",
      "    /bin/sh: mariadb_config: command not found\n",
      "    Traceback (most recent call last):\n",
      "      File \"<string>\", line 1, in <module>\n",
      "      File \"/private/var/folders/cj/qtbz9fvd3svc0x28yv2756mh0000gn/T/pip-install-73gppnef/mariadb_9d25a83d396f49c5a7816cd16d74bd93/setup.py\", line 24, in <module>\n",
      "        cfg = get_config(options)\n",
      "      File \"/private/var/folders/cj/qtbz9fvd3svc0x28yv2756mh0000gn/T/pip-install-73gppnef/mariadb_9d25a83d396f49c5a7816cd16d74bd93/mariadb_posix.py\", line 49, in get_config\n",
      "        cc_version = mariadb_config(config_prg, \"cc_version\")\n",
      "      File \"/private/var/folders/cj/qtbz9fvd3svc0x28yv2756mh0000gn/T/pip-install-73gppnef/mariadb_9d25a83d396f49c5a7816cd16d74bd93/mariadb_posix.py\", line 26, in mariadb_config\n",
      "        raise EnvironmentError(\n",
      "    OSError: mariadb_config not found.\n",
      "    Please make sure, that MariaDB Connector/C is installed on your system, edit the configuration file 'site.cfg' and set the 'mariadb_config'\n",
      "    option, which should point to the mariadb_config utility.\n",
      "    ----------------------------------------\u001b[0m\n",
      "\u001b[33mWARNING: Discarding https://files.pythonhosted.org/packages/d9/70/d5048fa20d2cd986181094cc35ccae284f36e80fe61e2821b79d281b03a2/mariadb-0.9.52.tar.gz#sha256=554e7067ea68430fb7c3b4df1be7c9f2ff3ab7bf806c2d9076f959645e7a96de (from https://pypi.org/simple/mariadb/) (requires-python:>=3.6). Command errored out with exit status 1: python setup.py egg_info Check the logs for full command output.\u001b[0m\n",
      "\u001b[31mERROR: Could not find a version that satisfies the requirement mariadb (from versions: 0.9.52, 0.9.53, 0.9.54, 0.9.55, 0.9.56, 0.9.57, 0.9.58, 0.9.59, 1.0.0, 1.0.1, 1.0.2, 1.0.3, 1.0.4, 1.0.5, 1.0.6, 1.0.7, 1.0.8, 1.0.9, 1.0.10, 1.0.11, 1.1.0a1, 1.1.0b1, 1.1.0b2, 1.1.0rc1, 1.1.2, 1.1.3, 1.1.4, 1.1.5, 1.1.5.post1, 1.1.5.post2, 1.1.5.post3)\u001b[0m\n",
      "\u001b[31mERROR: No matching distribution found for mariadb\u001b[0m\n"
     ]
    }
   ],
   "source": [
    "!pip3 install mariadb"
   ]
  },
  {
   "cell_type": "code",
   "execution_count": 2,
   "metadata": {},
   "outputs": [
    {
     "ename": "ModuleNotFoundError",
     "evalue": "No module named 'mariadb'",
     "output_type": "error",
     "traceback": [
      "\u001b[0;31m---------------------------------------------------------------------------\u001b[0m",
      "\u001b[0;31mModuleNotFoundError\u001b[0m                       Traceback (most recent call last)",
      "Input \u001b[0;32mIn [2]\u001b[0m, in \u001b[0;36m<cell line: 2>\u001b[0;34m()\u001b[0m\n\u001b[1;32m      1\u001b[0m \u001b[38;5;66;03m# Module Imports\u001b[39;00m\n\u001b[0;32m----> 2\u001b[0m \u001b[38;5;28;01mimport\u001b[39;00m \u001b[38;5;21;01mmariadb\u001b[39;00m\n\u001b[1;32m      3\u001b[0m \u001b[38;5;28;01mimport\u001b[39;00m \u001b[38;5;21;01msys\u001b[39;00m\n\u001b[1;32m      5\u001b[0m \u001b[38;5;66;03m# Connect to MariaDB Platform\u001b[39;00m\n",
      "\u001b[0;31mModuleNotFoundError\u001b[0m: No module named 'mariadb'"
     ]
    }
   ],
   "source": [
    "# Module Imports\n",
    "import mariadb\n",
    "import sys\n",
    "\n",
    "# Connect to MariaDB Platform\n",
    "try:\n",
    "    conn = mariadb.connect(\n",
    "        user=\"db_user\",\n",
    "        password=\"db_user_passwd\",\n",
    "        host=\"192.0.2.1\",\n",
    "        port=3306,\n",
    "        database=\"employees\"\n",
    "\n",
    "    )\n",
    "except mariadb.Error as e:\n",
    "    print(f\"Error connecting to MariaDB Platform: {e}\")\n",
    "    sys.exit(1)\n",
    "\n",
    "# Get Cursor\n",
    "cur = conn.cursor()"
   ]
  },
  {
   "cell_type": "code",
   "execution_count": null,
   "metadata": {},
   "outputs": [],
   "source": []
  },
  {
   "cell_type": "code",
   "execution_count": null,
   "metadata": {},
   "outputs": [],
   "source": []
  },
  {
   "cell_type": "markdown",
   "metadata": {},
   "source": [
    "## 4. Duckdb\n",
    "source: https://duckdb.org/docs/api/python/overview.html"
   ]
  },
  {
   "cell_type": "code",
   "execution_count": 3,
   "metadata": {},
   "outputs": [],
   "source": [
    "#setting up a database\n",
    "import duckdb\n",
    "con = duckdb.connect(database='my-db.duckdb', read_only=False)"
   ]
  },
  {
   "cell_type": "code",
   "execution_count": 4,
   "metadata": {},
   "outputs": [
    {
     "name": "stdout",
     "output_type": "stream",
     "text": [
      "[('jeans', Decimal('20.00'), 1), ('hammer', Decimal('42.20'), 2)]\n"
     ]
    }
   ],
   "source": [
    "#PLEASE NOTE THAT YOU DON\"T HAVE TO CREATE A CURSOR OBJECT!\n",
    "# create a table\n",
    "con.execute(\"CREATE TABLE items(item VARCHAR, value DECIMAL(10,2), count INTEGER)\")\n",
    "# insert two items into the table\n",
    "con.execute(\"INSERT INTO items VALUES ('jeans', 20.0, 1), ('hammer', 42.2, 2)\")\n",
    "\n",
    "# retrieve the items again\n",
    "con.execute(\"SELECT * FROM items\")\n",
    "print(con.fetchall())"
   ]
  },
  {
   "cell_type": "code",
   "execution_count": null,
   "metadata": {},
   "outputs": [],
   "source": []
  }
 ],
 "metadata": {
  "kernelspec": {
   "display_name": "Python 3 (ipykernel)",
   "language": "python",
   "name": "python3"
  },
  "language_info": {
   "codemirror_mode": {
    "name": "ipython",
    "version": 3
   },
   "file_extension": ".py",
   "mimetype": "text/x-python",
   "name": "python",
   "nbconvert_exporter": "python",
   "pygments_lexer": "ipython3",
   "version": "3.9.12"
  }
 },
 "nbformat": 4,
 "nbformat_minor": 4
}
