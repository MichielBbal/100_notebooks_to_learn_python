{
 "cells": [
  {
   "cell_type": "markdown",
   "id": "e4e79dee",
   "metadata": {},
   "source": [
    "# Working with media"
   ]
  },
  {
   "cell_type": "markdown",
   "id": "6348a7fa",
   "metadata": {},
   "source": [
    "### Contents\n",
    "1. Listening to music\n",
    "2. Recording audio\n",
    "3. Playing video"
   ]
  },
  {
   "cell_type": "markdown",
   "id": "235ffec5",
   "metadata": {},
   "source": [
    "## 0. Install packages"
   ]
  },
  {
   "cell_type": "code",
   "execution_count": 1,
   "id": "ddd90e86",
   "metadata": {},
   "outputs": [
    {
     "name": "stdout",
     "output_type": "stream",
     "text": [
      "Collecting moviepy\n",
      "  Using cached moviepy-1.0.3.tar.gz (388 kB)\n",
      "  Preparing metadata (setup.py) ... \u001b[?25ldone\n",
      "\u001b[?25hCollecting decorator<5.0,>=4.0.2\n",
      "  Using cached decorator-4.4.2-py2.py3-none-any.whl (9.2 kB)\n",
      "Requirement already satisfied: tqdm<5.0,>=4.11.2 in /Users/michielbontenbal/anaconda3/lib/python3.10/site-packages (from moviepy) (4.61.2)\n",
      "Requirement already satisfied: requests<3.0,>=2.8.1 in /Users/michielbontenbal/anaconda3/lib/python3.10/site-packages (from moviepy) (2.25.1)\n",
      "Collecting proglog<=1.0.0\n",
      "  Using cached proglog-0.1.10-py3-none-any.whl (6.1 kB)\n",
      "Requirement already satisfied: numpy>=1.17.3 in /Users/michielbontenbal/anaconda3/lib/python3.10/site-packages (from moviepy) (1.23.5)\n",
      "Requirement already satisfied: imageio<3.0,>=2.5 in /Users/michielbontenbal/anaconda3/lib/python3.10/site-packages (from moviepy) (2.26.0)\n",
      "Collecting imageio_ffmpeg>=0.2.0\n",
      "  Using cached imageio_ffmpeg-0.4.8-py3-none-macosx_10_9_intel.macosx_10_9_x86_64.macosx_10_10_intel.macosx_10_10_x86_64.whl (22.5 MB)\n",
      "Requirement already satisfied: pillow>=8.3.2 in /Users/michielbontenbal/anaconda3/lib/python3.10/site-packages (from imageio<3.0,>=2.5->moviepy) (9.4.0)\n",
      "Requirement already satisfied: idna<3,>=2.5 in /Users/michielbontenbal/anaconda3/lib/python3.10/site-packages (from requests<3.0,>=2.8.1->moviepy) (2.10)\n",
      "Requirement already satisfied: urllib3<1.27,>=1.21.1 in /Users/michielbontenbal/anaconda3/lib/python3.10/site-packages (from requests<3.0,>=2.8.1->moviepy) (1.26.14)\n",
      "Requirement already satisfied: certifi>=2017.4.17 in /Users/michielbontenbal/anaconda3/lib/python3.10/site-packages (from requests<3.0,>=2.8.1->moviepy) (2022.12.7)\n",
      "Requirement already satisfied: chardet<5,>=3.0.2 in /Users/michielbontenbal/anaconda3/lib/python3.10/site-packages (from requests<3.0,>=2.8.1->moviepy) (4.0.0)\n",
      "Building wheels for collected packages: moviepy\n",
      "  Building wheel for moviepy (setup.py) ... \u001b[?25ldone\n",
      "\u001b[?25h  Created wheel for moviepy: filename=moviepy-1.0.3-py3-none-any.whl size=110727 sha256=237af995099f9108b5accce99eb9e8b855caec7c9b47dcc072a89c27b6e3d414\n",
      "  Stored in directory: /Users/michielbontenbal/Library/Caches/pip/wheels/05/c3/60/ff37aa492e097b78c495e049d4ec5dbd5be98bd9b36eb1f0b1\n",
      "Successfully built moviepy\n",
      "Installing collected packages: proglog, imageio_ffmpeg, decorator, moviepy\n",
      "  Attempting uninstall: decorator\n",
      "    Found existing installation: decorator 5.1.1\n",
      "    Uninstalling decorator-5.1.1:\n",
      "      Successfully uninstalled decorator-5.1.1\n",
      "Successfully installed decorator-4.4.2 imageio_ffmpeg-0.4.8 moviepy-1.0.3 proglog-0.1.10\n"
     ]
    }
   ],
   "source": [
    "!pip install moviepy"
   ]
  },
  {
   "cell_type": "markdown",
   "id": "04f71305",
   "metadata": {},
   "source": [
    "## 1. Listening to audio"
   ]
  },
  {
   "cell_type": "markdown",
   "id": "82e12d0b",
   "metadata": {},
   "source": [
    "## 2. Recording audio"
   ]
  },
  {
   "cell_type": "markdown",
   "id": "c539d849",
   "metadata": {},
   "source": [
    "## 3. Playing video\n",
    "\n",
    "There are several libraries for playing video's like OpenCV and moviepy. OpenCV will be covered in chapter for on deep learning. We will use moviepy. \n",
    "\n",
    "- documentation: https://zulko.github.io/moviepy/\n",
    "- pypi: https://pypi.org/project/moviepy/"
   ]
  },
  {
   "cell_type": "code",
   "execution_count": null,
   "id": "37d99893",
   "metadata": {},
   "outputs": [],
   "source": []
  }
 ],
 "metadata": {
  "kernelspec": {
   "display_name": "Python 3 (ipykernel)",
   "language": "python",
   "name": "python3"
  },
  "language_info": {
   "codemirror_mode": {
    "name": "ipython",
    "version": 3
   },
   "file_extension": ".py",
   "mimetype": "text/x-python",
   "name": "python",
   "nbconvert_exporter": "python",
   "pygments_lexer": "ipython3",
   "version": "3.10.9"
  }
 },
 "nbformat": 4,
 "nbformat_minor": 5
}
