{
 "cells": [
  {
   "cell_type": "code",
   "execution_count": 2,
   "id": "8165ef7a",
   "metadata": {},
   "outputs": [
    {
     "name": "stdout",
     "output_type": "stream",
     "text": [
      "Collecting paho-mqtt\n",
      "  Downloading paho_mqtt-2.1.0-py3-none-any.whl.metadata (23 kB)\n",
      "Downloading paho_mqtt-2.1.0-py3-none-any.whl (67 kB)\n",
      "\u001b[2K   \u001b[90m━━━━━━━━━━━━━━━━━━━━━━━━━━━━━━━━━━━━━━━━\u001b[0m \u001b[32m67.2/67.2 kB\u001b[0m \u001b[31m1.1 MB/s\u001b[0m eta \u001b[36m0:00:00\u001b[0ma \u001b[36m0:00:01\u001b[0m\n",
      "\u001b[?25hInstalling collected packages: paho-mqtt\n",
      "Successfully installed paho-mqtt-2.1.0\n",
      "\n",
      "\u001b[1m[\u001b[0m\u001b[34;49mnotice\u001b[0m\u001b[1;39;49m]\u001b[0m\u001b[39;49m A new release of pip is available: \u001b[0m\u001b[31;49m24.0\u001b[0m\u001b[39;49m -> \u001b[0m\u001b[32;49m24.2\u001b[0m\n",
      "\u001b[1m[\u001b[0m\u001b[34;49mnotice\u001b[0m\u001b[1;39;49m]\u001b[0m\u001b[39;49m To update, run: \u001b[0m\u001b[32;49m/Users/michielbontenbal/anaconda3/bin/python -m pip install --upgrade pip\u001b[0m\n",
      "Note: you may need to restart the kernel to use updated packages.\n"
     ]
    }
   ],
   "source": [
    "pip install paho-mqtt"
   ]
  },
  {
   "cell_type": "code",
   "execution_count": 3,
   "id": "1d719932",
   "metadata": {},
   "outputs": [
    {
     "name": "stderr",
     "output_type": "stream",
     "text": [
      "/var/folders/cj/qtbz9fvd3svc0x28yv2756mh0000gn/T/ipykernel_58690/2795800113.py:22: DeprecationWarning: Callback API version 1 is deprecated, update to latest version\n",
      "  client = mqtt.Client()\n"
     ]
    },
    {
     "name": "stdout",
     "output_type": "stream",
     "text": [
      "Message published: Hello, MQTT!\n",
      "Connected to MQTT broker\n"
     ]
    },
    {
     "data": {
      "text/plain": [
       "<MQTTErrorCode.MQTT_ERR_SUCCESS: 0>"
      ]
     },
     "execution_count": 3,
     "metadata": {},
     "output_type": "execute_result"
    }
   ],
   "source": [
    "import paho.mqtt.client as mqtt\n",
    "import time\n",
    "\n",
    "# MQTT broker details\n",
    "broker_address = \"broker.hivemq.com\"\n",
    "broker_port = 1883\n",
    "topic = \"test/message\"\n",
    "message = \"Hello, MQTT!\"\n",
    "\n",
    "# Callback function for successful connection\n",
    "def on_connect(client, userdata, flags, rc):\n",
    "    if rc == 0:\n",
    "        print(\"Connected to MQTT broker\")\n",
    "    else:\n",
    "        print(f\"Connection failed with code {rc}\")\n",
    "\n",
    "# Callback function for successful publish\n",
    "def on_publish(client, userdata, mid):\n",
    "    print(f\"Message published: {message}\")\n",
    "\n",
    "# Create MQTT client instance\n",
    "client = mqtt.Client()\n",
    "\n",
    "# Set callback functions\n",
    "client.on_connect = on_connect\n",
    "client.on_publish = on_publish\n",
    "\n",
    "# Connect to the broker\n",
    "client.connect(broker_address, broker_port)\n",
    "\n",
    "# Start the MQTT client loop\n",
    "client.loop_start()\n",
    "\n",
    "# Publish the message\n",
    "client.publish(topic, message)\n",
    "\n",
    "# Wait for a moment to ensure the message is published\n",
    "time.sleep(2)\n",
    "\n",
    "# Disconnect from the broker\n",
    "client.disconnect()\n",
    "\n",
    "# Stop the MQTT client loop\n",
    "client.loop_stop()"
   ]
  },
  {
   "cell_type": "code",
   "execution_count": null,
   "id": "b7e4b003",
   "metadata": {},
   "outputs": [],
   "source": []
  },
  {
   "cell_type": "code",
   "execution_count": 4,
   "id": "7248da12",
   "metadata": {},
   "outputs": [
    {
     "name": "stderr",
     "output_type": "stream",
     "text": [
      "/var/folders/cj/qtbz9fvd3svc0x28yv2756mh0000gn/T/ipykernel_58690/1504322328.py:22: DeprecationWarning: Callback API version 1 is deprecated, update to latest version\n",
      "  client = mqtt.Client()\n"
     ]
    },
    {
     "name": "stdout",
     "output_type": "stream",
     "text": [
      "Message published: Hello, Mosquitto MQTT!\n",
      "Connected to MQTT broker\n"
     ]
    },
    {
     "data": {
      "text/plain": [
       "<MQTTErrorCode.MQTT_ERR_SUCCESS: 0>"
      ]
     },
     "execution_count": 4,
     "metadata": {},
     "output_type": "execute_result"
    }
   ],
   "source": [
    "import paho.mqtt.client as mqtt\n",
    "import time\n",
    "\n",
    "# MQTT broker details\n",
    "broker_address = \"test.mosquitto.org\" # Change this to your broker's address if not local\n",
    "broker_port = 1883\n",
    "topic = \"Michiel\"\n",
    "message = \"Hello, Mosquitto MQTT!\"\n",
    "\n",
    "# Callback function for successful connection\n",
    "def on_connect(client, userdata, flags, rc):\n",
    "    if rc == 0:\n",
    "        print(\"Connected to MQTT broker\")\n",
    "    else:\n",
    "        print(f\"Connection failed with code {rc}\")\n",
    "\n",
    "# Callback function for successful publish\n",
    "def on_publish(client, userdata, mid):\n",
    "    print(f\"Message published: {message}\")\n",
    "\n",
    "# Create MQTT client instance\n",
    "client = mqtt.Client()\n",
    "\n",
    "# Set callback functions\n",
    "client.on_connect = on_connect\n",
    "client.on_publish = on_publish\n",
    "\n",
    "# Connect to the broker\n",
    "client.connect(broker_address, broker_port)\n",
    "\n",
    "# Start the MQTT client loop\n",
    "client.loop_start()\n",
    "\n",
    "# Publish the message\n",
    "client.publish(topic, message)\n",
    "\n",
    "# Wait for a moment to ensure the message is published\n",
    "time.sleep(2)\n",
    "\n",
    "# Disconnect from the broker\n",
    "client.disconnect()\n",
    "\n",
    "# Stop the MQTT client loop\n",
    "client.loop_stop()"
   ]
  },
  {
   "cell_type": "code",
   "execution_count": null,
   "id": "c4d7bcaa",
   "metadata": {},
   "outputs": [],
   "source": [
    "import paho.mqtt.client as mqtt\n",
    "import time\n",
    "\n",
    "# MQTT broker details\n",
    "broker_address = \"localhost\"  # Change this to your broker's address if not local\n",
    "broker_port = 1883\n",
    "topic = \"test/message\"\n",
    "\n",
    "# Callback function for when a connection is established\n",
    "def on_connect(client, userdata, flags, rc):\n",
    "    if rc == 0:\n",
    "        print(\"Connected to MQTT broker\")\n",
    "        # Subscribe to the topic\n",
    "        client.subscribe(topic)\n",
    "        print(f\"Subscribed to topic: {topic}\")\n",
    "    else:\n",
    "        print(f\"Connection failed with code {rc}\")\n",
    "\n",
    "# Callback function for when a message is received\n",
    "def on_message(client, userdata, msg):\n",
    "    print(f\"Received message on topic {msg.topic}: {msg.payload.decode()}\")\n",
    "\n",
    "# Create MQTT client instance\n",
    "client = mqtt.Client()\n",
    "\n",
    "# Set callback functions\n",
    "client.on_connect = on_connect\n",
    "client.on_message = on_message\n",
    "\n",
    "# Connect to the broker\n",
    "client.connect(broker_address, broker_port)\n",
    "\n",
    "# Start the MQTT client loop\n",
    "client.loop_start()\n",
    "\n",
    "try:\n",
    "    # Keep the script running\n",
    "    while True:\n",
    "        time.sleep(1)\n",
    "except KeyboardInterrupt:\n",
    "    print(\"Disconnecting from broker\")\n",
    "    client.disconnect()\n",
    "    client.loop_stop()"
   ]
  },
  {
   "cell_type": "code",
   "execution_count": null,
   "id": "23dc15c4",
   "metadata": {},
   "outputs": [],
   "source": []
  },
  {
   "cell_type": "code",
   "execution_count": 9,
   "id": "af413855",
   "metadata": {},
   "outputs": [
    {
     "name": "stderr",
     "output_type": "stream",
     "text": [
      "/var/folders/cj/qtbz9fvd3svc0x28yv2756mh0000gn/T/ipykernel_58690/1029504449.py:5: DeprecationWarning: Callback API version 1 is deprecated, update to latest version\n",
      "  client = mqtt.Client() #create new instance\n"
     ]
    },
    {
     "data": {
      "text/plain": [
       "<paho.mqtt.client.MQTTMessageInfo at 0x7f7833d195d0>"
      ]
     },
     "execution_count": 9,
     "metadata": {},
     "output_type": "execute_result"
    }
   ],
   "source": [
    "import paho.mqtt.client as mqtt #import the client1\n",
    "\n",
    "#broker_address=\"iot.eclipse.org\" #use external broker\n",
    "broker_address=\"test.mosquitto.org\"\n",
    "client = mqtt.Client() #create new instance\n",
    "client.connect(broker_address) #connect to broker\n",
    "client.publish(\"Test\",\"OFF\")#publish"
   ]
  },
  {
   "cell_type": "code",
   "execution_count": 10,
   "id": "5f36cb82",
   "metadata": {},
   "outputs": [
    {
     "ename": "TypeError",
     "evalue": "'<' not supported between instances of 'str' and 'int'",
     "output_type": "error",
     "traceback": [
      "\u001b[0;31m---------------------------------------------------------------------------\u001b[0m",
      "\u001b[0;31mTypeError\u001b[0m                                 Traceback (most recent call last)",
      "Cell \u001b[0;32mIn[10], line 1\u001b[0m\n\u001b[0;32m----> 1\u001b[0m \u001b[43mclient\u001b[49m\u001b[38;5;241;43m.\u001b[39;49m\u001b[43msubscribe\u001b[49m\u001b[43m(\u001b[49m\u001b[38;5;124;43m\"\u001b[39;49m\u001b[38;5;124;43mTest\u001b[39;49m\u001b[38;5;124;43m\"\u001b[39;49m\u001b[43m,\u001b[49m\u001b[43m \u001b[49m\u001b[38;5;124;43m\"\u001b[39;49m\u001b[38;5;124;43mOFF\u001b[39;49m\u001b[38;5;124;43m\"\u001b[39;49m\u001b[43m)\u001b[49m\n",
      "File \u001b[0;32m~/anaconda3/lib/python3.10/site-packages/paho/mqtt/client.py:1992\u001b[0m, in \u001b[0;36mClient.subscribe\u001b[0;34m(self, topic, qos, options, properties)\u001b[0m\n\u001b[1;32m   1989\u001b[0m         topic, qos \u001b[38;5;241m=\u001b[39m topic  \u001b[38;5;66;03m# type: ignore\u001b[39;00m\n\u001b[1;32m   1991\u001b[0m \u001b[38;5;28;01mif\u001b[39;00m \u001b[38;5;28misinstance\u001b[39m(topic, (\u001b[38;5;28mbytes\u001b[39m, \u001b[38;5;28mstr\u001b[39m)):\n\u001b[0;32m-> 1992\u001b[0m     \u001b[38;5;28;01mif\u001b[39;00m \u001b[43mqos\u001b[49m\u001b[43m \u001b[49m\u001b[38;5;241;43m<\u001b[39;49m\u001b[43m \u001b[49m\u001b[38;5;241;43m0\u001b[39;49m \u001b[38;5;129;01mor\u001b[39;00m qos \u001b[38;5;241m>\u001b[39m \u001b[38;5;241m2\u001b[39m:\n\u001b[1;32m   1993\u001b[0m         \u001b[38;5;28;01mraise\u001b[39;00m \u001b[38;5;167;01mValueError\u001b[39;00m(\u001b[38;5;124m'\u001b[39m\u001b[38;5;124mInvalid QoS level.\u001b[39m\u001b[38;5;124m'\u001b[39m)\n\u001b[1;32m   1994\u001b[0m     \u001b[38;5;28;01mif\u001b[39;00m \u001b[38;5;28mself\u001b[39m\u001b[38;5;241m.\u001b[39m_protocol \u001b[38;5;241m==\u001b[39m MQTTv5:\n",
      "\u001b[0;31mTypeError\u001b[0m: '<' not supported between instances of 'str' and 'int'"
     ]
    }
   ],
   "source": [
    "client.subscribe(\"Test\", \"OFF\")"
   ]
  },
  {
   "cell_type": "code",
   "execution_count": 12,
   "id": "cb947698",
   "metadata": {},
   "outputs": [
    {
     "name": "stdout",
     "output_type": "stream",
     "text": [
      "creating new instance\n",
      "connecting to broker\n",
      "Subscribing to topic house/bulbs/bulb1\n",
      "Publishing message to topic house/bulbs/bulb1\n"
     ]
    },
    {
     "name": "stderr",
     "output_type": "stream",
     "text": [
      "/var/folders/cj/qtbz9fvd3svc0x28yv2756mh0000gn/T/ipykernel_58690/2008302283.py:4: DeprecationWarning: Callback API version 1 is deprecated, update to latest version\n",
      "  client = mqtt.Client() #create new instance\n"
     ]
    },
    {
     "data": {
      "text/plain": [
       "<paho.mqtt.client.MQTTMessageInfo at 0x7f7833dca070>"
      ]
     },
     "execution_count": 12,
     "metadata": {},
     "output_type": "execute_result"
    }
   ],
   "source": [
    "import paho.mqtt.client as mqtt #import the client1\n",
    "\n",
    "print(\"creating new instance\")\n",
    "client = mqtt.Client() #create new instance\n",
    "print(\"connecting to broker\")\n",
    "client.connect(broker_address) #connect to broker\n",
    "print(\"Subscribing to topic\",\"house/bulbs/bulb1\")\n",
    "client.subscribe(\"house/bulbs/bulb1\")\n",
    "print(\"Publishing message to topic\",\"house/bulbs/bulb1\")\n",
    "client.publish(\"house/bulbs/bulb1\",\"OFF\")"
   ]
  },
  {
   "cell_type": "code",
   "execution_count": 13,
   "id": "066082be",
   "metadata": {},
   "outputs": [
    {
     "name": "stdout",
     "output_type": "stream",
     "text": [
      "Message published to topic 'urbansounds'\n"
     ]
    },
    {
     "name": "stderr",
     "output_type": "stream",
     "text": [
      "/var/folders/cj/qtbz9fvd3svc0x28yv2756mh0000gn/T/ipykernel_63225/3110451374.py:22: DeprecationWarning: Callback API version 1 is deprecated, update to latest version\n",
      "  client = mqtt.Client()\n"
     ]
    }
   ],
   "source": [
    "import paho.mqtt.client as mqtt\n",
    "import json\n",
    "\n",
    "# MQTT broker details\n",
    "broker_address = \"sensemakers-vm.dev.sda-projects.nl\"\n",
    "username = \"michiel\"\n",
    "password = \"9B12829FC6F041A7\"\n",
    "topic = \"urbansounds\"\n",
    "\n",
    "# Message payload\n",
    "payload = {\n",
    "    \"app_id\": \"test\",\n",
    "    \"dev_id\": \"test\",\n",
    "    \"payload_fields\": \n",
    "    {\"class\":1, \"probability\":\"highest\", \"RPI temp\": 68}\n",
    "    }\n",
    "\n",
    "# Convert payload to JSON string\n",
    "message = json.dumps(payload)\n",
    "\n",
    "# Create MQTT client\n",
    "client = mqtt.Client()\n",
    "\n",
    "# Set username and password\n",
    "client.username_pw_set(username, password)\n",
    "\n",
    "# Connect to the broker\n",
    "client.connect(broker_address)\n",
    "\n",
    "# Publish the message\n",
    "client.publish(topic, message)\n",
    "\n",
    "# Disconnect from the broker\n",
    "client.disconnect()\n",
    "\n",
    "print(f\"Message published to topic '{topic}'\")"
   ]
  },
  {
   "cell_type": "code",
   "execution_count": null,
   "id": "37dc0c8e-11b6-463d-88d1-6a6745cefffe",
   "metadata": {},
   "outputs": [],
   "source": [
    "#!/usr/bin/env python3\n",
    "\n",
    "#import 3rd party packages\n",
    "import logging\n",
    "import time\n",
    "import sys\n",
    "import platform\n",
    "import numpy as np\n",
    "import tensorflow as tf\n",
    "from pyaudio import PyAudio, paInt16\n",
    "from tflite_runtime.interpreter import load_delegate, Interpreter\n",
    "import datetime\n",
    "import json\n",
    "import paho.mqtt.publish as publish\n",
    "\n",
    "#import local packages\n",
    "import cpu_temp #script to get cpu temperature \n",
    "import oe_config #importing file for credentials Sensemakers IoT Platform\n",
    "from openl3_tflite import preprocess_audio\n",
    "\n",
    "#logging settings\n",
    "logging.info('Importing...')\n",
    "logging.info('Initializing...')\n",
    "\n",
    "#mqtt settings\n",
    "mqtt_host = oe_config.mqtt_host\n",
    "mqtt_user = oe_config.mqtt_user\n",
    "mqtt_password = oe_config.mqtt_password\n",
    "app_id = oe_config.app_id\n",
    "topic = \"urbansounds\"\n",
    "\n",
    "#other settings\n",
    "MIC_SR = 48000\n",
    "SAMPLE_SECONDS = 10\n",
    "\n",
    "OPENL3_CONFIG = {\n",
    "    'verbose': False,\n",
    "    'frontend': 'librosa',\n",
    "    'embedding_size': 512,\n",
    "    'content_type': 'music',\n",
    "    'input_repr': 'linear',\n",
    "}\n",
    "\n",
    "OPENL3_MODEL = '/home/pi/openears/edge_ai2/6/model_edgetpu.tflite'\n",
    "PALLAS_MODEL = '/home/pi/openears/edge_ai2/pallas_model'\n",
    "\n",
    "#Define audiostream class\n",
    "class AudioStream():\n",
    "    def __init__(self, sample_seconds, channels=1, format=paInt16):\n",
    "        pa = PyAudio()\n",
    "        self.stream = pa.open(\n",
    "            format=format,\n",
    "            channels=channels,\n",
    "            rate=48000,\n",
    "            input=True,\n",
    "            frames_per_buffer=48000*sample_seconds,\n",
    "        )\n",
    "        read_original = self.stream.read\n",
    "        self.stream.read = lambda n: np.frombuffer(read_original(n), dtype=np.int16).astype(np.float32)\n",
    "\n",
    "    def __enter__(self):\n",
    "        self.stream.start_stream()\n",
    "        return self.stream\n",
    "\n",
    "    def __exit__(self, type, value, traceback):\n",
    "        self.stream.close()\n",
    "\n",
    "_EDGETPU_SHARED_LIB = {\n",
    "    'Linux': 'libedgetpu.so.1',\n",
    "    'Darwin': 'libedgetpu.1.dylib',\n",
    "    'Windows': 'edgetpu.dll'\n",
    "}[platform.system()]\n",
    "delegates = [load_delegate(_EDGETPU_SHARED_LIB)]\n",
    "\n",
    "#setting interpreter\n",
    "interpreter = Interpreter(\n",
    "    OPENL3_MODEL,\n",
    "    experimental_delegates=delegates,\n",
    "    num_threads=4\n",
    ")\n",
    "\n",
    "interpreter.allocate_tensors()\n",
    "input_details = interpreter.get_input_details()[0]\n",
    "output_details = interpreter.get_output_details()[0]\n",
    "input_scale, input_zero_point = input_details['quantization']\n",
    "input_dtype = input_details['dtype']\n",
    "input_index = input_details['index']\n",
    "output_scale, output_zero_point = output_details['quantization']\n",
    "output_index = output_details['index']\n",
    "pallas_infer = tf.saved_model.load(PALLAS_MODEL).signatures['serving_default']\n",
    "\n",
    "\n",
    "logging.info('Running...')\n",
    "\n",
    "#start script\n",
    "\n",
    "try:\n",
    "    with AudioStream(SAMPLE_SECONDS) as stream:\n",
    "        while True:\n",
    "            sample_wave = stream.read(SAMPLE_SECONDS * MIC_SR)\n",
    "            sample_sr = MIC_SR\n",
    "\n",
    "            spect = preprocess_audio(\n",
    "                sample_wave,\n",
    "                sample_sr,\n",
    "                input_repr=OPENL3_CONFIG['input_repr']\n",
    "            )\n",
    "\n",
    "            if input_scale != 0:\n",
    "                spect = spect / input_scale + input_zero_point\n",
    "            spect = spect.astype(input_dtype)\n",
    "\n",
    "            features = []\n",
    "            for window in spect:\n",
    "                input_window = np.expand_dims(window, axis=0)\n",
    "                interpreter.set_tensor(input_index, input_window)\n",
    "                interpreter.invoke()\n",
    "                output = interpreter.get_tensor(output_index)\n",
    "                features += [output[0]]\n",
    "\n",
    "            features = np.array(features)\n",
    "\n",
    "            if output_scale != 0:\n",
    "                features = (features.astype(np.float32) - output_zero_point) * output_scale\n",
    "\n",
    "            input_tensor = tf.convert_to_tensor(np.expand_dims(features, axis=0))\n",
    "\n",
    "            prediction_tensor = pallas_infer(input_tensor)\n",
    "            #get the prediction values\n",
    "            \n",
    "            prediction = list(prediction_tensor.values())\n",
    "            print(prediction)\n",
    "            results = prediction[0].numpy()\n",
    "            results_list_packed = results.tolist()\n",
    "            results_list = results_list_packed[0]\n",
    "            #sort to high\n",
    "            results_list.sort(reverse=True)\n",
    "            highest = results_list[0]\n",
    "            highest = float(highest)\n",
    "            highest = round(highest, 5) \n",
    "            print(highest)\n",
    "\n",
    "            pred_sorted = np.argsort(prediction)\n",
    "            #print(f'sorted classes: {pred_sorted}')\n",
    "            #print(pred_sorted[0])\n",
    "            #print(type(pred_sorted))\n",
    "            #print(type(pred_sorted[0]))\n",
    "            class_list = pred_sorted.tolist()\n",
    "            print(class_list)\n",
    "            class_list = class_list[0]\n",
    "            #print(class_list)\n",
    "            #print(type(class_list))\n",
    "            class_list = class_list[0]\n",
    "            print(class_list[0])\n",
    "            print(f'result = {class_list[0]} with probability {highest}')\n",
    "            #CPU temp\n",
    "            cputemp = cpu_temp.get_cputemp() #get cpu temperature\n",
    "            print(cputemp)\n",
    "            #Create the dictionary payload fields\n",
    "            now = datetime.datetime.now()\n",
    "            oe_dict = {\"class\":class_list[0], \"probability\":highest, \"RPI temp\": cputemp}\n",
    "            print(oe_dict)\n",
    "            #Create the MQTT message in json \n",
    "            mqtt_message = { \n",
    "                \"payload_fields\": oe_dict,\n",
    "                }\n",
    "            print(mqtt_message)\n",
    "            msg_str = json.dumps(mqtt_message)\n",
    "            print(msg_str)\n",
    "\n",
    "            ## Create MQTT client\n",
    "            client = mqtt.Client()\n",
    "            client.username_pw_set(username, password)\n",
    "            # Connect to the broker\n",
    "            client.connect(mqtt_host)\n",
    "\n",
    "            # Publish the message\n",
    "            try:\n",
    "                client.publish(topic, msg_str)\n",
    "                print('message sent')\n",
    "            except:\n",
    "                print('a connection error occured')\n",
    "\n",
    "except KeyboardInterrupt:\n",
    "    pass\n",
    "\n",
    "logging.info('exiting...')\n"
   ]
  }
 ],
 "metadata": {
  "kernelspec": {
   "display_name": "Python 3 (ipykernel)",
   "language": "python",
   "name": "python3"
  },
  "language_info": {
   "codemirror_mode": {
    "name": "ipython",
    "version": 3
   },
   "file_extension": ".py",
   "mimetype": "text/x-python",
   "name": "python",
   "nbconvert_exporter": "python",
   "pygments_lexer": "ipython3",
   "version": "3.10.9"
  }
 },
 "nbformat": 4,
 "nbformat_minor": 5
}
