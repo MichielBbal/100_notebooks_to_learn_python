{
 "cells": [
  {
   "cell_type": "markdown",
   "metadata": {},
   "source": [
    "# Python Programming structures\n",
    "\n",
    "\n",
    "\n",
    "\n",
    "### Contents:\n",
    "1. While loops\n",
    "2. For loops\n",
    "3. Sorting and sorted\n",
    "4. Random\n",
    "5. Zen of Python\n"
   ]
  },
  {
   "cell_type": "markdown",
   "metadata": {},
   "source": [
    "## 1. While loops\n",
    "\n",
    "A while loop can execute a (set of) statement(s) as long as a condition is true. "
   ]
  },
  {
   "cell_type": "code",
   "execution_count": 1,
   "metadata": {},
   "outputs": [
    {
     "name": "stdout",
     "output_type": "stream",
     "text": [
      "0\n",
      "1\n",
      "2\n",
      "3\n",
      "4\n",
      "5\n"
     ]
    }
   ],
   "source": [
    "# simple example \n",
    "i=0 #declare the initial value of i\n",
    "while i < 6: #set the condition and do the following\n",
    "    print(i) # print i\n",
    "    i +=1 # add 1 to i and restart the loop"
   ]
  },
  {
   "cell_type": "code",
   "execution_count": 1,
   "metadata": {},
   "outputs": [
    {
     "name": "stdout",
     "output_type": "stream",
     "text": [
      "0\n",
      "1\n",
      "2\n",
      "3\n",
      "4\n",
      "i is no longer < 4\n"
     ]
    }
   ],
   "source": [
    "# Combine a while loop with an else statement\n",
    "i=0\n",
    "while i <5:\n",
    "    print(i)\n",
    "    i +=1\n",
    "else:\n",
    "    print(\"i is no longer < 4\")"
   ]
  },
  {
   "cell_type": "markdown",
   "metadata": {},
   "source": [
    "## 2. For loops"
   ]
  },
  {
   "cell_type": "code",
   "execution_count": 149,
   "metadata": {},
   "outputs": [
    {
     "name": "stdout",
     "output_type": "stream",
     "text": [
      "0\n",
      "1\n",
      "2\n"
     ]
    }
   ],
   "source": [
    "# Simple for loop\n",
    "for i in range(0,3): # for loop that will run three times.\n",
    "    print(i)   #check the output the range starts with 0 "
   ]
  },
  {
   "cell_type": "code",
   "execution_count": 179,
   "metadata": {},
   "outputs": [
    {
     "name": "stdout",
     "output_type": "stream",
     "text": [
      "Sum of 1 until 10: 55\n"
     ]
    }
   ],
   "source": [
    "n = 10\n",
    "sum = 0\n",
    "for counter in range(1,n+1):\n",
    "    sum = sum + counter\n",
    "\n",
    "print(\"Sum of 1 until %d: %d\" % (n,sum))"
   ]
  },
  {
   "cell_type": "code",
   "execution_count": null,
   "metadata": {},
   "outputs": [],
   "source": [
    "###DO NOT USE\n",
    "from math import sqrt\n",
    "n = int(input(\"Maximal Number? \"))\n",
    "for a in range(1,n+1):\n",
    "    for b in range(a,n):\n",
    "        c_square = a**2 + b**2\n",
    "        c = int(sqrt(c_square))\n",
    "        if ((c_square - c**2) == 0):\n",
    "            print(a, b, c)"
   ]
  },
  {
   "cell_type": "code",
   "execution_count": 65,
   "metadata": {},
   "outputs": [
    {
     "name": "stdout",
     "output_type": "stream",
     "text": [
      "red\n",
      "green\n",
      "blue\n",
      "purple\n"
     ]
    }
   ],
   "source": [
    "colors = [\"red\", \"green\", \"blue\", \"purple\"] #print some colors\n",
    "for color in colors:\n",
    "    print(color)"
   ]
  },
  {
   "cell_type": "code",
   "execution_count": 177,
   "metadata": {},
   "outputs": [
    {
     "name": "stdout",
     "output_type": "stream",
     "text": [
      "1\n",
      "3\n",
      "4\n"
     ]
    }
   ],
   "source": [
    "# A for loop with some tuples\n",
    "my_tuple = ((0, 1), (1, 2), (2, 2))\n",
    "for (x, y) in my_tuple:\n",
    "    print (x+y) # print the sum of x,y of each tuple"
   ]
  },
  {
   "cell_type": "code",
   "execution_count": 7,
   "metadata": {},
   "outputs": [
    {
     "name": "stdout",
     "output_type": "stream",
     "text": [
      "x,y= 0,3\n",
      "x,y= 3,6\n",
      "x,y= 6,6\n"
     ]
    }
   ],
   "source": [
    "# A for loop with some tuples\n",
    "my_tuple = [(0, 1), (1, 2), (2, 2)]\n",
    "for (x,y) in my_tuple:\n",
    "    xsum = x+x+x\n",
    "    ysum = y+y+y\n",
    "    print (\"x,y= \"+str(xsum)+\",\"+str(ysum)) # print the sum of x,y of each tupple"
   ]
  },
  {
   "cell_type": "code",
   "execution_count": 12,
   "metadata": {},
   "outputs": [
    {
     "name": "stdout",
     "output_type": "stream",
     "text": [
      "x,y= (0, 1, 1, 2, 2, 2),3\n",
      "x,y= (0, 1, 1, 2, 2, 2),6\n",
      "x,y= (0, 1, 1, 2, 2, 2),6\n"
     ]
    }
   ],
   "source": [
    "# A for loop with some tuples\n",
    "my_tuple = ((0, 1), (1, 2), (2, 2))\n",
    "for i in range(1):\n",
    "    for (x,y) in my_tuple:\n",
    "        xsum = tuple[0]+tuple[1]+tuple[2]\n",
    "        ysum = y+y+y\n",
    "        print (\"x,y= \"+str(xsum)+\",\"+str(ysum)) # print the sum of x,y of each tupple"
   ]
  },
  {
   "cell_type": "code",
   "execution_count": 151,
   "metadata": {},
   "outputs": [
    {
     "name": "stdout",
     "output_type": "stream",
     "text": [
      "President 1: Washington\n",
      "President 2: Adams\n",
      "President 3: Jefferson\n",
      "President 4: Madison\n",
      "President 5: Monroe\n"
     ]
    }
   ],
   "source": [
    "presidents = [\"Washington\", \"Adams\", \"Jefferson\", \"Madison\", \"Monroe\"]\n",
    "for i in range(len(presidents)):\n",
    "    print(\"President {}: {}\".format(i + 1, presidents[i]))"
   ]
  },
  {
   "cell_type": "code",
   "execution_count": 10,
   "metadata": {},
   "outputs": [
    {
     "name": "stdout",
     "output_type": "stream",
     "text": [
      "President 1: Washington\n",
      "President 2: Adams\n",
      "President 3: Jefferson\n",
      "President 4: Madison\n",
      "President 5: Monroe\n"
     ]
    }
   ],
   "source": [
    "#Use enumeration to create a numbered list\n",
    "presidents = [\"Washington\", \"Adams\", \"Jefferson\", \"Madison\", \"Monroe\"]\n",
    "for num, name in enumerate(presidents, start=1):\n",
    "    print(f'President {num}: {name}')"
   ]
  },
  {
   "cell_type": "code",
   "execution_count": 68,
   "metadata": {},
   "outputs": [
    {
     "name": "stdout",
     "output_type": "stream",
     "text": [
      "20.0% red\n",
      "30.0% green\n",
      "10.0% blue\n",
      "40.0% purple\n"
     ]
    }
   ],
   "source": [
    "#Use the zip function to combine two lists\n",
    "colors = [\"red\", \"green\", \"blue\", \"purple\"]\n",
    "ratios = [0.2, 0.3, 0.1, 0.4]\n",
    "for color, ratio in zip(colors, ratios):\n",
    "    print(\"{}% {}\".format(ratio * 100, color))"
   ]
  },
  {
   "cell_type": "code",
   "execution_count": 162,
   "metadata": {},
   "outputs": [
    {
     "name": "stdout",
     "output_type": "stream",
     "text": [
      "1 * 1 = 1\n",
      "1 * 2 = 2\n",
      "2 * 1 = 2\n",
      "2 * 2 = 4\n"
     ]
    }
   ],
   "source": [
    "# Nested for loop\n",
    "for x in range(1, 3):\n",
    "    for y in range(1, 3):\n",
    "        print('%d * %d = %d' % (x, y, x*y))"
   ]
  },
  {
   "cell_type": "markdown",
   "metadata": {},
   "source": [
    "## 3. Sorting and sorted\n",
    "source: https://www.youtube.com/watch?v=QtwhlHP_tqc&list=PLi01XoE8jYohWFPpC17Z-wWhPOSuh8Er-&index=28\n",
    "Sorting can only be applied to lists, not to tuples (tuples are immutable)\n",
    "\n",
    "Sorting a list of list can be done using lambda function, see below"
   ]
  },
  {
   "cell_type": "code",
   "execution_count": 2,
   "metadata": {
    "scrolled": true
   },
   "outputs": [
    {
     "data": {
      "text/plain": [
       "['Barium', 'Beryllium', 'Calcium', 'Magnesium', 'Radium', 'Strontium']"
      ]
     },
     "execution_count": 2,
     "metadata": {},
     "output_type": "execute_result"
    }
   ],
   "source": [
    "earth_metals = [\"Beryllium\", 'Magnesium', \"Calcium\", \"Strontium\", \"Barium\", 'Radium']\n",
    "earth_metals.sort() # (key=None en reverse=False) \n",
    "earth_metals\n",
    "#dir(list)"
   ]
  },
  {
   "cell_type": "code",
   "execution_count": 110,
   "metadata": {},
   "outputs": [
    {
     "data": {
      "text/plain": [
       "[('Earth', 6378, 5.52, 1.0),\n",
       " ('Mercury', 2440, 5.43, 0.395),\n",
       " ('Venus', 6052, 5.24, 0.723),\n",
       " ('Mars', 3396, 3.93, 1.53),\n",
       " ('Neptune', 24764, 1.64, 30.07),\n",
       " ('Jupiter', 71492, 1.33, 5.218),\n",
       " ('Uranus', 25559, 1.27, 19.213),\n",
       " ('Saturn', 60269, 0.69, 9.551)]"
      ]
     },
     "execution_count": 110,
     "metadata": {},
     "output_type": "execute_result"
    }
   ],
   "source": [
    "# Sorting a list with a lambda function \n",
    "# source : Socratica sorting video\n",
    "planets = [\n",
    "    (\"Mercury\", 2440, 5.43, 0.395 ),\n",
    "    (\"Venus\", 6052, 5.24, 0.723),\n",
    "    (\"Earth\", 6378, 5.52, 1.000),\n",
    "    (\"Mars\", 3396, 3.93, 1.530),\n",
    "    (\"Jupiter\", 71492, 1.33, 5.218),\n",
    "    (\"Saturn\", 60269, 0.69, 9.551),\n",
    "    (\"Uranus\", 25559, 1.27, 19.213),\n",
    "    (\"Neptune\", 24764, 1.64, 30.070)\n",
    "]\n",
    "size = lambda planet: planet[1]\n",
    "density = lambda planet:planet[2]\n",
    "planets.sort(key=density, reverse=True)\n",
    "planets"
   ]
  },
  {
   "cell_type": "code",
   "execution_count": 8,
   "metadata": {},
   "outputs": [
    {
     "data": {
      "text/plain": [
       "[1, 3, 5, 7, 9]"
      ]
     },
     "execution_count": 8,
     "metadata": {},
     "output_type": "execute_result"
    }
   ],
   "source": [
    "#Sorted instead of sorting\n",
    "data = (9,5,1,7,3) # create a tuple\n",
    "sorted(data) #use sorted to sort the tuple!\n",
    "#sorted(\"Alphabetical\")"
   ]
  },
  {
   "cell_type": "code",
   "execution_count": 118,
   "metadata": {},
   "outputs": [
    {
     "data": {
      "text/plain": [
       "((15, 5, 3), (12, 6, 2), (10, 7, 1))"
      ]
     },
     "execution_count": 118,
     "metadata": {},
     "output_type": "execute_result"
    }
   ],
   "source": [
    "xy_tuples = ((15, 5,3),\n",
    "        (12, 6, 2),\n",
    "        (10, 7, 1))\n",
    "sorted(xy_tuples, key=lambda x: x[2])   # sort by age\n",
    "xy_tuples"
   ]
  },
  {
   "cell_type": "code",
   "execution_count": 56,
   "metadata": {},
   "outputs": [
    {
     "data": {
      "text/plain": [
       "[(0, 1), (1, 2), (1, 5), (2, 4), (2, 5), (3, 1), (3, 6), (7, 2)]"
      ]
     },
     "execution_count": 56,
     "metadata": {},
     "output_type": "execute_result"
    }
   ],
   "source": [
    "xy_tuples = [(0,1),(1,2),(3,6),(2,4),(1,5),(7,2),(3,1),(2,5)]\n",
    "sorted(xy_tuples)"
   ]
  },
  {
   "cell_type": "markdown",
   "metadata": {},
   "source": [
    "## 4. Random"
   ]
  },
  {
   "cell_type": "code",
   "execution_count": 416,
   "metadata": {},
   "outputs": [
    {
     "data": {
      "text/plain": [
       "109"
      ]
     },
     "execution_count": 416,
     "metadata": {},
     "output_type": "execute_result"
    }
   ],
   "source": [
    "import random\n",
    "myList = [2, 109, False, 10, \"Lorem\", 482, \"Ipsum\"]\n",
    "random.choice(myList)"
   ]
  },
  {
   "cell_type": "code",
   "execution_count": 531,
   "metadata": {},
   "outputs": [
    {
     "name": "stdout",
     "output_type": "stream",
     "text": [
      "steen\n"
     ]
    }
   ],
   "source": [
    "# steen, papier, schaar\n",
    "import random\n",
    "outcome = ['steen', 'papier', 'schaar']\n",
    "for i in range(1):\n",
    "    print(random.choice(outcome))"
   ]
  },
  {
   "cell_type": "code",
   "execution_count": null,
   "metadata": {},
   "outputs": [],
   "source": [
    "# 2 random lists\n",
    "import random\n",
    "def test_case():\n",
    "    x = [random.randint(-10, 10) for i in range(10)]\n",
    "    y = [random.randint(-10, 10) for i in range(10)]\n",
    "    return x, y\n",
    "print(test_case())"
   ]
  },
  {
   "cell_type": "code",
   "execution_count": 48,
   "metadata": {
    "scrolled": true
   },
   "outputs": [
    {
     "name": "stdout",
     "output_type": "stream",
     "text": [
      "Pin aan =19\n",
      "Pin aan =17\n",
      "Pin aan =18\n",
      "Pin aan =18\n",
      "Pin aan =17\n"
     ]
    }
   ],
   "source": [
    "# script to turn on/off a random light. For use on Raspberry Pi. Connect leds to pins\n",
    "import random\n",
    "from time import sleep\n",
    "pins = [17,18,19] #create a list of pins to choose from\n",
    "for i in range (5):\n",
    "    x= random.choice(pins) # call the random function with list 'pins'\n",
    "    print(\"Pin aan =\"+str(x))\n",
    "    sleep(0.2)"
   ]
  },
  {
   "cell_type": "markdown",
   "metadata": {},
   "source": [
    "## 5. Zen of Python\n",
    "source: https://en.wikipedia.org/wiki/Zen_of_Python"
   ]
  },
  {
   "cell_type": "markdown",
   "metadata": {},
   "source": [
    "Beautiful is better than ugly.<br>\n",
    "Explicit is better than implicit.<br>\n",
    "Simple is better than complex.<br>\n",
    "Complex is better than complicated.<br>\n",
    "Flat is better than nested.<br>\n",
    "Sparse is better than dense.<br>\n",
    "Readability counts.<br>\n",
    "Special cases aren't special enough to break the rules.<br>\n",
    "Although practicality beats purity.<br>\n",
    "Errors should never pass silently.<br>\n",
    "Unless explicitly silenced.<br>\n",
    "In the face of ambiguity, refuse the temptation to guess.<br>\n",
    "There should be one—and preferably only one—obvious way to do it.<br>\n",
    "Although that way may not be obvious at first unless you're Dutch.<br>\n",
    "Now is better than never.<br>\n",
    "Although never is often better than right now.[n 1]<br>\n",
    "If the implementation is hard to explain, it's a bad idea.<br>\n",
    "If the implementation is easy to explain, it may be a good idea.<br>\n",
    "Namespaces are one honking great idea—let's do more of those!<br>"
   ]
  }
 ],
 "metadata": {
  "interpreter": {
   "hash": "2aca11a9ab5620288d93a0c466d708bb3054e8717db234a0446d04f04cd1d1d6"
  },
  "kernelspec": {
   "display_name": "Python 3 (ipykernel)",
   "language": "python",
   "name": "python3"
  },
  "language_info": {
   "codemirror_mode": {
    "name": "ipython",
    "version": 3
   },
   "file_extension": ".py",
   "mimetype": "text/x-python",
   "name": "python",
   "nbconvert_exporter": "python",
   "pygments_lexer": "ipython3",
   "version": "3.9.12"
  }
 },
 "nbformat": 4,
 "nbformat_minor": 4
}
