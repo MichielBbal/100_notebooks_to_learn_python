{
 "cells": [
  {
   "cell_type": "markdown",
   "id": "d55fd5f6",
   "metadata": {},
   "source": [
    "# Turtle\n",
    "\n",
    "\n",
    "### Contents\n",
    "1. Basic turtle script\n",
    "2. More advanced turtle script\n",
    "\n",
    "source: https://realpython.com/beginners-guide-python-turtle/"
   ]
  },
  {
   "cell_type": "markdown",
   "id": "95888e2c",
   "metadata": {},
   "source": [
    "## 1. Basic turtle script"
   ]
  },
  {
   "cell_type": "code",
   "execution_count": 2,
   "id": "3b593445",
   "metadata": {},
   "outputs": [],
   "source": [
    "import turtle"
   ]
  },
  {
   "cell_type": "code",
   "execution_count": 3,
   "id": "d1fe295e",
   "metadata": {},
   "outputs": [],
   "source": [
    "#this will open a new screen\n",
    "\n",
    "s = turtle.getscreen()\n",
    "t = turtle.Turtle()\n",
    "\n",
    "t.right(90)\n",
    "t.forward(100)\n",
    "t.left(90)\n",
    "t.backward(100)"
   ]
  },
  {
   "cell_type": "markdown",
   "id": "8df17001",
   "metadata": {},
   "source": [
    "## 2. More advanced turtle script"
   ]
  },
  {
   "cell_type": "code",
   "execution_count": null,
   "id": "b9b83ea7",
   "metadata": {},
   "outputs": [],
   "source": []
  }
 ],
 "metadata": {
  "kernelspec": {
   "display_name": "Python 3 (ipykernel)",
   "language": "python",
   "name": "python3"
  },
  "language_info": {
   "codemirror_mode": {
    "name": "ipython",
    "version": 3
   },
   "file_extension": ".py",
   "mimetype": "text/x-python",
   "name": "python",
   "nbconvert_exporter": "python",
   "pygments_lexer": "ipython3",
   "version": "3.10.9"
  }
 },
 "nbformat": 4,
 "nbformat_minor": 5
}
