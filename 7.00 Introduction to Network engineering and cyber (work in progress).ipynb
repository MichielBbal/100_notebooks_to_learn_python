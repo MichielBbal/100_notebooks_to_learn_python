{
 "cells": [
  {
   "cell_type": "markdown",
   "id": "4ea72877",
   "metadata": {},
   "source": [
    "# Introduction to Cyber with Python\n",
    "\n",
    "## Contents\n",
    "0. Install packages\n",
    "1. Introduction\n",
    "2. Do more with linux: Sys, bash, subprocess\n",
    "3. Socket\n",
    "4. Hashlib\n",
    "5. Create a password generator"
   ]
  },
  {
   "cell_type": "markdown",
   "id": "586346f2",
   "metadata": {},
   "source": [
    "## 0. Install packages"
   ]
  },
  {
   "cell_type": "markdown",
   "id": "eed8374a",
   "metadata": {},
   "source": [
    "## 1. Introduction"
   ]
  },
  {
   "cell_type": "markdown",
   "id": "863c2401",
   "metadata": {},
   "source": [
    "## 2. Do more with linux: sys, bash, subprocess"
   ]
  },
  {
   "cell_type": "markdown",
   "id": "5ca5867f",
   "metadata": {},
   "source": [
    "The following commands are used for getting a list of all available wifi networks (Very slow)"
   ]
  },
  {
   "cell_type": "code",
   "execution_count": null,
   "id": "996895d2",
   "metadata": {},
   "outputs": [],
   "source": []
  },
  {
   "cell_type": "code",
   "execution_count": 17,
   "id": "b7dd1c64",
   "metadata": {},
   "outputs": [
    {
     "name": "stdout",
     "output_type": "stream",
     "text": [
      "········\n",
      "Thomas\n"
     ]
    },
    {
     "name": "stderr",
     "output_type": "stream",
     "text": [
      "sudo: a terminal is required to read the password; either use the -S option to read from standard input or configure an askpass helper\n",
      "sudo: a password is required\n"
     ]
    }
   ],
   "source": [
    "#source: \n",
    "import getpass\n",
    "import os\n",
    "\n",
    "password = getpass.getpass()\n",
    "command = \"sudo iwlist wlan0 scan --p\" #can be any command but don't forget -S as it enables input from stdin\n",
    "os.system('echo %s | %s' % (password, command))\n",
    "print(password)"
   ]
  },
  {
   "cell_type": "code",
   "execution_count": 20,
   "id": "8b3dca92",
   "metadata": {},
   "outputs": [
    {
     "name": "stdout",
     "output_type": "stream",
     "text": [
      "········\n",
      "Password:.DS_Store\n",
      ".git\n",
      ".gitignore\n",
      ".ipynb_checkpoints\n",
      "1.00 The basics of Python and Jupyter Notebooks.ipynb\n",
      "1.01 Python data types.ipynb\n",
      "1.02 Programming structures.ipynb\n",
      "1.03 Functions.ipynb\n",
      "1.04 Working with files and data serialization.ipynb\n",
      "1.05 Getting data from the web.ipynb\n",
      "1.06 Python and SQL databases.ipynb\n",
      "1.07 Time and datetime.ipynb\n",
      "1.08 Converting basic data types.ipynb\n",
      "1.09 Get more out of your Jupyter notebook .ipynb\n",
      "1.10 Turtle.ipynb\n",
      "11k16bitpcm.wav\n",
      "2.00 Python Intermediate (exeptions, assert, decorators etc).ipynb\n",
      "2.01 Comprehensions.ipynb\n",
      "2.02 Functions advanced.ipynb\n",
      "2.03 Introduction to Object Oriented Programming (OOP).ipynb\n",
      "2.04 Webscraping, BeautifulSoup & converting webpages to pdf (some work to do).ipynb\n",
      "2.04 Working with the OS.ipynb\n",
      "2.06 Graphs with Matplotlib.ipynb\n",
      "2.07 Working with images.ipynb\n",
      "2.08 Intro to Numpy.ipynb\n",
      "2.09 Regular expressions and pattern matching.ipynb\n",
      "2.10 Testing with pytest, mock, nose and selenium.ipynb\n",
      "2.11 Collections - special data types.ipynb\n",
      "2021-12-5_Features_.csv\n",
      "2022_09_08_OpenCV_opdracht.ipynb\n",
      "3.00 Basics of Data Analysis.ipynb\n",
      "3.01 Python and excel.ipynb\n",
      "3.02 Pandas basics.ipynb\n",
      "3.03 Time Series with Pandas (data source missing).ipynb\n",
      "3.04 Graphs advanced.ipynb\n",
      "3.05 Mathematics with Python.ipynb\n",
      "3.06 Statistics & linear regression (WiP).ipynb\n",
      "3.07 Python for geodata and maps .ipynb\n",
      "3.08 Programming some algorithms.ipynb\n",
      "4.00 a very short introduction to Deep Learning (work in progress).ipynb\n",
      "4.01 Neural Networks with Numpy.ipynb\n",
      "4.02 What is gradient descent ? .ipynb\n",
      "4.03 Computer Vision basics on Images with OpenCV.ipynb\n",
      "4.04 Computer Vision basics on Video with OpenCV.ipynb\n",
      "4.05 Teachable Machine.ipynb\n",
      "4.06 Introduction to Pytorch - Work in progress.ipynb\n",
      "4.07 Image Classification - MNIST with Keras (to update).ipynb\n",
      "4.08 Image Classification with_ResNet50.ipynb\n",
      "4.09 Face detection with Haar,  MTCNN and Keras-Facenet (HvA).ipynb\n",
      "4.10 Object Detection with YOLO.ipynb\n",
      "4.11 Object_detection with TF2.ipynb\n",
      "4.12 NLP Intro to Natural Language Procession.ipynb\n",
      "4.13  NLP - Sentiment in text (NLP zero to hero 3).ipynb\n",
      "4.14 NLP encoding, decoding and some tokenizers.ipynb\n",
      "4.15 NLP classifying movie reviews with Keras.ipynb\n",
      "4.16 Deep Learning for timeseries data.ipynb\n",
      "4.17 Translation API's.ipynb\n",
      "4.18 Transformers with Huggingface.ipynb\n",
      "4.19 NLP with Huggingface.ipynb\n",
      "4.21 Andrej Karpathy's GPT tutorial.ipynb\n",
      "5.00 Introduction to Big Data and Data Engineering.ipynb\n",
      "5.01 Publish & subscribe with MQTT .ipynb\n",
      "5.02 Asynchronous communication using websockets.ipynb\n",
      "5.03 Time Series database with InfluxDB.ipynb\n",
      "5.04 Apache Avro Data Serialization.ipynb\n",
      "5.06 XML and XSD.ipynb\n",
      "5.08 Generate OpenAPI specifications.ipynb\n",
      "5.09 parsing openAPI specs.ipynb\n",
      "5.10 Reverse Engineering the Petstore API (Medium article).ipynb\n",
      "5.10b Reverse Engineering Petstore OpenAPI spec.ipynb\n",
      "5.11 Zeep a python SOAP client.ipynb\n",
      "5.12 Creating UML diagrams with PlantUML (to clean up).ipynb\n",
      "6.01 Audio with Python- the basics.ipynb\n",
      "6.02 Audio with Python -  advanced.ipynb\n",
      "6.03 Visualising audio with librosa.ipynb\n",
      "6.04 Another way to create a mel spectrogram.ipynb\n",
      "6.05 Fourier Transform & more audio visualisation (in progress).ipynb\n",
      "6.06 Real time audio visualizing.ipynb\n",
      "6.07 Energy and Sound Pressure Level.ipynb\n",
      "6.08 Audio Yamnet_visualisation.ipynb\n",
      "6.09 Creating a Voice Assistant.ipynb\n",
      "6.10 Speech2text & Text2speech.ipynb\n",
      "6.11 Speech to text with Youtube and Twitter video's.ipynb\n",
      "6.12 Audio Data Augmentation.ipynb\n",
      "6.13 recognize keywords with tensorflow.ipynb\n",
      "6.14 Sound classification with YAMNet.ipynb\n",
      "6.15 Filter & denoise.ipynb\n",
      "6.16 Noisereduce full tutorial.ipynb\n",
      "7.00 Introduction to Network engineering and cyber (work in progress).ipynb\n",
      "7.01 Building a keylogger with Pynput.ipynb\n",
      "7.02 Packet manipulation with Scapy.ipynb\n",
      "7.03 Home network scanner.ipynb\n",
      "8.02 Intro to Flask (work in progress).ipynb\n",
      "8.03 WebRTC (basic).ipynb\n",
      "8.04 Mastodon (work in progress).ipynb\n",
      "8.05 Barchart race original.ipynb\n",
      "8.06 Creating a map ot the world's forests.ipynb\n",
      "8.07  Maps of Amsterdam.ipynb\n",
      "8.08 Image_data_augmentation.ipynb\n",
      "8.09 Pytesseract OCR Ukrainian (work in progress).ipynb\n",
      "8.10 Boids algorithm and simulating bird flock behaviour (work in progress).ipynb\n",
      "Do. Or do not. There is no try.-BQ4yd2W50No.mp4\n",
      "LICENSE\n",
      "MQTT_steve.py\n",
      "MarioGPT.ipynb\n",
      "NEXTA - 'Rescuers are trying to get survivors from under the rubble of the collapsed roof of the shopping center,' Anton Gerashchenko reports from the scene.-1541480740180860928.mp4\n",
      "NOAA_data.txt\n",
      "OEtest_210505_youtube_traffic.csv\n",
      "OEtest_210506_youtubetraffic.csv\n",
      "OpenCV_rgb.png\n",
      "Python Audio Processing Basics - How to work with audio files in Python-n2FKsPt83_A.mp4.part\n",
      "README.md\n",
      "Sample_audio.wav\n",
      "Snoring-data-2021-12-03 09_15_24.csv\n",
      "Snoring-data-2021-12-04 11_41_48.csv\n",
      "Snoring-data-2021-12-04 11_51_51.csv\n",
      "Snoring-data-2021-12-06 19_03_36.csv\n",
      "Snoring-data-2021-12-10 13_27_41.csv\n",
      "Snoring-data-2021-12-12 09_38_24.csv\n",
      "Street - 22516.mp4\n",
      "TTF.pdf\n",
      "UMTMVS.csv\n",
      "Visegrád 24 - Ukrainian man finds a drunk Russian soldier.  Via @WarNewsPL1-1541178599918673927.mp4\n",
      "XML_file.txt\n",
      "Yoda.wav\n",
      "Zebra_Zuid-Afrika (1).jpg\n",
      "Zebra_Zuid-Afrika (2).jpg\n",
      "Zebra_Zuid-Afrika.jpg\n",
      "__pycache__\n",
      "a_file.txt\n",
      "accounts2.txt\n",
      "anatomy of an array.png\n",
      "avro_exmple.py\n",
      "bus.jpg\n",
      "claxon_1m.jpg\n",
      "claxon_1m.thumbnail\n",
      "claxon_1m.wav\n",
      "claxon_1m_log.jpg\n",
      "claxon_1m_log.thumbnail\n",
      "claxon_close.jpg\n",
      "claxon_close.thumbnail\n",
      "claxon_close.wav\n",
      "claxon_close_log.jpg\n",
      "claxon_close_log.thumbnail\n",
      "claxon_freesound.wav\n",
      "claxon_iphone.wav\n",
      "claxon_iphone_log.jpg\n",
      "claxon_iphone_log.thumbnail\n",
      "claxon_michiel.wav\n",
      "claxon_michiel_log.jpg\n",
      "claxon_michiel_log.thumbnail\n",
      "cli.log\n",
      "columns.xlsx\n",
      "config.py\n",
      "converted.wav\n",
      "converted2.wav\n",
      "data.yaml\n",
      "demo.txt\n",
      "dog.jpeg\n",
      "edgeimpulse.json\n",
      "example.wav\n",
      "file.wav\n",
      "filet_4aujfo.wav\n",
      "first_app.html\n",
      "foo.csv\n",
      "geckodriver.log\n",
      "groep.jpg\n",
      "groep2.jpg\n",
      "haar_cascade_stop.xml\n",
      "haarcascade_frontalface_default.xml\n",
      "hello_world.xlsx\n",
      "hello_world_append.xlsx\n",
      "input.txt\n",
      "items.yaml\n",
      "kat_foto1.jpg\n",
      "keyword_model.zip\n",
      "leegmelden_plantuml.txt\n",
      "loudness.wav\n",
      "meta.tsv\n",
      "miaow_16k.wav\n",
      "michiel.db\n",
      "movies.xml\n",
      "mqtt_open_ears_test.py\n",
      "mqtt_sub.py\n",
      "my-audio.wav\n",
      "my-db.duckdb\n",
      "my_test.wav\n",
      "my_wav.wav\n",
      "mywav_reduced_noise.wav\n",
      "mywav_reduced_noise2.wav\n",
      "new_file.ogg\n",
      "new_file.wav\n",
      "newimage.jpg\n",
      "newimage.thumbnail\n",
      "newsegment.wav\n",
      "noise_add.wav\n",
      "note.xsd\n",
      "olifant_foto1.jpg\n",
      "olifant_foto2.jpg\n",
      "olifant_foto3.jpg\n",
      "olifant_foto4.jpg\n",
      "olifant_speelgoed1.jpg\n",
      "olifant_tekening1.jpg\n",
      "olifant_tekening2.jpg\n",
      "olifant_tekening3.jpg\n",
      "olifant_tekening4.jpg\n",
      "onderuit_1min.wav\n",
      "opencv.png\n",
      "out.pdf\n",
      "out.wav\n",
      "output.avi\n",
      "output.jpg\n",
      "output.mp4\n",
      "output.thumbnail\n",
      "output.wav\n",
      "person.json\n",
      "petstore_openapi3.json\n",
      "petstore_openapi3.yaml\n",
      "piano_c.wav\n",
      "pixellib_example.jpg\n",
      "pixellib_example.thumbnail\n",
      "plane.json\n",
      "plantuml.png\n",
      "plantuml.txt\n",
      "plantuml_complex.txt\n",
      "plantuml_complex2.txt\n",
      "plot.png\n",
      "pysimplegui1.py\n",
      "pytooter_clientcred.secret\n",
      "razorback (1).mp3\n",
      "razorback.mp3\n",
      "recordedFile.wav\n",
      "requirements.txt\n",
      "road.jpg\n",
      "road.thumbnail\n",
      "road2.jpg\n",
      "road2.png\n",
      "road2.thumbnail\n",
      "road_car_view.mp4\n",
      "robot0.wav\n",
      "robot1.wav\n",
      "robot2.wav\n",
      "robot3.wav\n",
      "sample.mp4\n",
      "sarcasm (1).json\n",
      "sarcasm.json\n",
      "save.pkl\n",
      "servers.txt\n",
      "silence.wav\n",
      "simple.xml\n",
      "simple.xsd\n",
      "sleep_df_oura_202112011-12.csv\n",
      "snoring_2021_12_3-4b.csv\n",
      "speech_whistling2.wav\n",
      "streamlit.py\n",
      "streamlit_example.py\n",
      "temp.mp3\n",
      "temp1.png\n",
      "tesseract_sample.jpeg\n",
      "test.wav\n",
      "test2.wav\n",
      "test3.wav\n",
      "tmphrr_yaf2\n",
      "tone_220.wav\n",
      "tone_440.wav\n",
      "tranquilizer.py\n",
      "untitled.txt\n",
      "user.avsc\n",
      "users.avro\n",
      "vecs.tsv\n",
      "websocketbrowser.html\n",
      "websocketbrowser.py\n",
      "welcome.mp3\n",
      "welcome.wav\n",
      "world-happiness\n",
      "world-happiness11nnjglf.tmp\n",
      "world-happinesstjpjti8t.tmp\n",
      "world-happinesswfvezx54.tmp\n",
      "yolo-tiny.h5\n",
      "yolo.h5\n",
      "yolov3.weightsy3bop11b.tmp\n",
      "yolov8m.yaml\n",
      "yolov8n.pt\n",
      "youtube-dl test video ''_ä↭𝕐-BaW_jenozKc.m4a\n",
      "youtube-dl test video ''_ä↭𝕐-BaW_jenozKc.mp4\n"
     ]
    }
   ],
   "source": [
    "from getpass import getpass\n",
    "command = 'ls'\n",
    "!echo {getpass()} | sudo -S {command}"
   ]
  },
  {
   "cell_type": "code",
   "execution_count": null,
   "id": "72804367",
   "metadata": {},
   "outputs": [],
   "source": []
  },
  {
   "cell_type": "code",
   "execution_count": null,
   "id": "38a9cea8",
   "metadata": {},
   "outputs": [],
   "source": []
  },
  {
   "cell_type": "code",
   "execution_count": null,
   "id": "9b443526",
   "metadata": {},
   "outputs": [],
   "source": []
  },
  {
   "cell_type": "markdown",
   "id": "e5968381",
   "metadata": {},
   "source": [
    "## 3. Socket"
   ]
  },
  {
   "cell_type": "code",
   "execution_count": null,
   "id": "fe6ddcfc",
   "metadata": {},
   "outputs": [],
   "source": []
  },
  {
   "cell_type": "markdown",
   "id": "0ff64652",
   "metadata": {},
   "source": [
    "## 4. Hashlib : hashing texts\n",
    "\n",
    "A hash is typically one way to do it. See also https://en.wikipedia.org/wiki/One-way_function"
   ]
  },
  {
   "cell_type": "code",
   "execution_count": 2,
   "id": "0ba435ac",
   "metadata": {},
   "outputs": [],
   "source": [
    "#hashlib is a built-in module\n",
    "import hashlib\n",
    "# encode it to bytes using UTF-8 encoding\n",
    "message = \"Some text to hash\".encode()"
   ]
  },
  {
   "cell_type": "code",
   "execution_count": 3,
   "id": "2012d34f",
   "metadata": {},
   "outputs": [
    {
     "name": "stdout",
     "output_type": "stream",
     "text": [
      "SHA-256: 7a86e0e93e6aa6cf49f19368ca7242e24640a988ac8e5508dfcede39fa53faa2\n"
     ]
    }
   ],
   "source": [
    "print(\"SHA-256:\", hashlib.sha256(message).hexdigest())"
   ]
  },
  {
   "cell_type": "code",
   "execution_count": 5,
   "id": "dcdb5299",
   "metadata": {},
   "outputs": [],
   "source": [
    "message = \"new text to hash\".encode()"
   ]
  },
  {
   "cell_type": "code",
   "execution_count": 6,
   "id": "fbd76390",
   "metadata": {},
   "outputs": [
    {
     "name": "stdout",
     "output_type": "stream",
     "text": [
      "SHA-256: 424f29d69e197be1235c673e0c14476e3891b6485bd0e53fd0094b4e0012cf9e\n"
     ]
    }
   ],
   "source": [
    "print(\"SHA-256:\", hashlib.sha256(message).hexdigest())"
   ]
  },
  {
   "cell_type": "code",
   "execution_count": 7,
   "id": "c62342ee",
   "metadata": {},
   "outputs": [
    {
     "name": "stdout",
     "output_type": "stream",
     "text": [
      "SHA-256: 424f29d69e197be1235c673e0c14476e3891b6485bd0e53fd0094b4e0012cf9e\n"
     ]
    }
   ],
   "source": [
    "print(\"SHA-256:\", hashlib.sha256(message).hexdigest())"
   ]
  },
  {
   "cell_type": "code",
   "execution_count": 9,
   "id": "039d44b9",
   "metadata": {},
   "outputs": [
    {
     "data": {
      "text/plain": [
       "64"
      ]
     },
     "execution_count": 9,
     "metadata": {},
     "output_type": "execute_result"
    }
   ],
   "source": [
    "len(hashlib.sha256(message).hexdigest())"
   ]
  },
  {
   "cell_type": "markdown",
   "id": "f0674b97",
   "metadata": {},
   "source": [
    "## 5. Create a password generator"
   ]
  },
  {
   "cell_type": "code",
   "execution_count": null,
   "id": "4d9b04cd",
   "metadata": {},
   "outputs": [],
   "source": []
  },
  {
   "cell_type": "code",
   "execution_count": null,
   "id": "dda2be95",
   "metadata": {},
   "outputs": [],
   "source": []
  },
  {
   "cell_type": "code",
   "execution_count": null,
   "id": "6d3aa214",
   "metadata": {},
   "outputs": [],
   "source": []
  },
  {
   "cell_type": "code",
   "execution_count": null,
   "id": "4121e26f",
   "metadata": {},
   "outputs": [],
   "source": []
  }
 ],
 "metadata": {
  "kernelspec": {
   "display_name": "Python 3 (ipykernel)",
   "language": "python",
   "name": "python3"
  },
  "language_info": {
   "codemirror_mode": {
    "name": "ipython",
    "version": 3
   },
   "file_extension": ".py",
   "mimetype": "text/x-python",
   "name": "python",
   "nbconvert_exporter": "python",
   "pygments_lexer": "ipython3",
   "version": "3.9.12"
  }
 },
 "nbformat": 4,
 "nbformat_minor": 5
}
