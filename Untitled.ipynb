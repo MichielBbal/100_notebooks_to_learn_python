{
 "cells": [
  {
   "cell_type": "code",
   "execution_count": 9,
   "id": "f612a8ac",
   "metadata": {},
   "outputs": [
    {
     "name": "stdout",
     "output_type": "stream",
     "text": [
      "Cloning into 'yolov9'...\n",
      "remote: Enumerating objects: 624, done.\u001b[K\n",
      "remote: Counting objects: 100% (3/3), done.\u001b[K\n",
      "remote: Compressing objects: 100% (3/3), done.\u001b[K\n",
      "remote: Total 624 (delta 0), reused 1 (delta 0), pack-reused 621\u001b[K\n",
      "Receiving objects: 100% (624/624), 3.21 MiB | 8.33 MiB/s, done.\n",
      "Resolving deltas: 100% (239/239), done.\n"
     ]
    }
   ],
   "source": [
    "!git clone https://github.com/WongKinYiu/yolov9.git\n",
    "!cd yolov9"
   ]
  },
  {
   "cell_type": "code",
   "execution_count": 10,
   "id": "004f1491",
   "metadata": {},
   "outputs": [
    {
     "data": {
      "text/plain": [
       "'./yolov9-c.pt'"
      ]
     },
     "execution_count": 10,
     "metadata": {},
     "output_type": "execute_result"
    }
   ],
   "source": [
    "from huggingface_hub import hf_hub_download \n",
    "hf_hub_download(\"merve/yolov9\", filename=\"yolov9-c.pt\", local_dir=\"./\")"
   ]
  },
  {
   "cell_type": "code",
   "execution_count": 12,
   "id": "344f9404",
   "metadata": {},
   "outputs": [
    {
     "ename": "ModuleNotFoundError",
     "evalue": "No module named 'models'",
     "output_type": "error",
     "traceback": [
      "\u001b[0;31m---------------------------------------------------------------------------\u001b[0m",
      "\u001b[0;31mModuleNotFoundError\u001b[0m                       Traceback (most recent call last)",
      "Cell \u001b[0;32mIn[12], line 4\u001b[0m\n\u001b[1;32m      2\u001b[0m \u001b[38;5;28;01mimport\u001b[39;00m \u001b[38;5;21;01mtorch\u001b[39;00m\n\u001b[1;32m      3\u001b[0m \u001b[38;5;28;01mimport\u001b[39;00m \u001b[38;5;21;01mnumpy\u001b[39;00m \u001b[38;5;28;01mas\u001b[39;00m \u001b[38;5;21;01mnp\u001b[39;00m\n\u001b[0;32m----> 4\u001b[0m \u001b[38;5;28;01mfrom\u001b[39;00m \u001b[38;5;21;01mmodels\u001b[39;00m\u001b[38;5;21;01m.\u001b[39;00m\u001b[38;5;21;01mcommon\u001b[39;00m \u001b[38;5;28;01mimport\u001b[39;00m DetectMultiBackend\n\u001b[1;32m      5\u001b[0m \u001b[38;5;28;01mfrom\u001b[39;00m \u001b[38;5;21;01mutils\u001b[39;00m\u001b[38;5;21;01m.\u001b[39;00m\u001b[38;5;21;01mgeneral\u001b[39;00m \u001b[38;5;28;01mimport\u001b[39;00m non_max_suppression, scale_boxes\n\u001b[1;32m      6\u001b[0m \u001b[38;5;28;01mfrom\u001b[39;00m \u001b[38;5;21;01mutils\u001b[39;00m\u001b[38;5;21;01m.\u001b[39;00m\u001b[38;5;21;01mtorch_utils\u001b[39;00m \u001b[38;5;28;01mimport\u001b[39;00m select_device, smart_inference_mode\n",
      "\u001b[0;31mModuleNotFoundError\u001b[0m: No module named 'models'"
     ]
    }
   ],
   "source": [
    "# make sure you have the following dependencies\n",
    "import torch\n",
    "import numpy as np\n",
    "from models.common import DetectMultiBackend\n",
    "from utils.general import non_max_suppression, scale_boxes\n",
    "from utils.torch_utils import select_device, smart_inference_mode\n",
    "from utils.augmentations import letterbox\n",
    "import PIL.Image\n",
    "\n",
    "@smart_inference_mode()\n",
    "def predict(image_path, weights='yolov9-c.pt', imgsz=640, conf_thres=0.1, iou_thres=0.45):\n",
    "    # Initialize\n",
    "    device = select_device('0')\n",
    "    model = DetectMultiBackend(weights='yolov9-c.pt', device=\"0\", fp16=False, data='data/coco.yaml')\n",
    "    stride, names, pt = model.stride, model.names, model.pt\n",
    "\n",
    "    # Load image\n",
    "    image = np.array(PIL.Image.open(image_path))\n",
    "    img = letterbox(img0, imgsz, stride=stride, auto=True)[0]\n",
    "    img = img[:, :, ::-1].transpose(2, 0, 1)\n",
    "    img = np.ascontiguousarray(img)\n",
    "    img = torch.from_numpy(img).to(device).float()\n",
    "    img /= 255.0\n",
    "    if img.ndimension() == 3:\n",
    "        img = img.unsqueeze(0)\n",
    "\n",
    "    # Inference\n",
    "    pred = model(img, augment=False, visualize=False)\n",
    "\n",
    "    # Apply NMS\n",
    "    pred = non_max_suppression(pred[0][0], conf_thres, iou_thres, classes=None, max_det=1000)\n"
   ]
  },
  {
   "cell_type": "code",
   "execution_count": null,
   "id": "68ba1aee",
   "metadata": {},
   "outputs": [],
   "source": []
  }
 ],
 "metadata": {
  "kernelspec": {
   "display_name": "Python 3 (ipykernel)",
   "language": "python",
   "name": "python3"
  },
  "language_info": {
   "codemirror_mode": {
    "name": "ipython",
    "version": 3
   },
   "file_extension": ".py",
   "mimetype": "text/x-python",
   "name": "python",
   "nbconvert_exporter": "python",
   "pygments_lexer": "ipython3",
   "version": "3.10.9"
  }
 },
 "nbformat": 4,
 "nbformat_minor": 5
}
