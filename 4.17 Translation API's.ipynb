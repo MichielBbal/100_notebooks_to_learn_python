{
 "cells": [
  {
   "cell_type": "markdown",
   "id": "857232f1",
   "metadata": {},
   "source": [
    "# Translation API's\n",
    "\n",
    "In this notebook we will use two translation modules to do translations\n",
    "\n",
    "## Contents\n",
    "0. Install packages\n",
    "1. Translate API  \n",
    "2. DeepL API\n",
    "\n",
    "### sources:\n",
    "- https://pypi.org/project/translate-api/\n",
    "- https://www.deepl.com/docs-api/introduction/\n"
   ]
  },
  {
   "cell_type": "markdown",
   "id": "70f211ad",
   "metadata": {},
   "source": [
    "## 0. Install packages"
   ]
  },
  {
   "cell_type": "code",
   "execution_count": 2,
   "id": "16c95439",
   "metadata": {},
   "outputs": [
    {
     "name": "stdout",
     "output_type": "stream",
     "text": [
      "Requirement already satisfied: translators in /Users/michielbontenbal/opt/anaconda3/lib/python3.9/site-packages (5.4.2)\n",
      "Collecting translators\n",
      "  Downloading translators-5.5.6-py3-none-any.whl (33 kB)\n",
      "Requirement already satisfied: PyExecJS>=1.5.1 in /Users/michielbontenbal/opt/anaconda3/lib/python3.9/site-packages (from translators) (1.5.1)\n",
      "Requirement already satisfied: pathos>=0.2.9 in /Users/michielbontenbal/opt/anaconda3/lib/python3.9/site-packages (from translators) (0.2.9)\n",
      "Requirement already satisfied: lxml>=4.9.1 in /Users/michielbontenbal/opt/anaconda3/lib/python3.9/site-packages (from translators) (4.9.1)\n",
      "Collecting cryptography>=38.0.1\n",
      "  Downloading cryptography-39.0.1-cp36-abi3-macosx_10_12_x86_64.whl (2.9 MB)\n",
      "\u001b[K     |████████████████████████████████| 2.9 MB 5.2 MB/s eta 0:00:01\n",
      "\u001b[?25hRequirement already satisfied: requests>=2.28.1 in /Users/michielbontenbal/opt/anaconda3/lib/python3.9/site-packages (from translators) (2.28.1)\n",
      "Requirement already satisfied: cffi>=1.12 in /Users/michielbontenbal/opt/anaconda3/lib/python3.9/site-packages (from cryptography>=38.0.1->translators) (1.15.0)\n",
      "Requirement already satisfied: pycparser in /Users/michielbontenbal/opt/anaconda3/lib/python3.9/site-packages (from cffi>=1.12->cryptography>=38.0.1->translators) (2.21)\n",
      "Requirement already satisfied: multiprocess>=0.70.13 in /Users/michielbontenbal/opt/anaconda3/lib/python3.9/site-packages (from pathos>=0.2.9->translators) (0.70.13)\n",
      "Requirement already satisfied: pox>=0.3.1 in /Users/michielbontenbal/opt/anaconda3/lib/python3.9/site-packages (from pathos>=0.2.9->translators) (0.3.1)\n",
      "Requirement already satisfied: dill>=0.3.5.1 in /Users/michielbontenbal/opt/anaconda3/lib/python3.9/site-packages (from pathos>=0.2.9->translators) (0.3.5.1)\n",
      "Requirement already satisfied: ppft>=1.7.6.5 in /Users/michielbontenbal/opt/anaconda3/lib/python3.9/site-packages (from pathos>=0.2.9->translators) (1.7.6.5)\n",
      "Requirement already satisfied: six>=1.7.3 in /Users/michielbontenbal/opt/anaconda3/lib/python3.9/site-packages (from ppft>=1.7.6.5->pathos>=0.2.9->translators) (1.16.0)\n",
      "Requirement already satisfied: urllib3<1.27,>=1.21.1 in /Users/michielbontenbal/opt/anaconda3/lib/python3.9/site-packages (from requests>=2.28.1->translators) (1.26.9)\n",
      "Requirement already satisfied: idna<4,>=2.5 in /Users/michielbontenbal/opt/anaconda3/lib/python3.9/site-packages (from requests>=2.28.1->translators) (3.3)\n",
      "Requirement already satisfied: charset-normalizer<3,>=2 in /Users/michielbontenbal/opt/anaconda3/lib/python3.9/site-packages (from requests>=2.28.1->translators) (2.0.4)\n",
      "Requirement already satisfied: certifi>=2017.4.17 in /Users/michielbontenbal/opt/anaconda3/lib/python3.9/site-packages (from requests>=2.28.1->translators) (2021.10.8)\n",
      "Installing collected packages: cryptography, translators\n",
      "  Attempting uninstall: cryptography\n",
      "    Found existing installation: cryptography 3.4.8\n",
      "    Uninstalling cryptography-3.4.8:\n",
      "      Successfully uninstalled cryptography-3.4.8\n",
      "  Attempting uninstall: translators\n",
      "    Found existing installation: translators 5.4.2\n",
      "    Uninstalling translators-5.4.2:\n",
      "      Successfully uninstalled translators-5.4.2\n",
      "Successfully installed cryptography-39.0.1 translators-5.5.6\n"
     ]
    }
   ],
   "source": [
    "!pip install translators --upgrade"
   ]
  },
  {
   "cell_type": "code",
   "execution_count": 1,
   "id": "13cad301",
   "metadata": {},
   "outputs": [
    {
     "name": "stdout",
     "output_type": "stream",
     "text": [
      "Requirement already satisfied: deepl in /Users/michielbontenbal/opt/anaconda3/lib/python3.9/site-packages (1.11.0)\r\n",
      "Requirement already satisfied: requests<3,>=2 in /Users/michielbontenbal/opt/anaconda3/lib/python3.9/site-packages (from deepl) (2.28.1)\r\n",
      "Requirement already satisfied: certifi>=2017.4.17 in /Users/michielbontenbal/opt/anaconda3/lib/python3.9/site-packages (from requests<3,>=2->deepl) (2021.10.8)\r\n",
      "Requirement already satisfied: idna<4,>=2.5 in /Users/michielbontenbal/opt/anaconda3/lib/python3.9/site-packages (from requests<3,>=2->deepl) (3.3)\r\n",
      "Requirement already satisfied: charset-normalizer<3,>=2 in /Users/michielbontenbal/opt/anaconda3/lib/python3.9/site-packages (from requests<3,>=2->deepl) (2.0.4)\r\n",
      "Requirement already satisfied: urllib3<1.27,>=1.21.1 in /Users/michielbontenbal/opt/anaconda3/lib/python3.9/site-packages (from requests<3,>=2->deepl) (1.26.9)\r\n"
     ]
    }
   ],
   "source": [
    "!pip install deepl"
   ]
  },
  {
   "cell_type": "markdown",
   "id": "c5c6da9e",
   "metadata": {},
   "source": [
    "## 1. Translate API (working)\n",
    "\n",
    "- pypi: https://pypi.org/project/translate-api/ "
   ]
  },
  {
   "cell_type": "code",
   "execution_count": 11,
   "id": "4c94ede5",
   "metadata": {},
   "outputs": [
    {
     "name": "stdout",
     "output_type": "stream",
     "text": [
      "Trails of huyar zersts that can only break through the first line of defense. Huarize the machines of the aviation artillery. Twenty-nine aircraft.\n"
     ]
    }
   ],
   "source": [
    "import translators as ts\n",
    "\n",
    "your_text = 'Тропы хуярых церстов, что только можно прорвали первую линию обороны. Хуярят станков авиации артиллерии. Двадцать девять авиации.'\n",
    "\n",
    "# input languages\n",
    "print(ts.translate_text(your_text)) # default: from_language='auto', to_language='en'"
   ]
  },
  {
   "cell_type": "code",
   "execution_count": 12,
   "id": "b568b2cb",
   "metadata": {},
   "outputs": [
    {
     "name": "stdout",
     "output_type": "stream",
     "text": [
      "['__author__', '__builtins__', '__cached__', '__doc__', '__file__', '__loader__', '__name__', '__package__', '__path__', '__spec__', '__version__', 'server', 'translate_html', 'translate_text', 'translators_pool']\n"
     ]
    }
   ],
   "source": [
    "#by using the dir we can see that we can use built in method 'translate_text'\n",
    "print(dir(ts))"
   ]
  },
  {
   "cell_type": "code",
   "execution_count": 14,
   "id": "b6cb0454",
   "metadata": {},
   "outputs": [
    {
     "name": "stdout",
     "output_type": "stream",
     "text": [
      "here is this man alive served relaxed not sleeping swells nothing disturbs\n"
     ]
    }
   ],
   "source": [
    "import translators as ts\n",
    "my_text ='вот ето человек живой отслужил расслабился не спит отекает ничего не тревожит'\n",
    "print(ts.translate_text(my_text)) # default: from_language='auto', to_language='en'"
   ]
  },
  {
   "cell_type": "markdown",
   "id": "6ed44fdc",
   "metadata": {},
   "source": [
    "## 2. DeepL\n",
    "- https://www.deepl.com/docs-api/introduction/\n",
    "- source: https://www.deepl.com/nl/blog/announcing-python-client-library-for-deepl-api\n",
    "- account: https://www.deepl.com/nl/account/summary\n",
    "- pypi: https://pypi.org/project/deepl/\n",
    "\n",
    "Languages supported (Aug 2022): https://www.deepl.com/nl/docs-api/translating-text/\n",
    "For me relevant: Russian, Dutch, English but not: Ukrainian\n",
    "\n",
    "### Instruction\n",
    "Visit www.deepl.com and create your own account there. You will be given an API-key and you will need to use it in the script below. Do not show it to others and do not upload it to GitHub, but store it either in a config.py file or as an environment variable (Windows)."
   ]
  },
  {
   "cell_type": "code",
   "execution_count": 17,
   "id": "6052a035",
   "metadata": {},
   "outputs": [
    {
     "data": {
      "text/plain": [
       "'Sporen van verdomde Kersten zijn zo goed mogelijk door de eerste verdedigingslinie gebroken. Verdomde machinegeweren van het luchtafweergeschut. Negenentwintig vliegtuigen.'"
      ]
     },
     "execution_count": 17,
     "metadata": {},
     "output_type": "execute_result"
    }
   ],
   "source": [
    "import deepl \n",
    "import config #this is my own config file. You'll need to create your own. See notebook 2.x\n",
    "my_api_key = config.deepl #get your own API Key!\n",
    "translator = deepl.Translator(my_api_key) \n",
    "text = 'Тропы хуярых церстов, что только можно прорвали первую линию обороны. Хуярят станков авиации артиллерии. Двадцать девять авиации.'\n",
    "target_language = 'nl'\n",
    "result = translator.translate_text(text, target_lang=target_language) \n",
    "translated_text = result.text\n",
    "translated_text"
   ]
  }
 ],
 "metadata": {
  "kernelspec": {
   "display_name": "Python 3 (ipykernel)",
   "language": "python",
   "name": "python3"
  },
  "language_info": {
   "codemirror_mode": {
    "name": "ipython",
    "version": 3
   },
   "file_extension": ".py",
   "mimetype": "text/x-python",
   "name": "python",
   "nbconvert_exporter": "python",
   "pygments_lexer": "ipython3",
   "version": "3.9.12"
  }
 },
 "nbformat": 4,
 "nbformat_minor": 5
}
