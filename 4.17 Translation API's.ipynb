{
 "cells": [
  {
   "cell_type": "markdown",
   "id": "857232f1",
   "metadata": {},
   "source": [
    "# Translation API's\n",
    "\n",
    "In this notebook we will use two translation modules to do translations\n",
    "\n",
    "## Contents\n",
    "0. Install packages\n",
    "1. Translate API  \n",
    "2. DeepL API\n",
    "\n",
    "### sources:\n",
    "- https://pypi.org/project/translate-api/\n",
    "- https://www.deepl.com/docs-api/introduction/\n"
   ]
  },
  {
   "cell_type": "markdown",
   "id": "70f211ad",
   "metadata": {},
   "source": [
    "## 0. Install packages"
   ]
  },
  {
   "cell_type": "code",
   "execution_count": 3,
   "id": "16c95439",
   "metadata": {},
   "outputs": [
    {
     "name": "stdout",
     "output_type": "stream",
     "text": [
      "Collecting translators\n",
      "  Downloading translators-5.7.6-py3-none-any.whl (41 kB)\n",
      "\u001b[2K     \u001b[90m━━━━━━━━━━━━━━━━━━━━━━━━━━━━━━━━━━━━━━━━\u001b[0m \u001b[32m41.7/41.7 kB\u001b[0m \u001b[31m1.2 MB/s\u001b[0m eta \u001b[36m0:00:00\u001b[0m\n",
      "\u001b[?25hCollecting PyExecJS>=1.5.1\n",
      "  Using cached PyExecJS-1.5.1.tar.gz (13 kB)\n",
      "  Preparing metadata (setup.py) ... \u001b[?25ldone\n",
      "\u001b[?25hRequirement already satisfied: cryptography>=38.0.1 in /Users/michielbontenbal/anaconda3/lib/python3.10/site-packages (from translators) (39.0.1)\n",
      "Requirement already satisfied: lxml>=4.9.1 in /Users/michielbontenbal/anaconda3/lib/python3.10/site-packages (from translators) (4.9.1)\n",
      "Collecting pathos>=0.2.9\n",
      "  Using cached pathos-0.3.0-py3-none-any.whl (79 kB)\n",
      "Collecting tqdm>=4.65.0\n",
      "  Using cached tqdm-4.65.0-py3-none-any.whl (77 kB)\n",
      "Requirement already satisfied: requests>=2.29.0 in /Users/michielbontenbal/anaconda3/lib/python3.10/site-packages (from translators) (2.31.0)\n",
      "Requirement already satisfied: cffi>=1.12 in /Users/michielbontenbal/anaconda3/lib/python3.10/site-packages (from cryptography>=38.0.1->translators) (1.15.1)\n",
      "Collecting ppft>=1.7.6.6\n",
      "  Using cached ppft-1.7.6.6-py3-none-any.whl (52 kB)\n",
      "Requirement already satisfied: multiprocess>=0.70.14 in /Users/michielbontenbal/anaconda3/lib/python3.10/site-packages (from pathos>=0.2.9->translators) (0.70.14)\n",
      "Collecting pox>=0.3.2\n",
      "  Using cached pox-0.3.2-py3-none-any.whl (29 kB)\n",
      "Requirement already satisfied: dill>=0.3.6 in /Users/michielbontenbal/anaconda3/lib/python3.10/site-packages (from pathos>=0.2.9->translators) (0.3.6)\n",
      "Requirement already satisfied: six>=1.10.0 in /Users/michielbontenbal/anaconda3/lib/python3.10/site-packages (from PyExecJS>=1.5.1->translators) (1.16.0)\n",
      "Requirement already satisfied: urllib3<3,>=1.21.1 in /Users/michielbontenbal/anaconda3/lib/python3.10/site-packages (from requests>=2.29.0->translators) (1.26.14)\n",
      "Requirement already satisfied: charset-normalizer<4,>=2 in /Users/michielbontenbal/anaconda3/lib/python3.10/site-packages (from requests>=2.29.0->translators) (2.0.4)\n",
      "Requirement already satisfied: idna<4,>=2.5 in /Users/michielbontenbal/anaconda3/lib/python3.10/site-packages (from requests>=2.29.0->translators) (2.10)\n",
      "Requirement already satisfied: certifi>=2017.4.17 in /Users/michielbontenbal/anaconda3/lib/python3.10/site-packages (from requests>=2.29.0->translators) (2022.12.7)\n",
      "Requirement already satisfied: pycparser in /Users/michielbontenbal/anaconda3/lib/python3.10/site-packages (from cffi>=1.12->cryptography>=38.0.1->translators) (2.21)\n",
      "Building wheels for collected packages: PyExecJS\n",
      "  Building wheel for PyExecJS (setup.py) ... \u001b[?25ldone\n",
      "\u001b[?25h  Created wheel for PyExecJS: filename=PyExecJS-1.5.1-py3-none-any.whl size=14580 sha256=b9d88a469ed18b4ed0d3a4233af23f984405e271f9e852605bbf8f003e2364a5\n",
      "  Stored in directory: /Users/michielbontenbal/Library/Caches/pip/wheels/39/a1/84/c1a66cb4bcf63fa86980377eefbc55d4abb1b92c150e9effee\n",
      "Successfully built PyExecJS\n",
      "Installing collected packages: tqdm, PyExecJS, ppft, pox, pathos, translators\n",
      "  Attempting uninstall: tqdm\n",
      "    Found existing installation: tqdm 4.61.2\n",
      "    Uninstalling tqdm-4.61.2:\n",
      "      Successfully uninstalled tqdm-4.61.2\n",
      "\u001b[31mERROR: pip's dependency resolver does not currently take into account all the packages that are installed. This behaviour is the source of the following dependency conflicts.\n",
      "weaviate-client 3.0.0 requires requests<2.26.0,>=2.23.0, but you have requests 2.31.0 which is incompatible.\n",
      "weaviate-client 3.0.0 requires tqdm<4.62.0,>=4.59.0, but you have tqdm 4.65.0 which is incompatible.\u001b[0m\u001b[31m\n",
      "\u001b[0mSuccessfully installed PyExecJS-1.5.1 pathos-0.3.0 pox-0.3.2 ppft-1.7.6.6 tqdm-4.65.0 translators-5.7.6\n"
     ]
    }
   ],
   "source": [
    "!pip install translators --upgrade"
   ]
  },
  {
   "cell_type": "code",
   "execution_count": 6,
   "id": "13cad301",
   "metadata": {},
   "outputs": [
    {
     "name": "stdout",
     "output_type": "stream",
     "text": [
      "Collecting deepl\n",
      "  Downloading deepl-1.15.0-py3-none-any.whl (32 kB)\n",
      "Requirement already satisfied: requests<3,>=2 in /Users/michielbontenbal/anaconda3/lib/python3.10/site-packages (from deepl) (2.31.0)\n",
      "Requirement already satisfied: charset-normalizer<4,>=2 in /Users/michielbontenbal/anaconda3/lib/python3.10/site-packages (from requests<3,>=2->deepl) (2.0.4)\n",
      "Requirement already satisfied: urllib3<3,>=1.21.1 in /Users/michielbontenbal/anaconda3/lib/python3.10/site-packages (from requests<3,>=2->deepl) (1.26.14)\n",
      "Requirement already satisfied: certifi>=2017.4.17 in /Users/michielbontenbal/anaconda3/lib/python3.10/site-packages (from requests<3,>=2->deepl) (2022.12.7)\n",
      "Requirement already satisfied: idna<4,>=2.5 in /Users/michielbontenbal/anaconda3/lib/python3.10/site-packages (from requests<3,>=2->deepl) (2.10)\n",
      "Installing collected packages: deepl\n",
      "Successfully installed deepl-1.15.0\n"
     ]
    }
   ],
   "source": [
    "!pip install deepl"
   ]
  },
  {
   "cell_type": "markdown",
   "id": "c5c6da9e",
   "metadata": {},
   "source": [
    "## 1. Translate API (working)\n",
    "\n",
    "- pypi: https://pypi.org/project/translate-api/ "
   ]
  },
  {
   "cell_type": "code",
   "execution_count": 4,
   "id": "4c94ede5",
   "metadata": {},
   "outputs": [
    {
     "name": "stderr",
     "output_type": "stream",
     "text": [
      "Using region North Holland server backend.\n",
      "\n"
     ]
    },
    {
     "name": "stdout",
     "output_type": "stream",
     "text": [
      "The paths of the churches that only possible broke through the first line of defense. They the machines of aviation, artillery. Twenty-nine aviation.\n"
     ]
    }
   ],
   "source": [
    "import translators as ts\n",
    "\n",
    "your_text = 'Тропы хуярых церстов, что только можно прорвали первую линию обороны. Хуярят станков авиации артиллерии. Двадцать девять авиации.'\n",
    "\n",
    "# input languages\n",
    "print(ts.translate_text(your_text)) # default: from_language='auto', to_language='en'"
   ]
  },
  {
   "cell_type": "code",
   "execution_count": 5,
   "id": "b568b2cb",
   "metadata": {},
   "outputs": [
    {
     "name": "stdout",
     "output_type": "stream",
     "text": [
      "['__author__', '__builtins__', '__cached__', '__doc__', '__file__', '__loader__', '__name__', '__package__', '__path__', '__spec__', '__version__', 'preaccelerate_and_speedtest', 'server', 'translate_html', 'translate_text', 'translators_pool']\n"
     ]
    }
   ],
   "source": [
    "#by using the dir we can see that we can use built in method 'translate_text'\n",
    "print(dir(ts))"
   ]
  },
  {
   "cell_type": "code",
   "execution_count": 14,
   "id": "b6cb0454",
   "metadata": {},
   "outputs": [
    {
     "name": "stdout",
     "output_type": "stream",
     "text": [
      "here is this man alive served relaxed not sleeping swells nothing disturbs\n"
     ]
    }
   ],
   "source": [
    "import translators as ts\n",
    "my_text ='вот ето человек живой отслужил расслабился не спит отекает ничего не тревожит'\n",
    "print(ts.translate_text(my_text)) # default: from_language='auto', to_language='en'"
   ]
  },
  {
   "cell_type": "markdown",
   "id": "6ed44fdc",
   "metadata": {},
   "source": [
    "## 2. DeepL\n",
    "- https://www.deepl.com/docs-api/introduction/\n",
    "- source: https://www.deepl.com/nl/blog/announcing-python-client-library-for-deepl-api\n",
    "- account: https://www.deepl.com/nl/account/summary\n",
    "- pypi: https://pypi.org/project/deepl/\n",
    "\n",
    "Languages supported (Aug 2022): https://www.deepl.com/nl/docs-api/translating-text/\n",
    "For me relevant: Russian, Dutch, English but not: Ukrainian\n",
    "\n",
    "### Instruction\n",
    "Visit www.deepl.com and create your own account there. You will be given an API-key and you will need to use it in the script below. Do not show it to others and do not upload it to GitHub, but store it either in a config.py file or as an environment variable (Windows)."
   ]
  },
  {
   "cell_type": "code",
   "execution_count": 7,
   "id": "6052a035",
   "metadata": {},
   "outputs": [
    {
     "data": {
      "text/plain": [
       "'Sporen van verdomde Kersten zijn zo goed mogelijk door de eerste verdedigingslinie gebroken. Verdomde machinegeweren van luchtafweergeschut. Negenentwintig vliegtuigen.'"
      ]
     },
     "execution_count": 7,
     "metadata": {},
     "output_type": "execute_result"
    }
   ],
   "source": [
    "import deepl \n",
    "import config #this is my own config file. You'll need to create your own. See notebook 2.x\n",
    "my_api_key = config.deepl #get your own API Key!\n",
    "translator = deepl.Translator(my_api_key) \n",
    "text = 'Тропы хуярых церстов, что только можно прорвали первую линию обороны. Хуярят станков авиации артиллерии. Двадцать девять авиации.'\n",
    "target_language = 'nl'\n",
    "result = translator.translate_text(text, target_lang=target_language) \n",
    "translated_text = result.text\n",
    "translated_text"
   ]
  },
  {
   "cell_type": "code",
   "execution_count": 9,
   "id": "f06a3a5f",
   "metadata": {},
   "outputs": [
    {
     "name": "stdout",
     "output_type": "stream",
     "text": [
      "Bonjour à tous !\n"
     ]
    }
   ],
   "source": [
    "result = translator.translate_text(\"Hello, world!\", target_lang=\"FR\")\n",
    "print(result.text)  # \"Bonjour, le monde !\""
   ]
  },
  {
   "cell_type": "code",
   "execution_count": 11,
   "id": "c101dead",
   "metadata": {},
   "outputs": [
    {
     "name": "stdout",
     "output_type": "stream",
     "text": [
      "EN\n"
     ]
    }
   ],
   "source": [
    "print(result.detected_source_lang)  "
   ]
  },
  {
   "cell_type": "code",
   "execution_count": null,
   "id": "83220c87",
   "metadata": {},
   "outputs": [],
   "source": []
  }
 ],
 "metadata": {
  "kernelspec": {
   "display_name": "Python 3 (ipykernel)",
   "language": "python",
   "name": "python3"
  },
  "language_info": {
   "codemirror_mode": {
    "name": "ipython",
    "version": 3
   },
   "file_extension": ".py",
   "mimetype": "text/x-python",
   "name": "python",
   "nbconvert_exporter": "python",
   "pygments_lexer": "ipython3",
   "version": "3.10.9"
  }
 },
 "nbformat": 4,
 "nbformat_minor": 5
}
