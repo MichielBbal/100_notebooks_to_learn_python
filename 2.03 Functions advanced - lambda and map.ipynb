{
 "cells": [
  {
   "cell_type": "markdown",
   "metadata": {},
   "source": [
    "# Python Functions advanced\n",
    "\n",
    "### Contents:\n",
    "1. Lambda functions\n",
    "2. Map function\n",
    "3. Comprehensions (to do)"
   ]
  },
  {
   "cell_type": "markdown",
   "metadata": {},
   "source": [
    "## 0. Install packages"
   ]
  },
  {
   "cell_type": "code",
   "execution_count": 6,
   "metadata": {},
   "outputs": [],
   "source": [
    "# no packages to install"
   ]
  },
  {
   "cell_type": "markdown",
   "metadata": {},
   "source": [
    "## 1. Lambda functions & list comprehensions\n",
    "\n",
    "Lambda functions are also called anonymous functions or lambda expressions. It is not bound to an identifier. If the function is only once used, it may be used. Could be very confusing. It's derived from lambda calculus.\n",
    "\n",
    "It's quite often used in sorting (see examples below)\n",
    "\n",
    "source: https://www.youtube.com/watch?v=25ovCm9jKfA&list=PLi01XoE8jYohWFPpC17Z-wWhPOSuh8Er-&index=26"
   ]
  },
  {
   "cell_type": "code",
   "execution_count": 1,
   "metadata": {},
   "outputs": [
    {
     "data": {
      "text/plain": [
       "3"
      ]
     },
     "execution_count": 1,
     "metadata": {},
     "output_type": "execute_result"
    }
   ],
   "source": [
    "#simple lambda function\n",
    "my_function = lambda a,b,c : a+b\n",
    "my_function(1,2,3)"
   ]
  },
  {
   "cell_type": "code",
   "execution_count": 2,
   "metadata": {},
   "outputs": [
    {
     "name": "stdout",
     "output_type": "stream",
     "text": [
      "[0, 2, 4, 6, 8, 10, 12, 14, 16, 18, 20, 22, 24, 26, 28, 30, 32, 34, 36, 38, 40, 42, 44, 46, 48, 50, 52, 54, 56, 58, 60, 62, 64, 66, 68, 70, 72, 74, 76, 78, 80, 82, 84, 86, 88, 90, 92, 94, 96, 98]\n"
     ]
    }
   ],
   "source": [
    "#traditional function\n",
    "my_list = []\n",
    "for number in range(0,100):\n",
    "    if number %2 ==0:\n",
    "        my_list.append(number)\n",
    "print(my_list)       "
   ]
  },
  {
   "cell_type": "code",
   "execution_count": 3,
   "metadata": {},
   "outputs": [
    {
     "name": "stdout",
     "output_type": "stream",
     "text": [
      "[0, 2, 4, 6, 8, 10, 12, 14, 16, 18, 20, 22, 24, 26, 28, 30, 32, 34, 36, 38, 40, 42, 44, 46, 48, 50, 52, 54, 56, 58, 60, 62, 64, 66, 68, 70, 72, 74, 76, 78, 80, 82, 84, 86, 88, 90, 92, 94, 96, 98]\n"
     ]
    }
   ],
   "source": [
    "# list comprehension\n",
    "my_list = [number for number in range(0,100) if number %2 == 0]\n",
    "print(my_list)"
   ]
  },
  {
   "cell_type": "code",
   "execution_count": 4,
   "metadata": {},
   "outputs": [
    {
     "data": {
      "text/plain": [
       "7"
      ]
     },
     "execution_count": 4,
     "metadata": {},
     "output_type": "execute_result"
    }
   ],
   "source": [
    "# traditional function\n",
    "def f(x):\n",
    "    return 3*x+1\n",
    "f(2)\n",
    "# lambda function\n",
    "g = lambda x: 3*x+1 \n",
    "g(2)"
   ]
  },
  {
   "cell_type": "code",
   "execution_count": 511,
   "metadata": {},
   "outputs": [
    {
     "data": {
      "text/plain": [
       "['Douglas Adams',\n",
       " 'Isaac Asimov',\n",
       " 'Ray Bradbury',\n",
       " 'Arthur C. Clarke',\n",
       " 'Robert Heinlein',\n",
       " 'Frank Herbert']"
      ]
     },
     "execution_count": 511,
     "metadata": {},
     "output_type": "execute_result"
    }
   ],
   "source": [
    "#2 examples of lambda functions\n",
    "full_name = lambda fn, ln: fn.strip().title() + \" \"+ln.strip().title()\n",
    "full_name(\"   leonhard\", 'EULER')\n",
    "\n",
    "scifi_authors = [\"Isaac Asimov\", \"Ray Bradbury\", \"Robert Heinlein\", \"Arthur C. Clarke\", \"Frank Herbert\",\n",
    "                 \"Douglas Adams\"]\n",
    "scifi_authors.sort(key=lambda name: name.split(\" \")[-1].lower())\n",
    "scifi_authors"
   ]
  },
  {
   "cell_type": "code",
   "execution_count": 525,
   "metadata": {},
   "outputs": [
    {
     "name": "stdout",
     "output_type": "stream",
     "text": [
      "['car', 'bike', 'house']\n",
      "[1, 4, 9, 16, 25, 36]\n",
      "[1, 4, 9, 16, 25, 36]\n"
     ]
    }
   ],
   "source": [
    "# 1. A lambda function to sort a list\n",
    "a = ['house', 'car', 'bike']\n",
    "a.sort(key=lambda x: len(x)) #it uses sort and then lambda with len(gth). You can add reverse=True. \n",
    "print(a)\n",
    "# 2. A lambda function map to call each item on a list. \n",
    "b = [1, 2, 3, 4, 5, 6]\n",
    "print(list(map(lambda x: x*x, b))) #this is with a lambda function but still too complicated for python\n",
    "print([x*x for x in b])"
   ]
  },
  {
   "cell_type": "code",
   "execution_count": 4,
   "metadata": {},
   "outputs": [
    {
     "data": {
      "text/plain": [
       "'afsd'"
      ]
     },
     "execution_count": 4,
     "metadata": {},
     "output_type": "execute_result"
    }
   ],
   "source": [
    "# use lambda to sort a list of list\n",
    "# source:https://stackoverflow.com/questions/4174941/how-to-sort-a-list-of-lists-by-a-specific-index-of-the-inner-list\n",
    "l = [[0, 1, 'f'], [4, 2, 't'], [9, 4, 'afsd']]\n",
    "l.sort(key=lambda x: x[2])\n",
    "# and return the \n",
    "result = l[0]\n",
    "result[2]"
   ]
  },
  {
   "cell_type": "markdown",
   "metadata": {},
   "source": [
    "## 2. Map function\n",
    "\n",
    "The map() function executes a specified function for each item in a iterable. The item is sent to the function as a parameter. This is a built-in function"
   ]
  },
  {
   "cell_type": "code",
   "execution_count": 6,
   "metadata": {},
   "outputs": [
    {
     "name": "stdout",
     "output_type": "stream",
     "text": [
      "<map object at 0x7f886f124910>\n",
      "<class 'map'>\n",
      "[5, 6, 6]\n"
     ]
    }
   ],
   "source": [
    "def myfunc(n):\n",
    "  return len(n)\n",
    "\n",
    "x= map(myfunc, ('apple', 'banana', 'cherry')) # this create a map. Map have to be converted to a list\n",
    "print(x)\n",
    "print(type(x))\n",
    "print(list(x))"
   ]
  },
  {
   "cell_type": "code",
   "execution_count": 5,
   "metadata": {},
   "outputs": [
    {
     "name": "stdout",
     "output_type": "stream",
     "text": [
      "['appleorange', 'bananalemon', 'cherrypineapple']\n"
     ]
    }
   ],
   "source": [
    "# script to combine two lists\n",
    "def myfunc(a, b):\n",
    "  return a + b\n",
    "\n",
    "x = list(map(myfunc, ('apple', 'banana', 'cherry'), ('orange', 'lemon', 'pineapple')))\n",
    "print(x)"
   ]
  },
  {
   "cell_type": "markdown",
   "metadata": {},
   "source": [
    "\n"
   ]
  }
 ],
 "metadata": {
  "kernelspec": {
   "display_name": "Python 3 (ipykernel)",
   "language": "python",
   "name": "python3"
  },
  "language_info": {
   "codemirror_mode": {
    "name": "ipython",
    "version": 3
   },
   "file_extension": ".py",
   "mimetype": "text/x-python",
   "name": "python",
   "nbconvert_exporter": "python",
   "pygments_lexer": "ipython3",
   "version": "3.9.12"
  }
 },
 "nbformat": 4,
 "nbformat_minor": 2
}
