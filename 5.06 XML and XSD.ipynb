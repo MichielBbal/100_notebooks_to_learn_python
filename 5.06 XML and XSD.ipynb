{
 "cells": [
  {
   "cell_type": "markdown",
   "id": "e2ab92fb",
   "metadata": {},
   "source": [
    "# XML and XSD\n",
    "\n",
    "A Notebook to learn about the XML format and XSD's.\n",
    "\n",
    "## Contents\n",
    "0. Install packages\n",
    "1. Converting XML to dictionary to JSON\n",
    "2. Converting python dict to XML\n",
    "3. My first xsd\n",
    "\n",
    "\n",
    "### Links:\n",
    "- https://xmlschema.readthedocs.io/en/latest/ \n",
    "- https://pypi.org/project/xmlschema/\n",
    "- https://xsdata.readthedocs.io/en/latest/"
   ]
  },
  {
   "cell_type": "markdown",
   "id": "047c8402",
   "metadata": {},
   "source": [
    "## 0. Install packages"
   ]
  },
  {
   "cell_type": "code",
   "execution_count": 3,
   "id": "73008096",
   "metadata": {},
   "outputs": [
    {
     "name": "stdout",
     "output_type": "stream",
     "text": [
      "Collecting xmltodict\n",
      "  Downloading xmltodict-0.13.0-py2.py3-none-any.whl (10.0 kB)\n",
      "Installing collected packages: xmltodict\n",
      "Successfully installed xmltodict-0.13.0\n"
     ]
    }
   ],
   "source": [
    "!pip install xmltodict"
   ]
  },
  {
   "cell_type": "code",
   "execution_count": 1,
   "id": "45b10be2",
   "metadata": {},
   "outputs": [
    {
     "name": "stdout",
     "output_type": "stream",
     "text": [
      "Collecting xmlschema\n",
      "  Downloading xmlschema-1.9.2-py3-none-any.whl (273 kB)\n",
      "Collecting elementpath<3.0.0,>=2.4.0\n",
      "  Downloading elementpath-2.4.0-py3-none-any.whl (163 kB)\n",
      "Installing collected packages: elementpath, xmlschema\n",
      "Successfully installed elementpath-2.4.0 xmlschema-1.9.2\n"
     ]
    }
   ],
   "source": [
    "!pip install xmlschema"
   ]
  },
  {
   "cell_type": "code",
   "execution_count": 8,
   "id": "6658654b",
   "metadata": {},
   "outputs": [
    {
     "name": "stdout",
     "output_type": "stream",
     "text": [
      "Collecting dict2xml\n",
      "  Downloading dict2xml-1.7.2.tar.gz (12 kB)\n",
      "  Installing build dependencies ... \u001b[?25ldone\n",
      "\u001b[?25h  Getting requirements to build wheel ... \u001b[?25ldone\n",
      "\u001b[?25h    Preparing wheel metadata ... \u001b[?25ldone\n",
      "\u001b[?25hBuilding wheels for collected packages: dict2xml\n",
      "  Building wheel for dict2xml (PEP 517) ... \u001b[?25ldone\n",
      "\u001b[?25h  Created wheel for dict2xml: filename=dict2xml-1.7.2-py3-none-any.whl size=6976 sha256=6085f26af51db48e78f391f0ebde7c00d7d49324f7d2f89c243e1644621e104a\n",
      "  Stored in directory: /Users/michielbontenbal/Library/Caches/pip/wheels/0f/ca/4d/2f3f5156c8cb73802dd9c08910dfd013a56a7e20059f7ad88d\n",
      "Successfully built dict2xml\n",
      "Installing collected packages: dict2xml\n",
      "Successfully installed dict2xml-1.7.2\n"
     ]
    }
   ],
   "source": [
    "!pip install dict2xml"
   ]
  },
  {
   "cell_type": "markdown",
   "id": "9f46a516",
   "metadata": {},
   "source": [
    "## 1. XML to dict / JSON\n",
    "source: https://www.askpython.com/python-modules/xmltodict-module#:~:text=We%20can%20convert%20XML%20files%20to%20a%20Python,Ordered%20Dictionary%20using%20dict%20constructor%20for%20Python%20dictionaries."
   ]
  },
  {
   "cell_type": "code",
   "execution_count": 2,
   "id": "b88926f4",
   "metadata": {},
   "outputs": [
    {
     "ename": "ModuleNotFoundError",
     "evalue": "No module named 'xmltodict'",
     "output_type": "error",
     "traceback": [
      "\u001b[0;31m---------------------------------------------------------------------------\u001b[0m",
      "\u001b[0;31mModuleNotFoundError\u001b[0m                       Traceback (most recent call last)",
      "Input \u001b[0;32mIn [2]\u001b[0m, in \u001b[0;36m<cell line: 1>\u001b[0;34m()\u001b[0m\n\u001b[0;32m----> 1\u001b[0m \u001b[38;5;28;01mimport\u001b[39;00m \u001b[38;5;21;01mxmltodict\u001b[39;00m\n\u001b[1;32m      2\u001b[0m \u001b[38;5;28;01mimport\u001b[39;00m \u001b[38;5;21;01mjson\u001b[39;00m\n\u001b[1;32m      4\u001b[0m xml\u001b[38;5;241m=\u001b[39m\u001b[38;5;124m'''\u001b[39m\u001b[38;5;124m<website>\u001b[39m\n\u001b[1;32m      5\u001b[0m \u001b[38;5;124m        <name>Codespeedy</name>\u001b[39m\n\u001b[1;32m      6\u001b[0m \u001b[38;5;124m        <article>Related to programming</article>\u001b[39m\n\u001b[1;32m      7\u001b[0m \u001b[38;5;124m        <message>You can learn easily from codespeedy</message>\u001b[39m\n\u001b[1;32m      8\u001b[0m \u001b[38;5;124m    </website>\u001b[39m\u001b[38;5;124m'''\u001b[39m\n",
      "\u001b[0;31mModuleNotFoundError\u001b[0m: No module named 'xmltodict'"
     ]
    }
   ],
   "source": [
    "import xmltodict\n",
    "import json\n",
    "\n",
    "xml='''<website>\n",
    "        <name>Codespeedy</name>\n",
    "        <article>Related to programming</article>\n",
    "        <message>You can learn easily from codespeedy</message>\n",
    "    </website>'''\n",
    "\n",
    "my_dict=xmltodict.parse(xml)\n",
    "json_data=json.dumps(my_dict)\n",
    "print(json_data)"
   ]
  },
  {
   "cell_type": "code",
   "execution_count": 1,
   "id": "bc4f8131",
   "metadata": {},
   "outputs": [],
   "source": [
    "my_xml='''<emp_bank_tx>\n",
    "         <ebnkt_bank_def_id>BVKZ</ebnkt_bank_def_id>\n",
    "         <ebnkt_employee_id>99999901</ebnkt_employee_id>\n",
    "         <ebnkt_transaction_date>2021-03-01</ebnkt_transaction_date>\n",
    "         <ebnkt_transaction_type>3</ebnkt_transaction_type>\n",
    "         <ebnkt_amount>56h00</ebnkt_amount>\n",
    "         <ebnkt_reason_code>ECALC</ebnkt_reason_code>\n",
    "        </emp_bank_tx>'''"
   ]
  },
  {
   "cell_type": "code",
   "execution_count": 4,
   "id": "c9fe6ecd",
   "metadata": {},
   "outputs": [
    {
     "name": "stdout",
     "output_type": "stream",
     "text": [
      "\n",
      " <message>\n",
      "                <calculateTimeslotRequest>\n",
      "                    <timeslotParameters>\n",
      "                        <fromDate>2021-09-10</fromDate>\n",
      "                        <tillDate>2021-09-17</tillDate>\n",
      "                    </timeslotParameters>\n",
      "                    <orderData>\n",
      "                        <requestOnly>\n",
      "                            <id>386210</id>\n",
      "                            <address>\n",
      "                                <streetName>Dassenberg</streetName>\n",
      "                                <doorNumber>56</doorNumber>\n",
      "                                <zipcode>3825BC</zipcode>\n",
      "                                <city>AMERSFOORT</city>\n",
      "                                <countryCode>NL</countryCode>\n",
      "                            </address>\n",
      "                            <duration>45</duration>\n",
      "                            <requiredCapabilities>\n",
      "                                <capability>Loodgiet</capability>\n",
      "                                <capability>AMF</capability>\n",
      "                            </requiredCapabilities>\n",
      "                            <planRegion>306510</planRegion>\n",
      "                        </requestOnly>\n",
      "                    </orderData>\n",
      "                </calculateTimeslotRequest>\n",
      "            </message>\n",
      "\n"
     ]
    }
   ],
   "source": [
    "#copy paste your xml message here to convert it to a dict:\n",
    "my_xml= '''\n",
    " <message>\n",
    "                <calculateTimeslotRequest>\n",
    "                    <timeslotParameters>\n",
    "                        <fromDate>2021-09-10</fromDate>\n",
    "                        <tillDate>2021-09-17</tillDate>\n",
    "                    </timeslotParameters>\n",
    "                    <orderData>\n",
    "                        <requestOnly>\n",
    "                            <id>386210</id>\n",
    "                            <address>\n",
    "                                <streetName>Dassenberg</streetName>\n",
    "                                <doorNumber>56</doorNumber>\n",
    "                                <zipcode>3825BC</zipcode>\n",
    "                                <city>AMERSFOORT</city>\n",
    "                                <countryCode>NL</countryCode>\n",
    "                            </address>\n",
    "                            <duration>45</duration>\n",
    "                            <requiredCapabilities>\n",
    "                                <capability>Loodgiet</capability>\n",
    "                                <capability>AMF</capability>\n",
    "                            </requiredCapabilities>\n",
    "                            <planRegion>306510</planRegion>\n",
    "                        </requestOnly>\n",
    "                    </orderData>\n",
    "                </calculateTimeslotRequest>\n",
    "            </message>\n",
    "'''\n",
    "print(my_xml)"
   ]
  },
  {
   "cell_type": "code",
   "execution_count": 5,
   "id": "d2e4790f",
   "metadata": {},
   "outputs": [
    {
     "name": "stdout",
     "output_type": "stream",
     "text": [
      "{\"message\": {\"calculateTimeslotRequest\": {\"timeslotParameters\": {\"fromDate\": \"2021-09-10\", \"tillDate\": \"2021-09-17\"}, \"orderData\": {\"requestOnly\": {\"id\": \"386210\", \"address\": {\"streetName\": \"Dassenberg\", \"doorNumber\": \"56\", \"zipcode\": \"3825BC\", \"city\": \"AMERSFOORT\", \"countryCode\": \"NL\"}, \"duration\": \"45\", \"requiredCapabilities\": {\"capability\": [\"Loodgiet\", \"AMF\"]}, \"planRegion\": \"306510\"}}}}}\n"
     ]
    }
   ],
   "source": [
    "import xmltodict\n",
    "import json\n",
    "\n",
    "xml=my_xml\n",
    "\n",
    "my_dict=xmltodict.parse(xml)\n",
    "json_data=json.dumps(my_dict)\n",
    "print(json_data)"
   ]
  },
  {
   "cell_type": "code",
   "execution_count": 6,
   "id": "d0552e08",
   "metadata": {},
   "outputs": [
    {
     "data": {
      "text/plain": [
       "dict_keys(['message'])"
      ]
     },
     "execution_count": 6,
     "metadata": {},
     "output_type": "execute_result"
    }
   ],
   "source": [
    "json_obj = json.loads(json_data)\n",
    "json_obj['message'].keys()\n",
    "my_dict.keys()"
   ]
  },
  {
   "cell_type": "code",
   "execution_count": 7,
   "id": "e45361d7",
   "metadata": {},
   "outputs": [
    {
     "name": "stdout",
     "output_type": "stream",
     "text": [
      "message = {'calculateTimeslotRequest': {'timeslotParameters': {'fromDate': '2021-09-10', 'tillDate': '2021-09-17'}, 'orderData': {'requestOnly': {'id': '386210', 'address': {'streetName': 'Dassenberg', 'doorNumber': '56', 'zipcode': '3825BC', 'city': 'AMERSFOORT', 'countryCode': 'NL'}, 'duration': '45', 'requiredCapabilities': {'capability': ['Loodgiet', 'AMF']}, 'planRegion': '306510'}}}}\n"
     ]
    }
   ],
   "source": [
    "for key in my_dict.keys(): #use a for loop to print the dictionary\n",
    "    value = my_dict[key]\n",
    "    print(key, \"=\", value)"
   ]
  },
  {
   "cell_type": "markdown",
   "id": "7bea4eec",
   "metadata": {},
   "source": [
    "## 2. Python dict to XML\n",
    "source: https://www.geeksforgeeks.org/serialize-python-dictionary-to-xml/"
   ]
  },
  {
   "cell_type": "code",
   "execution_count": 9,
   "id": "d8373dd8",
   "metadata": {},
   "outputs": [
    {
     "name": "stdout",
     "output_type": "stream",
     "text": [
      "<root>\n",
      "   <a>2</a>\n",
      "   <b>\n",
      "      <c>as</c>\n",
      "      <f>True</f>\n",
      "   </b>\n",
      "   <d>7</d>\n",
      "</root>\n"
     ]
    }
   ],
   "source": [
    "# Converting Python Dictionary to XML\n",
    "# with a root elemtnt\n",
    "from dict2xml import dict2xml\n",
    " \n",
    "data = {'a': 2,\n",
    "        'b': {\n",
    "               'c': 'as',\n",
    "               'f': True},\n",
    "        'd': 7,\n",
    "        }\n",
    " \n",
    "xml = dict2xml(data, wrap ='root', indent =\"   \")\n",
    "print(xml)"
   ]
  },
  {
   "cell_type": "markdown",
   "id": "325b6983",
   "metadata": {},
   "source": [
    "## 3. Parsing xml's with elementtree"
   ]
  },
  {
   "cell_type": "code",
   "execution_count": 2,
   "id": "f0800c6a",
   "metadata": {},
   "outputs": [
    {
     "name": "stdout",
     "output_type": "stream",
     "text": [
      "<collection>\n",
      "    <genre category=\"Action\">\n",
      "        <decade years=\"1980s\">\n",
      "            <movie favorite=\"True\" title=\"Indiana Jones: The raiders of the lost Ark\">\n",
      "                <format multiple=\"No\">DVD</format>\n",
      "                <year>1981</year>\n",
      "                <rating>PG</rating>\n",
      "                <description>\n",
      "                'Archaeologist and adventurer Indiana Jones \n",
      "                is hired by the U.S. government to find the Ark of the \n",
      "                Covenant before the Nazis.'\n",
      "                </description>\n",
      "            </movie>\n",
      "               <movie favorite=\"True\" title=\"THE KARATE KID\">\n",
      "               <format multiple=\"Yes\">DVD,Online</format>\n",
      "               <year>1984</year>\n",
      "               <rating>PG</rating>\n",
      "               <description>None provided.</description>\n",
      "            </movie>\n",
      "            <movie favorite=\"False\" title=\"Back 2 the Future\">\n",
      "               <format multiple=\"False\">Blu-ray</format>\n",
      "               <year>1985</year>\n",
      "               <rating>PG</rating>\n",
      "               <description>Marty McFly</description>\n",
      "            </movie>\n",
      "        </decade>\n",
      "        <decade years=\"1990s\">\n",
      "            <movie favorite=\"False\" title=\"X-Men\">\n",
      "               <format multiple=\"Yes\">dvd, digital</format>\n",
      "               <year>2000</year>\n",
      "               <rating>PG-13</rating>\n",
      "               <description>Two mutants come to a private academy for their kind whose resident superhero team must \n",
      "               oppose a terrorist organization with similar powers.</description>\n",
      "            </movie>\n",
      "            <movie favorite=\"True\" title=\"Batman Returns\">\n",
      "               <format multiple=\"No\">VHS</format>\n",
      "               <year>1992</year>\n",
      "               <rating>PG13</rating>\n",
      "               <description>NA.</description>\n",
      "            </movie>\n",
      "               <movie favorite=\"False\" title=\"Reservoir Dogs\">\n",
      "               <format multiple=\"No\">Online</format>\n",
      "               <year>1992</year>\n",
      "               <rating>R</rating>\n",
      "               <description>WhAtEvER I Want!!!?!</description>\n",
      "            </movie>\n",
      "        </decade>    \n",
      "    </genre>\n",
      "    <genre category=\"Thriller\">\n",
      "        <decade years=\"1970s\">\n",
      "            <movie favorite=\"False\" title=\"ALIEN\">\n",
      "                <format multiple=\"Yes\">DVD</format>\n",
      "                <year>1979</year>\n",
      "                <rating>R</rating>\n",
      "                <description>\"\"\"\"\"\"\"\"\"</description>\n",
      "            </movie>\n",
      "        </decade>\n",
      "        <decade years=\"1980s\">\n",
      "            <movie favorite=\"True\" title=\"Ferris Bueller's Day Off\">\n",
      "                <format multiple=\"No\">DVD</format>\n",
      "                <year>1986</year>\n",
      "                <rating>PG13</rating>\n",
      "                <description>Funny movie about a funny guy</description>\n",
      "            </movie>\n",
      "            <movie favorite=\"FALSE\" title=\"American Psycho\">\n",
      "                <format multiple=\"No\">blue-ray</format>\n",
      "                <year>2000</year>\n",
      "                <rating>Unrated</rating>\n",
      "                <description>psychopathic Bateman</description>\n",
      "            </movie>\n",
      "        </decade>\n",
      "    </genre>\n",
      "</collection>\n"
     ]
    }
   ],
   "source": [
    "# source: https://www.datacamp.com/community/tutorials/python-xml-elementtree\n",
    "\n",
    "import xml.etree.ElementTree as ET #import the library \n",
    "tree = ET.parse('movies.xml') #parse the XML\n",
    "ET.dump(tree) #print the xml file"
   ]
  },
  {
   "cell_type": "code",
   "execution_count": 3,
   "id": "cff8fe50",
   "metadata": {},
   "outputs": [
    {
     "name": "stdout",
     "output_type": "stream",
     "text": [
      "collection {}\n"
     ]
    }
   ],
   "source": [
    "root = tree.getroot()\n",
    "print(root.tag, root.attrib)"
   ]
  },
  {
   "cell_type": "code",
   "execution_count": 4,
   "id": "09660537",
   "metadata": {},
   "outputs": [
    {
     "name": "stdout",
     "output_type": "stream",
     "text": [
      "genre {'category': 'Action'}\n",
      "genre {'category': 'Thriller'}\n"
     ]
    }
   ],
   "source": [
    "for child in root:\n",
    "    print(child.tag, child.attrib)"
   ]
  },
  {
   "cell_type": "code",
   "execution_count": 5,
   "id": "e1a4b463",
   "metadata": {},
   "outputs": [
    {
     "name": "stdout",
     "output_type": "stream",
     "text": [
      "['collection', 'genre', 'decade', 'movie', 'format', 'year', 'rating', 'description', 'movie', 'format', 'year', 'rating', 'description', 'movie', 'format', 'year', 'rating', 'description', 'decade', 'movie', 'format', 'year', 'rating', 'description', 'movie', 'format', 'year', 'rating', 'description', 'movie', 'format', 'year', 'rating', 'description', 'genre', 'decade', 'movie', 'format', 'year', 'rating', 'description', 'decade', 'movie', 'format', 'year', 'rating', 'description', 'movie', 'format', 'year', 'rating', 'description']\n"
     ]
    }
   ],
   "source": [
    "my_list =[]\n",
    "for elem in tree.iter():\n",
    "    my_list.append(elem.tag)\n",
    "print(my_list)"
   ]
  },
  {
   "cell_type": "code",
   "execution_count": 6,
   "id": "81a1ff76",
   "metadata": {},
   "outputs": [
    {
     "name": "stdout",
     "output_type": "stream",
     "text": [
      "['collection', 'genre', 'decade', 'movie', 'format', 'year', 'rating', 'description']\n"
     ]
    }
   ],
   "source": [
    "#remove duplicates by converting it to a dict and back to a list\n",
    "#source: https://www.w3schools.com/python/python_howto_remove_duplicates.asp\n",
    "my_clean_list = list(dict.fromkeys(my_list))\n",
    "print(my_clean_list)"
   ]
  },
  {
   "cell_type": "code",
   "execution_count": 7,
   "id": "804c433f",
   "metadata": {},
   "outputs": [
    {
     "name": "stdout",
     "output_type": "stream",
     "text": [
      "{}\n",
      "{'category': 'Action'}\n",
      "{'years': '1980s'}\n",
      "{'favorite': 'True', 'title': 'Indiana Jones: The raiders of the lost Ark'}\n",
      "{'multiple': 'No'}\n",
      "{}\n",
      "{}\n",
      "{}\n",
      "{'favorite': 'True', 'title': 'THE KARATE KID'}\n",
      "{'multiple': 'Yes'}\n",
      "{}\n",
      "{}\n",
      "{}\n",
      "{'favorite': 'False', 'title': 'Back 2 the Future'}\n",
      "{'multiple': 'False'}\n",
      "{}\n",
      "{}\n",
      "{}\n",
      "{'years': '1990s'}\n",
      "{'favorite': 'False', 'title': 'X-Men'}\n",
      "{'multiple': 'Yes'}\n",
      "{}\n",
      "{}\n",
      "{}\n",
      "{'favorite': 'True', 'title': 'Batman Returns'}\n",
      "{'multiple': 'No'}\n",
      "{}\n",
      "{}\n",
      "{}\n",
      "{'favorite': 'False', 'title': 'Reservoir Dogs'}\n",
      "{'multiple': 'No'}\n",
      "{}\n",
      "{}\n",
      "{}\n",
      "{'category': 'Thriller'}\n",
      "{'years': '1970s'}\n",
      "{'favorite': 'False', 'title': 'ALIEN'}\n",
      "{'multiple': 'Yes'}\n",
      "{}\n",
      "{}\n",
      "{}\n",
      "{'years': '1980s'}\n",
      "{'favorite': 'True', 'title': \"Ferris Bueller's Day Off\"}\n",
      "{'multiple': 'No'}\n",
      "{}\n",
      "{}\n",
      "{}\n",
      "{'favorite': 'FALSE', 'title': 'American Psycho'}\n",
      "{'multiple': 'No'}\n",
      "{}\n",
      "{}\n",
      "{}\n"
     ]
    }
   ],
   "source": [
    "for el in root.iter():\n",
    "    attrib = el.attrib\n",
    "    print(attrib)"
   ]
  },
  {
   "cell_type": "code",
   "execution_count": null,
   "id": "97f4ffe8",
   "metadata": {},
   "outputs": [],
   "source": []
  },
  {
   "cell_type": "markdown",
   "id": "9d0440b0",
   "metadata": {},
   "source": [
    "## 3. My first xsd"
   ]
  },
  {
   "cell_type": "code",
   "execution_count": 1,
   "id": "61951a52",
   "metadata": {},
   "outputs": [
    {
     "data": {
      "text/plain": [
       "['note.xsd', 'simple.xsd']"
      ]
     },
     "execution_count": 1,
     "metadata": {},
     "output_type": "execute_result"
    }
   ],
   "source": [
    "import glob\n",
    "my_xsds = glob.glob('*.xsd')\n",
    "my_xsds"
   ]
  },
  {
   "cell_type": "code",
   "execution_count": 7,
   "id": "9bf48b3d",
   "metadata": {},
   "outputs": [],
   "source": [
    "#inspect the xsd\n",
    "%pycat C:\\\\Users\\\\31653\\\\Documents\\\\GitHub\\\\Notebooks\\simple.xsd"
   ]
  },
  {
   "cell_type": "code",
   "execution_count": 6,
   "id": "eaf1a587",
   "metadata": {},
   "outputs": [],
   "source": [
    "#inspect the xml\n",
    "%pycat C:\\\\Users\\\\31653\\\\Documents\\\\GitHub\\\\Notebooks\\simple.xml"
   ]
  },
  {
   "cell_type": "code",
   "execution_count": 3,
   "id": "47cf7f84",
   "metadata": {},
   "outputs": [
    {
     "ename": "NameError",
     "evalue": "name 'schema' is not defined",
     "output_type": "error",
     "traceback": [
      "\u001b[1;31m---------------------------------------------------------------------------\u001b[0m",
      "\u001b[1;31mNameError\u001b[0m                                 Traceback (most recent call last)",
      "\u001b[1;32m~\\AppData\\Local\\Temp/ipykernel_55728/1623399918.py\u001b[0m in \u001b[0;36m<module>\u001b[1;34m\u001b[0m\n\u001b[1;32m----> 1\u001b[1;33m \u001b[0mprint\u001b[0m\u001b[1;33m(\u001b[0m\u001b[0mschema\u001b[0m\u001b[1;33m.\u001b[0m\u001b[0mbuild\u001b[0m\u001b[1;33m(\u001b[0m\u001b[1;33m)\u001b[0m\u001b[1;33m)\u001b[0m\u001b[1;33m\u001b[0m\u001b[1;33m\u001b[0m\u001b[0m\n\u001b[0m",
      "\u001b[1;31mNameError\u001b[0m: name 'schema' is not defined"
     ]
    }
   ],
   "source": [
    "print(schema.build())"
   ]
  },
  {
   "cell_type": "code",
   "execution_count": 4,
   "id": "170d90ce",
   "metadata": {},
   "outputs": [
    {
     "data": {
      "text/plain": [
       "{'to': 'Tove',\n",
       " 'from': 'Jani',\n",
       " 'heading': 'Reminder',\n",
       " 'body': \"Don't forget me this weekend!\"}"
      ]
     },
     "execution_count": 4,
     "metadata": {},
     "output_type": "execute_result"
    }
   ],
   "source": [
    "#source: https://stackoverflow.com/questions/1072853/how-to-convert-xsd-to-python-class\n",
    "#convert the xml to a dict\n",
    "import xmlschema\n",
    "data_schema = xmlschema.XMLSchema('simple.xsd')\n",
    "data=data_schema.to_dict('simple.xml')\n",
    "data"
   ]
  },
  {
   "cell_type": "code",
   "execution_count": 3,
   "id": "a24bcd9b",
   "metadata": {},
   "outputs": [
    {
     "data": {
      "text/plain": [
       "True"
      ]
     },
     "execution_count": 3,
     "metadata": {},
     "output_type": "execute_result"
    }
   ],
   "source": [
    "#Validate the xml\n",
    "import xmlschema\n",
    "schema = xmlschema.XMLSchema('simple.xsd')\n",
    "schema.is_valid('simple.xml')"
   ]
  },
  {
   "cell_type": "code",
   "execution_count": 5,
   "id": "3089d08f",
   "metadata": {},
   "outputs": [
    {
     "name": "stdout",
     "output_type": "stream",
     "text": [
      "XMLSchema10(name='simple.xsd', namespace='')\n"
     ]
    }
   ],
   "source": [
    "print(schema)"
   ]
  },
  {
   "cell_type": "code",
   "execution_count": 7,
   "id": "fa02f5b9",
   "metadata": {},
   "outputs": [
    {
     "name": "stdout",
     "output_type": "stream",
     "text": [
      "XMLSchema10(name='simple.xsd', namespace='')\n",
      "['BASE_SCHEMAS', 'XSD_VERSION', '__abstractmethods__', '__annotations__', '__class__', '__class_getitem__', '__contains__', '__copy__', '__delattr__', '__dict__', '__dir__', '__doc__', '__eq__', '__format__', '__ge__', '__getattribute__', '__getitem__', '__getstate__', '__gt__', '__hash__', '__init__', '__init_subclass__', '__iter__', '__le__', '__len__', '__lt__', '__module__', '__ne__', '__new__', '__orig_bases__', '__parameters__', '__reduce__', '__reduce_ex__', '__repr__', '__reversed__', '__setattr__', '__setstate__', '__sizeof__', '__slots__', '__str__', '__subclasshook__', '__weakref__', '_abc_impl', '_annotations', '_get_xpath_namespaces', '_import_namespace', '_is_protocol', '_locations', '_parse_imports', '_parse_inclusions', '_parse_xpath_default_namespace', '_root_elements', '_validate_references', 'add_schema', 'all_errors', 'allow', 'annotations', 'attrib', 'attribute_form_default', 'attribute_groups', 'attributes', 'base_url', 'block_default', 'build', 'built', 'builtin_types', 'check_schema', 'check_validator', 'clear', 'complex_types', 'converter', 'copy', 'count', 'create_any_attribute_group', 'create_any_content_group', 'create_any_type', 'create_bindings', 'create_element', 'create_empty_attribute_group', 'create_empty_content_group', 'create_meta_schema', 'decode', 'default_attributes', 'default_namespace', 'default_open_content', 'defuse', 'elem', 'element_form_default', 'elements', 'encode', 'errors', 'export', 'fallback_locations', 'filepath', 'final_default', 'find', 'findall', 'get', 'get_converter', 'get_element', 'get_locations', 'get_schema', 'get_text', 'groups', 'id', 'identities', 'import_schema', 'imports', 'include_schema', 'includes', 'index', 'is_matching', 'is_valid', 'iter', 'iter_components', 'iter_decode', 'iter_encode', 'iter_errors', 'iter_globals', 'iterchildren', 'iterfind', 'locations', 'lock', 'maps', 'meta_schema', 'name', 'namespaces', 'no_namespace_schema_location', 'notations', 'override', 'parse_error', 'raw_decoder', 'redefine', 'resolve_qname', 'root', 'root_elements', 'schema_location', 'simple_type_factory', 'simple_types', 'source', 'substitution_groups', 'tag', 'tail', 'target_namespace', 'target_prefix', 'text', 'timeout', 'to_dict', 'to_etree', 'to_objects', 'types', 'url', 'use_meta', 'validate', 'validation', 'validation_attempted', 'validation_error', 'validity', 'version', 'version_check', 'warnings', 'xpath_default_namespace', 'xpath_proxy', 'xpath_tokens', 'xsd_any_attribute_class', 'xsd_any_class', 'xsd_atomic_restriction_class', 'xsd_attribute_class', 'xsd_attribute_group_class', 'xsd_complex_type_class', 'xsd_element_class', 'xsd_group_class', 'xsd_key_class', 'xsd_keyref_class', 'xsd_list_class', 'xsd_notation_class', 'xsd_union_class', 'xsd_unique_class', 'xsd_version']\n",
      "<class 'xmlschema.validators.schemas.XMLSchema10'>\n"
     ]
    }
   ],
   "source": [
    "print(data_schema)\n",
    "print(dir(data_schema))\n",
    "print(type(data_schema))"
   ]
  }
 ],
 "metadata": {
  "kernelspec": {
   "display_name": "Python 3 (ipykernel)",
   "language": "python",
   "name": "python3"
  },
  "language_info": {
   "codemirror_mode": {
    "name": "ipython",
    "version": 3
   },
   "file_extension": ".py",
   "mimetype": "text/x-python",
   "name": "python",
   "nbconvert_exporter": "python",
   "pygments_lexer": "ipython3",
   "version": "3.9.12"
  }
 },
 "nbformat": 4,
 "nbformat_minor": 5
}
