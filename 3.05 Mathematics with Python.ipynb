{
 "cells": [
  {
   "cell_type": "markdown",
   "id": "7c77fd7f",
   "metadata": {},
   "source": [
    "# Mathematics with Python\n",
    "\n",
    "## Contents\n",
    "1. Basic math\n",
    "2. Math module\n",
    "3. Math with Numpy\n",
    "4. Plotting mathematical functions with Numpy and Matplotlib"
   ]
  },
  {
   "cell_type": "markdown",
   "id": "abfc2ba3",
   "metadata": {},
   "source": [
    "## 1. Basic math\n",
    "\n",
    "How to use basic math in Python:\n",
    "\n",
    "Standard symbols:\n",
    "\n",
    "    a+b addition\n",
    "    a-b subtraction\n",
    "    a*b multiplication\n",
    "    a/b division\n",
    "    a%b modulo\n",
    "    a//b floor division(example 5//2=2)\n",
    "    -a   negation\n",
    "    abs(a) absolute value\n",
    "    a**b  exponent\n",
    "    math.sqrt(a) square root => import math\n",
    "\n",
    "^ = power operator"
   ]
  },
  {
   "cell_type": "markdown",
   "id": "db4acbe9",
   "metadata": {},
   "source": [
    "## 2. Math module"
   ]
  },
  {
   "cell_type": "code",
   "execution_count": 1,
   "id": "d61ba3b7",
   "metadata": {},
   "outputs": [
    {
     "data": {
      "text/plain": [
       "3.141592653589793"
      ]
     },
     "execution_count": 1,
     "metadata": {},
     "output_type": "execute_result"
    }
   ],
   "source": [
    "import math\n",
    "pi = math.pi\n",
    "pi"
   ]
  },
  {
   "cell_type": "code",
   "execution_count": 3,
   "id": "6430f5e9",
   "metadata": {},
   "outputs": [
    {
     "name": "stdout",
     "output_type": "stream",
     "text": [
      "4.0\n"
     ]
    }
   ],
   "source": [
    "#getting the square root \n",
    "print(math.sqrt(16))"
   ]
  },
  {
   "cell_type": "code",
   "execution_count": null,
   "id": "aa85ff1c",
   "metadata": {},
   "outputs": [],
   "source": []
  },
  {
   "cell_type": "markdown",
   "id": "bc9cb69d",
   "metadata": {},
   "source": [
    "## 3. Basic math with numpy\n",
    "\n",
    "With Numpy you can also do basic math and some more advanced functions. Below you'll find some examples."
   ]
  },
  {
   "cell_type": "code",
   "execution_count": 2,
   "id": "65a8e885",
   "metadata": {},
   "outputs": [],
   "source": [
    "import numpy as np"
   ]
  },
  {
   "cell_type": "code",
   "execution_count": 5,
   "id": "6ae6bbac",
   "metadata": {},
   "outputs": [
    {
     "data": {
      "text/plain": [
       "3.141592653589793"
      ]
     },
     "execution_count": 5,
     "metadata": {},
     "output_type": "execute_result"
    }
   ],
   "source": [
    "np.pi"
   ]
  },
  {
   "cell_type": "code",
   "execution_count": 6,
   "id": "e9cebcfa",
   "metadata": {},
   "outputs": [
    {
     "data": {
      "text/plain": [
       "4.0"
      ]
     },
     "execution_count": 6,
     "metadata": {},
     "output_type": "execute_result"
    }
   ],
   "source": [
    "np.sqrt(16)"
   ]
  },
  {
   "cell_type": "code",
   "execution_count": 3,
   "id": "fd8d9359",
   "metadata": {},
   "outputs": [
    {
     "data": {
      "text/plain": [
       "12"
      ]
     },
     "execution_count": 3,
     "metadata": {},
     "output_type": "execute_result"
    }
   ],
   "source": [
    "np.dot(3,4)"
   ]
  },
  {
   "cell_type": "code",
   "execution_count": 4,
   "id": "cb9529aa",
   "metadata": {},
   "outputs": [
    {
     "data": {
      "text/plain": [
       "array([[4, 1],\n",
       "       [2, 2]])"
      ]
     },
     "execution_count": 4,
     "metadata": {},
     "output_type": "execute_result"
    }
   ],
   "source": [
    "#calculating the dot product of two identical lists\n",
    "a = [[1, 0], [0, 1]]\n",
    "b = [[4, 1], [2, 2]]\n",
    "np.dot(a, b)"
   ]
  },
  {
   "cell_type": "code",
   "execution_count": 9,
   "id": "e658a679",
   "metadata": {},
   "outputs": [
    {
     "data": {
      "text/plain": [
       "list"
      ]
     },
     "execution_count": 9,
     "metadata": {},
     "output_type": "execute_result"
    }
   ],
   "source": [
    "#calculating distances in a grid of points"
   ]
  },
  {
   "cell_type": "markdown",
   "id": "dfbc2322",
   "metadata": {},
   "source": [
    "## 4. Plotting mathematical functions with Numpy and Matplotlib"
   ]
  },
  {
   "cell_type": "code",
   "execution_count": 35,
   "id": "6b111962",
   "metadata": {},
   "outputs": [
    {
     "name": "stdout",
     "output_type": "stream",
     "text": [
      "13\n"
     ]
    },
    {
     "data": {
      "image/png": "[encoded data removed]",
      "text/plain": [
       "<Figure size 432x288 with 1 Axes>"
      ]
     },
     "metadata": {
      "needs_background": "light"
     },
     "output_type": "display_data"
    }
   ],
   "source": [
    "import matplotlib.pyplot as plt\n",
    "def lin_func(x):\n",
    "    y = 2*x +3\n",
    "    return y\n",
    "\n",
    "x = 5\n",
    "y = lin_func(x)\n",
    "plt.plot(x,y)\n",
    "plt.show()"
   ]
  },
  {
   "cell_type": "code",
   "execution_count": 2,
   "id": "69cdbb5a",
   "metadata": {},
   "outputs": [
    {
     "data": {
      "image/png": "[encoded data removed]",
      "text/plain": [
       "<Figure size 432x288 with 1 Axes>"
      ]
     },
     "metadata": {
      "needs_background": "light"
     },
     "output_type": "display_data"
    }
   ],
   "source": [
    "#Xaxis is an one-dimensional array with 100 elements\n",
    "#begin from -10.0 to 10.0, with interval of 0.2 for each two elements\n",
    "Xaxis = np.arange(-10., 10., 0.2)\n",
    "\n",
    "#Yaxis is also an one-dimensional arry with 100 elements\n",
    "#begin from 0 to 100\n",
    "Yaxis = np.linspace(0, len(Xaxis), len(Xaxis))\n",
    "\n",
    "plt.plot(Xaxis, Yaxis)\n",
    "plt.show()"
   ]
  },
  {
   "cell_type": "code",
   "execution_count": 43,
   "id": "fdb83785",
   "metadata": {},
   "outputs": [
    {
     "data": {
      "image/png": "[encoded data removed]",
      "text/plain": [
       "<Figure size 432x288 with 1 Axes>"
      ]
     },
     "metadata": {
      "needs_background": "light"
     },
     "output_type": "display_data"
    }
   ],
   "source": [
    "import math\n",
    "import matplotlib.pyplot as plt\n",
    "import numpy as np\n",
    "\n",
    "def line(x):\n",
    "    a = []\n",
    "    for item in x:\n",
    "        a.append((2*x+3))\n",
    "    return a\n",
    "\n",
    "x = np.arange(-10., 10., 1)# Creating a numpy array from -10 to 10 with step 0.2\n",
    "sig = line(x) #calling the sigmoid function\n",
    "plt.plot(x,sig)\n",
    "plt.show()"
   ]
  },
  {
   "cell_type": "markdown",
   "id": "8b71064e",
   "metadata": {},
   "source": [
    "#### Plotting the sigmoid function using numpy"
   ]
  },
  {
   "cell_type": "code",
   "execution_count": 1,
   "id": "674b8f47",
   "metadata": {},
   "outputs": [
    {
     "data": {
      "image/png": "[encoded data removed]",
      "text/plain": [
       "<Figure size 432x288 with 1 Axes>"
      ]
     },
     "metadata": {
      "needs_background": "light"
     },
     "output_type": "display_data"
    }
   ],
   "source": [
    "#source: Source: https://squall0032.tumblr.com/post/77300791096/plotting-a-sigmoid-function-using\n",
    "import math\n",
    "import matplotlib.pyplot as plt\n",
    "import numpy as np\n",
    "\n",
    "def sigmoid(x):\n",
    "    a = []\n",
    "    for item in x:\n",
    "        a.append(1/(1+math.exp(-item)))\n",
    "    return a\n",
    "\n",
    "x = np.arange(-10., 10., 0.2)# Creating a numpy array from -10 to 10 with step 0.2\n",
    "sig = sigmoid(x) #calling the sigmoid function\n",
    "plt.plot(x,sig)\n",
    "plt.show()"
   ]
  },
  {
   "cell_type": "code",
   "execution_count": null,
   "id": "dc9476a6",
   "metadata": {},
   "outputs": [],
   "source": []
  }
 ],
 "metadata": {
  "kernelspec": {
   "display_name": "Python 3 (ipykernel)",
   "language": "python",
   "name": "python3"
  },
  "language_info": {
   "codemirror_mode": {
    "name": "ipython",
    "version": 3
   },
   "file_extension": ".py",
   "mimetype": "text/x-python",
   "name": "python",
   "nbconvert_exporter": "python",
   "pygments_lexer": "ipython3",
   "version": "3.9.12"
  }
 },
 "nbformat": 4,
 "nbformat_minor": 5
}
