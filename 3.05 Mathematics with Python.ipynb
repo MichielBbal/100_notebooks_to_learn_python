{
 "cells": [
  {
   "cell_type": "markdown",
   "id": "7c77fd7f",
   "metadata": {},
   "source": [
    "# Mathematics with Python\n",
    "\n",
    "## Contents\n",
    "1. Basic math\n",
    "2. Math module\n",
    "3. Math with Numpy"
   ]
  },
  {
   "cell_type": "markdown",
   "id": "abfc2ba3",
   "metadata": {},
   "source": [
    "## 1. Basic math\n",
    "\n",
    "How to use basic math in Python:\n",
    "\n",
    "Standard symbols:\n",
    "\n",
    "    a+b addition\n",
    "    a-b subtraction\n",
    "    a*b multiplication\n",
    "    a/b division\n",
    "    a%b modulo\n",
    "    a//b floor division(example 5//2=2)\n",
    "    -a   negation\n",
    "    abs(a) absolute value\n",
    "    a**b  exponent\n",
    "    math.sqrt(a) square root => import math\n",
    "\n",
    "^ = power operator"
   ]
  },
  {
   "cell_type": "markdown",
   "id": "db4acbe9",
   "metadata": {},
   "source": [
    "## 2. Math module"
   ]
  },
  {
   "cell_type": "code",
   "execution_count": 2,
   "id": "d61ba3b7",
   "metadata": {},
   "outputs": [
    {
     "data": {
      "text/plain": [
       "3.141592653589793"
      ]
     },
     "execution_count": 2,
     "metadata": {},
     "output_type": "execute_result"
    }
   ],
   "source": [
    "import math\n",
    "pi = math.pi\n",
    "pi"
   ]
  },
  {
   "cell_type": "code",
   "execution_count": null,
   "id": "6430f5e9",
   "metadata": {},
   "outputs": [],
   "source": []
  },
  {
   "cell_type": "code",
   "execution_count": null,
   "id": "aa85ff1c",
   "metadata": {},
   "outputs": [],
   "source": []
  },
  {
   "cell_type": "markdown",
   "id": "bc9cb69d",
   "metadata": {},
   "source": [
    "## 3. Math with numpy"
   ]
  },
  {
   "cell_type": "code",
   "execution_count": null,
   "id": "65a8e885",
   "metadata": {},
   "outputs": [],
   "source": []
  }
 ],
 "metadata": {
  "kernelspec": {
   "display_name": "Python 3 (ipykernel)",
   "language": "python",
   "name": "python3"
  },
  "language_info": {
   "codemirror_mode": {
    "name": "ipython",
    "version": 3
   },
   "file_extension": ".py",
   "mimetype": "text/x-python",
   "name": "python",
   "nbconvert_exporter": "python",
   "pygments_lexer": "ipython3",
   "version": "3.9.12"
  }
 },
 "nbformat": 4,
 "nbformat_minor": 5
}
