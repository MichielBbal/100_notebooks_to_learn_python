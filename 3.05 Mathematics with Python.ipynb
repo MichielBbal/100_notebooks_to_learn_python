{
 "cells": [
  {
   "cell_type": "markdown",
   "id": "7c77fd7f",
   "metadata": {},
   "source": [
    "# Mathematics with Python\n",
    "\n",
    "## Contents\n",
    "1. Basic math\n",
    "2. Math module\n",
    "3. Math with Numpy\n",
    "4. Plotting mathematical functions with Numpy and Matplotlib"
   ]
  },
  {
   "cell_type": "markdown",
   "id": "abfc2ba3",
   "metadata": {},
   "source": [
    "## 1. Basic math\n",
    "\n",
    "How to use basic math in Python:\n",
    "\n",
    "Standard symbols:\n",
    "\n",
    "    a+b addition\n",
    "    a-b subtraction\n",
    "    a*b multiplication\n",
    "    a/b division\n",
    "    a%b modulo\n",
    "    a//b floor division(example 5//2=2)\n",
    "    -a   negation\n",
    "    abs(a) absolute value\n",
    "    a**b  exponent\n",
    "    math.sqrt(a) square root => import math\n",
    "\n",
    "^ = power operator"
   ]
  },
  {
   "cell_type": "markdown",
   "id": "db4acbe9",
   "metadata": {},
   "source": [
    "## 2. Using the math module"
   ]
  },
  {
   "cell_type": "code",
   "execution_count": 2,
   "id": "d61ba3b7",
   "metadata": {},
   "outputs": [
    {
     "data": {
      "text/plain": [
       "3.141592653589793"
      ]
     },
     "execution_count": 2,
     "metadata": {},
     "output_type": "execute_result"
    }
   ],
   "source": [
    "#get the value of pi\n",
    "import math\n",
    "pi = math.pi\n",
    "pi"
   ]
  },
  {
   "cell_type": "code",
   "execution_count": 7,
   "id": "23fab673",
   "metadata": {},
   "outputs": [
    {
     "name": "stdout",
     "output_type": "stream",
     "text": [
      "18.84955592153876\n",
      "28.274333882308138\n"
     ]
    }
   ],
   "source": [
    "#getting the circumference and surface of a circle\n",
    "import math\n",
    "radius = 3\n",
    "circumference = 2*radius * math.pi \n",
    "surface = math.pi * (radius**2)\n",
    "print(circumference)\n",
    "print(surface)"
   ]
  },
  {
   "cell_type": "code",
   "execution_count": 3,
   "id": "6430f5e9",
   "metadata": {},
   "outputs": [
    {
     "name": "stdout",
     "output_type": "stream",
     "text": [
      "4.0\n"
     ]
    }
   ],
   "source": [
    "#getting the square root \n",
    "print(math.sqrt(16))"
   ]
  },
  {
   "cell_type": "markdown",
   "id": "bc9cb69d",
   "metadata": {},
   "source": [
    "## 3. Basic math with numpy\n",
    "\n",
    "With Numpy you can also do basic math and some more advanced functions. Below you'll find some examples."
   ]
  },
  {
   "cell_type": "code",
   "execution_count": 9,
   "id": "65a8e885",
   "metadata": {},
   "outputs": [],
   "source": [
    "import numpy as np"
   ]
  },
  {
   "cell_type": "code",
   "execution_count": 5,
   "id": "6ae6bbac",
   "metadata": {},
   "outputs": [
    {
     "data": {
      "text/plain": [
       "3.141592653589793"
      ]
     },
     "execution_count": 5,
     "metadata": {},
     "output_type": "execute_result"
    }
   ],
   "source": [
    "#print the value of pi\n",
    "np.pi"
   ]
  },
  {
   "cell_type": "code",
   "execution_count": 6,
   "id": "e9cebcfa",
   "metadata": {},
   "outputs": [
    {
     "data": {
      "text/plain": [
       "4.0"
      ]
     },
     "execution_count": 6,
     "metadata": {},
     "output_type": "execute_result"
    }
   ],
   "source": [
    "#print the square root\n",
    "np.sqrt(16)"
   ]
  },
  {
   "cell_type": "code",
   "execution_count": 3,
   "id": "fd8d9359",
   "metadata": {},
   "outputs": [
    {
     "data": {
      "text/plain": [
       "12"
      ]
     },
     "execution_count": 3,
     "metadata": {},
     "output_type": "execute_result"
    }
   ],
   "source": [
    "#get the dot product\n",
    "np.dot(3,4)"
   ]
  },
  {
   "cell_type": "code",
   "execution_count": 20,
   "id": "cb9529aa",
   "metadata": {},
   "outputs": [
    {
     "name": "stdout",
     "output_type": "stream",
     "text": [
      "[[4 1]\n",
      " [2 2]]\n"
     ]
    }
   ],
   "source": [
    "#calculating the dot product of two identical lists\n",
    "import numpy as np\n",
    "a = [[1, 0], [0, 1]]\n",
    "b = [[4, 1], [2, 2]]\n",
    "\n",
    "print(np.dot(a, b))"
   ]
  },
  {
   "cell_type": "code",
   "execution_count": 25,
   "id": "e658a679",
   "metadata": {},
   "outputs": [
    {
     "ename": "AttributeError",
     "evalue": "'tuple' object has no attribute 'x'",
     "output_type": "error",
     "traceback": [
      "\u001b[0;31m---------------------------------------------------------------------------\u001b[0m",
      "\u001b[0;31mAttributeError\u001b[0m                            Traceback (most recent call last)",
      "Cell \u001b[0;32mIn[25], line 7\u001b[0m\n\u001b[1;32m      5\u001b[0m \u001b[38;5;28;01mdef\u001b[39;00m \u001b[38;5;21mdistance\u001b[39m (p1,p2): \u001b[38;5;66;03m#method to calculate Euclidian distance between two points\u001b[39;00m\n\u001b[1;32m      6\u001b[0m     \u001b[38;5;28mprint\u001b[39m (math\u001b[38;5;241m.\u001b[39msqrt((p1\u001b[38;5;241m.\u001b[39mx\u001b[38;5;241m-\u001b[39mp2\u001b[38;5;241m.\u001b[39mx)\u001b[38;5;241m*\u001b[39m\u001b[38;5;241m*\u001b[39m\u001b[38;5;241m2\u001b[39m\u001b[38;5;241m+\u001b[39m(p1\u001b[38;5;241m.\u001b[39my\u001b[38;5;241m-\u001b[39mp2\u001b[38;5;241m.\u001b[39my)\u001b[38;5;241m*\u001b[39m\u001b[38;5;241m*\u001b[39m\u001b[38;5;241m2\u001b[39m))\n\u001b[0;32m----> 7\u001b[0m \u001b[43mdistance\u001b[49m\u001b[43m(\u001b[49m\u001b[43m(\u001b[49m\u001b[38;5;241;43m1\u001b[39;49m\u001b[43m,\u001b[49m\u001b[38;5;241;43m2\u001b[39;49m\u001b[43m)\u001b[49m\u001b[43m,\u001b[49m\u001b[43m(\u001b[49m\u001b[38;5;241;43m3\u001b[39;49m\u001b[43m,\u001b[49m\u001b[38;5;241;43m4\u001b[39;49m\u001b[43m)\u001b[49m\u001b[43m)\u001b[49m\n",
      "Cell \u001b[0;32mIn[25], line 6\u001b[0m, in \u001b[0;36mdistance\u001b[0;34m(p1, p2)\u001b[0m\n\u001b[1;32m      5\u001b[0m \u001b[38;5;28;01mdef\u001b[39;00m \u001b[38;5;21mdistance\u001b[39m (p1,p2): \u001b[38;5;66;03m#method to calculate Euclidian distance between two points\u001b[39;00m\n\u001b[0;32m----> 6\u001b[0m     \u001b[38;5;28mprint\u001b[39m (math\u001b[38;5;241m.\u001b[39msqrt((\u001b[43mp1\u001b[49m\u001b[38;5;241;43m.\u001b[39;49m\u001b[43mx\u001b[49m\u001b[38;5;241m-\u001b[39mp2\u001b[38;5;241m.\u001b[39mx)\u001b[38;5;241m*\u001b[39m\u001b[38;5;241m*\u001b[39m\u001b[38;5;241m2\u001b[39m\u001b[38;5;241m+\u001b[39m(p1\u001b[38;5;241m.\u001b[39my\u001b[38;5;241m-\u001b[39mp2\u001b[38;5;241m.\u001b[39my)\u001b[38;5;241m*\u001b[39m\u001b[38;5;241m*\u001b[39m\u001b[38;5;241m2\u001b[39m))\n",
      "\u001b[0;31mAttributeError\u001b[0m: 'tuple' object has no attribute 'x'"
     ]
    }
   ],
   "source": [
    "#calculating the euclian distance between points\n",
    "\n",
    "p1 =(1,2)\n",
    "p2 =(3,4)\n",
    "class Point():\n",
    "    \"\"\" A class for x,y points \"\"\"\n",
    "\n",
    "    def __init__(self, x, y): #The class has an x and y variable\n",
    "        \"\"\" Create a point \"\"\"\n",
    "        self.x = x\n",
    "        self.y = y\n",
    "    def distance (p1,p2): #method to calculate Euclidian distance between two points\n",
    "        print (math.sqrt((p1.x-p2.x)**2+(p1.y-p2.y)**2))\n",
    "distance((1,2),(3,4))"
   ]
  },
  {
   "cell_type": "markdown",
   "id": "dfbc2322",
   "metadata": {},
   "source": [
    "## 4. Plotting mathematical functions with Numpy and Matplotlib"
   ]
  },
  {
   "cell_type": "code",
   "execution_count": 15,
   "id": "69cdbb5a",
   "metadata": {},
   "outputs": [
    {
     "data": {
      "image/png": "[encoded data removed]",
      "text/plain": [
       "<Figure size 640x480 with 1 Axes>"
      ]
     },
     "metadata": {},
     "output_type": "display_data"
    }
   ],
   "source": [
    "#Xaxis is an one-dimensional array with 100 elements\n",
    "#begin from -10.0 to 10.0, with interval of 0.2 for each two elements\n",
    "Xaxis = np.arange(-10., 10., 0.2)\n",
    "\n",
    "#Yaxis is also an one-dimensional arry with 100 elements\n",
    "#begin from 0 to 100\n",
    "Yaxis = np.linspace(0, len(Xaxis), len(Xaxis))\n",
    "\n",
    "plt.plot(Xaxis, Yaxis)\n",
    "plt.show()"
   ]
  },
  {
   "cell_type": "code",
   "execution_count": 43,
   "id": "fdb83785",
   "metadata": {},
   "outputs": [
    {
     "data": {
      "image/png": "[encoded data removed]",
      "text/plain": [
       "<Figure size 432x288 with 1 Axes>"
      ]
     },
     "metadata": {
      "needs_background": "light"
     },
     "output_type": "display_data"
    }
   ],
   "source": [
    "import math\n",
    "import matplotlib.pyplot as plt\n",
    "import numpy as np\n",
    "\n",
    "def line(x):\n",
    "    a = []\n",
    "    for item in x:\n",
    "        a.append((2*x+3))\n",
    "    return a\n",
    "\n",
    "x = np.arange(-10., 10., 1)# Creating a numpy array from -10 to 10 with step 0.2\n",
    "sig = line(x) #calling the sigmoid function\n",
    "plt.plot(x,sig)\n",
    "plt.show()"
   ]
  },
  {
   "cell_type": "markdown",
   "id": "8b71064e",
   "metadata": {},
   "source": [
    "#### Plotting the sigmoid function using numpy"
   ]
  },
  {
   "cell_type": "code",
   "execution_count": 1,
   "id": "674b8f47",
   "metadata": {},
   "outputs": [
    {
     "data": {
      "image/png": "[encoded data removed]",
      "text/plain": [
       "<Figure size 432x288 with 1 Axes>"
      ]
     },
     "metadata": {
      "needs_background": "light"
     },
     "output_type": "display_data"
    }
   ],
   "source": [
    "#source: Source: https://squall0032.tumblr.com/post/77300791096/plotting-a-sigmoid-function-using\n",
    "import math\n",
    "import matplotlib.pyplot as plt\n",
    "import numpy as np\n",
    "\n",
    "def sigmoid(x):\n",
    "    a = []\n",
    "    for item in x:\n",
    "        a.append(1/(1+math.exp(-item)))\n",
    "    return a\n",
    "\n",
    "x = np.arange(-10., 10., 0.2)# Creating a numpy array from -10 to 10 with step 0.2\n",
    "sig = sigmoid(x) #calling the sigmoid function\n",
    "plt.plot(x,sig)\n",
    "plt.show()"
   ]
  },
  {
   "cell_type": "code",
   "execution_count": null,
   "id": "dc9476a6",
   "metadata": {},
   "outputs": [],
   "source": []
  }
 ],
 "metadata": {
  "kernelspec": {
   "display_name": "Python 3 (ipykernel)",
   "language": "python",
   "name": "python3"
  },
  "language_info": {
   "codemirror_mode": {
    "name": "ipython",
    "version": 3
   },
   "file_extension": ".py",
   "mimetype": "text/x-python",
   "name": "python",
   "nbconvert_exporter": "python",
   "pygments_lexer": "ipython3",
   "version": "3.10.9"
  }
 },
 "nbformat": 4,
 "nbformat_minor": 5
}
