{
 "cells": [
  {
   "cell_type": "markdown",
   "metadata": {},
   "source": [
    "# Working with files and data serialization\n",
    "\n",
    "When you have data you want to write the data to a file to store it after use. Or, you want to open a file to get the data and do something with it. In this notebook we'll be covering several common file types. So let's get coding!O\n",
    "\n",
    "## Contents\n",
    "\n",
    "0. Install packages\n",
    "1. Writing to a text file\n",
    "2. Reading from a text file\n",
    "3. JSON\n",
    "4. YAML\n",
    "5. Pickle\n",
    "6. Creating a simple credentials file "
   ]
  },
  {
   "cell_type": "markdown",
   "metadata": {},
   "source": [
    "## 0. Install packages"
   ]
  },
  {
   "cell_type": "code",
   "execution_count": 2,
   "metadata": {},
   "outputs": [
    {
     "name": "stdout",
     "output_type": "stream",
     "text": [
      "Requirement already satisfied: pyyaml in c:\\users\\31653\\anaconda3\\lib\\site-packages (5.3.1)\n",
      "Note: you may need to restart the kernel to use updated packages.\n"
     ]
    }
   ],
   "source": [
    "%pip install pyyaml "
   ]
  },
  {
   "cell_type": "code",
   "execution_count": 1,
   "metadata": {},
   "outputs": [
    {
     "data": {
      "text/plain": [
       "['anatomy of an array.png',\n",
       " 'opencv.png',\n",
       " 'OpenCV_rgb.png',\n",
       " 'plantuml.png',\n",
       " 'temp1.png',\n",
       " 'road2.png',\n",
       " 'plot.png']"
      ]
     },
     "execution_count": 1,
     "metadata": {},
     "output_type": "execute_result"
    }
   ],
   "source": [
    "# we will use glob to show a list of certain filetype \n",
    "import glob\n",
    "png_files = glob.glob('*.png')\n",
    "png_files"
   ]
  },
  {
   "cell_type": "markdown",
   "metadata": {},
   "source": [
    "The other way of doing this is by using **ls**"
   ]
  },
  {
   "cell_type": "code",
   "execution_count": 2,
   "metadata": {},
   "outputs": [
    {
     "name": "stdout",
     "output_type": "stream",
     "text": [
      "NOAA_data.txt            input.txt                requirements.txt\r\n",
      "XML_file.txt             leegmelden_plantuml.txt  servers.txt\r\n",
      "a_file.txt               plantuml.txt             untitled.txt\r\n",
      "accounts2.txt            plantuml_complex.txt\r\n",
      "demo.txt                 plantuml_complex2.txt\r\n"
     ]
    }
   ],
   "source": [
    "ls *.txt "
   ]
  },
  {
   "cell_type": "markdown",
   "metadata": {},
   "source": [
    "## 1. Writing to a text file"
   ]
  },
  {
   "cell_type": "code",
   "execution_count": 3,
   "metadata": {},
   "outputs": [
    {
     "data": {
      "text/plain": [
       "'/Users/michielbontenbal/Documents/GitHub/Notebooks'"
      ]
     },
     "execution_count": 3,
     "metadata": {},
     "output_type": "execute_result"
    }
   ],
   "source": [
    "pwd"
   ]
  },
  {
   "cell_type": "code",
   "execution_count": 7,
   "metadata": {},
   "outputs": [],
   "source": [
    "#this scripts creates a .txt file with 3 lines Michiel, Bontenbal and empty line\n",
    "with open ('accounts.txt', mode='w') as accounts:\n",
    "    accounts.write('100 Jones 24.98\\n')\n",
    "    accounts.write('200 Doe 345.67\\n')\n",
    "    accounts.write('300 White 0.00\\n')\n",
    "    print('400 Stone -42.16', file=accounts)#also create a new line in the file\n",
    "    print('500 Rich 224.62', file=accounts)\n",
    "#python closes the file"
   ]
  },
  {
   "cell_type": "code",
   "execution_count": 8,
   "metadata": {},
   "outputs": [
    {
     "name": "stdout",
     "output_type": "stream",
     "text": [
      "['demo.txt', 'XML_file.txt', 'requirements.txt', 'plantuml_complex2.txt', 'servers.txt', 'leegmelden_plantuml.txt', 'accounts2.txt', 'untitled.txt', 'accounts.txt', 'plantuml.txt', 'a_file.txt', 'plantuml_complex.txt']\n"
     ]
    }
   ],
   "source": [
    "from glob import glob\n",
    "my_txt_files = glob('*.txt')\n",
    "print(my_txt_files)"
   ]
  },
  {
   "cell_type": "code",
   "execution_count": 10,
   "metadata": {},
   "outputs": [],
   "source": [
    "#display the file using %pycat\n",
    "%pycat accounts.txt"
   ]
  },
  {
   "cell_type": "code",
   "execution_count": 12,
   "metadata": {},
   "outputs": [
    {
     "name": "stdout",
     "output_type": "stream",
     "text": [
      "100 Jones 24.98\n",
      "200 Doe 345.67\n",
      "300 White 0.00\n",
      "400 Stone -42.16\n",
      "500 Rich 224.62\n",
      "\n",
      "<class 'str'>\n"
     ]
    }
   ],
   "source": [
    "#open the text file againg with python\n",
    "text_file = open('accounts.txt')\n",
    "file_content = text_file.read()\n",
    "print(file_content)\n",
    "text_file.close()\n",
    "print(type(file_content))"
   ]
  },
  {
   "cell_type": "markdown",
   "metadata": {},
   "source": [
    "### 1b. Converting a python list to a txt.file"
   ]
  },
  {
   "cell_type": "code",
   "execution_count": 5,
   "metadata": {},
   "outputs": [],
   "source": [
    "#a script to convert python list to a .txt file\n",
    "a_list = [\"abc\", \"def\", \"ghi\"]\n",
    "textfile = open(\"a_file.txt\", \"w\")\n",
    "textfile.write('header\\n')\n",
    "for element in a_list:\n",
    "    textfile.write(element + \"\\n\")\n",
    "textfile.close()"
   ]
  },
  {
   "cell_type": "code",
   "execution_count": 7,
   "metadata": {},
   "outputs": [],
   "source": [
    "#check the file with pycat\n",
    "%pycat /Users/michielbontenbal/Documents/GitHub/Notebooks/a_file.txt"
   ]
  },
  {
   "cell_type": "markdown",
   "metadata": {},
   "source": [
    "## 2. Reading Data from a text file"
   ]
  },
  {
   "cell_type": "code",
   "execution_count": 13,
   "metadata": {
    "scrolled": true
   },
   "outputs": [
    {
     "name": "stdout",
     "output_type": "stream",
     "text": [
      "Account   Name         Balance\n",
      "100       Jones          24.98\n",
      "200       Doe           345.67\n",
      "300       White           0.00\n",
      "400       Stone         -42.16\n",
      "500       Rich          224.62\n"
     ]
    }
   ],
   "source": [
    "with open ('accounts.txt', mode='r') as accounts:\n",
    "    print(f'{\"Account\":<10}{\"Name\": <10}{\"Balance\":>10}')#create three headers/columns with 10 characters and align < or >\n",
    "    for record in accounts: #for each row do the followinh\n",
    "        account, name, balance = record.split()\n",
    "        print(f'{account:<10}{name:<10}{balance:>10}')"
   ]
  },
  {
   "cell_type": "code",
   "execution_count": 14,
   "metadata": {},
   "outputs": [
    {
     "name": "stdout",
     "output_type": "stream",
     "text": [
      "100 Jones 24.98\n",
      "200 Doe 345.67\n",
      "300 White 0.00\n",
      "400 Stone -42.16\n",
      "500 Rich 224.62\n"
     ]
    }
   ],
   "source": [
    "with open('accounts.txt') as input_file:\n",
    "          line = input_file.readline()\n",
    "          while line:\n",
    "                line = line.strip()\n",
    "                print(line)\n",
    "                line = input_file.readline()"
   ]
  },
  {
   "cell_type": "markdown",
   "metadata": {},
   "source": [
    "## 3. JSON \n",
    "source: https://www.programiz.com/python-programming/json\n",
    "\n",
    "In Python 3:\n",
    " - json.loads take a string as input and returns a dictionary as output.\n",
    " - json.dumps take a dictionary as input and returns a string as output.\n",
    " - json.load you can load a json file"
   ]
  },
  {
   "cell_type": "code",
   "execution_count": 26,
   "metadata": {},
   "outputs": [
    {
     "name": "stdout",
     "output_type": "stream",
     "text": [
      "['edgeimpulse.json', 'plane.json', 'person.json', 'petstore_openapi3.json']\n"
     ]
    }
   ],
   "source": [
    "from glob import glob\n",
    "my_jsons = glob('*.json')\n",
    "print(my_jsons)"
   ]
  },
  {
   "cell_type": "code",
   "execution_count": 8,
   "metadata": {},
   "outputs": [
    {
     "name": "stdout",
     "output_type": "stream",
     "text": [
      "\"person.json\"\n"
     ]
    }
   ],
   "source": [
    "import json\n",
    "try:\n",
    "    data = json.dumps('person.json')\n",
    "except:\n",
    "    pass\n",
    "print(data)"
   ]
  },
  {
   "cell_type": "code",
   "execution_count": 9,
   "metadata": {},
   "outputs": [
    {
     "name": "stdout",
     "output_type": "stream",
     "text": [
      "{'name': 'Bob', 'languages': ['English', 'French']}\n"
     ]
    }
   ],
   "source": [
    "# to open the json file use json.load\n",
    "import json\n",
    "\n",
    "with open('person.json') as f:\n",
    "    data = json.load(f)\n",
    "\n",
    "# Output: {'name': 'Bob', 'languages': ['English', 'Fench']}\n",
    "print(data)"
   ]
  },
  {
   "cell_type": "code",
   "execution_count": 10,
   "metadata": {},
   "outputs": [
    {
     "name": "stdout",
     "output_type": "stream",
     "text": [
      "{'name': 'Michiel', 'languages': ['English', 'French', 'Italian']}\n",
      "English and French\n",
      "<class 'dict'>\n"
     ]
    }
   ],
   "source": [
    "import json\n",
    "\n",
    "person = '{\"name\": \"Michiel\", \"languages\": [\"English\", \"French\", \"Italian\"]}'\n",
    "person_dict = json.loads(person)\n",
    "\n",
    "# Output: {'name': 'Bob', 'languages': ['English', 'French']}\n",
    "print(person_dict)\n",
    "\n",
    "# Output: ['English', 'French']\n",
    "print(person_dict['languages'][0]+\" and \"+ person_dict['languages'][1])\n",
    "print(type(person_dict))"
   ]
  },
  {
   "cell_type": "code",
   "execution_count": 11,
   "metadata": {},
   "outputs": [
    {
     "name": "stdout",
     "output_type": "stream",
     "text": [
      "{'height': 252, 'label': 'zebra', 'value': 0.9409910440444946, 'width': 201, 'x': 13, 'y': 38}\n",
      "0.9409910440444946 zebra\n",
      "zebra\n"
     ]
    }
   ],
   "source": [
    "import json\n",
    "with open('edgeimpulse.json') as f:\n",
    "    data=json.load(f)\n",
    "    \n",
    "list_item_0 =data['result']['bounding_boxes'][0]\n",
    "print(list_item_0)\n",
    "print(list_item_0['value'], list_item_0['label'])\n",
    "print(list_item_0['label'])\n",
    "#type(list_item_0)"
   ]
  },
  {
   "cell_type": "code",
   "execution_count": 15,
   "metadata": {},
   "outputs": [
    {
     "name": "stdout",
     "output_type": "stream",
     "text": [
      "Unique Key in the JSON:\n",
      "{'a': 4, 'b': 2, 'c': 0}\n"
     ]
    }
   ],
   "source": [
    "import json\n",
    "python_obj = '{\"a\":  1, \"a\":  2, \"a\":  3, \"a\": 4, \"b\": 1, \"b\": 2, \"c\": 0}'\n",
    "json_obj = json.loads(python_obj)\n",
    "print(\"Unique key in the JSON:\")\n",
    "print(json_obj) "
   ]
  },
  {
   "cell_type": "markdown",
   "metadata": {},
   "source": [
    "## 4. YAML\n",
    "\n",
    "Pypi: https://pypi.org/project/PyYAML/\n",
    "\n",
    "source: https://zetcode.com/python/yaml/\n",
    "\n",
    "Use the following files: items.yaml en "
   ]
  },
  {
   "cell_type": "markdown",
   "metadata": {},
   "source": [
    "raincoat: 1\n",
    "coins: 5\n",
    "books: 23\n",
    "spectacles: 2\n",
    "chairs: 12\n",
    "pens: 6"
   ]
  },
  {
   "cell_type": "code",
   "execution_count": 1,
   "metadata": {},
   "outputs": [
    {
     "name": "stdout",
     "output_type": "stream",
     "text": [
      "{'raincoat': 1, 'coins': 5, 'books': 23, 'spectacles': 2, 'chairs': 12, 'pens': 6}\n",
      "<class 'dict'>\n"
     ]
    }
   ],
   "source": [
    "#a script to load data from a .yaml file\n",
    "import yaml\n",
    "\n",
    "with open('items.yaml') as f:\n",
    "    data = yaml.load(f, Loader=yaml.FullLoader)\n",
    "print(data)\n",
    "print(type(data))"
   ]
  },
  {
   "cell_type": "code",
   "execution_count": 47,
   "metadata": {},
   "outputs": [
    {
     "name": "stdout",
     "output_type": "stream",
     "text": [
      "cities -> ['Bratislava', 'Kosice', 'Trnava', 'Moldava', 'Trencin']\n",
      "companies -> ['Eset', 'Slovnaft', 'Duslo Sala', 'Matador Puchov']\n"
     ]
    }
   ],
   "source": [
    "#!/usr/bin/env python3\n",
    "\n",
    "import yaml\n",
    "\n",
    "with open('data.yaml') as f:\n",
    "    \n",
    "    docs = yaml.load_all(f, Loader=yaml.FullLoader)\n",
    "\n",
    "    for doc in docs:\n",
    "        \n",
    "        for k, v in doc.items():\n",
    "           print(k, \"->\", v)\n",
    "           "
   ]
  },
  {
   "cell_type": "markdown",
   "metadata": {},
   "source": [
    "## 5. Pickle\n",
    "\n",
    "Pickle is Python's native object serialization module.  \n",
    "\n",
    "Pickle official information: https://docs.python.org/3/library/pickle.html\n",
    "Pickle tutorial: https://www.datacamp.com/community/tutorials/pickle-python-tutorial\n",
    "\n",
    "#### Pickle vs JSON\n",
    "- Pickle pro's = python native\n",
    "- JSON pro's = faster, interoperability, more secure"
   ]
  },
  {
   "cell_type": "code",
   "execution_count": 7,
   "metadata": {},
   "outputs": [],
   "source": [
    "# Save a dictionary into a pickle file.\n",
    "import pickle\n",
    "\n",
    "favorite_color = { \"lion\": \"yellow\", \"kitty\": \"red\" }\n",
    "pickle.dump( favorite_color, open( \"save.pkl\", \"wb\" ) )"
   ]
  },
  {
   "cell_type": "code",
   "execution_count": 8,
   "metadata": {},
   "outputs": [
    {
     "data": {
      "text/plain": [
       "{'lion': 'yellow', 'kitty': 'red'}"
      ]
     },
     "execution_count": 8,
     "metadata": {},
     "output_type": "execute_result"
    }
   ],
   "source": [
    "# Open the pickle file and assign to a new variable\n",
    "favorite_color_new = pickle.load( open( \"save.pkl\", \"rb\" ) )\n",
    "favorite_color_new"
   ]
  },
  {
   "cell_type": "markdown",
   "metadata": {},
   "source": [
    "## 6. Credentials file\n",
    "\n",
    "First make a seperate textfile called 'credentials.py' as follows:\n",
    "\n",
    "username = \"xy\" <br>\n",
    "password = \"abcd\""
   ]
  },
  {
   "cell_type": "code",
   "execution_count": 4,
   "metadata": {},
   "outputs": [
    {
     "name": "stdout",
     "output_type": "stream",
     "text": [
      "xy abcd\n"
     ]
    }
   ],
   "source": [
    "#using a dummy_credentials.py file\n",
    "import dummy_credentials\n",
    "username =dummy_credentials.username\n",
    "password = dummy_credentials.password\n",
    "print(username, password)"
   ]
  },
  {
   "cell_type": "code",
   "execution_count": null,
   "metadata": {},
   "outputs": [],
   "source": []
  }
 ],
 "metadata": {
  "kernelspec": {
   "display_name": "Python 3 (ipykernel)",
   "language": "python",
   "name": "python3"
  },
  "language_info": {
   "codemirror_mode": {
    "name": "ipython",
    "version": 3
   },
   "file_extension": ".py",
   "mimetype": "text/x-python",
   "name": "python",
   "nbconvert_exporter": "python",
   "pygments_lexer": "ipython3",
   "version": "3.10.9"
  }
 },
 "nbformat": 4,
 "nbformat_minor": 4
}
