{
 "cells": [
  {
   "cell_type": "markdown",
   "id": "7d501aed",
   "metadata": {},
   "source": [
    "# Comprehensions\n",
    "\n",
    "## Contents\n",
    "1. Introduction\n",
    "2. List comprehensions\n",
    "3. Dictionary comprehensions"
   ]
  },
  {
   "cell_type": "markdown",
   "id": "66694e44",
   "metadata": {},
   "source": [
    "## 1. Introduction\n",
    "\n",
    "Comprehensions are short code for some basic functionalities. You can code in one line where it normally takes 4-5 lines of code."
   ]
  },
  {
   "cell_type": "markdown",
   "id": "39e4e26b",
   "metadata": {},
   "source": [
    "## 2. List comprehensions"
   ]
  },
  {
   "cell_type": "code",
   "execution_count": 1,
   "id": "9d3ab992",
   "metadata": {},
   "outputs": [
    {
     "name": "stdout",
     "output_type": "stream",
     "text": [
      "[0, 2, 4, 6, 8, 10, 12, 14, 16, 18, 20, 22, 24, 26, 28, 30, 32, 34, 36, 38, 40, 42, 44, 46, 48, 50, 52, 54, 56, 58, 60, 62, 64, 66, 68, 70, 72, 74, 76, 78, 80, 82, 84, 86, 88, 90, 92, 94, 96, 98]\n"
     ]
    }
   ],
   "source": [
    "#traditional function\n",
    "my_list = []\n",
    "for number in range(0,100):\n",
    "    if number %2 ==0:\n",
    "        my_list.append(number)\n",
    "print(my_list)  "
   ]
  },
  {
   "cell_type": "code",
   "execution_count": 2,
   "id": "b2e1743c",
   "metadata": {},
   "outputs": [
    {
     "name": "stdout",
     "output_type": "stream",
     "text": [
      "[0, 2, 4, 6, 8, 10, 12, 14, 16, 18, 20, 22, 24, 26, 28, 30, 32, 34, 36, 38, 40, 42, 44, 46, 48, 50, 52, 54, 56, 58, 60, 62, 64, 66, 68, 70, 72, 74, 76, 78, 80, 82, 84, 86, 88, 90, 92, 94, 96, 98]\n"
     ]
    }
   ],
   "source": [
    "# list comprehension\n",
    "my_list = [number for number in range(0,100) if number %2 == 0]\n",
    "print(my_list)"
   ]
  },
  {
   "cell_type": "markdown",
   "id": "d5e511c2",
   "metadata": {},
   "source": [
    "## 3. Dictionary comprehensions"
   ]
  },
  {
   "cell_type": "code",
   "execution_count": 4,
   "id": "bcaa6c00",
   "metadata": {},
   "outputs": [
    {
     "name": "stdout",
     "output_type": "stream",
     "text": [
      "<class 'dict'>\n",
      "{'pepper': 0.2, 'onion': 0.55, 'apple': 0.4, 'orange': 0.35}\n"
     ]
    }
   ],
   "source": [
    "# Merge dictionaries with the unpacking operator (**)\n",
    "#The dictionary unpacking operator (**) is really an awesome feature in Python. \n",
    "fruit_prices = {'apple': 0.40, 'orange': 0.35}\n",
    "vegetable_prices = {'pepper': 0.20, 'onion': 0.55}\n",
    "# How to use the unpacking operator **\n",
    "my_combined_dict = {**vegetable_prices, **fruit_prices}\n",
    "print(type(my_combined_dict))\n",
    "print(my_combined_dict)"
   ]
  },
  {
   "cell_type": "code",
   "execution_count": 7,
   "id": "fd6cfdaf",
   "metadata": {},
   "outputs": [
    {
     "data": {
      "text/plain": [
       "{'color': 'blue', 'fruit': 'apple', 'pet': 'dog'}"
      ]
     },
     "execution_count": 7,
     "metadata": {},
     "output_type": "execute_result"
    }
   ],
   "source": [
    "#combining two lists to one dictionary using 'zip'\n",
    "#source: realpython -https://realpython.com/iterate-through-dictionary-python/\n",
    "objects = ['blue', 'apple', 'dog']\n",
    "categories = ['color', 'fruit', 'pet']\n",
    "a_dict = {key: value for key, value in zip(categories, objects)}\n",
    "a_dict"
   ]
  },
  {
   "cell_type": "code",
   "execution_count": 8,
   "id": "6afdff85",
   "metadata": {},
   "outputs": [
    {
     "name": "stdout",
     "output_type": "stream",
     "text": [
      "{'name': 'Michiel', 'outcome': 'papier'}\n",
      "{'name': 'Michiel', 'outcome': 'schaar'}\n",
      "{'name': 'Michiel', 'outcome': 'steen'}\n",
      "{'name': 'Michiel', 'outcome': 'papier'}\n",
      "{'name': 'Michiel', 'outcome': 'papier'}\n"
     ]
    }
   ],
   "source": [
    "import random\n",
    "my_dict= {'name':'Michiel'}\n",
    "outcome = ['steen', 'papier', 'schaar']\n",
    "for i in range(1,6):\n",
    "    for j in range(1):\n",
    "        my_dict[\"outcome\"]= random.choice(outcome)\n",
    "        print(my_dict)"
   ]
  },
  {
   "cell_type": "code",
   "execution_count": null,
   "id": "ed2746d5",
   "metadata": {},
   "outputs": [],
   "source": [
    "import random\n",
    "my_dict= {'name':'Michiel'}\n",
    "outcome = ['steen', 'papier', 'schaar']\n",
    "new_dict={}\n",
    "for i in range(1,6):\n",
    "    new_dict[\"outcome\"+str(i)]=random.choice(outcome)\n",
    "unpacking_dict={**my_dict, **new_dict}\n",
    "#print(\"new_dict= \"+ str(new_dict))\n",
    "#print(unpacking_dict)\n",
    "#print(new_dict)"
   ]
  },
  {
   "cell_type": "code",
   "execution_count": null,
   "id": "b6128f7b",
   "metadata": {},
   "outputs": [],
   "source": [
    "# Create nested dictionaries\n",
    "#source: https://stackoverflow.com/questions/16333296/how-do-you-create-nested-dict-in-python\n",
    "d = {}\n",
    "d['dict1'] = {}\n",
    "d['dict1']['innerkey'] = 'value'\n",
    "d['dict1']['innerkey2'] = 'value2'\n",
    "d"
   ]
  },
  {
   "cell_type": "code",
   "execution_count": 3,
   "id": "21b0e3a4",
   "metadata": {},
   "outputs": [
    {
     "name": "stdout",
     "output_type": "stream",
     "text": [
      "{'name': 'Michiel', 'time': '2023-02-12 14:07:03.853722', 'measurements': {'outcome1': 'papier', 'outcome2': 'papier', 'outcome3': 'papier', 'outcome4': 'schaar', 'outcome5': 'schaar'}}\n",
      "{'name': 'Michiel', 'time': '2023-02-12 14:07:04.859216', 'measurements': {'outcome1': 'papier', 'outcome2': 'steen', 'outcome3': 'papier', 'outcome4': 'schaar', 'outcome5': 'papier'}}\n",
      "{'name': 'Michiel', 'time': '2023-02-12 14:07:05.860097', 'measurements': {'outcome1': 'schaar', 'outcome2': 'steen', 'outcome3': 'schaar', 'outcome4': 'papier', 'outcome5': 'papier'}}\n"
     ]
    }
   ],
   "source": [
    "#creating a double loop\n",
    "from time import sleep\n",
    "import random\n",
    "from datetime import datetime\n",
    "d= {'name':'Michiel'}\n",
    "outcome = ['steen', 'papier', 'schaar']\n",
    "for i in range (3):\n",
    "    d['time'] = str(datetime.now())\n",
    "    d['measurements']={}\n",
    "    for j in range(1,6):\n",
    "        d['measurements'][\"outcome\"+str(j)]=random.choice(outcome)\n",
    "    print(d)\n",
    "    #d.pop('measurements') %both .pop and del could be used\n",
    "    del d[\"measurements\"]\n",
    "    sleep(1)"
   ]
  },
  {
   "cell_type": "code",
   "execution_count": null,
   "id": "4788ffb3",
   "metadata": {},
   "outputs": [],
   "source": []
  }
 ],
 "metadata": {
  "kernelspec": {
   "display_name": "Python 3 (ipykernel)",
   "language": "python",
   "name": "python3"
  },
  "language_info": {
   "codemirror_mode": {
    "name": "ipython",
    "version": 3
   },
   "file_extension": ".py",
   "mimetype": "text/x-python",
   "name": "python",
   "nbconvert_exporter": "python",
   "pygments_lexer": "ipython3",
   "version": "3.9.12"
  }
 },
 "nbformat": 4,
 "nbformat_minor": 5
}
