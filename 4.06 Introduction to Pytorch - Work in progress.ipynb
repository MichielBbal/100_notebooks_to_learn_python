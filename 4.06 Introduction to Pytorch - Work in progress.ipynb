{
 "cells": [
  {
   "cell_type": "markdown",
   "metadata": {},
   "source": [
    "# Pytorch\n",
    "\n",
    "## Contents\n",
    "0. Install packages\n",
    "1. My first torch tensor\n",
    "2. Torchvision\n",
    "\n",
    "\n",
    "Source: Sentdex\n",
    "- Video 1: https://www.youtube.com/watch?v=BzcBsTou0C0\n",
    "- Video 2: https://www.youtube.com/watch?v=i2yPxY2rOzs\n",
    "\n",
    "Source: Pytorch in 60 minutes: https://pytorch.org/tutorials/beginner/blitz/tensor_tutorial.html"
   ]
  },
  {
   "cell_type": "markdown",
   "metadata": {},
   "source": [
    "## 0. Install packages\n",
    "\n",
    "please see https://pytorch.org/get-started/locally/ how to install your version of orch"
   ]
  },
  {
   "cell_type": "code",
   "execution_count": 9,
   "metadata": {},
   "outputs": [
    {
     "name": "stdout",
     "output_type": "stream",
     "text": [
      "Requirement already satisfied: torch in /Users/michielbontenbal/opt/anaconda3/lib/python3.9/site-packages (1.12.1)\n",
      "Requirement already satisfied: typing-extensions in /Users/michielbontenbal/opt/anaconda3/lib/python3.9/site-packages (from torch) (4.1.1)\n",
      "Note: you may need to restart the kernel to use updated packages.\n"
     ]
    }
   ],
   "source": [
    "pip install torch"
   ]
  },
  {
   "cell_type": "code",
   "execution_count": 5,
   "metadata": {},
   "outputs": [
    {
     "name": "stdout",
     "output_type": "stream",
     "text": [
      "Collecting package metadata (current_repodata.json): done\n",
      "Solving environment: | \n",
      "The environment is inconsistent, please check the package plan carefully\n",
      "The following packages are causing the inconsistency:\n",
      "\n",
      "  - defaults/noarch::holoviews==1.14.8=pyhd3eb1b0_0\n",
      "  - defaults/osx-64::notebook==6.4.8=py39hecd8cb5_0\n",
      "  - defaults/noarch::requests-file==1.5.1=pyhd3eb1b0_0\n",
      "  - defaults/noarch::smart_open==5.1.0=pyhd3eb1b0_0\n",
      "  - defaults/noarch::nbclassic==0.3.5=pyhd3eb1b0_0\n",
      "  - defaults/osx-64::jupyter==1.0.0=py39hecd8cb5_7\n",
      "  - defaults/noarch::cookiecutter==1.7.3=pyhd3eb1b0_0\n",
      "  - defaults/noarch::itemloaders==1.0.4=pyhd3eb1b0_1\n",
      "  - defaults/noarch::google-cloud-core==1.7.1=pyhd3eb1b0_0\n",
      "  - defaults/osx-64::anaconda==2022.05=py39_0\n",
      "  - defaults/noarch::datashader==0.13.0=pyhd3eb1b0_1\n",
      "  - defaults/noarch::conda-repo-cli==1.0.4=pyhd3eb1b0_0\n",
      "  - defaults/osx-64::conda-build==3.21.8=py39hecd8cb5_2\n",
      "  - defaults/osx-64::parsel==1.6.0=py39hecd8cb5_0\n",
      "  - defaults/noarch::sphinx==4.4.0=pyhd3eb1b0_0\n",
      "  - defaults/osx-64::ipython==8.2.0=py39hecd8cb5_0\n",
      "  - defaults/noarch::numpydoc==1.2=pyhd3eb1b0_0\n",
      "  - defaults/osx-64::scrapy==2.6.1=py39hecd8cb5_0\n",
      "  - defaults/osx-64::pyct==0.4.6=py39hecd8cb5_0\n",
      "  - defaults/noarch::google-auth==1.33.0=pyhd3eb1b0_0\n",
      "  - defaults/noarch::anaconda-project==0.10.2=pyhd3eb1b0_0\n",
      "  - defaults/osx-64::spyder-kernels==2.1.3=py39hecd8cb5_0\n",
      "  - defaults/noarch::qtconsole==5.3.0=pyhd3eb1b0_0\n",
      "  - defaults/osx-64::_ipyw_jlab_nb_ext_conf==0.1.0=py39hecd8cb5_1\n",
      "  - defaults/osx-64::anaconda-navigator==2.1.4=py39hecd8cb5_0\n",
      "  - defaults/noarch::jupyterlab_server==2.10.3=pyhd3eb1b0_1\n",
      "  - defaults/osx-64::ipykernel==6.9.1=py39hecd8cb5_0\n",
      "  - defaults/osx-64::gensim==4.1.2=py39he9d5cce_0\n",
      "  - defaults/noarch::jupyter_console==6.4.0=pyhd3eb1b0_0\n",
      "  - defaults/osx-64::anaconda-client==1.9.0=py39hecd8cb5_0\n",
      "  - defaults/noarch::intake==0.6.5=pyhd3eb1b0_0\n",
      "  - defaults/noarch::google-cloud-storage==1.31.0=py_0\n",
      "  - defaults/osx-64::spyder==5.1.5=py39hecd8cb5_1\n",
      "  - defaults/noarch::hvplot==0.7.3=pyhd3eb1b0_1\n",
      "  - defaults/noarch::ipywidgets==7.6.5=pyhd3eb1b0_1\n",
      "  - defaults/noarch::colorcet==2.0.6=pyhd3eb1b0_0\n",
      "  - defaults/noarch::conda-token==0.3.0=pyhd3eb1b0_0\n",
      "  - defaults/osx-64::conda==4.12.0=py39hecd8cb5_0\n",
      "  - defaults/noarch::jupyterlab==3.3.2=pyhd3eb1b0_0\n",
      "  - defaults/osx-64::widgetsnbextension==3.5.2=py39hecd8cb5_0\n",
      "  - defaults/noarch::tldextract==3.2.0=pyhd3eb1b0_0\n",
      "  - defaults/osx-64::panel==0.13.0=py39hecd8cb5_0\n",
      "done\n",
      "\n",
      "\n",
      "==> WARNING: A newer version of conda exists. <==\n",
      "  current version: 4.12.0\n",
      "  latest version: 22.9.0\n",
      "\n",
      "Please update conda by running\n",
      "\n",
      "    $ conda update -n base -c defaults conda\n",
      "\n",
      "\n",
      "\n",
      "## Package Plan ##\n",
      "\n",
      "  environment location: /Users/michielbontenbal/opt/anaconda3\n",
      "\n",
      "  added / updated specs:\n",
      "    - pytorch\n",
      "    - torchaudio\n",
      "    - torchvision\n",
      "\n",
      "\n",
      "The following packages will be downloaded:\n",
      "\n",
      "    package                    |            build\n",
      "    ---------------------------|-----------------\n",
      "    ca-certificates-2022.9.24  |       h033912b_0         150 KB  conda-forge\n",
      "    certifi-2022.9.24          |     pyhd8ed1ab_0         155 KB  conda-forge\n",
      "    decorator-5.1.1            |     pyhd8ed1ab_0          12 KB  conda-forge\n",
      "    ffmpeg-4.3                 |       h0a44026_0        10.1 MB  pytorch\n",
      "    gettext-0.21.0             |       h7535e17_0         2.6 MB\n",
      "    gnutls-3.6.13              |       h756fd2b_1         2.0 MB  conda-forge\n",
      "    googleapis-common-protos-1.57.0|   py39h6e9494a_0         129 KB  conda-forge\n",
      "    h5py-2.10.0                |nompi_py39h1bb8402_106         941 KB  conda-forge\n",
      "    lame-3.100                 |    hb7f2c08_1003         530 KB  conda-forge\n",
      "    libprotobuf-3.15.8         |       hcf210ce_1         2.2 MB  conda-forge\n",
      "    libxml2-2.9.14             |       hbf8cd5e_0         641 KB\n",
      "    libxslt-1.1.35             |       h5b33f42_0         420 KB\n",
      "    lxml-4.9.1                 |   py39h701faf5_0         1.3 MB  conda-forge\n",
      "    nettle-3.6                 |       hedd7734_0         1.2 MB  conda-forge\n",
      "    openh264-2.1.1             |       h8346a28_0         655 KB\n",
      "    openssl-1.1.1s             |       hfd90126_0         1.9 MB  conda-forge\n",
      "    protobuf-3.15.8            |   py39h9fcab8e_0         317 KB  conda-forge\n",
      "    python_abi-3.9             |           2_cp39           4 KB  conda-forge\n",
      "    pytorch-1.13.0             |          py3.9_0        74.6 MB  pytorch\n",
      "    requests-2.28.1            |     pyhd8ed1ab_1          53 KB  conda-forge\n",
      "    torchaudio-0.13.0          |         py39_cpu         5.6 MB  pytorch\n",
      "    torchvision-0.14.0         |         py39_cpu         6.1 MB  pytorch\n",
      "    ------------------------------------------------------------\n",
      "                                           Total:       111.5 MB\n",
      "\n",
      "The following NEW packages will be INSTALLED:\n",
      "\n",
      "  _anaconda_depends  pkgs/main/osx-64::_anaconda_depends-2022.05-py39_0\n",
      "  decorator          conda-forge/noarch::decorator-5.1.1-pyhd8ed1ab_0\n",
      "  ffmpeg             pytorch/osx-64::ffmpeg-4.3-h0a44026_0\n",
      "  gettext            pkgs/main/osx-64::gettext-0.21.0-h7535e17_0\n",
      "  gnutls             conda-forge/osx-64::gnutls-3.6.13-h756fd2b_1\n",
      "  google-api-core    pkgs/main/noarch::google-api-core-1.25.1-pyhd3eb1b0_0\n",
      "  googleapis-common~ conda-forge/osx-64::googleapis-common-protos-1.57.0-py39h6e9494a_0\n",
      "  h5py               conda-forge/osx-64::h5py-2.10.0-nompi_py39h1bb8402_106\n",
      "  lame               conda-forge/osx-64::lame-3.100-hb7f2c08_1003\n",
      "  lxml               conda-forge/osx-64::lxml-4.9.1-py39h701faf5_0\n",
      "  nettle             conda-forge/osx-64::nettle-3.6-hedd7734_0\n",
      "  openh264           pkgs/main/osx-64::openh264-2.1.1-h8346a28_0\n",
      "  protobuf           conda-forge/osx-64::protobuf-3.15.8-py39h9fcab8e_0\n",
      "  python_abi         conda-forge/osx-64::python_abi-3.9-2_cp39\n",
      "  pytorch            pytorch/osx-64::pytorch-1.13.0-py3.9_0\n",
      "  requests           conda-forge/noarch::requests-2.28.1-pyhd8ed1ab_1\n",
      "  torchaudio         pytorch/osx-64::torchaudio-0.13.0-py39_cpu\n",
      "  torchvision        pytorch/osx-64::torchvision-0.14.0-py39_cpu\n",
      "\n",
      "The following packages will be UPDATED:\n",
      "\n",
      "  ca-certificates    pkgs/main::ca-certificates-2022.3.29-~ --> conda-forge::ca-certificates-2022.9.24-h033912b_0\n",
      "  certifi            pkgs/main/osx-64::certifi-2021.10.8-p~ --> conda-forge/noarch::certifi-2022.9.24-pyhd8ed1ab_0\n",
      "  libxml2                                 2.9.12-hcdb78fc_0 --> 2.9.14-hbf8cd5e_0\n",
      "  libxslt                                 1.1.34-h83b36ba_0 --> 1.1.35-h5b33f42_0\n",
      "  openssl              pkgs/main::openssl-1.1.1n-hca72f7f_0 --> conda-forge::openssl-1.1.1s-hfd90126_0\n",
      "\n",
      "The following packages will be SUPERSEDED by a higher-priority channel:\n",
      "\n",
      "  libprotobuf        pkgs/main::libprotobuf-3.19.1-h8346a2~ --> conda-forge::libprotobuf-3.15.8-hcf210ce_1\n",
      "\n",
      "The following packages will be DOWNGRADED:\n",
      "\n",
      "  anaconda                                   2022.05-py39_0 --> custom-py39_1\n",
      "\n",
      "\n",
      "Proceed ([y]/n)? ^C\n",
      "\n",
      "CondaSystemExit: \n",
      "Operation aborted.  Exiting.\n",
      "\n"
     ]
    }
   ],
   "source": [
    "!conda install pytorch torchvision torchaudio -c pytorch"
   ]
  },
  {
   "cell_type": "markdown",
   "metadata": {},
   "source": [
    "## 1. My first torch tensor"
   ]
  },
  {
   "cell_type": "code",
   "execution_count": 7,
   "metadata": {},
   "outputs": [
    {
     "ename": "ImportError",
     "evalue": "dlopen(/Users/michielbontenbal/opt/anaconda3/lib/python3.9/site-packages/torch/_C.cpython-39-darwin.so, 0x0002): Library not loaded: '@loader_path/libtorch_cpu.dylib'\n  Referenced from: '/Users/michielbontenbal/opt/anaconda3/lib/python3.9/site-packages/torch/lib/libtorch_python.dylib'\n  Reason: tried: '/Users/michielbontenbal/opt/anaconda3/lib/python3.9/site-packages/torch/lib/libtorch_cpu.dylib' (no such file), '/usr/local/lib/libtorch_cpu.dylib' (no such file), '/usr/lib/libtorch_cpu.dylib' (no such file)",
     "output_type": "error",
     "traceback": [
      "\u001b[0;31m---------------------------------------------------------------------------\u001b[0m",
      "\u001b[0;31mImportError\u001b[0m                               Traceback (most recent call last)",
      "Input \u001b[0;32mIn [7]\u001b[0m, in \u001b[0;36m<cell line: 1>\u001b[0;34m()\u001b[0m\n\u001b[0;32m----> 1\u001b[0m \u001b[38;5;28;01mimport\u001b[39;00m \u001b[38;5;21;01mtorch\u001b[39;00m\n\u001b[1;32m      3\u001b[0m x \u001b[38;5;241m=\u001b[39m torch\u001b[38;5;241m.\u001b[39mTensor([\u001b[38;5;241m5\u001b[39m,\u001b[38;5;241m3\u001b[39m])\n\u001b[1;32m      4\u001b[0m y \u001b[38;5;241m=\u001b[39m torch\u001b[38;5;241m.\u001b[39mTensor([\u001b[38;5;241m2\u001b[39m,\u001b[38;5;241m1\u001b[39m])\n",
      "File \u001b[0;32m~/opt/anaconda3/lib/python3.9/site-packages/torch/__init__.py:202\u001b[0m, in \u001b[0;36m<module>\u001b[0;34m\u001b[0m\n\u001b[1;32m    200\u001b[0m     \u001b[38;5;28;01mif\u001b[39;00m USE_GLOBAL_DEPS:\n\u001b[1;32m    201\u001b[0m         _load_global_deps()\n\u001b[0;32m--> 202\u001b[0m     \u001b[38;5;28;01mfrom\u001b[39;00m \u001b[38;5;21;01mtorch\u001b[39;00m\u001b[38;5;21;01m.\u001b[39;00m\u001b[38;5;21;01m_C\u001b[39;00m \u001b[38;5;28;01mimport\u001b[39;00m \u001b[38;5;241m*\u001b[39m  \u001b[38;5;66;03m# noqa: F403\u001b[39;00m\n\u001b[1;32m    204\u001b[0m \u001b[38;5;66;03m# Appease the type checker; ordinarily this binding is inserted by the\u001b[39;00m\n\u001b[1;32m    205\u001b[0m \u001b[38;5;66;03m# torch._C module initialization code in C\u001b[39;00m\n\u001b[1;32m    206\u001b[0m \u001b[38;5;28;01mif\u001b[39;00m TYPE_CHECKING:\n",
      "\u001b[0;31mImportError\u001b[0m: dlopen(/Users/michielbontenbal/opt/anaconda3/lib/python3.9/site-packages/torch/_C.cpython-39-darwin.so, 0x0002): Library not loaded: '@loader_path/libtorch_cpu.dylib'\n  Referenced from: '/Users/michielbontenbal/opt/anaconda3/lib/python3.9/site-packages/torch/lib/libtorch_python.dylib'\n  Reason: tried: '/Users/michielbontenbal/opt/anaconda3/lib/python3.9/site-packages/torch/lib/libtorch_cpu.dylib' (no such file), '/usr/local/lib/libtorch_cpu.dylib' (no such file), '/usr/lib/libtorch_cpu.dylib' (no such file)"
     ]
    }
   ],
   "source": [
    "import torch\n",
    "\n",
    "x = torch.Tensor([5,3])\n",
    "y = torch.Tensor([2,1])\n",
    "\n",
    "print(x*y) # multiply the two arrays tensor is a multidimensional array"
   ]
  },
  {
   "cell_type": "code",
   "execution_count": 4,
   "metadata": {},
   "outputs": [],
   "source": [
    "x = torch.zeros([2,5])"
   ]
  },
  {
   "cell_type": "code",
   "execution_count": 5,
   "metadata": {},
   "outputs": [
    {
     "name": "stdout",
     "output_type": "stream",
     "text": [
      "tensor([[0., 0., 0., 0., 0.],\n",
      "        [0., 0., 0., 0., 0.]])\n"
     ]
    }
   ],
   "source": [
    "print(x)"
   ]
  },
  {
   "cell_type": "code",
   "execution_count": 6,
   "metadata": {},
   "outputs": [
    {
     "data": {
      "text/plain": [
       "torch.Size([2, 5])"
      ]
     },
     "execution_count": 6,
     "metadata": {},
     "output_type": "execute_result"
    }
   ],
   "source": [
    "x.shape"
   ]
  },
  {
   "cell_type": "code",
   "execution_count": 8,
   "metadata": {},
   "outputs": [
    {
     "data": {
      "text/plain": [
       "tensor([[0.8045, 0.1309, 0.6837, 0.9797, 0.1849],\n",
       "        [0.0862, 0.2665, 0.3092, 0.5778, 0.7307]])"
      ]
     },
     "execution_count": 8,
     "metadata": {},
     "output_type": "execute_result"
    }
   ],
   "source": [
    "y = torch.rand([2,5])\n",
    "y"
   ]
  },
  {
   "cell_type": "markdown",
   "metadata": {},
   "source": [
    "### Reshaping in Numpy => view in Pytorch"
   ]
  },
  {
   "cell_type": "code",
   "execution_count": 9,
   "metadata": {},
   "outputs": [
    {
     "data": {
      "text/plain": [
       "tensor([[0.8045, 0.1309, 0.6837, 0.9797, 0.1849, 0.0862, 0.2665, 0.3092, 0.5778,\n",
       "         0.7307]])"
      ]
     },
     "execution_count": 9,
     "metadata": {},
     "output_type": "execute_result"
    }
   ],
   "source": [
    "y.view([1,10])"
   ]
  },
  {
   "cell_type": "code",
   "execution_count": null,
   "metadata": {},
   "outputs": [],
   "source": []
  },
  {
   "cell_type": "code",
   "execution_count": null,
   "metadata": {},
   "outputs": [],
   "source": []
  }
 ],
 "metadata": {
  "kernelspec": {
   "display_name": "Python 3 (ipykernel)",
   "language": "python",
   "name": "python3"
  },
  "language_info": {
   "codemirror_mode": {
    "name": "ipython",
    "version": 3
   },
   "file_extension": ".py",
   "mimetype": "text/x-python",
   "name": "python",
   "nbconvert_exporter": "python",
   "pygments_lexer": "ipython3",
   "version": "3.10.9"
  }
 },
 "nbformat": 4,
 "nbformat_minor": 2
}
