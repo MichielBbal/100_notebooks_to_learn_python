{
 "cells": [
  {
   "cell_type": "markdown",
   "id": "8f4b4539",
   "metadata": {},
   "source": [
    "# Visualising neural nets\n",
    "\n",
    "TO DO\n",
    "link: https://twitter.com/fchollet/status/1654684625225277440\n",
    "\n",
    "### Contents\n",
    "0. Install packages\n",
    "1. Visualkeras\n",
    "2. Plotneuralnet\n",
    "3. Netron.app\n",
    "4. Neural net app"
   ]
  },
  {
   "cell_type": "markdown",
   "id": "d6daec3d",
   "metadata": {},
   "source": [
    "## 0. Install packages"
   ]
  },
  {
   "cell_type": "code",
   "execution_count": 1,
   "id": "a5a771cd",
   "metadata": {},
   "outputs": [
    {
     "name": "stdout",
     "output_type": "stream",
     "text": [
      "Collecting visualkeras\n",
      "  Downloading visualkeras-0.0.2-py3-none-any.whl (12 kB)\n",
      "Requirement already satisfied: numpy>=1.18.1 in /Users/michielbontenbal/anaconda3/lib/python3.10/site-packages (from visualkeras) (1.23.5)\n",
      "Collecting aggdraw>=1.3.11\n",
      "  Downloading aggdraw-1.3.16-cp310-cp310-macosx_10_9_x86_64.whl (419 kB)\n",
      "\u001b[2K     \u001b[90m━━━━━━━━━━━━━━━━━━━━━━━━━━━━━━━━━━━━━━━\u001b[0m \u001b[32m419.2/419.2 kB\u001b[0m \u001b[31m5.1 MB/s\u001b[0m eta \u001b[36m0:00:00\u001b[0m00:01\u001b[0m00:01\u001b[0m\n",
      "\u001b[?25hRequirement already satisfied: pillow>=6.2.0 in /Users/michielbontenbal/anaconda3/lib/python3.10/site-packages (from visualkeras) (9.4.0)\n",
      "Installing collected packages: aggdraw, visualkeras\n",
      "Successfully installed aggdraw-1.3.16 visualkeras-0.0.2\n"
     ]
    }
   ],
   "source": [
    "!pip install visualkeras"
   ]
  },
  {
   "cell_type": "markdown",
   "id": "a67699c3",
   "metadata": {},
   "source": [
    "## 1. Visualkeras\n",
    "\n",
    "- source: https://github.com/paulgavrikov/visualkeras\n",
    "- pypi: https://pypi.org/project/visualkeras/ "
   ]
  },
  {
   "cell_type": "code",
   "execution_count": 6,
   "id": "be7cde6e",
   "metadata": {},
   "outputs": [
    {
     "name": "stdout",
     "output_type": "stream",
     "text": [
      "Model: \"sequential_1\"\n",
      "_________________________________________________________________\n",
      "Layer (type)                 Output Shape              Param #   \n",
      "=================================================================\n",
      "conv2d_2 (Conv2D)            (None, 78, 11, 32)        896       \n",
      "_________________________________________________________________\n",
      "max_pooling2d_1 (MaxPooling2 (None, 39, 5, 32)         0         \n",
      "_________________________________________________________________\n",
      "dense_2 (Dense)              (None, 39, 5, 128)        4224      \n",
      "_________________________________________________________________\n",
      "flatten_1 (Flatten)          (None, 24960)             0         \n",
      "=================================================================\n",
      "Total params: 5,120\n",
      "Trainable params: 5,120\n",
      "Non-trainable params: 0\n",
      "_________________________________________________________________\n"
     ]
    }
   ],
   "source": [
    "from tensorflow.python.keras import layers, models\n",
    "\n",
    "input_shape = (80, 13, 3)\n",
    "\n",
    "model = models.Sequential()\n",
    "model.add(layers.Conv2D(32, kernel_size=(3, 3), activation='relu', input_shape=input_shape))\n",
    "model.add(layers.MaxPooling2D(pool_size=(2, 2)))\n",
    "model.add(layers.Dense(128, activation='relu'))\n",
    "model.add(layers.Flatten())\n",
    "\n",
    "model.compile(optimizer='adam', loss='categorical_crossentropy', metrics=['accuracy'])\n",
    "\n",
    "model.summary()"
   ]
  },
  {
   "cell_type": "code",
   "execution_count": 7,
   "id": "231e7295",
   "metadata": {},
   "outputs": [],
   "source": [
    "import visualkeras\n",
    "\n",
    "visualkeras.layered_view(model).show() # display using your system viewer\n",
    "#visualkeras.layered_view(model, to_file='output.png') # write to disk\n",
    "#visualkeras.layered_view(model, to_file='output.png').show() # write and show"
   ]
  },
  {
   "cell_type": "code",
   "execution_count": null,
   "id": "22db946e",
   "metadata": {},
   "outputs": [],
   "source": []
  },
  {
   "cell_type": "markdown",
   "id": "47f3b51d",
   "metadata": {},
   "source": [
    "## 2. Plotneuralnet\n",
    "\n",
    "- source: https://github.com/HarisIqbal88/PlotNeuralNet\n",
    "- blog: https://pub.towardsai.net/creating-stunning-neural-network-visualizations-with-chatgpt-and-plotneuralnet-adab37589e5\n",
    "- tutorial: https://www.kdnuggets.com/2020/12/generating-beautiful-neural-network-visualizations.html"
   ]
  },
  {
   "cell_type": "markdown",
   "id": "df377f25",
   "metadata": {},
   "source": [
    "## 3. Netron.app"
   ]
  },
  {
   "cell_type": "markdown",
   "id": "ddedc32b",
   "metadata": {},
   "source": [
    "## 4. Neural net zoo\n",
    "\n",
    "https://www.asimovinstitute.org/neural-network-zoo/"
   ]
  },
  {
   "cell_type": "code",
   "execution_count": null,
   "id": "d03c478d",
   "metadata": {},
   "outputs": [],
   "source": []
  }
 ],
 "metadata": {
  "kernelspec": {
   "display_name": "Python 3 (ipykernel)",
   "language": "python",
   "name": "python3"
  },
  "language_info": {
   "codemirror_mode": {
    "name": "ipython",
    "version": 3
   },
   "file_extension": ".py",
   "mimetype": "text/x-python",
   "name": "python",
   "nbconvert_exporter": "python",
   "pygments_lexer": "ipython3",
   "version": "3.10.9"
  }
 },
 "nbformat": 4,
 "nbformat_minor": 5
}
