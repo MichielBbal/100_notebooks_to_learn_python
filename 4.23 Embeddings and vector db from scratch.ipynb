{
 "cells": [
  {
   "cell_type": "markdown",
   "id": "746ee1dc",
   "metadata": {},
   "source": [
    "# Embeddings and vector databases from scratch\n",
    "\n",
    "### Contentsp\n",
    "0. Install packages\n",
    "1. Embeddings from scratch"
   ]
  },
  {
   "cell_type": "markdown",
   "id": "6a9c1eaf",
   "metadata": {},
   "source": [
    "## 0. Some theory\n",
    "\n",
    "We will calculate the cosine similarity. \n",
    "\n",
    "cosine similarity = A · B / ||A|| * ||B||\n",
    "\n",
    "In normal English this is the dotproduct of A and B divided by the normalised A en B.\n",
    "\n",
    "In the first step wel will use 'vector normailization'. \n",
    "Vector normalization is the operation that gives vectors a length of 1. In two dimensions, this means that the endpoints of the vectors lie on a circle passing through (0,1) and (1,0). In three dimensions, vector normalization ensures that the endpoints of the vectors all lie on a sphere. Vector normalization is applied in hyperspace (space with more than three dimensions) when processing analytics data.\n",
    " "
   ]
  },
  {
   "cell_type": "code",
   "execution_count": null,
   "id": "6c463eb9",
   "metadata": {},
   "outputs": [],
   "source": []
  },
  {
   "cell_type": "markdown",
   "id": "8b5aa01b",
   "metadata": {},
   "source": [
    "## 1. Embeddings from scratch (issue)\n",
    "\n",
    "source: https://www.linkedin.com/pulse/vector-databases-demystified-part-2-building-your-own-adie-kaye/"
   ]
  },
  {
   "cell_type": "code",
   "execution_count": 29,
   "id": "7e182acf",
   "metadata": {},
   "outputs": [],
   "source": [
    "#import packages\n",
    "import numpy as np\n",
    "from collections import defaultdict\n",
    "from typing import List, Tuple"
   ]
  },
  {
   "cell_type": "code",
   "execution_count": 30,
   "id": "af43a8ed",
   "metadata": {},
   "outputs": [],
   "source": [
    "#make a function to find the cosine similarity\n",
    "\n",
    "def cosine_similarity(v1: np.ndarray, v2: np.ndarray) -> float:\n",
    "    norm_v1 = np.linalg.norm(v1) #get the matrix normalisation\n",
    "    norm_v2 = np.linalg.norm(v2) \n",
    "    return dot_product / (norm_v1 * norm_v2)"
   ]
  },
  {
   "cell_type": "code",
   "execution_count": 31,
   "id": "b28bc3b2",
   "metadata": {},
   "outputs": [
    {
     "data": {
      "text/plain": [
       "array([0.99258333, 0.97463185, 0.95941195, 0.98270763, 0.96832966])"
      ]
     },
     "execution_count": 31,
     "metadata": {},
     "output_type": "execute_result"
    }
   ],
   "source": [
    "dot_product"
   ]
  },
  {
   "cell_type": "code",
   "execution_count": 26,
   "id": "d5aed9fd",
   "metadata": {},
   "outputs": [],
   "source": [
    "#create the Vectordatabase class itself\n",
    "class VectorDatabase:\n",
    "    def __init__(self):\n",
    "        self.vectors = defaultdict(np.ndarray)\n",
    "\n",
    "    def insert(self, key: str, vector: np.ndarray) -> None:\n",
    "        self.vectors[key] = vector\n",
    "\n",
    "    def search(self, query_vector: np.ndarray, k: int) -> List[Tuple[str, float]]:\n",
    "        similarities = [(key, cosine_similarity(query_vector, vector)) for key, vector in self.vectors.items()]\n",
    "        similarities.sort(key=lambda x: x[1], reverse=True)\n",
    "        return similarities[:k]\n",
    "\n",
    "    def retrieve(self, key: str) -> np.ndarray:\n",
    "        return self.vectors.get(key, None)"
   ]
  },
  {
   "cell_type": "code",
   "execution_count": 34,
   "id": "7252ed93",
   "metadata": {},
   "outputs": [
    {
     "ename": "ValueError",
     "evalue": "The truth value of an array with more than one element is ambiguous. Use a.any() or a.all()",
     "output_type": "error",
     "traceback": [
      "\u001b[0;31m---------------------------------------------------------------------------\u001b[0m",
      "\u001b[0;31mValueError\u001b[0m                                Traceback (most recent call last)",
      "Cell \u001b[0;32mIn[34], line 11\u001b[0m\n\u001b[1;32m      9\u001b[0m \u001b[38;5;66;03m# Search for similar vectors\u001b[39;00m\n\u001b[1;32m     10\u001b[0m query_vector \u001b[38;5;241m=\u001b[39m np\u001b[38;5;241m.\u001b[39marray([\u001b[38;5;241m0.15\u001b[39m, \u001b[38;5;241m0.25\u001b[39m, \u001b[38;5;241m0.35\u001b[39m])\n\u001b[0;32m---> 11\u001b[0m similar_vectors \u001b[38;5;241m=\u001b[39m \u001b[43mvector_db\u001b[49m\u001b[38;5;241;43m.\u001b[39;49m\u001b[43msearch\u001b[49m\u001b[43m(\u001b[49m\u001b[43mquery_vector\u001b[49m\u001b[43m,\u001b[49m\u001b[43m \u001b[49m\u001b[43mk\u001b[49m\u001b[38;5;241;43m=\u001b[39;49m\u001b[38;5;241;43m2\u001b[39;49m\u001b[43m)\u001b[49m\n\u001b[1;32m     12\u001b[0m \u001b[38;5;28mprint\u001b[39m(\u001b[38;5;124m\"\u001b[39m\u001b[38;5;124mSimilar vectors:\u001b[39m\u001b[38;5;124m\"\u001b[39m, similar_vectors)\n\u001b[1;32m     14\u001b[0m \u001b[38;5;66;03m# Retrieve a specific vector by its key\u001b[39;00m\n",
      "Cell \u001b[0;32mIn[26], line 11\u001b[0m, in \u001b[0;36mVectorDatabase.search\u001b[0;34m(self, query_vector, k)\u001b[0m\n\u001b[1;32m      9\u001b[0m \u001b[38;5;28;01mdef\u001b[39;00m \u001b[38;5;21msearch\u001b[39m(\u001b[38;5;28mself\u001b[39m, query_vector: np\u001b[38;5;241m.\u001b[39mndarray, k: \u001b[38;5;28mint\u001b[39m) \u001b[38;5;241m-\u001b[39m\u001b[38;5;241m>\u001b[39m List[Tuple[\u001b[38;5;28mstr\u001b[39m, \u001b[38;5;28mfloat\u001b[39m]]:\n\u001b[1;32m     10\u001b[0m     similarities \u001b[38;5;241m=\u001b[39m [(key, cosine_similarity(query_vector, vector)) \u001b[38;5;28;01mfor\u001b[39;00m key, vector \u001b[38;5;129;01min\u001b[39;00m \u001b[38;5;28mself\u001b[39m\u001b[38;5;241m.\u001b[39mvectors\u001b[38;5;241m.\u001b[39mitems()]\n\u001b[0;32m---> 11\u001b[0m     \u001b[43msimilarities\u001b[49m\u001b[38;5;241;43m.\u001b[39;49m\u001b[43msort\u001b[49m\u001b[43m(\u001b[49m\u001b[43mkey\u001b[49m\u001b[38;5;241;43m=\u001b[39;49m\u001b[38;5;28;43;01mlambda\u001b[39;49;00m\u001b[43m \u001b[49m\u001b[43mx\u001b[49m\u001b[43m:\u001b[49m\u001b[43m \u001b[49m\u001b[43mx\u001b[49m\u001b[43m[\u001b[49m\u001b[38;5;241;43m1\u001b[39;49m\u001b[43m]\u001b[49m\u001b[43m,\u001b[49m\u001b[43m \u001b[49m\u001b[43mreverse\u001b[49m\u001b[38;5;241;43m=\u001b[39;49m\u001b[38;5;28;43;01mTrue\u001b[39;49;00m\u001b[43m)\u001b[49m\n\u001b[1;32m     12\u001b[0m     \u001b[38;5;28;01mreturn\u001b[39;00m similarities[:k]\n",
      "\u001b[0;31mValueError\u001b[0m: The truth value of an array with more than one element is ambiguous. Use a.any() or a.all()"
     ]
    }
   ],
   "source": [
    "# Create an instance of the VectorDatabase\n",
    "vector_db = VectorDatabase()\n",
    "\n",
    "# Insert vectors into the database\n",
    "vector_db.insert(\"vector_1\", np.array([0.1, 0.2, 0.3]))\n",
    "vector_db.insert(\"vector_2\", np.array([0.4, 0.5, 0.6]))\n",
    "vector_db.insert(\"vector_3\", np.array([0.7, 0.8, 0.9]))\n",
    "\n",
    "# Search for similar vectors\n",
    "query_vector = np.array([0.15, 0.25, 0.35])\n",
    "similar_vectors = vector_db.search(query_vector, k=2)\n",
    "print(\"Similar vectors:\", similar_vectors)\n",
    "\n",
    "# Retrieve a specific vector by its key\n",
    "retrieved_vector = vector_db.retrieve(\"vector_1\")\n",
    "print(\"Retrieved vector:\", retrieved_vector)"
   ]
  },
  {
   "cell_type": "markdown",
   "id": "7af95aa8",
   "metadata": {},
   "source": [
    "## 2. A second example\n",
    "\n",
    "source: https://twitter.com/akshay_pachaar/status/1678381104917782530/photo/1"
   ]
  },
  {
   "cell_type": "code",
   "execution_count": 19,
   "id": "5deaabca",
   "metadata": {},
   "outputs": [
    {
     "name": "stdout",
     "output_type": "stream",
     "text": [
      "Index of the nearest vector: 0\n",
      "Value of nearest vector: [2 3 4]\n"
     ]
    }
   ],
   "source": [
    "import numpy as np\n",
    "\n",
    "my_array = np.array([1,2,3])\n",
    "\n",
    "vectors = np.array([[2,3,4], [4,5,6], [7,8,9], [3,4,5], [5,6,7]])\n",
    "\n",
    "#normalize the vectors and the array using the linalg.norm (vector normalization)\n",
    "vector_norm = vectors / np.linalg.norm(vectors, axis=1, keepdims=True)\n",
    "\n",
    "my_array_norm = my_array / np.linalg.norm(my_array)\n",
    "\n",
    "#compute the dot product of two normalised matrices\n",
    "dot_product = np.dot(vector_norm, my_array_norm)\n",
    "\n",
    "#find the indez of the nearest vector in 'vectors'\n",
    "nearest_vector_index = np.argmax(dot_product)\n",
    "\n",
    "print(f'Index of the nearest vector: {nearest_vector_index}')\n",
    "print(f'Value of nearest vector: {vectors[nearest_vector_index]}')"
   ]
  },
  {
   "cell_type": "code",
   "execution_count": 20,
   "id": "dbbad027",
   "metadata": {},
   "outputs": [
    {
     "name": "stdout",
     "output_type": "stream",
     "text": [
      "[[0.37139068 0.55708601 0.74278135]\n",
      " [0.45584231 0.56980288 0.68376346]\n",
      " [0.50257071 0.57436653 0.64616234]\n",
      " [0.42426407 0.56568542 0.70710678]\n",
      " [0.47673129 0.57207755 0.66742381]]\n",
      "[0.26726124 0.53452248 0.80178373]\n",
      "[0.99258333 0.97463185 0.95941195 0.98270763 0.96832966]\n"
     ]
    }
   ],
   "source": [
    "#print the values of the values\n",
    "print(vector_norm)\n",
    "print(my_array_norm)\n",
    "print(dot_product)"
   ]
  },
  {
   "cell_type": "code",
   "execution_count": null,
   "id": "5c5276f5",
   "metadata": {},
   "outputs": [],
   "source": []
  }
 ],
 "metadata": {
  "kernelspec": {
   "display_name": "Python 3 (ipykernel)",
   "language": "python",
   "name": "python3"
  },
  "language_info": {
   "codemirror_mode": {
    "name": "ipython",
    "version": 3
   },
   "file_extension": ".py",
   "mimetype": "text/x-python",
   "name": "python",
   "nbconvert_exporter": "python",
   "pygments_lexer": "ipython3",
   "version": "3.10.9"
  }
 },
 "nbformat": 4,
 "nbformat_minor": 5
}
