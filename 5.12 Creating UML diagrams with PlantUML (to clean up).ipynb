{
 "cells": [
  {
   "cell_type": "markdown",
   "id": "df1f4bc8",
   "metadata": {},
   "source": [
    "# Creating UML diagrams with PlantUML\n",
    "\n",
    "PlantUML is a tool to create UML-diagrams using plain text.\n",
    "See: https://plantuml.com/\n",
    "\n",
    "In this notebook we use python libraries to create PlantUML diagrams. \n",
    "\n",
    "PlantUML provides a 'diagram as code' solution. This means that with text/code as input, an UML-diagram can be created. \n",
    "So, of an UML can have two representations:\n",
    "- the code (or txt.file)\n",
    "- the diagram\n",
    "\n",
    "\n",
    "\n",
    "### Contents:\n",
    "- O. Install libraries\n",
    "- 1. Py2PUML\n",
    "- 2. IPlantUML\n",
    "- 3. Converting a XML file to a UML Class diagram\n",
    "- 4. Turning a JSON object into a diagram\n",
    "\n",
    "N.B. Another popular library for python is 'plantuml', however this one does not work under IPython / Jupyter"
   ]
  },
  {
   "cell_type": "markdown",
   "id": "e46091f7",
   "metadata": {},
   "source": [
    "## 0. Install libraries"
   ]
  },
  {
   "cell_type": "code",
   "execution_count": 16,
   "id": "8bb2cdd6",
   "metadata": {},
   "outputs": [
    {
     "name": "stdout",
     "output_type": "stream",
     "text": [
      "Requirement already satisfied: pylint in c:\\users\\31653\\anaconda3\\lib\\site-packages (2.11.1)\n",
      "Requirement already satisfied: mccabe<0.7,>=0.6 in c:\\users\\31653\\anaconda3\\lib\\site-packages (from pylint) (0.6.1)\n",
      "Requirement already satisfied: platformdirs>=2.2.0 in c:\\users\\31653\\anaconda3\\lib\\site-packages (from pylint) (2.4.0)\n",
      "Requirement already satisfied: toml>=0.7.1 in c:\\users\\31653\\anaconda3\\lib\\site-packages (from pylint) (0.10.2)\n",
      "Requirement already satisfied: astroid<2.9,>=2.8.0 in c:\\users\\31653\\anaconda3\\lib\\site-packages (from pylint) (2.8.4)\n",
      "Requirement already satisfied: typing-extensions>=3.10.0 in c:\\users\\31653\\anaconda3\\lib\\site-packages (from pylint) (3.10.0.2)\n",
      "Requirement already satisfied: colorama in c:\\users\\31653\\anaconda3\\lib\\site-packages (from pylint) (0.4.4)\n",
      "Requirement already satisfied: isort<6,>=4.2.5 in c:\\users\\31653\\anaconda3\\lib\\site-packages (from pylint) (5.9.3)\n",
      "Requirement already satisfied: setuptools>=20.0 in c:\\users\\31653\\anaconda3\\lib\\site-packages (from astroid<2.9,>=2.8.0->pylint) (58.2.0)\n",
      "Requirement already satisfied: lazy-object-proxy>=1.4.0 in c:\\users\\31653\\anaconda3\\lib\\site-packages (from astroid<2.9,>=2.8.0->pylint) (1.6.0)\n",
      "Requirement already satisfied: wrapt<1.14,>=1.11 in c:\\users\\31653\\anaconda3\\lib\\site-packages (from astroid<2.9,>=2.8.0->pylint) (1.12.1)\n"
     ]
    }
   ],
   "source": [
    "#pylint is a dependency\n",
    "!pip install pylint"
   ]
  },
  {
   "cell_type": "code",
   "execution_count": 6,
   "id": "fd2208bb",
   "metadata": {
    "scrolled": true
   },
   "outputs": [
    {
     "name": "stdout",
     "output_type": "stream",
     "text": [
      "Collecting plantuml\n",
      "  Downloading plantuml-0.3.0-py3-none-any.whl (5.8 kB)\n",
      "Requirement already satisfied: httplib2 in c:\\users\\31653\\anaconda3\\lib\\site-packages (from plantuml) (0.19.0)\n",
      "Requirement already satisfied: pyparsing<3,>=2.4.2 in c:\\users\\31653\\anaconda3\\lib\\site-packages (from httplib2->plantuml) (2.4.7)\n",
      "Installing collected packages: plantuml\n",
      "Successfully installed plantuml-0.3.0\n"
     ]
    }
   ],
   "source": [
    "!pip install plantuml"
   ]
  },
  {
   "cell_type": "code",
   "execution_count": 10,
   "id": "8ed6d85c",
   "metadata": {},
   "outputs": [
    {
     "name": "stdout",
     "output_type": "stream",
     "text": [
      "Requirement already satisfied: iplantuml in c:\\users\\31653\\anaconda3\\lib\\site-packages (0.1.1)\n",
      "Requirement already satisfied: plantweb in c:\\users\\31653\\anaconda3\\lib\\site-packages (from iplantuml) (1.2.1)\n",
      "Requirement already satisfied: six in c:\\users\\31653\\anaconda3\\lib\\site-packages (from plantweb->iplantuml) (1.16.0)\n",
      "Requirement already satisfied: requests in c:\\users\\31653\\anaconda3\\lib\\site-packages (from plantweb->iplantuml) (2.26.0)\n",
      "Requirement already satisfied: docutils in c:\\users\\31653\\anaconda3\\lib\\site-packages (from plantweb->iplantuml) (0.17.1)\n",
      "Requirement already satisfied: charset-normalizer~=2.0.0 in c:\\users\\31653\\anaconda3\\lib\\site-packages (from requests->plantweb->iplantuml) (2.0.0)\n",
      "Requirement already satisfied: urllib3<1.27,>=1.21.1 in c:\\users\\31653\\anaconda3\\lib\\site-packages (from requests->plantweb->iplantuml) (1.26.7)\n",
      "Requirement already satisfied: certifi>=2017.4.17 in c:\\users\\31653\\anaconda3\\lib\\site-packages (from requests->plantweb->iplantuml) (2021.10.8)\n",
      "Requirement already satisfied: idna<4,>=2.5 in c:\\users\\31653\\anaconda3\\lib\\site-packages (from requests->plantweb->iplantuml) (3.1)\n"
     ]
    }
   ],
   "source": [
    "!pip install iplantuml"
   ]
  },
  {
   "cell_type": "markdown",
   "id": "3039dc6b",
   "metadata": {},
   "source": [
    "## 2. IPlantUML\n",
    "\n",
    "- Pypi.org: https://pypi.org/project/IPlantUML/\n",
    "- GitHub: https://github.com/jbn/iplantuml\n",
    "- more info: https://pythonhosted.org/plantuml/\n",
    "\n",
    "Please be aware that with cells with %%plantuml you cannot use comments with #"
   ]
  },
  {
   "cell_type": "code",
   "execution_count": 2,
   "id": "08552e17",
   "metadata": {},
   "outputs": [],
   "source": [
    "import iplantuml"
   ]
  },
  {
   "cell_type": "code",
   "execution_count": 17,
   "id": "5ff2d74e",
   "metadata": {},
   "outputs": [
    {
     "name": "stderr",
     "output_type": "stream",
     "text": [
      "A subdirectory or file UML already exists.\n"
     ]
    }
   ],
   "source": [
    "!mkdir UML"
   ]
  },
  {
   "cell_type": "code",
   "execution_count": 18,
   "id": "224a48b5",
   "metadata": {},
   "outputs": [
    {
     "name": "stdout",
     "output_type": "stream",
     "text": [
      "C:\\Users\\31653\\Documents\\GitHub\\Notebooks\\UML\n"
     ]
    }
   ],
   "source": [
    "cd UML"
   ]
  },
  {
   "cell_type": "code",
   "execution_count": 5,
   "id": "96997602",
   "metadata": {},
   "outputs": [
    {
     "data": {
      "image/svg+xml": [
       "<svg xmlns=\"http://www.w3.org/2000/svg\" xmlns:xlink=\"http://www.w3.org/1999/xlink\" contentScriptType=\"application/ecmascript\" contentStyleType=\"text/css\" height=\"161px\" preserveAspectRatio=\"none\" style=\"width:249px;height:161px;background:#FFFFFF;\" version=\"1.1\" viewBox=\"0 0 249 161\" width=\"249px\" zoomAndPan=\"magnify\"><defs><filter height=\"300%\" id=\"fsv0g7ub4djg1\" width=\"300%\" x=\"-1\" y=\"-1\"><feGaussianBlur result=\"blurOut\" stdDeviation=\"2.0\"/><feColorMatrix in=\"blurOut\" result=\"blurOut2\" type=\"matrix\" values=\"0 0 0 0 0 0 0 0 0 0 0 0 0 0 0 0 0 0 .4 0\"/><feOffset dx=\"4.0\" dy=\"4.0\" in=\"blurOut2\" result=\"blurOut3\"/><feBlend in=\"SourceGraphic\" in2=\"blurOut3\" mode=\"normal\"/></filter></defs><g><line style=\"stroke:#A80036;stroke-width:1.0;stroke-dasharray:5.0,5.0;\" x1=\"31\" x2=\"31\" y1=\"40.2969\" y2=\"118.5625\"/><line style=\"stroke:#A80036;stroke-width:1.0;stroke-dasharray:5.0,5.0;\" x1=\"215\" x2=\"215\" y1=\"40.2969\" y2=\"118.5625\"/><rect fill=\"#FEFECE\" filter=\"url(#fsv0g7ub4djg1)\" height=\"30.2969\" style=\"stroke:#A80036;stroke-width:1.5;\" width=\"49\" x=\"5\" y=\"5\"/><text fill=\"#000000\" font-family=\"sans-serif\" font-size=\"14\" lengthAdjust=\"spacing\" textLength=\"35\" x=\"12\" y=\"24.9951\">Alice</text><rect fill=\"#FEFECE\" filter=\"url(#fsv0g7ub4djg1)\" height=\"30.2969\" style=\"stroke:#A80036;stroke-width:1.5;\" width=\"49\" x=\"5\" y=\"117.5625\"/><text fill=\"#000000\" font-family=\"sans-serif\" font-size=\"14\" lengthAdjust=\"spacing\" textLength=\"35\" x=\"12\" y=\"137.5576\">Alice</text><rect fill=\"#FEFECE\" filter=\"url(#fsv0g7ub4djg1)\" height=\"30.2969\" style=\"stroke:#A80036;stroke-width:1.5;\" width=\"43\" x=\"192\" y=\"5\"/><text fill=\"#000000\" font-family=\"sans-serif\" font-size=\"14\" lengthAdjust=\"spacing\" textLength=\"29\" x=\"199\" y=\"24.9951\">Bob</text><rect fill=\"#FEFECE\" filter=\"url(#fsv0g7ub4djg1)\" height=\"30.2969\" style=\"stroke:#A80036;stroke-width:1.5;\" width=\"43\" x=\"192\" y=\"117.5625\"/><text fill=\"#000000\" font-family=\"sans-serif\" font-size=\"14\" lengthAdjust=\"spacing\" textLength=\"29\" x=\"199\" y=\"137.5576\">Bob</text><polygon fill=\"#A80036\" points=\"203.5,67.4297,213.5,71.4297,203.5,75.4297,207.5,71.4297\" style=\"stroke:#A80036;stroke-width:1.0;\"/><line style=\"stroke:#A80036;stroke-width:1.0;\" x1=\"31.5\" x2=\"209.5\" y1=\"71.4297\" y2=\"71.4297\"/><text fill=\"#000000\" font-family=\"sans-serif\" font-size=\"13\" lengthAdjust=\"spacing\" textLength=\"150\" x=\"38.5\" y=\"66.3638\">Authentication Request</text><polygon fill=\"#A80036\" points=\"42.5,96.5625,32.5,100.5625,42.5,104.5625,38.5,100.5625\" style=\"stroke:#A80036;stroke-width:1.0;\"/><line style=\"stroke:#A80036;stroke-width:1.0;stroke-dasharray:2.0,2.0;\" x1=\"36.5\" x2=\"214.5\" y1=\"100.5625\" y2=\"100.5625\"/><text fill=\"#000000\" font-family=\"sans-serif\" font-size=\"13\" lengthAdjust=\"spacing\" textLength=\"160\" x=\"48.5\" y=\"95.4966\">Authentication Response</text><!--MD5=[c2b09024ebb1de631ec21aab3d77c6c0]\n",
       "@startuml\n",
       "Alice -> Bob: Authentication Request\n",
       "Bob - -> Alice: Authentication Response\n",
       "@enduml\n",
       "\n",
       "PlantUML version 1.2022.1beta9(Unknown compile time)\n",
       "(GPL source distribution)\n",
       "Java Runtime: Java(TM) SE Runtime Environment\n",
       "JVM: Java HotSpot(TM) 64-Bit Server VM\n",
       "Default Encoding: UTF-8\n",
       "Language: en\n",
       "Country: US\n",
       "--></g></svg>"
      ],
      "text/plain": [
       "<IPython.core.display.SVG object>"
      ]
     },
     "execution_count": 5,
     "metadata": {},
     "output_type": "execute_result"
    }
   ],
   "source": [
    "%%plantuml -n 'dummy'\n",
    "\n",
    "@startuml\n",
    "Alice -> Bob: Authentication Request\n",
    "Bob --> Alice: Authentication Response\n",
    "@enduml"
   ]
  },
  {
   "cell_type": "code",
   "execution_count": 4,
   "id": "2965c22e",
   "metadata": {},
   "outputs": [
    {
     "data": {
      "image/svg+xml": [
       "<svg xmlns=\"http://www.w3.org/2000/svg\" xmlns:xlink=\"http://www.w3.org/1999/xlink\" contentScriptType=\"application/ecmascript\" contentStyleType=\"text/css\" height=\"300px\" preserveAspectRatio=\"none\" style=\"width:478px;height:300px;background:#FFFFFF;\" version=\"1.1\" viewBox=\"0 0 478 300\" width=\"478px\" zoomAndPan=\"magnify\"><defs><filter height=\"300%\" id=\"fxh4dubhrve84\" width=\"300%\" x=\"-1\" y=\"-1\"><feGaussianBlur result=\"blurOut\" stdDeviation=\"2.0\"/><feColorMatrix in=\"blurOut\" result=\"blurOut2\" type=\"matrix\" values=\"0 0 0 0 0 0 0 0 0 0 0 0 0 0 0 0 0 0 .4 0\"/><feOffset dx=\"4.0\" dy=\"4.0\" in=\"blurOut2\" result=\"blurOut3\"/><feBlend in=\"SourceGraphic\" in2=\"blurOut3\" mode=\"normal\"/></filter></defs><g><!--MD5=[f7e826e1488aa6662a4b5ddfe29b6b3b]\n",
       "class abstract--><rect codeLine=\"1\" fill=\"#FEFECE\" filter=\"url(#fxh4dubhrve84)\" height=\"48\" id=\"abstract\" style=\"stroke:#A80036;stroke-width:1.5;\" width=\"82\" x=\"28\" y=\"7\"/><ellipse cx=\"43\" cy=\"23\" fill=\"#A9DCDF\" rx=\"11\" ry=\"11\" style=\"stroke:#A80036;stroke-width:1.0;\"/><path d=\"M45.0781,24.8125 L45.4688,25.7969 L45.0781,25.7969 C44.625,25.7969 44.5156,25.8125 44.3594,25.9219 C44.1094,26.0781 43.9531,26.3594 43.9531,26.6563 C43.9531,26.9219 44.0938,27.1719 44.3125,27.3281 C44.4531,27.4531 44.6563,27.5 45.0781,27.5 L47.4375,27.5 C47.7969,27.5 48.0156,27.4688 48.1563,27.375 C48.4063,27.2344 48.5625,26.9375 48.5625,26.6563 C48.5625,26.375 48.4219,26.125 48.2031,25.9688 C48.0313,25.8281 47.875,25.7969 47.4063,25.7969 L44.0156,17.5938 L40.3438,17.5938 C39.8906,17.5938 39.7656,17.6094 39.6094,17.7031 C39.3594,17.875 39.2031,18.1563 39.2031,18.4375 C39.2031,18.7188 39.3438,18.9688 39.5625,19.1406 C39.7344,19.25 39.9063,19.2813 40.3438,19.2813 L41.4219,19.2813 L38.7813,25.7969 C38.3594,25.7969 38.2031,25.8125 38.0469,25.9219 C37.7969,26.0781 37.6406,26.3594 37.6406,26.6563 C37.6406,27.2188 38.0156,27.5 38.7656,27.5 L41.0313,27.5 C41.3906,27.5 41.6094,27.4688 41.7344,27.375 C42,27.2344 42.1406,26.9375 42.1406,26.6563 C42.1406,26.375 42.0156,26.125 41.7969,25.9531 C41.625,25.8281 41.4844,25.7969 41.0313,25.7969 L40.6406,25.7969 L41.0313,24.8125 L45.0781,24.8125 Z M44.375,23.1094 L41.7031,23.1094 L43.0469,19.8438 L44.375,23.1094 Z \" fill=\"#000000\"/><text fill=\"#000000\" font-family=\"sans-serif\" font-size=\"12\" font-style=\"italic\" lengthAdjust=\"spacing\" textLength=\"50\" x=\"57\" y=\"27.1543\">abstract</text><line style=\"stroke:#A80036;stroke-width:1.5;\" x1=\"29\" x2=\"109\" y1=\"39\" y2=\"39\"/><line style=\"stroke:#A80036;stroke-width:1.5;\" x1=\"29\" x2=\"109\" y1=\"47\" y2=\"47\"/><!--MD5=[17df400e90568e28eeaed93acf178394]\n",
       "class abstract class--><rect codeLine=\"2\" fill=\"#FEFECE\" filter=\"url(#fxh4dubhrve84)\" height=\"48\" id=\"abstract class\" style=\"stroke:#A80036;stroke-width:1.5;\" width=\"115\" x=\"145.5\" y=\"7\"/><ellipse cx=\"160.5\" cy=\"23\" fill=\"#A9DCDF\" rx=\"11\" ry=\"11\" style=\"stroke:#A80036;stroke-width:1.0;\"/><path d=\"M162.5781,24.8125 L162.9688,25.7969 L162.5781,25.7969 C162.125,25.7969 162.0156,25.8125 161.8594,25.9219 C161.6094,26.0781 161.4531,26.3594 161.4531,26.6563 C161.4531,26.9219 161.5938,27.1719 161.8125,27.3281 C161.9531,27.4531 162.1563,27.5 162.5781,27.5 L164.9375,27.5 C165.2969,27.5 165.5156,27.4688 165.6563,27.375 C165.9063,27.2344 166.0625,26.9375 166.0625,26.6563 C166.0625,26.375 165.9219,26.125 165.7031,25.9688 C165.5313,25.8281 165.375,25.7969 164.9063,25.7969 L161.5156,17.5938 L157.8438,17.5938 C157.3906,17.5938 157.2656,17.6094 157.1094,17.7031 C156.8594,17.875 156.7031,18.1563 156.7031,18.4375 C156.7031,18.7188 156.8438,18.9688 157.0625,19.1406 C157.2344,19.25 157.4063,19.2813 157.8438,19.2813 L158.9219,19.2813 L156.2813,25.7969 C155.8594,25.7969 155.7031,25.8125 155.5469,25.9219 C155.2969,26.0781 155.1406,26.3594 155.1406,26.6563 C155.1406,27.2188 155.5156,27.5 156.2656,27.5 L158.5313,27.5 C158.8906,27.5 159.1094,27.4688 159.2344,27.375 C159.5,27.2344 159.6406,26.9375 159.6406,26.6563 C159.6406,26.375 159.5156,26.125 159.2969,25.9531 C159.125,25.8281 158.9844,25.7969 158.5313,25.7969 L158.1406,25.7969 L158.5313,24.8125 L162.5781,24.8125 Z M161.875,23.1094 L159.2031,23.1094 L160.5469,19.8438 L161.875,23.1094 Z \" fill=\"#000000\"/><text fill=\"#000000\" font-family=\"sans-serif\" font-size=\"12\" font-style=\"italic\" lengthAdjust=\"spacing\" textLength=\"83\" x=\"174.5\" y=\"27.1543\">abstract class</text><line style=\"stroke:#A80036;stroke-width:1.5;\" x1=\"146.5\" x2=\"259.5\" y1=\"39\" y2=\"39\"/><line style=\"stroke:#A80036;stroke-width:1.5;\" x1=\"146.5\" x2=\"259.5\" y1=\"47\" y2=\"47\"/><!--MD5=[7cb74e68c9f11cf3f5cc35e0143045f8]\n",
       "class annotation--><rect codeLine=\"3\" fill=\"#FEFECE\" filter=\"url(#fxh4dubhrve84)\" height=\"48\" id=\"annotation\" style=\"stroke:#A80036;stroke-width:1.5;\" width=\"94\" x=\"296\" y=\"7\"/><ellipse cx=\"311\" cy=\"23\" fill=\"#E3664A\" rx=\"11\" ry=\"11\" style=\"stroke:#A80036;stroke-width:1.0;\"/><path d=\"M311.9219,20.25 C310.0156,20.3906 308.7031,21.5781 308.7031,23.1563 C308.7031,24.5625 309.9063,25.7813 311.3594,25.7813 C311.5156,25.7813 311.6563,25.7656 311.9219,25.7188 L311.9219,25.7813 L312.7188,25.7813 C313.3438,25.7813 313.6563,25.5625 313.6563,25.0781 C313.6563,24.7969 313.5313,24.6094 313.2656,24.4844 L313.2656,19.7031 C313.2656,17.8125 311.9531,16.4531 310.1094,16.4531 C307.9063,16.4531 306.2969,18.5781 306.2969,21.5156 L306.2969,24.375 C306.2969,25.625 306.5781,26.8438 307.0938,27.7656 C307.8125,29.0156 308.7344,29.5781 310.1406,29.5781 C311.75,29.5781 313.1406,28.9219 313.1406,28.125 C313.1406,27.7344 312.8438,27.4219 312.4688,27.4219 C312.2656,27.4219 312.1719,27.4688 311.9375,27.7188 C311.6094,28.0469 310.9375,28.2656 310.1875,28.2656 C309.4375,28.2656 308.9063,28 308.5,27.4063 C307.9219,26.6094 307.6406,25.5625 307.6406,24.2656 L307.6406,21.6094 C307.6406,19.4375 308.7031,17.7969 310.1406,17.7969 C311.1875,17.7969 311.9219,18.5781 311.9219,19.7031 L311.9219,20.25 Z M311.9219,24.3594 C311.6875,24.4063 311.5938,24.4063 311.4844,24.4063 C310.6563,24.4063 310.0469,23.875 310.0469,23.1719 C310.0469,22.3438 310.7969,21.7344 311.9219,21.625 L311.9219,24.3594 Z \" fill=\"#000000\"/><text fill=\"#000000\" font-family=\"sans-serif\" font-size=\"12\" lengthAdjust=\"spacing\" textLength=\"62\" x=\"325\" y=\"27.1543\">annotation</text><line style=\"stroke:#A80036;stroke-width:1.5;\" x1=\"297\" x2=\"389\" y1=\"39\" y2=\"39\"/><line style=\"stroke:#A80036;stroke-width:1.5;\" x1=\"297\" x2=\"389\" y1=\"47\" y2=\"47\"/><!--MD5=[da456bc05ddb284180092693c9c3b3b1]\n",
       "entity circle--><ellipse cx=\"452\" cy=\"31\" fill=\"#FEFECE\" filter=\"url(#fxh4dubhrve84)\" rx=\"8\" ry=\"8\" style=\"stroke:#A80036;stroke-width:1.5;\"/><text fill=\"#000000\" font-family=\"sans-serif\" font-size=\"14\" lengthAdjust=\"spacing\" textLength=\"39\" x=\"432.5\" y=\"60.9951\">circle</text><!--MD5=[87adb442a9baea16d5e9c4faa47d2afb]\n",
       "entity circle_short_form--><ellipse cx=\"69\" cy=\"149\" fill=\"#FEFECE\" filter=\"url(#fxh4dubhrve84)\" rx=\"8\" ry=\"8\" style=\"stroke:#A80036;stroke-width:1.5;\"/><text fill=\"#000000\" font-family=\"sans-serif\" font-size=\"14\" lengthAdjust=\"spacing\" textLength=\"126\" x=\"6\" y=\"178.9951\">circle_short_form</text><!--MD5=[c4c892d05414254cdeba8adc63897f88]\n",
       "class class--><rect codeLine=\"6\" fill=\"#FEFECE\" filter=\"url(#fxh4dubhrve84)\" height=\"48\" id=\"class\" style=\"stroke:#A80036;stroke-width:1.5;\" width=\"63\" x=\"175.5\" y=\"125\"/><ellipse cx=\"190.5\" cy=\"141\" fill=\"#ADD1B2\" rx=\"11\" ry=\"11\" style=\"stroke:#A80036;stroke-width:1.0;\"/><path d=\"M192.8438,136.6719 C191.9063,136.2344 191.3125,136.0938 190.4375,136.0938 C187.8125,136.0938 185.8125,138.1719 185.8125,140.8906 L185.8125,142.0156 C185.8125,144.5938 187.9219,146.4844 190.8125,146.4844 C192.0313,146.4844 193.1875,146.1875 193.9375,145.6406 C194.5156,145.2344 194.8438,144.7813 194.8438,144.3906 C194.8438,143.9375 194.4531,143.5469 193.9844,143.5469 C193.7656,143.5469 193.5625,143.625 193.375,143.8125 C192.9219,144.2969 192.9219,144.2969 192.7344,144.3906 C192.3125,144.6563 191.625,144.7813 190.8594,144.7813 C188.8125,144.7813 187.5156,143.6875 187.5156,141.9844 L187.5156,140.8906 C187.5156,139.1094 188.7656,137.7969 190.5,137.7969 C191.0781,137.7969 191.6875,137.9531 192.1563,138.2031 C192.6406,138.4844 192.8125,138.7031 192.9063,139.1094 C192.9688,139.5156 193,139.6406 193.1406,139.7656 C193.2813,139.9063 193.5156,140.0156 193.7344,140.0156 C194,140.0156 194.2656,139.875 194.4375,139.6563 C194.5469,139.5 194.5781,139.3125 194.5781,138.8906 L194.5781,137.4688 C194.5781,137.0313 194.5625,136.9063 194.4688,136.75 C194.3125,136.4844 194.0313,136.3438 193.7344,136.3438 C193.4375,136.3438 193.2344,136.4375 193.0156,136.75 L192.8438,136.6719 Z \" fill=\"#000000\"/><text fill=\"#000000\" font-family=\"sans-serif\" font-size=\"12\" lengthAdjust=\"spacing\" textLength=\"31\" x=\"204.5\" y=\"145.1543\">class</text><line style=\"stroke:#A80036;stroke-width:1.5;\" x1=\"176.5\" x2=\"237.5\" y1=\"157\" y2=\"157\"/><line style=\"stroke:#A80036;stroke-width:1.5;\" x1=\"176.5\" x2=\"237.5\" y1=\"165\" y2=\"165\"/><polygon fill=\"#FEFECE\" filter=\"url(#fxh4dubhrve84)\" points=\"286,137,298,149,286,161,274,149,286,137\" style=\"stroke:#A80036;stroke-width:1.5;\"/><polygon fill=\"#FEFECE\" filter=\"url(#fxh4dubhrve84)\" points=\"345,137,357,149,345,161,333,149,345,137\" style=\"stroke:#A80036;stroke-width:1.5;\"/><!--MD5=[467568f20bbf29da492dca29e9e0779e]\n",
       "class entity--><rect codeLine=\"9\" fill=\"#FEFECE\" filter=\"url(#fxh4dubhrve84)\" height=\"48\" id=\"entity\" style=\"stroke:#A80036;stroke-width:1.5;\" width=\"65\" x=\"36.5\" y=\"238\"/><ellipse cx=\"51.5\" cy=\"254\" fill=\"#ADD1B2\" rx=\"11\" ry=\"11\" style=\"stroke:#A80036;stroke-width:1.0;\"/><path d=\"M50.2969,254.875 L51.75,254.875 L51.75,254.9844 C51.75,255.3906 51.7813,255.5469 51.8594,255.7031 C52.0156,255.9531 52.2969,256.1094 52.5938,256.1094 C52.8438,256.1094 53.1094,255.9688 53.2656,255.75 C53.3906,255.5938 53.4219,255.4375 53.4219,254.9844 L53.4219,253.0625 C53.4219,252.9063 53.4219,252.8594 53.4063,252.7031 C53.3438,252.2344 53.0313,251.9219 52.5781,251.9219 C52.3281,251.9219 52.0625,252.0625 51.8906,252.2813 C51.7813,252.4531 51.75,252.6094 51.75,253.0625 L51.75,253.1875 L50.2969,253.1875 L50.2969,250.7813 L54.2813,250.7813 L54.2813,251.6406 C54.2813,252.0469 54.3125,252.2188 54.3906,252.375 C54.5625,252.625 54.8438,252.7813 55.125,252.7813 C55.3906,252.7813 55.6563,252.6406 55.8281,252.4219 C55.9375,252.25 55.9688,252.1094 55.9688,251.6406 L55.9688,249.0938 L48.3438,249.0938 C47.9063,249.0938 47.7813,249.1094 47.625,249.2031 C47.375,249.3594 47.2188,249.6563 47.2188,249.9375 C47.2188,250.2188 47.3594,250.4688 47.5781,250.6406 C47.7344,250.75 47.9219,250.7813 48.3438,250.7813 L48.5938,250.7813 L48.5938,257.2969 L48.3438,257.2969 C47.9375,257.2969 47.7813,257.3125 47.625,257.4219 C47.375,257.5938 47.2188,257.8594 47.2188,258.1563 C47.2188,258.4219 47.3594,258.6719 47.5781,258.8281 C47.7188,258.9531 47.9531,259 48.3438,259 L56.3438,259 L56.3438,256.4219 C56.3438,255.9844 56.3125,255.8438 56.2344,255.6875 C56.0625,255.4375 55.7813,255.2813 55.5,255.2813 C55.2344,255.2813 54.9688,255.3906 54.7969,255.6406 C54.6875,255.7969 54.6563,255.9375 54.6563,256.4219 L54.6563,257.2969 L50.2969,257.2969 L50.2969,254.875 Z \" fill=\"#000000\"/><text fill=\"#000000\" font-family=\"sans-serif\" font-size=\"12\" lengthAdjust=\"spacing\" textLength=\"33\" x=\"65.5\" y=\"258.1543\">entity</text><line style=\"stroke:#A80036;stroke-width:1.5;\" x1=\"37.5\" x2=\"100.5\" y1=\"270\" y2=\"270\"/><line style=\"stroke:#A80036;stroke-width:1.5;\" x1=\"37.5\" x2=\"100.5\" y1=\"278\" y2=\"278\"/><!--MD5=[b1bf79d8358773e9ea7a3730761a57e9]\n",
       "class enum--><rect codeLine=\"10\" fill=\"#FEFECE\" filter=\"url(#fxh4dubhrve84)\" height=\"48\" id=\"enum\" style=\"stroke:#A80036;stroke-width:1.5;\" width=\"65\" x=\"136.5\" y=\"238\"/><ellipse cx=\"151.5\" cy=\"254\" fill=\"#EB937F\" rx=\"11\" ry=\"11\" style=\"stroke:#A80036;stroke-width:1.0;\"/><path d=\"M150.2969,254.875 L151.75,254.875 L151.75,254.9844 C151.75,255.3906 151.7813,255.5469 151.8594,255.7031 C152.0156,255.9531 152.2969,256.1094 152.5938,256.1094 C152.8438,256.1094 153.1094,255.9688 153.2656,255.75 C153.3906,255.5938 153.4219,255.4375 153.4219,254.9844 L153.4219,253.0625 C153.4219,252.9063 153.4219,252.8594 153.4063,252.7031 C153.3438,252.2344 153.0313,251.9219 152.5781,251.9219 C152.3281,251.9219 152.0625,252.0625 151.8906,252.2813 C151.7813,252.4531 151.75,252.6094 151.75,253.0625 L151.75,253.1875 L150.2969,253.1875 L150.2969,250.7813 L154.2813,250.7813 L154.2813,251.6406 C154.2813,252.0469 154.3125,252.2188 154.3906,252.375 C154.5625,252.625 154.8438,252.7813 155.125,252.7813 C155.3906,252.7813 155.6563,252.6406 155.8281,252.4219 C155.9375,252.25 155.9688,252.1094 155.9688,251.6406 L155.9688,249.0938 L148.3438,249.0938 C147.9063,249.0938 147.7813,249.1094 147.625,249.2031 C147.375,249.3594 147.2188,249.6563 147.2188,249.9375 C147.2188,250.2188 147.3594,250.4688 147.5781,250.6406 C147.7344,250.75 147.9219,250.7813 148.3438,250.7813 L148.5938,250.7813 L148.5938,257.2969 L148.3438,257.2969 C147.9375,257.2969 147.7813,257.3125 147.625,257.4219 C147.375,257.5938 147.2188,257.8594 147.2188,258.1563 C147.2188,258.4219 147.3594,258.6719 147.5781,258.8281 C147.7188,258.9531 147.9531,259 148.3438,259 L156.3438,259 L156.3438,256.4219 C156.3438,255.9844 156.3125,255.8438 156.2344,255.6875 C156.0625,255.4375 155.7813,255.2813 155.5,255.2813 C155.2344,255.2813 154.9688,255.3906 154.7969,255.6406 C154.6875,255.7969 154.6563,255.9375 154.6563,256.4219 L154.6563,257.2969 L150.2969,257.2969 L150.2969,254.875 Z \" fill=\"#000000\"/><text fill=\"#000000\" font-family=\"sans-serif\" font-size=\"12\" lengthAdjust=\"spacing\" textLength=\"33\" x=\"165.5\" y=\"258.1543\">enum</text><line style=\"stroke:#A80036;stroke-width:1.5;\" x1=\"137.5\" x2=\"200.5\" y1=\"270\" y2=\"270\"/><line style=\"stroke:#A80036;stroke-width:1.5;\" x1=\"137.5\" x2=\"200.5\" y1=\"278\" y2=\"278\"/><!--MD5=[d9847530b5dea828dbcbb50914b76f30]\n",
       "class interface--><rect codeLine=\"11\" fill=\"#FEFECE\" filter=\"url(#fxh4dubhrve84)\" height=\"48\" id=\"interface\" style=\"stroke:#A80036;stroke-width:1.5;\" width=\"85\" x=\"236.5\" y=\"238\"/><ellipse cx=\"251.5\" cy=\"254\" fill=\"#B4A7E5\" rx=\"11\" ry=\"11\" style=\"stroke:#A80036;stroke-width:1.0;\"/><path d=\"M252.4531,250.7813 L254.1719,250.7813 C254.5625,250.7813 254.75,250.75 254.875,250.6719 C255.1406,250.5156 255.2813,250.2344 255.2813,249.9375 C255.2813,249.6719 255.1719,249.4063 254.9375,249.2344 C254.7656,249.125 254.625,249.0938 254.1719,249.0938 L249.0313,249.0938 C248.5938,249.0938 248.4688,249.1094 248.3125,249.2031 C248.0625,249.3594 247.9063,249.6563 247.9063,249.9375 C247.9063,250.2188 248.0469,250.4688 248.2656,250.6406 C248.4219,250.75 248.6094,250.7813 249.0313,250.7813 L250.75,250.7813 L250.75,257.2969 L249.0313,257.2969 C248.5938,257.2969 248.4688,257.3125 248.3125,257.4219 C248.0625,257.5781 247.9063,257.8594 247.9063,258.1563 C247.9063,258.4063 248.0469,258.6719 248.2656,258.8281 C248.4219,258.9531 248.625,259 249.0313,259 L254.1719,259 C254.9219,259 255.2813,258.7188 255.2813,258.1563 C255.2813,257.875 255.1719,257.625 254.9375,257.4531 C254.7656,257.3281 254.625,257.2969 254.1719,257.2969 L252.4531,257.2969 L252.4531,250.7813 Z \" fill=\"#000000\"/><text fill=\"#000000\" font-family=\"sans-serif\" font-size=\"12\" font-style=\"italic\" lengthAdjust=\"spacing\" textLength=\"53\" x=\"265.5\" y=\"258.1543\">interface</text><line style=\"stroke:#A80036;stroke-width:1.5;\" x1=\"237.5\" x2=\"320.5\" y1=\"270\" y2=\"270\"/><line style=\"stroke:#A80036;stroke-width:1.5;\" x1=\"237.5\" x2=\"320.5\" y1=\"278\" y2=\"278\"/><!--MD5=[c2193004f231c60c24e4cf76d93b5c44]\n",
       "link abstract to abstract class--><!--MD5=[ec80576a69947398aef5bf7ad39de10a]\n",
       "link abstract class to annotation--><!--MD5=[ef4a468cae6ab875f5ce8231ea8d47f5]\n",
       "link annotation to circle--><!--MD5=[7256df22adc07412f2b73460d11bca4a]\n",
       "link abstract to circle_short_form--><!--MD5=[047c343ec413a9c1ea5490f892065234]\n",
       "link circle_short_form to class--><!--MD5=[fa89cf951331deeed68e2fae3c5dbf33]\n",
       "link class to diamond--><!--MD5=[b3bd91185526d7d4c967ba383223dfe3]\n",
       "link diamond to diamond_short_form--><!--MD5=[229a35adfdb89a04f1a8b5b1319762ea]\n",
       "link circle_short_form to entity--><!--MD5=[618b745e99ea7afd87d21d7b87e33cd4]\n",
       "link entity to enum--><!--MD5=[962711ed0014f7949e8379abbf402d9b]\n",
       "link enum to interface--><!--MD5=[e5375346549d1ccfa807e64f63131214]\n",
       "@startuml\n",
       "abstract        abstract\n",
       "abstract class  \"abstract class\"\n",
       "annotation      annotation\n",
       "circle          circle\n",
       "()              circle_short_form\n",
       "class           class\n",
       "diamond         diamond\n",
       "<>              diamond_short_form\n",
       "entity          entity\n",
       "enum            enum\n",
       "interface       interface\n",
       "@enduml\n",
       "\n",
       "PlantUML version 1.2022.1beta9(Unknown compile time)\n",
       "(GPL source distribution)\n",
       "Java Runtime: Java(TM) SE Runtime Environment\n",
       "JVM: Java HotSpot(TM) 64-Bit Server VM\n",
       "Default Encoding: UTF-8\n",
       "Language: en\n",
       "Country: US\n",
       "--></g></svg>"
      ],
      "text/plain": [
       "<IPython.core.display.SVG object>"
      ]
     },
     "execution_count": 4,
     "metadata": {},
     "output_type": "execute_result"
    }
   ],
   "source": [
    "%%plantuml \n",
    "@startuml\n",
    "abstract        abstract\n",
    "abstract class  \"abstract class\"\n",
    "annotation      annotation\n",
    "circle          circle\n",
    "()              circle_short_form\n",
    "class           class\n",
    "diamond         diamond\n",
    "<>              diamond_short_form\n",
    "entity          entity\n",
    "enum            enum\n",
    "interface       interface\n",
    "@enduml"
   ]
  },
  {
   "cell_type": "code",
   "execution_count": 29,
   "id": "82d49f1a",
   "metadata": {},
   "outputs": [
    {
     "data": {
      "image/svg+xml": [
       "<svg xmlns=\"http://www.w3.org/2000/svg\" xmlns:xlink=\"http://www.w3.org/1999/xlink\" contentScriptType=\"application/ecmascript\" contentStyleType=\"text/css\" height=\"107px\" preserveAspectRatio=\"none\" style=\"width:103px;height:107px;background:#FFFFFF;\" version=\"1.1\" viewBox=\"0 0 103 107\" width=\"103px\" zoomAndPan=\"magnify\"><defs><filter height=\"300%\" id=\"f1mqgd1noxxhgw\" width=\"300%\" x=\"-1\" y=\"-1\"><feGaussianBlur result=\"blurOut\" stdDeviation=\"2.0\"/><feColorMatrix in=\"blurOut\" result=\"blurOut2\" type=\"matrix\" values=\"0 0 0 0 0 0 0 0 0 0 0 0 0 0 0 0 0 0 .4 0\"/><feOffset dx=\"4.0\" dy=\"4.0\" in=\"blurOut2\" result=\"blurOut3\"/><feBlend in=\"SourceGraphic\" in2=\"blurOut3\" mode=\"normal\"/></filter></defs><g><!--MD5=[09ce52be0ee7de43c61b6e2d59bf108b]\n",
       "class Person--><rect codeLine=\"1\" fill=\"#FEFECE\" filter=\"url(#f1mqgd1noxxhgw)\" height=\"86.4141\" id=\"Person\" style=\"stroke:#A80036;stroke-width:1.5;\" width=\"82\" x=\"7\" y=\"7\"/><ellipse cx=\"26.05\" cy=\"23\" fill=\"#ADD1B2\" rx=\"11\" ry=\"11\" style=\"stroke:#A80036;stroke-width:1.0;\"/><path d=\"M28.3938,18.6719 C27.4563,18.2344 26.8625,18.0938 25.9875,18.0938 C23.3625,18.0938 21.3625,20.1719 21.3625,22.8906 L21.3625,24.0156 C21.3625,26.5938 23.4719,28.4844 26.3625,28.4844 C27.5813,28.4844 28.7375,28.1875 29.4875,27.6406 C30.0656,27.2344 30.3938,26.7813 30.3938,26.3906 C30.3938,25.9375 30.0031,25.5469 29.5344,25.5469 C29.3156,25.5469 29.1125,25.625 28.925,25.8125 C28.4719,26.2969 28.4719,26.2969 28.2844,26.3906 C27.8625,26.6563 27.175,26.7813 26.4094,26.7813 C24.3625,26.7813 23.0656,25.6875 23.0656,23.9844 L23.0656,22.8906 C23.0656,21.1094 24.3156,19.7969 26.05,19.7969 C26.6281,19.7969 27.2375,19.9531 27.7063,20.2031 C28.1906,20.4844 28.3625,20.7031 28.4563,21.1094 C28.5188,21.5156 28.55,21.6406 28.6906,21.7656 C28.8313,21.9063 29.0656,22.0156 29.2844,22.0156 C29.55,22.0156 29.8156,21.875 29.9875,21.6563 C30.0969,21.5 30.1281,21.3125 30.1281,20.8906 L30.1281,19.4688 C30.1281,19.0313 30.1125,18.9063 30.0188,18.75 C29.8625,18.4844 29.5813,18.3438 29.2844,18.3438 C28.9875,18.3438 28.7844,18.4375 28.5656,18.75 L28.3938,18.6719 Z \" fill=\"#000000\"/><text fill=\"#000000\" font-family=\"sans-serif\" font-size=\"12\" lengthAdjust=\"spacing\" textLength=\"41\" x=\"40.95\" y=\"27.1543\">Person</text><line style=\"stroke:#A80036;stroke-width:1.5;\" x1=\"8\" x2=\"88\" y1=\"39\" y2=\"39\"/><text fill=\"#000000\" font-family=\"sans-serif\" font-size=\"11\" lengthAdjust=\"spacing\" textLength=\"58\" x=\"13\" y=\"53.2104\">first name</text><text fill=\"#000000\" font-family=\"sans-serif\" font-size=\"11\" lengthAdjust=\"spacing\" textLength=\"57\" x=\"13\" y=\"66.0151\">last name</text><text fill=\"#000000\" font-family=\"sans-serif\" font-size=\"11\" lengthAdjust=\"spacing\" textLength=\"70\" x=\"13\" y=\"78.8198\">date of birth</text><line style=\"stroke:#A80036;stroke-width:1.5;\" x1=\"8\" x2=\"88\" y1=\"85.4141\" y2=\"85.4141\"/><!--MD5=[259d89f3edf0468a5f502f5646e408f0]\n",
       "@startuml\n",
       "class Person{ \n",
       "first name\n",
       "last name\n",
       "date of birth\n",
       "}\n",
       "@enduml\n",
       "\n",
       "PlantUML version 1.2022.2beta1(Unknown compile time)\n",
       "(GPL source distribution)\n",
       "Java Runtime: Java(TM) SE Runtime Environment\n",
       "JVM: Java HotSpot(TM) 64-Bit Server VM\n",
       "Default Encoding: UTF-8\n",
       "Language: en\n",
       "Country: US\n",
       "--></g></svg>"
      ],
      "text/plain": [
       "<IPython.core.display.SVG object>"
      ]
     },
     "execution_count": 29,
     "metadata": {},
     "output_type": "execute_result"
    }
   ],
   "source": [
    "%%plantuml\n",
    "@startuml\n",
    "class Person{ \n",
    "first name\n",
    "last name\n",
    "date of birth\n",
    "}\n",
    "@enduml"
   ]
  },
  {
   "cell_type": "markdown",
   "id": "cc08faf8",
   "metadata": {},
   "source": [
    "## 3. Converting a xml file to a PlantUML class diagram"
   ]
  },
  {
   "cell_type": "code",
   "execution_count": 3,
   "id": "c021aad2",
   "metadata": {},
   "outputs": [
    {
     "data": {
      "text/plain": [
       "['haarcascade_frontalface_default.xml',\n",
       " 'haar_cascade_stop.xml',\n",
       " 'movies.xml',\n",
       " 'simple.xml']"
      ]
     },
     "execution_count": 3,
     "metadata": {},
     "output_type": "execute_result"
    }
   ],
   "source": [
    "import iplantuml\n",
    "import glob\n",
    "my_xmls=glob.glob('*.xml')\n",
    "my_xmls"
   ]
  },
  {
   "cell_type": "code",
   "execution_count": 8,
   "id": "89b849da",
   "metadata": {},
   "outputs": [
    {
     "name": "stdout",
     "output_type": "stream",
     "text": [
      "<collection>\n",
      "    <genre category=\"Action\">\n",
      "        <decade years=\"1980s\">\n",
      "            <movie favorite=\"True\" title=\"Indiana Jones: The raiders of the lost Ark\">\n",
      "                <format multiple=\"No\">DVD</format>\n",
      "                <year>1981</year>\n",
      "                <rating>PG</rating>\n",
      "                <description>\n",
      "                'Archaeologist and adventurer Indiana Jones \n",
      "                is hired by the U.S. government to find the Ark of the \n",
      "                Covenant before the Nazis.'\n",
      "                </description>\n",
      "            </movie>\n",
      "               <movie favorite=\"True\" title=\"THE KARATE KID\">\n",
      "               <format multiple=\"Yes\">DVD,Online</format>\n",
      "               <year>1984</year>\n",
      "               <rating>PG</rating>\n",
      "               <description>None provided.</description>\n",
      "            </movie>\n",
      "            <movie favorite=\"False\" title=\"Back 2 the Future\">\n",
      "               <format multiple=\"False\">Blu-ray</format>\n",
      "               <year>1985</year>\n",
      "               <rating>PG</rating>\n",
      "               <description>Marty McFly</description>\n",
      "            </movie>\n",
      "        </decade>\n",
      "        <decade years=\"1990s\">\n",
      "            <movie favorite=\"False\" title=\"X-Men\">\n",
      "               <format multiple=\"Yes\">dvd, digital</format>\n",
      "               <year>2000</year>\n",
      "               <rating>PG-13</rating>\n",
      "               <description>Two mutants come to a private academy for their kind whose resident superhero team must \n",
      "               oppose a terrorist organization with similar powers.</description>\n",
      "            </movie>\n",
      "            <movie favorite=\"True\" title=\"Batman Returns\">\n",
      "               <format multiple=\"No\">VHS</format>\n",
      "               <year>1992</year>\n",
      "               <rating>PG13</rating>\n",
      "               <description>NA.</description>\n",
      "            </movie>\n",
      "               <movie favorite=\"False\" title=\"Reservoir Dogs\">\n",
      "               <format multiple=\"No\">Online</format>\n",
      "               <year>1992</year>\n",
      "               <rating>R</rating>\n",
      "               <description>WhAtEvER I Want!!!?!</description>\n",
      "            </movie>\n",
      "        </decade>    \n",
      "    </genre>\n",
      "    <genre category=\"Thriller\">\n",
      "        <decade years=\"1970s\">\n",
      "            <movie favorite=\"False\" title=\"ALIEN\">\n",
      "                <format multiple=\"Yes\">DVD</format>\n",
      "                <year>1979</year>\n",
      "                <rating>R</rating>\n",
      "                <description>\"\"\"\"\"\"\"\"\"</description>\n",
      "            </movie>\n",
      "        </decade>\n",
      "        <decade years=\"1980s\">\n",
      "            <movie favorite=\"True\" title=\"Ferris Bueller's Day Off\">\n",
      "                <format multiple=\"No\">DVD</format>\n",
      "                <year>1986</year>\n",
      "                <rating>PG13</rating>\n",
      "                <description>Funny movie about a funny guy</description>\n",
      "            </movie>\n",
      "            <movie favorite=\"FALSE\" title=\"American Psycho\">\n",
      "                <format multiple=\"No\">blue-ray</format>\n",
      "                <year>2000</year>\n",
      "                <rating>Unrated</rating>\n",
      "                <description>psychopathic Bateman</description>\n",
      "            </movie>\n",
      "        </decade>\n",
      "    </genre>\n",
      "</collection>\n"
     ]
    }
   ],
   "source": [
    "import xml.etree.ElementTree as ET #import the library \n",
    "tree = ET.parse('movies.xml') #parse the XML\n",
    "ET.dump(tree) #print the xml file"
   ]
  },
  {
   "cell_type": "code",
   "execution_count": 9,
   "id": "d6c153d9",
   "metadata": {},
   "outputs": [
    {
     "name": "stdout",
     "output_type": "stream",
     "text": [
      "collection\n",
      "genre\n",
      "decade\n",
      "movie\n",
      "format\n",
      "year\n",
      "rating\n",
      "description\n"
     ]
    }
   ],
   "source": [
    "my_list =[]\n",
    "for elem in tree.iter():\n",
    "    my_list.append(elem.tag)\n",
    "#remove duplicates by converting it to a dict and back to a list\n",
    "#source: https://www.w3schools.com/python/python_howto_remove_duplicates.asp\n",
    "my_clean_list = list(dict.fromkeys(my_list))\n",
    "#print(my_clean_list)\n",
    "for i in range (len(my_clean_list)):\n",
    "        print(my_clean_list[i])"
   ]
  },
  {
   "cell_type": "code",
   "execution_count": 4,
   "id": "aa216843",
   "metadata": {},
   "outputs": [
    {
     "data": {
      "image/svg+xml": [
       "<svg xmlns=\"http://www.w3.org/2000/svg\" xmlns:xlink=\"http://www.w3.org/1999/xlink\" contentScriptType=\"application/ecmascript\" contentStyleType=\"text/css\" height=\"171px\" preserveAspectRatio=\"none\" style=\"width:96px;height:171px;background:#FFFFFF;\" version=\"1.1\" viewBox=\"0 0 96 171\" width=\"96px\" zoomAndPan=\"magnify\"><defs><filter height=\"300%\" id=\"f5dw10sm5r1sv\" width=\"300%\" x=\"-1\" y=\"-1\"><feGaussianBlur result=\"blurOut\" stdDeviation=\"2.0\"/><feColorMatrix in=\"blurOut\" result=\"blurOut2\" type=\"matrix\" values=\"0 0 0 0 0 0 0 0 0 0 0 0 0 0 0 0 0 0 .4 0\"/><feOffset dx=\"4.0\" dy=\"4.0\" in=\"blurOut2\" result=\"blurOut3\"/><feBlend in=\"SourceGraphic\" in2=\"blurOut3\" mode=\"normal\"/></filter></defs><g><!--MD5=[b70ea40e8e63c610a3cadd5b9368e75b]\n",
       "class Movies--><rect codeLine=\"1\" fill=\"#FEFECE\" filter=\"url(#f5dw10sm5r1sv)\" height=\"150.4375\" id=\"Movies\" style=\"stroke:#A80036;stroke-width:1.5;\" width=\"75\" x=\"7\" y=\"7\"/><ellipse cx=\"22\" cy=\"23\" fill=\"#ADD1B2\" rx=\"11\" ry=\"11\" style=\"stroke:#A80036;stroke-width:1.0;\"/><path d=\"M24.3438,18.6719 C23.4063,18.2344 22.8125,18.0938 21.9375,18.0938 C19.3125,18.0938 17.3125,20.1719 17.3125,22.8906 L17.3125,24.0156 C17.3125,26.5938 19.4219,28.4844 22.3125,28.4844 C23.5313,28.4844 24.6875,28.1875 25.4375,27.6406 C26.0156,27.2344 26.3438,26.7813 26.3438,26.3906 C26.3438,25.9375 25.9531,25.5469 25.4844,25.5469 C25.2656,25.5469 25.0625,25.625 24.875,25.8125 C24.4219,26.2969 24.4219,26.2969 24.2344,26.3906 C23.8125,26.6563 23.125,26.7813 22.3594,26.7813 C20.3125,26.7813 19.0156,25.6875 19.0156,23.9844 L19.0156,22.8906 C19.0156,21.1094 20.2656,19.7969 22,19.7969 C22.5781,19.7969 23.1875,19.9531 23.6563,20.2031 C24.1406,20.4844 24.3125,20.7031 24.4063,21.1094 C24.4688,21.5156 24.5,21.6406 24.6406,21.7656 C24.7813,21.9063 25.0156,22.0156 25.2344,22.0156 C25.5,22.0156 25.7656,21.875 25.9375,21.6563 C26.0469,21.5 26.0781,21.3125 26.0781,20.8906 L26.0781,19.4688 C26.0781,19.0313 26.0625,18.9063 25.9688,18.75 C25.8125,18.4844 25.5313,18.3438 25.2344,18.3438 C24.9375,18.3438 24.7344,18.4375 24.5156,18.75 L24.3438,18.6719 Z \" fill=\"#000000\"/><text fill=\"#000000\" font-family=\"sans-serif\" font-size=\"12\" lengthAdjust=\"spacing\" textLength=\"43\" x=\"36\" y=\"27.1543\">Movies</text><line style=\"stroke:#A80036;stroke-width:1.5;\" x1=\"8\" x2=\"81\" y1=\"39\" y2=\"39\"/><text fill=\"#000000\" font-family=\"sans-serif\" font-size=\"11\" lengthAdjust=\"spacing\" textLength=\"54\" x=\"13\" y=\"53.2104\">collection</text><text fill=\"#000000\" font-family=\"sans-serif\" font-size=\"11\" lengthAdjust=\"spacing\" textLength=\"34\" x=\"13\" y=\"66.0151\">genre</text><text fill=\"#000000\" font-family=\"sans-serif\" font-size=\"11\" lengthAdjust=\"spacing\" textLength=\"43\" x=\"13\" y=\"78.8198\">decade</text><text fill=\"#000000\" font-family=\"sans-serif\" font-size=\"11\" lengthAdjust=\"spacing\" textLength=\"36\" x=\"13\" y=\"91.6245\">movie</text><text fill=\"#000000\" font-family=\"sans-serif\" font-size=\"11\" lengthAdjust=\"spacing\" textLength=\"37\" x=\"13\" y=\"104.4292\">format</text><text fill=\"#000000\" font-family=\"sans-serif\" font-size=\"11\" lengthAdjust=\"spacing\" textLength=\"26\" x=\"13\" y=\"117.2339\">year</text><text fill=\"#000000\" font-family=\"sans-serif\" font-size=\"11\" lengthAdjust=\"spacing\" textLength=\"32\" x=\"13\" y=\"130.0386\">rating</text><text fill=\"#000000\" font-family=\"sans-serif\" font-size=\"11\" lengthAdjust=\"spacing\" textLength=\"62\" x=\"13\" y=\"142.8433\">description</text><line style=\"stroke:#A80036;stroke-width:1.5;\" x1=\"8\" x2=\"81\" y1=\"149.4375\" y2=\"149.4375\"/><!--MD5=[f4b46592a216bd997a06512767b52b76]\n",
       "@startuml\n",
       "class Movies{\n",
       "collection\n",
       "genre\n",
       "decade\n",
       "movie\n",
       "format\n",
       "year\n",
       "rating\n",
       "description\n",
       "}\n",
       "@enduml\n",
       "\n",
       "PlantUML version 1.2022.2beta1(Unknown compile time)\n",
       "(GPL source distribution)\n",
       "Java Runtime: Java(TM) SE Runtime Environment\n",
       "JVM: Java HotSpot(TM) 64-Bit Server VM\n",
       "Default Encoding: UTF-8\n",
       "Language: en\n",
       "Country: US\n",
       "--></g></svg>"
      ],
      "text/plain": [
       "<IPython.core.display.SVG object>"
      ]
     },
     "execution_count": 4,
     "metadata": {},
     "output_type": "execute_result"
    }
   ],
   "source": [
    "%%plantuml\n",
    "@startuml\n",
    "class Movies{\n",
    "collection\n",
    "genre\n",
    "decade\n",
    "movie\n",
    "format\n",
    "year\n",
    "rating\n",
    "description\n",
    "}\n",
    "@enduml"
   ]
  },
  {
   "cell_type": "code",
   "execution_count": 10,
   "id": "c731d4c5",
   "metadata": {},
   "outputs": [],
   "source": [
    "#create the plantuml text file\n",
    "class_name = 'movie' #enter class name\n",
    "textfile = open(\"plantuml.txt\", \"w\")\n",
    "textfile.write('@startuml\\n')\n",
    "textfile.write('class '+class_name + '{\\n')\n",
    "for element in my_clean_list:\n",
    "    textfile.write(element + \"\\n\")\n",
    "textfile.write('}\\n')\n",
    "textfile.write('@enduml')\n",
    "textfile.close()                   "
   ]
  },
  {
   "cell_type": "code",
   "execution_count": 13,
   "id": "af0bd262",
   "metadata": {},
   "outputs": [],
   "source": [
    "#check the plantuml file manually\n",
    "%pycat C:\\\\Users\\\\31653\\\\Documents\\\\GitHub\\\\Notebooks\\plantuml.txt"
   ]
  },
  {
   "cell_type": "code",
   "execution_count": 11,
   "id": "4aa631e3",
   "metadata": {},
   "outputs": [
    {
     "name": "stdout",
     "output_type": "stream",
     "text": [
      "[{'filename': 'plantuml.txt', 'gen_success': True}]\n"
     ]
    }
   ],
   "source": [
    "#convert the txt file to an .png image using plantuml\n",
    "!python -m plantuml plantuml.txt"
   ]
  },
  {
   "cell_type": "code",
   "execution_count": 12,
   "id": "54f06b22",
   "metadata": {},
   "outputs": [
    {
     "data": {
      "image/png": "[encoded data removed]",
      "text/plain": [
       "<IPython.core.display.Image object>"
      ]
     },
     "execution_count": 12,
     "metadata": {
      "image/png": {
       "height": 100,
       "width": 100
      }
     },
     "output_type": "execute_result"
    }
   ],
   "source": [
    "#show the generated png\n",
    "from IPython import display\n",
    "display.Image(filename=\"plantuml.png\", width=100, height=100)"
   ]
  },
  {
   "cell_type": "markdown",
   "id": "15c53f1b",
   "metadata": {},
   "source": [
    "## 4. Turning a JSON object into a diagram"
   ]
  },
  {
   "cell_type": "code",
   "execution_count": 22,
   "id": "d3b7c166",
   "metadata": {},
   "outputs": [
    {
     "data": {
      "image/svg+xml": [
       "<svg xmlns=\"http://www.w3.org/2000/svg\" xmlns:xlink=\"http://www.w3.org/1999/xlink\" contentScriptType=\"application/ecmascript\" contentStyleType=\"text/css\" height=\"82px\" preserveAspectRatio=\"none\" style=\"width:126px;height:82px;background:#FFFFFF;\" version=\"1.1\" viewBox=\"0 0 126 82\" width=\"126px\" zoomAndPan=\"magnify\"><defs/><g><rect fill=\"#FFFFFF\" height=\"60.8906\" rx=\"5\" ry=\"5\" style=\"stroke:#FFFFFF;stroke-width:1.5;\" width=\"104\" x=\"10\" y=\"10\"/><text fill=\"#000000\" font-family=\"sans-serif\" font-size=\"14\" font-weight=\"bold\" lengthAdjust=\"spacing\" textLength=\"37\" x=\"15\" y=\"24.9951\">fruit</text><text fill=\"#000000\" font-family=\"sans-serif\" font-size=\"14\" lengthAdjust=\"spacing\" textLength=\"43\" x=\"66\" y=\"24.9951\">Apple</text><line style=\"stroke:#000000;stroke-width:1.0;\" x1=\"61\" x2=\"61\" y1=\"10\" y2=\"30.2969\"/><line style=\"stroke:#000000;stroke-width:1.0;\" x1=\"10\" x2=\"114\" y1=\"30.2969\" y2=\"30.2969\"/><text fill=\"#000000\" font-family=\"sans-serif\" font-size=\"14\" font-weight=\"bold\" lengthAdjust=\"spacing\" textLength=\"32\" x=\"15\" y=\"45.292\">size</text><text fill=\"#000000\" font-family=\"sans-serif\" font-size=\"14\" lengthAdjust=\"spacing\" textLength=\"40\" x=\"66\" y=\"45.292\">Large</text><line style=\"stroke:#000000;stroke-width:1.0;\" x1=\"61\" x2=\"61\" y1=\"30.2969\" y2=\"50.5938\"/><line style=\"stroke:#000000;stroke-width:1.0;\" x1=\"10\" x2=\"114\" y1=\"50.5938\" y2=\"50.5938\"/><text fill=\"#000000\" font-family=\"sans-serif\" font-size=\"14\" font-weight=\"bold\" lengthAdjust=\"spacing\" textLength=\"41\" x=\"15\" y=\"65.5889\">color</text><text fill=\"#000000\" font-family=\"sans-serif\" font-size=\"14\" lengthAdjust=\"spacing\" textLength=\"28\" x=\"66\" y=\"65.5889\">Red</text><line style=\"stroke:#000000;stroke-width:1.0;\" x1=\"61\" x2=\"61\" y1=\"50.5938\" y2=\"70.8906\"/><rect fill=\"none\" height=\"60.8906\" rx=\"5\" ry=\"5\" style=\"stroke:#000000;stroke-width:1.5;\" width=\"104\" x=\"10\" y=\"10\"/><!--MD5=[6bc8e42fa958255086996accb41cf9c4]\n",
       "@startjson\n",
       "{\n",
       "   \"fruit\":\"Apple\",\n",
       "   \"size\":\"Large\",\n",
       "   \"color\":\"Red\"\n",
       "}\n",
       "@endjson\n",
       "\n",
       "PlantUML version 1.2022.2beta1(Unknown compile time)\n",
       "(GPL source distribution)\n",
       "Java Runtime: Java(TM) SE Runtime Environment\n",
       "JVM: Java HotSpot(TM) 64-Bit Server VM\n",
       "Default Encoding: UTF-8\n",
       "Language: en\n",
       "Country: US\n",
       "--></g></svg>"
      ],
      "text/plain": [
       "<IPython.core.display.SVG object>"
      ]
     },
     "execution_count": 22,
     "metadata": {},
     "output_type": "execute_result"
    }
   ],
   "source": [
    "%%plantuml\n",
    "@startjson\n",
    "{\n",
    "   \"fruit\":\"Apple\",\n",
    "   \"size\":\"Large\",\n",
    "   \"color\":\"Red\"\n",
    "}\n",
    "@endjson"
   ]
  },
  {
   "cell_type": "code",
   "execution_count": 8,
   "id": "900b5744",
   "metadata": {},
   "outputs": [
    {
     "data": {
      "image/svg+xml": [
       "<svg xmlns=\"http://www.w3.org/2000/svg\" xmlns:xlink=\"http://www.w3.org/1999/xlink\" contentStyleType=\"text/css\" height=\"42px\" preserveAspectRatio=\"none\" style=\"width:344px;height:42px;\" version=\"1.1\" viewBox=\"0 0 344 42\" width=\"344px\" zoomAndPan=\"magnify\"><defs><style type=\"text/css\"><![CDATA[*.f_000000_ffffff {fill:#000000;}@media (prefers-color-scheme:dark) {*.f_000000_ffffff {fill:#ffffff;}}]]></style></defs><g><text class=\"f_000000_ffffff\" font-family=\"Courier\" font-size=\"14\" lengthAdjust=\"spacing\" textLength=\"312\" x=\"15\" y=\"24.9639\">Your data does not sound like JSON data</text><!--MD5=[d3cd6dc6841cf3bf05a9637776dfb09d]\n",
       "@startjson\n",
       "{'schemas': {'Order': {'type': 'object',\n",
       "   'properties': {'id': {'type': 'integer', 'format': 'int64', 'example': 10},\n",
       "    'petId': {'type': 'integer', 'format': 'int64', 'example': 198772},\n",
       "    'quantity': {'type': 'integer', 'format': 'int32', 'example': 7},\n",
       "    'shipDate': {'type': 'string', 'format': 'date-time'},\n",
       "    'status': {'type': 'string',\n",
       "     'description': 'Order Status',\n",
       "     'example': 'approved',\n",
       "     'enum': ['placed', 'approved', 'delivered']},\n",
       "    'complete': {'type': 'boolean'}},\n",
       "   'xml': {'name': 'order'}},\n",
       "  'Customer': {'type': 'object',\n",
       "   'properties': {'id': {'type': 'integer',\n",
       "     'format': 'int64',\n",
       "     'example': 100000},\n",
       "    'username': {'type': 'string', 'example': 'fehguy'},\n",
       "    'address': {'type': 'array',\n",
       "     'xml': {'name': 'addresses', 'wrapped': True},\n",
       "     'items': {'$ref': '#/components/schemas/Address'}}},\n",
       "   'xml': {'name': 'customer'}},\n",
       "  'Address': {'type': 'object',\n",
       "   'properties': {'street': {'type': 'string', 'example': '437 Lytton'},\n",
       "    'city': {'type': 'string', 'example': 'Palo Alto'},\n",
       "    'state': {'type': 'string', 'example': 'CA'},\n",
       "    'zip': {'type': 'string', 'example': '94301'}},\n",
       "   'xml': {'name': 'address'}},\n",
       "  'Category': {'type': 'object',\n",
       "   'properties': {'id': {'type': 'integer', 'format': 'int64', 'example': 1},\n",
       "    'name': {'type': 'string', 'example': 'Dogs'}},\n",
       "   'xml': {'name': 'category'}},\n",
       "  'User': {'type': 'object',\n",
       "   'properties': {'id': {'type': 'integer', 'format': 'int64', 'example': 10},\n",
       "    'username': {'type': 'string', 'example': 'theUser'},\n",
       "    'firstName': {'type': 'string', 'example': 'John'},\n",
       "    'lastName': {'type': 'string', 'example': 'James'},\n",
       "    'email': {'type': 'string', 'example': 'john@email.com'},\n",
       "    'password': {'type': 'string', 'example': '12345'},\n",
       "    'phone': {'type': 'string', 'example': '12345'},\n",
       "    'userStatus': {'type': 'integer',\n",
       "     'description': 'User Status',\n",
       "     'format': 'int32',\n",
       "     'example': 1}},\n",
       "   'xml': {'name': 'user'}},\n",
       "  'Tag': {'type': 'object',\n",
       "   'properties': {'id': {'type': 'integer', 'format': 'int64'},\n",
       "    'name': {'type': 'string'}},\n",
       "   'xml': {'name': 'tag'}},\n",
       "  'Pet': {'required': ['name', 'photoUrls'],\n",
       "   'type': 'object',\n",
       "   'properties': {'id': {'type': 'integer', 'format': 'int64', 'example': 10},\n",
       "    'name': {'type': 'string', 'example': 'doggie'},\n",
       "    'category': {'$ref': '#/components/schemas/Category'},\n",
       "    'photoUrls': {'type': 'array',\n",
       "     'xml': {'wrapped': True},\n",
       "     'items': {'type': 'string', 'xml': {'name': 'photoUrl'}}},\n",
       "    'tags': {'type': 'array',\n",
       "     'xml': {'wrapped': True},\n",
       "     'items': {'$ref': '#/components/schemas/Tag'}},\n",
       "    'status': {'type': 'string',\n",
       "     'description': 'pet status in the store',\n",
       "     'enum': ['available', 'pending', 'sold']}},\n",
       "   'xml': {'name': 'pet'}},\n",
       "  'ApiResponse': {'type': 'object',\n",
       "   'properties': {'code': {'type': 'integer', 'format': 'int32'},\n",
       "    'type': {'type': 'string'},\n",
       "    'message': {'type': 'string'}},\n",
       "   'xml': {'name': '##default'}}},\n",
       " 'requestBodies': {'Pet': {'description': 'Pet object that needs to be added to the store',\n",
       "   'content': {'application/json': {'schema': {'$ref': '#/components/schemas/Pet'}},\n",
       "    'application/xml': {'schema': {'$ref': '#/components/schemas/Pet'}}}},\n",
       "  'UserArray': {'description': 'List of user object',\n",
       "   'content': {'application/json': {'schema': {'type': 'array',\n",
       "      'items': {'$ref': '#/components/schemas/User'}}}}}},\n",
       " 'securitySchemes': {'petstore_auth': {'type': 'oauth2',\n",
       "   'flows': {'implicit': {'authorizationUrl': 'https://petstore3.swagger.io/oauth/authorize',\n",
       "     'scopes': {'write:pets': 'modify pets in your account',\n",
       "      'read:pets': 'read your pets'}}}},\n",
       "  'api_key': {'type': 'apiKey', 'name': 'api_key', 'in': 'header'}}}\n",
       "@endjson\n",
       "\n",
       "@startjson\n",
       "{'schemas': {'Order': {'type': 'object',\n",
       "@endjson\n",
       "\n",
       "PlantUML version 1.2022.2beta5(Unknown compile time)\n",
       "(GPL source distribution)\n",
       "Java Runtime: Java(TM) SE Runtime Environment\n",
       "JVM: Java HotSpot(TM) 64-Bit Server VM\n",
       "Default Encoding: UTF-8\n",
       "Language: en\n",
       "Country: US\n",
       "--></g></svg>"
      ],
      "text/plain": [
       "<IPython.core.display.SVG object>"
      ]
     },
     "execution_count": 8,
     "metadata": {},
     "output_type": "execute_result"
    }
   ],
   "source": [
    "%%plantuml\n",
    "@startjson\n",
    "{'schemas': {'Order': {'type': 'object',\n",
    "   'properties': {'id': {'type': 'integer', 'format': 'int64', 'example': 10},\n",
    "    'petId': {'type': 'integer', 'format': 'int64', 'example': 198772},\n",
    "    'quantity': {'type': 'integer', 'format': 'int32', 'example': 7},\n",
    "    'shipDate': {'type': 'string', 'format': 'date-time'},\n",
    "    'status': {'type': 'string',\n",
    "     'description': 'Order Status',\n",
    "     'example': 'approved',\n",
    "     'enum': ['placed', 'approved', 'delivered']},\n",
    "    'complete': {'type': 'boolean'}},\n",
    "   'xml': {'name': 'order'}},\n",
    "  'Customer': {'type': 'object',\n",
    "   'properties': {'id': {'type': 'integer',\n",
    "     'format': 'int64',\n",
    "     'example': 100000},\n",
    "    'username': {'type': 'string', 'example': 'fehguy'},\n",
    "    'address': {'type': 'array',\n",
    "     'xml': {'name': 'addresses', 'wrapped': True},\n",
    "     'items': {'$ref': '#/components/schemas/Address'}}},\n",
    "   'xml': {'name': 'customer'}},\n",
    "  'Address': {'type': 'object',\n",
    "   'properties': {'street': {'type': 'string', 'example': '437 Lytton'},\n",
    "    'city': {'type': 'string', 'example': 'Palo Alto'},\n",
    "    'state': {'type': 'string', 'example': 'CA'},\n",
    "    'zip': {'type': 'string', 'example': '94301'}},\n",
    "   'xml': {'name': 'address'}},\n",
    "  'Category': {'type': 'object',\n",
    "   'properties': {'id': {'type': 'integer', 'format': 'int64', 'example': 1},\n",
    "    'name': {'type': 'string', 'example': 'Dogs'}},\n",
    "   'xml': {'name': 'category'}},\n",
    "  'User': {'type': 'object',\n",
    "   'properties': {'id': {'type': 'integer', 'format': 'int64', 'example': 10},\n",
    "    'username': {'type': 'string', 'example': 'theUser'},\n",
    "    'firstName': {'type': 'string', 'example': 'John'},\n",
    "    'lastName': {'type': 'string', 'example': 'James'},\n",
    "    'email': {'type': 'string', 'example': 'john@email.com'},\n",
    "    'password': {'type': 'string', 'example': '12345'},\n",
    "    'phone': {'type': 'string', 'example': '12345'},\n",
    "    'userStatus': {'type': 'integer',\n",
    "     'description': 'User Status',\n",
    "     'format': 'int32',\n",
    "     'example': 1}},\n",
    "   'xml': {'name': 'user'}},\n",
    "  'Tag': {'type': 'object',\n",
    "   'properties': {'id': {'type': 'integer', 'format': 'int64'},\n",
    "    'name': {'type': 'string'}},\n",
    "   'xml': {'name': 'tag'}},\n",
    "  'Pet': {'required': ['name', 'photoUrls'],\n",
    "   'type': 'object',\n",
    "   'properties': {'id': {'type': 'integer', 'format': 'int64', 'example': 10},\n",
    "    'name': {'type': 'string', 'example': 'doggie'},\n",
    "    'category': {'$ref': '#/components/schemas/Category'},\n",
    "    'photoUrls': {'type': 'array',\n",
    "     'xml': {'wrapped': True},\n",
    "     'items': {'type': 'string', 'xml': {'name': 'photoUrl'}}},\n",
    "    'tags': {'type': 'array',\n",
    "     'xml': {'wrapped': True},\n",
    "     'items': {'$ref': '#/components/schemas/Tag'}},\n",
    "    'status': {'type': 'string',\n",
    "     'description': 'pet status in the store',\n",
    "     'enum': ['available', 'pending', 'sold']}},\n",
    "   'xml': {'name': 'pet'}},\n",
    "  'ApiResponse': {'type': 'object',\n",
    "   'properties': {'code': {'type': 'integer', 'format': 'int32'},\n",
    "    'type': {'type': 'string'},\n",
    "    'message': {'type': 'string'}},\n",
    "   'xml': {'name': '##default'}}},\n",
    " 'requestBodies': {'Pet': {'description': 'Pet object that needs to be added to the store',\n",
    "   'content': {'application/json': {'schema': {'$ref': '#/components/schemas/Pet'}},\n",
    "    'application/xml': {'schema': {'$ref': '#/components/schemas/Pet'}}}},\n",
    "  'UserArray': {'description': 'List of user object',\n",
    "   'content': {'application/json': {'schema': {'type': 'array',\n",
    "      'items': {'$ref': '#/components/schemas/User'}}}}}},\n",
    " 'securitySchemes': {'petstore_auth': {'type': 'oauth2',\n",
    "   'flows': {'implicit': {'authorizationUrl': 'https://petstore3.swagger.io/oauth/authorize',\n",
    "     'scopes': {'write:pets': 'modify pets in your account',\n",
    "      'read:pets': 'read your pets'}}}},\n",
    "  'api_key': {'type': 'apiKey', 'name': 'api_key', 'in': 'header'}}}\n",
    "@endjson"
   ]
  },
  {
   "cell_type": "code",
   "execution_count": 9,
   "id": "2cc2fc46",
   "metadata": {},
   "outputs": [
    {
     "data": {
      "image/svg+xml": [
       "<svg xmlns=\"http://www.w3.org/2000/svg\" xmlns:xlink=\"http://www.w3.org/1999/xlink\" contentStyleType=\"text/css\" height=\"42px\" preserveAspectRatio=\"none\" style=\"width:344px;height:42px;\" version=\"1.1\" viewBox=\"0 0 344 42\" width=\"344px\" zoomAndPan=\"magnify\"><defs><style type=\"text/css\"><![CDATA[*.f_000000_ffffff {fill:#000000;}@media (prefers-color-scheme:dark) {*.f_000000_ffffff {fill:#ffffff;}}]]></style></defs><g><text class=\"f_000000_ffffff\" font-family=\"Courier\" font-size=\"14\" lengthAdjust=\"spacing\" textLength=\"312\" x=\"15\" y=\"24.9639\">Your data does not sound like JSON data</text><!--MD5=[a6eb050db8fbda440d92739b55f4812f]\n",
       "@startjson\n",
       "{'Order': {'type': 'object',\n",
       "  'properties': {'id': {'type': 'integer', 'format': 'int64', 'example': 10},\n",
       "   'petId': {'type': 'integer', 'format': 'int64', 'example': 198772},\n",
       "   'quantity': {'type': 'integer', 'format': 'int32', 'example': 7},\n",
       "   'shipDate': {'type': 'string', 'format': 'date-time'},\n",
       "   'status': {'type': 'string',\n",
       "    'description': 'Order Status',\n",
       "    'example': 'approved',\n",
       "    'enum': ['placed', 'approved', 'delivered']},\n",
       "   'complete': {'type': 'boolean'}},\n",
       "  'xml': {'name': 'order'}},\n",
       " 'Customer': {'type': 'object',\n",
       "  'properties': {'id': {'type': 'integer',\n",
       "    'format': 'int64',\n",
       "    'example': 100000},\n",
       "   'username': {'type': 'string', 'example': 'fehguy'},\n",
       "   'address': {'type': 'array',\n",
       "    'xml': {'name': 'addresses', 'wrapped': True},\n",
       "    'items': {'$ref': '#/components/schemas/Address'}}},\n",
       "  'xml': {'name': 'customer'}},\n",
       " 'Address': {'type': 'object',\n",
       "  'properties': {'street': {'type': 'string', 'example': '437 Lytton'},\n",
       "   'city': {'type': 'string', 'example': 'Palo Alto'},\n",
       "   'state': {'type': 'string', 'example': 'CA'},\n",
       "   'zip': {'type': 'string', 'example': '94301'}},\n",
       "  'xml': {'name': 'address'}},\n",
       " 'Category': {'type': 'object',\n",
       "  'properties': {'id': {'type': 'integer', 'format': 'int64', 'example': 1},\n",
       "   'name': {'type': 'string', 'example': 'Dogs'}},\n",
       "  'xml': {'name': 'category'}},\n",
       " 'User': {'type': 'object',\n",
       "  'properties': {'id': {'type': 'integer', 'format': 'int64', 'example': 10},\n",
       "   'username': {'type': 'string', 'example': 'theUser'},\n",
       "   'firstName': {'type': 'string', 'example': 'John'},\n",
       "   'lastName': {'type': 'string', 'example': 'James'},\n",
       "   'email': {'type': 'string', 'example': 'john@email.com'},\n",
       "   'password': {'type': 'string', 'example': '12345'},\n",
       "   'phone': {'type': 'string', 'example': '12345'},\n",
       "   'userStatus': {'type': 'integer',\n",
       "    'description': 'User Status',\n",
       "    'format': 'int32',\n",
       "    'example': 1}},\n",
       "  'xml': {'name': 'user'}},\n",
       " 'Tag': {'type': 'object',\n",
       "  'properties': {'id': {'type': 'integer', 'format': 'int64'},\n",
       "   'name': {'type': 'string'}},\n",
       "  'xml': {'name': 'tag'}},\n",
       " 'Pet': {'required': ['name', 'photoUrls'],\n",
       "  'type': 'object',\n",
       "  'properties': {'id': {'type': 'integer', 'format': 'int64', 'example': 10},\n",
       "   'name': {'type': 'string', 'example': 'doggie'},\n",
       "   'category': {'$ref': '#/components/schemas/Category'},\n",
       "   'photoUrls': {'type': 'array',\n",
       "    'xml': {'wrapped': True},\n",
       "    'items': {'type': 'string', 'xml': {'name': 'photoUrl'}}},\n",
       "   'tags': {'type': 'array',\n",
       "    'xml': {'wrapped': True},\n",
       "    'items': {'$ref': '#/components/schemas/Tag'}},\n",
       "   'status': {'type': 'string',\n",
       "    'description': 'pet status in the store',\n",
       "    'enum': ['available', 'pending', 'sold']}},\n",
       "  'xml': {'name': 'pet'}},\n",
       " 'ApiResponse': {'type': 'object',\n",
       "  'properties': {'code': {'type': 'integer', 'format': 'int32'},\n",
       "   'type': {'type': 'string'},\n",
       "   'message': {'type': 'string'}},\n",
       "  'xml': {'name': '##default'}}}\n",
       "@endjson\n",
       "\n",
       "@startjson\n",
       "{'Order': {'type': 'object',\n",
       "@endjson\n",
       "\n",
       "PlantUML version 1.2022.2beta5(Unknown compile time)\n",
       "(GPL source distribution)\n",
       "Java Runtime: Java(TM) SE Runtime Environment\n",
       "JVM: Java HotSpot(TM) 64-Bit Server VM\n",
       "Default Encoding: UTF-8\n",
       "Language: en\n",
       "Country: US\n",
       "--></g></svg>"
      ],
      "text/plain": [
       "<IPython.core.display.SVG object>"
      ]
     },
     "execution_count": 9,
     "metadata": {},
     "output_type": "execute_result"
    }
   ],
   "source": [
    "%%plantuml\n",
    "@startjson\n",
    "{'Order': {'type': 'object',\n",
    "  'properties': {'id': {'type': 'integer', 'format': 'int64', 'example': 10},\n",
    "   'petId': {'type': 'integer', 'format': 'int64', 'example': 198772},\n",
    "   'quantity': {'type': 'integer', 'format': 'int32', 'example': 7},\n",
    "   'shipDate': {'type': 'string', 'format': 'date-time'},\n",
    "   'status': {'type': 'string',\n",
    "    'description': 'Order Status',\n",
    "    'example': 'approved',\n",
    "    'enum': ['placed', 'approved', 'delivered']},\n",
    "   'complete': {'type': 'boolean'}},\n",
    "  'xml': {'name': 'order'}},\n",
    " 'Customer': {'type': 'object',\n",
    "  'properties': {'id': {'type': 'integer',\n",
    "    'format': 'int64',\n",
    "    'example': 100000},\n",
    "   'username': {'type': 'string', 'example': 'fehguy'},\n",
    "   'address': {'type': 'array',\n",
    "    'xml': {'name': 'addresses', 'wrapped': True},\n",
    "    'items': {'$ref': '#/components/schemas/Address'}}},\n",
    "  'xml': {'name': 'customer'}},\n",
    " 'Address': {'type': 'object',\n",
    "  'properties': {'street': {'type': 'string', 'example': '437 Lytton'},\n",
    "   'city': {'type': 'string', 'example': 'Palo Alto'},\n",
    "   'state': {'type': 'string', 'example': 'CA'},\n",
    "   'zip': {'type': 'string', 'example': '94301'}},\n",
    "  'xml': {'name': 'address'}},\n",
    " 'Category': {'type': 'object',\n",
    "  'properties': {'id': {'type': 'integer', 'format': 'int64', 'example': 1},\n",
    "   'name': {'type': 'string', 'example': 'Dogs'}},\n",
    "  'xml': {'name': 'category'}},\n",
    " 'User': {'type': 'object',\n",
    "  'properties': {'id': {'type': 'integer', 'format': 'int64', 'example': 10},\n",
    "   'username': {'type': 'string', 'example': 'theUser'},\n",
    "   'firstName': {'type': 'string', 'example': 'John'},\n",
    "   'lastName': {'type': 'string', 'example': 'James'},\n",
    "   'email': {'type': 'string', 'example': 'john@email.com'},\n",
    "   'password': {'type': 'string', 'example': '12345'},\n",
    "   'phone': {'type': 'string', 'example': '12345'},\n",
    "   'userStatus': {'type': 'integer',\n",
    "    'description': 'User Status',\n",
    "    'format': 'int32',\n",
    "    'example': 1}},\n",
    "  'xml': {'name': 'user'}},\n",
    " 'Tag': {'type': 'object',\n",
    "  'properties': {'id': {'type': 'integer', 'format': 'int64'},\n",
    "   'name': {'type': 'string'}},\n",
    "  'xml': {'name': 'tag'}},\n",
    " 'Pet': {'required': ['name', 'photoUrls'],\n",
    "  'type': 'object',\n",
    "  'properties': {'id': {'type': 'integer', 'format': 'int64', 'example': 10},\n",
    "   'name': {'type': 'string', 'example': 'doggie'},\n",
    "   'category': {'$ref': '#/components/schemas/Category'},\n",
    "   'photoUrls': {'type': 'array',\n",
    "    'xml': {'wrapped': True},\n",
    "    'items': {'type': 'string', 'xml': {'name': 'photoUrl'}}},\n",
    "   'tags': {'type': 'array',\n",
    "    'xml': {'wrapped': True},\n",
    "    'items': {'$ref': '#/components/schemas/Tag'}},\n",
    "   'status': {'type': 'string',\n",
    "    'description': 'pet status in the store',\n",
    "    'enum': ['available', 'pending', 'sold']}},\n",
    "  'xml': {'name': 'pet'}},\n",
    " 'ApiResponse': {'type': 'object',\n",
    "  'properties': {'code': {'type': 'integer', 'format': 'int32'},\n",
    "   'type': {'type': 'string'},\n",
    "   'message': {'type': 'string'}},\n",
    "  'xml': {'name': '##default'}}}\n",
    "@endjson\n"
   ]
  },
  {
   "cell_type": "code",
   "execution_count": 2,
   "id": "a3545322",
   "metadata": {},
   "outputs": [],
   "source": [
    "import iplantuml"
   ]
  },
  {
   "cell_type": "code",
   "execution_count": 10,
   "id": "1e102c04",
   "metadata": {},
   "outputs": [
    {
     "data": {
      "image/svg+xml": [
       "<svg xmlns=\"http://www.w3.org/2000/svg\" xmlns:xlink=\"http://www.w3.org/1999/xlink\" contentStyleType=\"text/css\" height=\"841px\" preserveAspectRatio=\"none\" style=\"width:280px;height:841px;\" version=\"1.1\" viewBox=\"0 0 280 841\" width=\"280px\" zoomAndPan=\"magnify\"><defs><style type=\"text/css\"><![CDATA[*.f_f1f1f1_070707 {fill:#f1f1f1;}*.s_f1f1f1_070707 {stroke:#f1f1f1;}*.f_000000_ffffff {fill:#000000;}*.s_000000_ffffff {stroke:#000000;}@media (prefers-color-scheme:dark) {*.f_f1f1f1_070707 {fill:#070707;}*.s_f1f1f1_070707 {stroke:#070707;}*.f_000000_ffffff {fill:#ffffff;}*.s_000000_ffffff {stroke:#ffffff;}}]]></style></defs><g><rect class=\"f_f1f1f1_070707 s_f1f1f1_070707\" height=\"162.375\" rx=\"5\" ry=\"5\" style=\"stroke-width:1.5;\" width=\"135\" x=\"10\" y=\"328\"/><text class=\"f_000000_ffffff\" font-family=\"sans-serif\" font-size=\"14\" font-weight=\"bold\" lengthAdjust=\"spacing\" textLength=\"45\" x=\"15\" y=\"342.9951\">Order</text><text class=\"f_000000_ffffff\" font-family=\"sans-serif\" font-size=\"14\" lengthAdjust=\"spacing\" textLength=\"0\" x=\"140\" y=\"342.9951\"/><line class=\"s_000000_ffffff\" style=\"stroke-width:1.0;\" x1=\"123\" x2=\"123\" y1=\"328\" y2=\"348.2969\"/><line class=\"s_000000_ffffff\" style=\"stroke-width:1.0;\" x1=\"10\" x2=\"145\" y1=\"348.2969\" y2=\"348.2969\"/><text class=\"f_000000_ffffff\" font-family=\"sans-serif\" font-size=\"14\" font-weight=\"bold\" lengthAdjust=\"spacing\" textLength=\"78\" x=\"15\" y=\"363.292\">Customer</text><text class=\"f_000000_ffffff\" font-family=\"sans-serif\" font-size=\"14\" lengthAdjust=\"spacing\" textLength=\"0\" x=\"140\" y=\"363.292\"/><line class=\"s_000000_ffffff\" style=\"stroke-width:1.0;\" x1=\"123\" x2=\"123\" y1=\"348.2969\" y2=\"368.5938\"/><line class=\"s_000000_ffffff\" style=\"stroke-width:1.0;\" x1=\"10\" x2=\"145\" y1=\"368.5938\" y2=\"368.5938\"/><text class=\"f_000000_ffffff\" font-family=\"sans-serif\" font-size=\"14\" font-weight=\"bold\" lengthAdjust=\"spacing\" textLength=\"65\" x=\"15\" y=\"383.5889\">Address</text><text class=\"f_000000_ffffff\" font-family=\"sans-serif\" font-size=\"14\" lengthAdjust=\"spacing\" textLength=\"0\" x=\"140\" y=\"383.5889\"/><line class=\"s_000000_ffffff\" style=\"stroke-width:1.0;\" x1=\"123\" x2=\"123\" y1=\"368.5938\" y2=\"388.8906\"/><line class=\"s_000000_ffffff\" style=\"stroke-width:1.0;\" x1=\"10\" x2=\"145\" y1=\"388.8906\" y2=\"388.8906\"/><text class=\"f_000000_ffffff\" font-family=\"sans-serif\" font-size=\"14\" font-weight=\"bold\" lengthAdjust=\"spacing\" textLength=\"73\" x=\"15\" y=\"403.8857\">Category</text><text class=\"f_000000_ffffff\" font-family=\"sans-serif\" font-size=\"14\" lengthAdjust=\"spacing\" textLength=\"0\" x=\"140\" y=\"403.8857\"/><line class=\"s_000000_ffffff\" style=\"stroke-width:1.0;\" x1=\"123\" x2=\"123\" y1=\"388.8906\" y2=\"409.1875\"/><line class=\"s_000000_ffffff\" style=\"stroke-width:1.0;\" x1=\"10\" x2=\"145\" y1=\"409.1875\" y2=\"409.1875\"/><text class=\"f_000000_ffffff\" font-family=\"sans-serif\" font-size=\"14\" font-weight=\"bold\" lengthAdjust=\"spacing\" textLength=\"36\" x=\"15\" y=\"424.1826\">User</text><text class=\"f_000000_ffffff\" font-family=\"sans-serif\" font-size=\"14\" lengthAdjust=\"spacing\" textLength=\"0\" x=\"140\" y=\"424.1826\"/><line class=\"s_000000_ffffff\" style=\"stroke-width:1.0;\" x1=\"123\" x2=\"123\" y1=\"409.1875\" y2=\"429.4844\"/><line class=\"s_000000_ffffff\" style=\"stroke-width:1.0;\" x1=\"10\" x2=\"145\" y1=\"429.4844\" y2=\"429.4844\"/><text class=\"f_000000_ffffff\" font-family=\"sans-serif\" font-size=\"14\" font-weight=\"bold\" lengthAdjust=\"spacing\" textLength=\"31\" x=\"15\" y=\"444.4795\">Tag</text><text class=\"f_000000_ffffff\" font-family=\"sans-serif\" font-size=\"14\" lengthAdjust=\"spacing\" textLength=\"0\" x=\"140\" y=\"444.4795\"/><line class=\"s_000000_ffffff\" style=\"stroke-width:1.0;\" x1=\"123\" x2=\"123\" y1=\"429.4844\" y2=\"449.7813\"/><line class=\"s_000000_ffffff\" style=\"stroke-width:1.0;\" x1=\"10\" x2=\"145\" y1=\"449.7813\" y2=\"449.7813\"/><text class=\"f_000000_ffffff\" font-family=\"sans-serif\" font-size=\"14\" font-weight=\"bold\" lengthAdjust=\"spacing\" textLength=\"27\" x=\"15\" y=\"464.7764\">Pet</text><text class=\"f_000000_ffffff\" font-family=\"sans-serif\" font-size=\"14\" lengthAdjust=\"spacing\" textLength=\"0\" x=\"140\" y=\"464.7764\"/><line class=\"s_000000_ffffff\" style=\"stroke-width:1.0;\" x1=\"123\" x2=\"123\" y1=\"449.7813\" y2=\"470.0781\"/><line class=\"s_000000_ffffff\" style=\"stroke-width:1.0;\" x1=\"10\" x2=\"145\" y1=\"470.0781\" y2=\"470.0781\"/><text class=\"f_000000_ffffff\" font-family=\"sans-serif\" font-size=\"14\" font-weight=\"bold\" lengthAdjust=\"spacing\" textLength=\"103\" x=\"15\" y=\"485.0732\">ApiResponse</text><text class=\"f_000000_ffffff\" font-family=\"sans-serif\" font-size=\"14\" lengthAdjust=\"spacing\" textLength=\"0\" x=\"140\" y=\"485.0732\"/><line class=\"s_000000_ffffff\" style=\"stroke-width:1.0;\" x1=\"123\" x2=\"123\" y1=\"470.0781\" y2=\"490.375\"/><rect class=\"s_000000_ffffff\" fill=\"none\" height=\"162.375\" rx=\"5\" ry=\"5\" style=\"stroke-width:1.5;\" width=\"135\" x=\"10\" y=\"328\"/><rect class=\"f_f1f1f1_070707 s_f1f1f1_070707\" height=\"121.7813\" rx=\"5\" ry=\"5\" style=\"stroke-width:1.5;\" width=\"80\" x=\"185\" y=\"10\"/><text class=\"f_000000_ffffff\" font-family=\"sans-serif\" font-size=\"14\" lengthAdjust=\"spacing\" textLength=\"13\" x=\"190\" y=\"24.9951\">id</text><line class=\"s_000000_ffffff\" style=\"stroke-width:1.0;\" x1=\"185\" x2=\"265\" y1=\"30.2969\" y2=\"30.2969\"/><text class=\"f_000000_ffffff\" font-family=\"sans-serif\" font-size=\"14\" lengthAdjust=\"spacing\" textLength=\"39\" x=\"190\" y=\"45.292\">petId</text><line class=\"s_000000_ffffff\" style=\"stroke-width:1.0;\" x1=\"185\" x2=\"265\" y1=\"50.5938\" y2=\"50.5938\"/><text class=\"f_000000_ffffff\" font-family=\"sans-serif\" font-size=\"14\" lengthAdjust=\"spacing\" textLength=\"60\" x=\"190\" y=\"65.5889\">quantity</text><line class=\"s_000000_ffffff\" style=\"stroke-width:1.0;\" x1=\"185\" x2=\"265\" y1=\"70.8906\" y2=\"70.8906\"/><text class=\"f_000000_ffffff\" font-family=\"sans-serif\" font-size=\"14\" lengthAdjust=\"spacing\" textLength=\"65\" x=\"190\" y=\"85.8857\">shipDate</text><line class=\"s_000000_ffffff\" style=\"stroke-width:1.0;\" x1=\"185\" x2=\"265\" y1=\"91.1875\" y2=\"91.1875\"/><text class=\"f_000000_ffffff\" font-family=\"sans-serif\" font-size=\"14\" lengthAdjust=\"spacing\" textLength=\"44\" x=\"190\" y=\"106.1826\">status</text><line class=\"s_000000_ffffff\" style=\"stroke-width:1.0;\" x1=\"185\" x2=\"265\" y1=\"111.4844\" y2=\"111.4844\"/><text class=\"f_000000_ffffff\" font-family=\"sans-serif\" font-size=\"14\" lengthAdjust=\"spacing\" textLength=\"70\" x=\"190\" y=\"126.4795\">complete</text><rect class=\"s_000000_ffffff\" fill=\"none\" height=\"121.7813\" rx=\"5\" ry=\"5\" style=\"stroke-width:1.5;\" width=\"80\" x=\"185\" y=\"10\"/><rect class=\"f_f1f1f1_070707 s_f1f1f1_070707\" height=\"60.8906\" rx=\"5\" ry=\"5\" style=\"stroke-width:1.5;\" width=\"80\" x=\"185\" y=\"150.5\"/><text class=\"f_000000_ffffff\" font-family=\"sans-serif\" font-size=\"14\" lengthAdjust=\"spacing\" textLength=\"13\" x=\"190\" y=\"165.4951\">id</text><line class=\"s_000000_ffffff\" style=\"stroke-width:1.0;\" x1=\"185\" x2=\"265\" y1=\"170.7969\" y2=\"170.7969\"/><text class=\"f_000000_ffffff\" font-family=\"sans-serif\" font-size=\"14\" lengthAdjust=\"spacing\" textLength=\"70\" x=\"190\" y=\"185.792\">username</text><line class=\"s_000000_ffffff\" style=\"stroke-width:1.0;\" x1=\"185\" x2=\"265\" y1=\"191.0938\" y2=\"191.0938\"/><text class=\"f_000000_ffffff\" font-family=\"sans-serif\" font-size=\"14\" lengthAdjust=\"spacing\" textLength=\"55\" x=\"190\" y=\"206.0889\">address</text><rect class=\"s_000000_ffffff\" fill=\"none\" height=\"60.8906\" rx=\"5\" ry=\"5\" style=\"stroke-width:1.5;\" width=\"80\" x=\"185\" y=\"150.5\"/><rect class=\"f_f1f1f1_070707 s_f1f1f1_070707\" height=\"81.1875\" rx=\"5\" ry=\"5\" style=\"stroke-width:1.5;\" width=\"55\" x=\"197.5\" y=\"229.5\"/><text class=\"f_000000_ffffff\" font-family=\"sans-serif\" font-size=\"14\" lengthAdjust=\"spacing\" textLength=\"45\" x=\"202.5\" y=\"244.4951\">street</text><line class=\"s_000000_ffffff\" style=\"stroke-width:1.0;\" x1=\"197.5\" x2=\"252.5\" y1=\"249.7969\" y2=\"249.7969\"/><text class=\"f_000000_ffffff\" font-family=\"sans-serif\" font-size=\"14\" lengthAdjust=\"spacing\" textLength=\"27\" x=\"202.5\" y=\"264.792\">city</text><line class=\"s_000000_ffffff\" style=\"stroke-width:1.0;\" x1=\"197.5\" x2=\"252.5\" y1=\"270.0938\" y2=\"270.0938\"/><text class=\"f_000000_ffffff\" font-family=\"sans-serif\" font-size=\"14\" lengthAdjust=\"spacing\" textLength=\"38\" x=\"202.5\" y=\"285.0889\">state</text><line class=\"s_000000_ffffff\" style=\"stroke-width:1.0;\" x1=\"197.5\" x2=\"252.5\" y1=\"290.3906\" y2=\"290.3906\"/><text class=\"f_000000_ffffff\" font-family=\"sans-serif\" font-size=\"14\" lengthAdjust=\"spacing\" textLength=\"22\" x=\"202.5\" y=\"305.3857\">zip</text><rect class=\"s_000000_ffffff\" fill=\"none\" height=\"81.1875\" rx=\"5\" ry=\"5\" style=\"stroke-width:1.5;\" width=\"55\" x=\"197.5\" y=\"229.5\"/><rect class=\"f_f1f1f1_070707 s_f1f1f1_070707\" height=\"40.5938\" rx=\"5\" ry=\"5\" style=\"stroke-width:1.5;\" width=\"50\" x=\"200\" y=\"328.5\"/><text class=\"f_000000_ffffff\" font-family=\"sans-serif\" font-size=\"14\" lengthAdjust=\"spacing\" textLength=\"13\" x=\"205\" y=\"343.4951\">id</text><line class=\"s_000000_ffffff\" style=\"stroke-width:1.0;\" x1=\"200\" x2=\"250\" y1=\"348.7969\" y2=\"348.7969\"/><text class=\"f_000000_ffffff\" font-family=\"sans-serif\" font-size=\"14\" lengthAdjust=\"spacing\" textLength=\"40\" x=\"205\" y=\"363.792\">name</text><rect class=\"s_000000_ffffff\" fill=\"none\" height=\"40.5938\" rx=\"5\" ry=\"5\" style=\"stroke-width:1.5;\" width=\"50\" x=\"200\" y=\"328.5\"/><rect class=\"f_f1f1f1_070707 s_f1f1f1_070707\" height=\"162.375\" rx=\"5\" ry=\"5\" style=\"stroke-width:1.5;\" width=\"86\" x=\"182\" y=\"388\"/><text class=\"f_000000_ffffff\" font-family=\"sans-serif\" font-size=\"14\" lengthAdjust=\"spacing\" textLength=\"13\" x=\"187\" y=\"402.9951\">id</text><line class=\"s_000000_ffffff\" style=\"stroke-width:1.0;\" x1=\"182\" x2=\"268\" y1=\"408.2969\" y2=\"408.2969\"/><text class=\"f_000000_ffffff\" font-family=\"sans-serif\" font-size=\"14\" lengthAdjust=\"spacing\" textLength=\"70\" x=\"187\" y=\"423.292\">username</text><line class=\"s_000000_ffffff\" style=\"stroke-width:1.0;\" x1=\"182\" x2=\"268\" y1=\"428.5938\" y2=\"428.5938\"/><text class=\"f_000000_ffffff\" font-family=\"sans-serif\" font-size=\"14\" lengthAdjust=\"spacing\" textLength=\"71\" x=\"187\" y=\"443.5889\">firstName</text><line class=\"s_000000_ffffff\" style=\"stroke-width:1.0;\" x1=\"182\" x2=\"268\" y1=\"448.8906\" y2=\"448.8906\"/><text class=\"f_000000_ffffff\" font-family=\"sans-serif\" font-size=\"14\" lengthAdjust=\"spacing\" textLength=\"67\" x=\"187\" y=\"463.8857\">lastName</text><line class=\"s_000000_ffffff\" style=\"stroke-width:1.0;\" x1=\"182\" x2=\"268\" y1=\"469.1875\" y2=\"469.1875\"/><text class=\"f_000000_ffffff\" font-family=\"sans-serif\" font-size=\"14\" lengthAdjust=\"spacing\" textLength=\"39\" x=\"187\" y=\"484.1826\">email</text><line class=\"s_000000_ffffff\" style=\"stroke-width:1.0;\" x1=\"182\" x2=\"268\" y1=\"489.4844\" y2=\"489.4844\"/><text class=\"f_000000_ffffff\" font-family=\"sans-serif\" font-size=\"14\" lengthAdjust=\"spacing\" textLength=\"67\" x=\"187\" y=\"504.4795\">password</text><line class=\"s_000000_ffffff\" style=\"stroke-width:1.0;\" x1=\"182\" x2=\"268\" y1=\"509.7813\" y2=\"509.7813\"/><text class=\"f_000000_ffffff\" font-family=\"sans-serif\" font-size=\"14\" lengthAdjust=\"spacing\" textLength=\"46\" x=\"187\" y=\"524.7764\">phone</text><line class=\"s_000000_ffffff\" style=\"stroke-width:1.0;\" x1=\"182\" x2=\"268\" y1=\"530.0781\" y2=\"530.0781\"/><text class=\"f_000000_ffffff\" font-family=\"sans-serif\" font-size=\"14\" lengthAdjust=\"spacing\" textLength=\"76\" x=\"187\" y=\"545.0732\">userStatus</text><rect class=\"s_000000_ffffff\" fill=\"none\" height=\"162.375\" rx=\"5\" ry=\"5\" style=\"stroke-width:1.5;\" width=\"86\" x=\"182\" y=\"388\"/><rect class=\"f_f1f1f1_070707 s_f1f1f1_070707\" height=\"40.5938\" rx=\"5\" ry=\"5\" style=\"stroke-width:1.5;\" width=\"50\" x=\"200\" y=\"568.5\"/><text class=\"f_000000_ffffff\" font-family=\"sans-serif\" font-size=\"14\" lengthAdjust=\"spacing\" textLength=\"13\" x=\"205\" y=\"583.4951\">id</text><line class=\"s_000000_ffffff\" style=\"stroke-width:1.0;\" x1=\"200\" x2=\"250\" y1=\"588.7969\" y2=\"588.7969\"/><text class=\"f_000000_ffffff\" font-family=\"sans-serif\" font-size=\"14\" lengthAdjust=\"spacing\" textLength=\"40\" x=\"205\" y=\"603.792\">name</text><rect class=\"s_000000_ffffff\" fill=\"none\" height=\"40.5938\" rx=\"5\" ry=\"5\" style=\"stroke-width:1.5;\" width=\"50\" x=\"200\" y=\"568.5\"/><rect class=\"f_f1f1f1_070707 s_f1f1f1_070707\" height=\"121.7813\" rx=\"5\" ry=\"5\" style=\"stroke-width:1.5;\" width=\"80\" x=\"185\" y=\"628\"/><text class=\"f_000000_ffffff\" font-family=\"sans-serif\" font-size=\"14\" lengthAdjust=\"spacing\" textLength=\"13\" x=\"190\" y=\"642.9951\">id</text><line class=\"s_000000_ffffff\" style=\"stroke-width:1.0;\" x1=\"185\" x2=\"265\" y1=\"648.2969\" y2=\"648.2969\"/><text class=\"f_000000_ffffff\" font-family=\"sans-serif\" font-size=\"14\" lengthAdjust=\"spacing\" textLength=\"40\" x=\"190\" y=\"663.292\">name</text><line class=\"s_000000_ffffff\" style=\"stroke-width:1.0;\" x1=\"185\" x2=\"265\" y1=\"668.5938\" y2=\"668.5938\"/><text class=\"f_000000_ffffff\" font-family=\"sans-serif\" font-size=\"14\" lengthAdjust=\"spacing\" textLength=\"64\" x=\"190\" y=\"683.5889\">category</text><line class=\"s_000000_ffffff\" style=\"stroke-width:1.0;\" x1=\"185\" x2=\"265\" y1=\"688.8906\" y2=\"688.8906\"/><text class=\"f_000000_ffffff\" font-family=\"sans-serif\" font-size=\"14\" lengthAdjust=\"spacing\" textLength=\"70\" x=\"190\" y=\"703.8857\">photoUrls</text><line class=\"s_000000_ffffff\" style=\"stroke-width:1.0;\" x1=\"185\" x2=\"265\" y1=\"709.1875\" y2=\"709.1875\"/><text class=\"f_000000_ffffff\" font-family=\"sans-serif\" font-size=\"14\" lengthAdjust=\"spacing\" textLength=\"31\" x=\"190\" y=\"724.1826\">tags</text><line class=\"s_000000_ffffff\" style=\"stroke-width:1.0;\" x1=\"185\" x2=\"265\" y1=\"729.4844\" y2=\"729.4844\"/><text class=\"f_000000_ffffff\" font-family=\"sans-serif\" font-size=\"14\" lengthAdjust=\"spacing\" textLength=\"44\" x=\"190\" y=\"744.4795\">status</text><rect class=\"s_000000_ffffff\" fill=\"none\" height=\"121.7813\" rx=\"5\" ry=\"5\" style=\"stroke-width:1.5;\" width=\"80\" x=\"185\" y=\"628\"/><rect class=\"f_f1f1f1_070707 s_f1f1f1_070707\" height=\"60.8906\" rx=\"5\" ry=\"5\" style=\"stroke-width:1.5;\" width=\"73\" x=\"188.5\" y=\"768.5\"/><text class=\"f_000000_ffffff\" font-family=\"sans-serif\" font-size=\"14\" lengthAdjust=\"spacing\" textLength=\"35\" x=\"193.5\" y=\"783.4951\">code</text><line class=\"s_000000_ffffff\" style=\"stroke-width:1.0;\" x1=\"188.5\" x2=\"261.5\" y1=\"788.7969\" y2=\"788.7969\"/><text class=\"f_000000_ffffff\" font-family=\"sans-serif\" font-size=\"14\" lengthAdjust=\"spacing\" textLength=\"34\" x=\"193.5\" y=\"803.792\">type</text><line class=\"s_000000_ffffff\" style=\"stroke-width:1.0;\" x1=\"188.5\" x2=\"261.5\" y1=\"809.0938\" y2=\"809.0938\"/><text class=\"f_000000_ffffff\" font-family=\"sans-serif\" font-size=\"14\" lengthAdjust=\"spacing\" textLength=\"63\" x=\"193.5\" y=\"824.0889\">message</text><rect class=\"s_000000_ffffff\" fill=\"none\" height=\"60.8906\" rx=\"5\" ry=\"5\" style=\"stroke-width:1.5;\" width=\"73\" x=\"188.5\" y=\"768.5\"/><path class=\"s_000000_ffffff\" d=\"M135,340 L135,327 C135,241.735 149.0649,219.6473 182,141 C182.2265,140.4591 182.4568,139.9174 182.6906,139.3751 \" fill=\"none\" style=\"stroke-width:1.0;stroke-dasharray:3.0,3.0;\"/><path class=\"f_000000_ffffff s_000000_ffffff\" d=\"M185.5181,140.6652 L183.6582,137.2545 L179.8632,138.085 L185.916,132.3065 L185.5181,140.6652 \" style=\"stroke-width:1.0;\"/><ellipse class=\"f_000000_ffffff s_000000_ffffff\" cx=\"135\" cy=\"340\" rx=\"3\" ry=\"3\" style=\"stroke-width:1.0;\"/><path class=\"s_000000_ffffff\" d=\"M133,358 L146,358 C209.3859,358 149.3159,274.3096 182,220 C182.4389,219.2707 182.8955,218.5468 183.3682,217.8288 \" fill=\"none\" style=\"stroke-width:1.0;stroke-dasharray:3.0,3.0;\"/><path class=\"f_000000_ffffff s_000000_ffffff\" d=\"M185.8848,219.6858 L184.761,215.9414 L180.8517,215.9718 L188.0107,211.5374 L185.8848,219.6858 \" style=\"stroke-width:1.0;\"/><ellipse class=\"f_000000_ffffff s_000000_ffffff\" cx=\"133\" cy=\"358\" rx=\"3\" ry=\"3\" style=\"stroke-width:1.0;\"/><path class=\"s_000000_ffffff\" d=\"M133,378 L146,378 C176.7182,378 163.8735,343.7999 182,319 C185.4108,314.3335 189.1623,309.5685 192.9809,304.9321 \" fill=\"none\" style=\"stroke-width:1.0;stroke-dasharray:3.0,3.0;\"/><path class=\"f_000000_ffffff s_000000_ffffff\" d=\"M195.2957,306.8729 L194.4365,303.1959 L190.6661,302.9912 L197.833,299.145 L195.2957,306.8729 \" style=\"stroke-width:1.0;\"/><ellipse class=\"f_000000_ffffff s_000000_ffffff\" cx=\"133\" cy=\"378\" rx=\"3\" ry=\"3\" style=\"stroke-width:1.0;\"/><path class=\"s_000000_ffffff\" d=\"M133,398 L146,398 C151.6175,398 174.5282,383.3741 194.1594,370.1037 \" fill=\"none\" style=\"stroke-width:1.0;stroke-dasharray:3.0,3.0;\"/><path class=\"f_000000_ffffff s_000000_ffffff\" d=\"M195.8556,372.5967 L196.0291,368.8315 L192.4631,367.6107 L200.3918,365.863 L195.8556,372.5967 \" style=\"stroke-width:1.0;\"/><ellipse class=\"f_000000_ffffff s_000000_ffffff\" cx=\"133\" cy=\"398\" rx=\"3\" ry=\"3\" style=\"stroke-width:1.0;\"/><path class=\"s_000000_ffffff\" d=\"M133,419 L146,419 C156.2718,419 166.2828,422.0832 175.5291,426.7183 \" fill=\"none\" style=\"stroke-width:1.0;stroke-dasharray:3.0,3.0;\"/><path class=\"f_000000_ffffff s_000000_ffffff\" d=\"M174.0781,429.3545 L177.5062,427.8065 L176.9801,424.0821 L182.1195,430.3458 L174.0781,429.3545 \" style=\"stroke-width:1.0;\"/><ellipse class=\"f_000000_ffffff s_000000_ffffff\" cx=\"133\" cy=\"419\" rx=\"3\" ry=\"3\" style=\"stroke-width:1.0;\"/><path class=\"s_000000_ffffff\" d=\"M133,439 L146,439 C201.6816,439 149.4753,513.805 182,559 C185.3368,563.6366 189.619,567.8134 194.1759,571.4745 \" fill=\"none\" style=\"stroke-width:1.0;stroke-dasharray:3.0,3.0;\"/><path class=\"f_000000_ffffff s_000000_ffffff\" d=\"M192.3089,574.003 L196.0723,572.8748 L196.043,568.9461 L200.4971,576.1421 L192.3089,574.003 \" style=\"stroke-width:1.0;\"/><ellipse class=\"f_000000_ffffff s_000000_ffffff\" cx=\"133\" cy=\"439\" rx=\"3\" ry=\"3\" style=\"stroke-width:1.0;\"/><path class=\"s_000000_ffffff\" d=\"M133,459 L146,459 C182.4444,459 168.3642,585.2026 182,619 C182.2194,619.5439 182.4428,620.0884 182.67,620.6334 \" fill=\"none\" style=\"stroke-width:1.0;stroke-dasharray:3.0,3.0;\"/><path class=\"f_000000_ffffff s_000000_ffffff\" d=\"M179.8303,621.8938 L183.6153,622.7631 L185.5097,619.373 L185.821,627.7326 L179.8303,621.8938 \" style=\"stroke-width:1.0;\"/><ellipse class=\"f_000000_ffffff s_000000_ffffff\" cx=\"133\" cy=\"459\" rx=\"3\" ry=\"3\" style=\"stroke-width:1.0;\"/><path class=\"s_000000_ffffff\" d=\"M135,478 L135,491 C135,551.4645 153.2961,705.7831 182,759 C182.7215,760.3377 183.5044,761.656 184.339,762.9525 \" fill=\"none\" style=\"stroke-width:1.0;stroke-dasharray:3.0,3.0;\"/><path class=\"f_000000_ffffff s_000000_ffffff\" d=\"M181.8227,764.776 L185.7066,764.8397 L186.8552,761.1289 L188.8978,769.2431 L181.8227,764.776 \" style=\"stroke-width:1.0;\"/><ellipse class=\"f_000000_ffffff s_000000_ffffff\" cx=\"135\" cy=\"478\" rx=\"3\" ry=\"3\" style=\"stroke-width:1.0;\"/><!--MD5=[22fedc319a1f3666ee022e3ebb3c2b54]\n",
       "@startjson\n",
       "{\n",
       "    \"Order\": [\n",
       "        \"id\",\n",
       "        \"petId\",\n",
       "        \"quantity\",\n",
       "        \"shipDate\",\n",
       "        \"status\",\n",
       "        \"complete\"\n",
       "    ],\n",
       "    \"Customer\": [\n",
       "        \"id\",\n",
       "        \"username\",\n",
       "        \"address\"\n",
       "    ],\n",
       "    \"Address\": [\n",
       "        \"street\",\n",
       "        \"city\",\n",
       "        \"state\",\n",
       "        \"zip\"\n",
       "    ],\n",
       "    \"Category\": [\n",
       "        \"id\",\n",
       "        \"name\"\n",
       "    ],\n",
       "    \"User\": [\n",
       "        \"id\",\n",
       "        \"username\",\n",
       "        \"firstName\",\n",
       "        \"lastName\",\n",
       "        \"email\",\n",
       "        \"password\",\n",
       "        \"phone\",\n",
       "        \"userStatus\"\n",
       "    ],\n",
       "    \"Tag\": [\n",
       "        \"id\",\n",
       "        \"name\"\n",
       "    ],\n",
       "    \"Pet\": [\n",
       "        \"id\",\n",
       "        \"name\",\n",
       "        \"category\",\n",
       "        \"photoUrls\",\n",
       "        \"tags\",\n",
       "        \"status\"\n",
       "    ],\n",
       "    \"ApiResponse\": [\n",
       "        \"code\",\n",
       "        \"type\",\n",
       "        \"message\"\n",
       "    ]\n",
       "}\n",
       "@endjson\n",
       "\n",
       "PlantUML version 1.2022.2beta5(Unknown compile time)\n",
       "(GPL source distribution)\n",
       "Java Runtime: Java(TM) SE Runtime Environment\n",
       "JVM: Java HotSpot(TM) 64-Bit Server VM\n",
       "Default Encoding: UTF-8\n",
       "Language: en\n",
       "Country: US\n",
       "--></g></svg>"
      ],
      "text/plain": [
       "<IPython.core.display.SVG object>"
      ]
     },
     "execution_count": 10,
     "metadata": {},
     "output_type": "execute_result"
    }
   ],
   "source": [
    "%%plantuml\n",
    "@startjson\n",
    "{\n",
    "    \"Order\": [\n",
    "        \"id\",\n",
    "        \"petId\",\n",
    "        \"quantity\",\n",
    "        \"shipDate\",\n",
    "        \"status\",\n",
    "        \"complete\"\n",
    "    ],\n",
    "    \"Customer\": [\n",
    "        \"id\",\n",
    "        \"username\",\n",
    "        \"address\"\n",
    "    ],\n",
    "    \"Address\": [\n",
    "        \"street\",\n",
    "        \"city\",\n",
    "        \"state\",\n",
    "        \"zip\"\n",
    "    ],\n",
    "    \"Category\": [\n",
    "        \"id\",\n",
    "        \"name\"\n",
    "    ],\n",
    "    \"User\": [\n",
    "        \"id\",\n",
    "        \"username\",\n",
    "        \"firstName\",\n",
    "        \"lastName\",\n",
    "        \"email\",\n",
    "        \"password\",\n",
    "        \"phone\",\n",
    "        \"userStatus\"\n",
    "    ],\n",
    "    \"Tag\": [\n",
    "        \"id\",\n",
    "        \"name\"\n",
    "    ],\n",
    "    \"Pet\": [\n",
    "        \"id\",\n",
    "        \"name\",\n",
    "        \"category\",\n",
    "        \"photoUrls\",\n",
    "        \"tags\",\n",
    "        \"status\"\n",
    "    ],\n",
    "    \"ApiResponse\": [\n",
    "        \"code\",\n",
    "        \"type\",\n",
    "        \"message\"\n",
    "    ]\n",
    "}\n",
    "@endjson"
   ]
  },
  {
   "cell_type": "markdown",
   "id": "c8be71f7",
   "metadata": {},
   "source": [
    "## JSON to Class Diagram"
   ]
  },
  {
   "cell_type": "markdown",
   "id": "a7d89203",
   "metadata": {},
   "source": [
    "### Simple json"
   ]
  },
  {
   "cell_type": "code",
   "execution_count": 8,
   "id": "2c2ed246",
   "metadata": {},
   "outputs": [],
   "source": [
    "my_json =  {\n",
    "    \"Order\": [\n",
    "        \"id\",\n",
    "        \"petId\",\n",
    "        \"quantity\",\n",
    "        \"shipDate\",\n",
    "        \"status\",\n",
    "        \"complete\"\n",
    "    ]\n",
    "}"
   ]
  },
  {
   "cell_type": "code",
   "execution_count": 17,
   "id": "eae6b63f",
   "metadata": {},
   "outputs": [
    {
     "name": "stdout",
     "output_type": "stream",
     "text": [
      "Order = ['id', 'petId', 'quantity', 'shipDate', 'status', 'complete']\n",
      "Order\n",
      "['id', 'petId', 'quantity', 'shipDate', 'status', 'complete']\n"
     ]
    }
   ],
   "source": [
    "#split in key value pairs\n",
    "for key, value in my_json.items():\n",
    "    my_key = key\n",
    "    my_value = value\n",
    "    print(key, '=', value)\n",
    "    print(my_key)\n",
    "    print(my_value)"
   ]
  },
  {
   "cell_type": "code",
   "execution_count": 18,
   "id": "9165869d",
   "metadata": {},
   "outputs": [],
   "source": [
    "#create the plantuml text file\n",
    "class_name = my_key #enter class name\n",
    "textfile = open(\"plantuml.txt\", \"w\")\n",
    "textfile.write('@startuml\\n')\n",
    "textfile.write('class '+class_name + '{\\n')\n",
    "for element in my_value:\n",
    "    textfile.write(element + \"\\n\")\n",
    "textfile.write('}\\n')\n",
    "textfile.write('@enduml')\n",
    "textfile.close()   "
   ]
  },
  {
   "cell_type": "code",
   "execution_count": 29,
   "id": "1769ffc0",
   "metadata": {},
   "outputs": [],
   "source": [
    "#check the plantuml file manually\n",
    "%pycat C:\\\\Users\\\\31653\\\\Documents\\\\GitHub\\\\Notebooks\\plantuml.txt"
   ]
  },
  {
   "cell_type": "markdown",
   "id": "61cfb712",
   "metadata": {},
   "source": [
    "### More complex json"
   ]
  },
  {
   "cell_type": "code",
   "execution_count": 21,
   "id": "e33d7f0b",
   "metadata": {},
   "outputs": [
    {
     "data": {
      "image/svg+xml": [
       "<svg xmlns=\"http://www.w3.org/2000/svg\" xmlns:xlink=\"http://www.w3.org/1999/xlink\" contentStyleType=\"text/css\" height=\"94px\" preserveAspectRatio=\"none\" style=\"width:250px;height:94px;\" version=\"1.1\" viewBox=\"0 0 250 94\" width=\"250px\" zoomAndPan=\"magnify\"><defs><style type=\"text/css\"><![CDATA[*.f_f1f1f1_070707 {fill:#f1f1f1;}*.s_181818_e7e7e7 {stroke:#181818;}*.f_add1b2_2e5233 {fill:#add1b2;}*.f_000000_ffffff {fill:#000000;}@media (prefers-color-scheme:dark) {*.f_f1f1f1_070707 {fill:#070707;}*.s_181818_e7e7e7 {stroke:#e7e7e7;}*.f_add1b2_2e5233 {fill:#2e5233;}*.f_000000_ffffff {fill:#ffffff;}}]]></style></defs><g><!--MD5=[4272a0a1957754cd214430d460c5f4ca]\n",
       "class Foo1--><g id=\"elem_Foo1\"><rect class=\"f_f1f1f1_070707 s_181818_e7e7e7\" codeLine=\"1\" height=\"80.5938\" id=\"Foo1\" rx=\"2.5\" ry=\"2.5\" style=\"stroke-width:0.5;\" width=\"100\" x=\"7\" y=\"7\"/><ellipse class=\"f_add1b2_2e5233 s_181818_e7e7e7\" cx=\"36.85\" cy=\"23\" rx=\"11\" ry=\"11\" style=\"stroke-width:1.0;\"/><path class=\"f_000000_ffffff\" d=\"M39.1938,18.6719 C38.2563,18.2344 37.6625,18.0938 36.7875,18.0938 C34.1625,18.0938 32.1625,20.1719 32.1625,22.8906 L32.1625,24.0156 C32.1625,26.5938 34.2719,28.4844 37.1625,28.4844 C38.3813,28.4844 39.5375,28.1875 40.2875,27.6406 C40.8656,27.2344 41.1938,26.7813 41.1938,26.3906 C41.1938,25.9375 40.8031,25.5469 40.3344,25.5469 C40.1156,25.5469 39.9125,25.625 39.725,25.8125 C39.2719,26.2969 39.2719,26.2969 39.0844,26.3906 C38.6625,26.6563 37.975,26.7813 37.2094,26.7813 C35.1625,26.7813 33.8656,25.6875 33.8656,23.9844 L33.8656,22.8906 C33.8656,21.1094 35.1156,19.7969 36.85,19.7969 C37.4281,19.7969 38.0375,19.9531 38.5063,20.2031 C38.9906,20.4844 39.1625,20.7031 39.2563,21.1094 C39.3188,21.5156 39.35,21.6406 39.4906,21.7656 C39.6313,21.9063 39.8656,22.0156 40.0844,22.0156 C40.35,22.0156 40.6156,21.875 40.7875,21.6563 C40.8969,21.5 40.9281,21.3125 40.9281,20.8906 L40.9281,19.4688 C40.9281,19.0313 40.9125,18.9063 40.8188,18.75 C40.6625,18.4844 40.3813,18.3438 40.0844,18.3438 C39.7875,18.3438 39.5844,18.4375 39.3656,18.75 L39.1938,18.6719 Z \"/><text class=\"f_000000_ffffff\" font-family=\"sans-serif\" font-size=\"14\" lengthAdjust=\"spacing\" textLength=\"35\" x=\"54.15\" y=\"27.8467\">Foo1</text><line class=\"s_181818_e7e7e7\" style=\"stroke-width:0.5;\" x1=\"8\" x2=\"106\" y1=\"39\" y2=\"39\"/><text class=\"f_000000_ffffff\" font-family=\"sans-serif\" font-size=\"14\" lengthAdjust=\"spacing\" textLength=\"83\" x=\"13\" y=\"55.9951\">You can use</text><text class=\"f_000000_ffffff\" font-family=\"sans-serif\" font-size=\"14\" lengthAdjust=\"spacing\" textLength=\"88\" x=\"13\" y=\"72.292\">several lines</text><line class=\"s_181818_e7e7e7\" style=\"stroke-width:0.5;\" x1=\"8\" x2=\"106\" y1=\"79.5938\" y2=\"79.5938\"/></g><!--MD5=[3fd616f346a44cd59a91eb10b19e157c]\n",
       "class User--><g id=\"elem_User\"><rect class=\"f_f1f1f1_070707 s_181818_e7e7e7\" codeLine=\"6\" height=\"80.5938\" id=\"User\" rx=\"2.5\" ry=\"2.5\" style=\"stroke-width:0.5;\" width=\"101\" x=\"142.5\" y=\"7\"/><ellipse class=\"f_add1b2_2e5233 s_181818_e7e7e7\" cx=\"174.6\" cy=\"23\" rx=\"11\" ry=\"11\" style=\"stroke-width:1.0;\"/><path class=\"f_000000_ffffff\" d=\"M176.9438,18.6719 C176.0063,18.2344 175.4125,18.0938 174.5375,18.0938 C171.9125,18.0938 169.9125,20.1719 169.9125,22.8906 L169.9125,24.0156 C169.9125,26.5938 172.0219,28.4844 174.9125,28.4844 C176.1313,28.4844 177.2875,28.1875 178.0375,27.6406 C178.6156,27.2344 178.9438,26.7813 178.9438,26.3906 C178.9438,25.9375 178.5531,25.5469 178.0844,25.5469 C177.8656,25.5469 177.6625,25.625 177.475,25.8125 C177.0219,26.2969 177.0219,26.2969 176.8344,26.3906 C176.4125,26.6563 175.725,26.7813 174.9594,26.7813 C172.9125,26.7813 171.6156,25.6875 171.6156,23.9844 L171.6156,22.8906 C171.6156,21.1094 172.8656,19.7969 174.6,19.7969 C175.1781,19.7969 175.7875,19.9531 176.2563,20.2031 C176.7406,20.4844 176.9125,20.7031 177.0063,21.1094 C177.0688,21.5156 177.1,21.6406 177.2406,21.7656 C177.3813,21.9063 177.6156,22.0156 177.8344,22.0156 C178.1,22.0156 178.3656,21.875 178.5375,21.6563 C178.6469,21.5 178.6781,21.3125 178.6781,20.8906 L178.6781,19.4688 C178.6781,19.0313 178.6625,18.9063 178.5688,18.75 C178.4125,18.4844 178.1313,18.3438 177.8344,18.3438 C177.5375,18.3438 177.3344,18.4375 177.1156,18.75 L176.9438,18.6719 Z \"/><text class=\"f_000000_ffffff\" font-family=\"sans-serif\" font-size=\"14\" lengthAdjust=\"spacing\" textLength=\"31\" x=\"192.4\" y=\"27.8467\">User</text><line class=\"s_181818_e7e7e7\" style=\"stroke-width:0.5;\" x1=\"143.5\" x2=\"242.5\" y1=\"39\" y2=\"39\"/><text class=\"f_000000_ffffff\" font-family=\"sans-serif\" font-size=\"14\" lengthAdjust=\"spacing\" textLength=\"82\" x=\"148.5\" y=\"55.9951\">and make a</text><text class=\"f_000000_ffffff\" font-family=\"sans-serif\" font-size=\"14\" lengthAdjust=\"spacing\" textLength=\"89\" x=\"148.5\" y=\"72.292\">second class</text><line class=\"s_181818_e7e7e7\" style=\"stroke-width:0.5;\" x1=\"143.5\" x2=\"242.5\" y1=\"79.5938\" y2=\"79.5938\"/></g><!--MD5=[63e1e059edc035a9db6e2a24c1d1ad0d]\n",
       "@startuml\n",
       "class Foo1 {\n",
       "You can use\n",
       "several lines\n",
       "}\n",
       "\n",
       "class User {\n",
       "and make a\n",
       "second class  \n",
       "}\n",
       "@enduml\n",
       "\n",
       "PlantUML version 1.2022.2beta5(Unknown compile time)\n",
       "(GPL source distribution)\n",
       "Java Runtime: Java(TM) SE Runtime Environment\n",
       "JVM: Java HotSpot(TM) 64-Bit Server VM\n",
       "Default Encoding: UTF-8\n",
       "Language: en\n",
       "Country: US\n",
       "--></g></svg>"
      ],
      "text/plain": [
       "<IPython.core.display.SVG object>"
      ]
     },
     "execution_count": 21,
     "metadata": {},
     "output_type": "execute_result"
    }
   ],
   "source": [
    "%%plantuml\n",
    "@startuml\n",
    "class Foo1 {\n",
    "You can use\n",
    "several lines\n",
    "}\n",
    "class User {\n",
    "and make a\n",
    "second class  \n",
    "}\n",
    "@enduml"
   ]
  },
  {
   "cell_type": "code",
   "execution_count": 1,
   "id": "767f662d",
   "metadata": {},
   "outputs": [],
   "source": [
    "my_json2 ={\n",
    "    \"Order\": [\n",
    "        \"id\",\n",
    "        \"petId\",\n",
    "        \"quantity\",\n",
    "        \"shipDate\",\n",
    "        \"status\",\n",
    "        \"complete\"\n",
    "    ],\n",
    "    \"Customer\": [\n",
    "        \"id\",\n",
    "        \"username\",\n",
    "        \"address\"\n",
    "    ],\n",
    "    \"Address\": [\n",
    "        \"street\",\n",
    "        \"city\",\n",
    "        \"state\",\n",
    "        \"zip\"\n",
    "    ],\n",
    "    \"Category\": [\n",
    "        \"id\",\n",
    "        \"name\"\n",
    "    ],\n",
    "    \"User\": [\n",
    "        \"id\",\n",
    "        \"username\",\n",
    "        \"firstName\",\n",
    "        \"lastName\",\n",
    "        \"email\",\n",
    "        \"password\",\n",
    "        \"phone\",\n",
    "        \"userStatus\"\n",
    "    ],\n",
    "    \"Tag\": [\n",
    "        \"id\",\n",
    "        \"name\"\n",
    "    ],\n",
    "    \"Pet\": [\n",
    "        \"id\",\n",
    "        \"name\",\n",
    "        \"category\",\n",
    "        \"photoUrls\",\n",
    "        \"tags\",\n",
    "        \"status\"\n",
    "    ],\n",
    "    \"ApiResponse\": [\n",
    "        \"code\",\n",
    "        \"type\",\n",
    "        \"message\"\n",
    "    ]\n",
    "}"
   ]
  },
  {
   "cell_type": "code",
   "execution_count": 2,
   "id": "e5d400c6",
   "metadata": {},
   "outputs": [
    {
     "data": {
      "text/plain": [
       "dict"
      ]
     },
     "execution_count": 2,
     "metadata": {},
     "output_type": "execute_result"
    }
   ],
   "source": [
    "type(my_json2)"
   ]
  },
  {
   "cell_type": "code",
   "execution_count": 60,
   "id": "92aa3449",
   "metadata": {},
   "outputs": [],
   "source": [
    "textfile = open(\"plantuml_complex2.txt\", \"w\")\n",
    "textfile.write('@startuml\\n')\n",
    "for key, value in my_json2.items():\n",
    "    textfile.write('class '+str(key) +'{\\n')\n",
    "    for i in range (len(value)):\n",
    "        textfile.write(value[i] + \"\\n\")\n",
    "    textfile.write('}\\n')\n",
    "textfile.write('}\\n')\n",
    "textfile.write('@enduml')\n",
    "textfile.close()  "
   ]
  },
  {
   "cell_type": "code",
   "execution_count": 64,
   "id": "887726b0",
   "metadata": {},
   "outputs": [],
   "source": [
    "#check the plantuml file manually\n",
    "%pycat C:\\\\Users\\\\31653\\\\Documents\\\\GitHub\\\\Notebooks\\plantuml_complex2.txt"
   ]
  },
  {
   "cell_type": "code",
   "execution_count": 63,
   "id": "6624fbf0",
   "metadata": {},
   "outputs": [
    {
     "data": {
      "image/svg+xml": [
       "<svg xmlns=\"http://www.w3.org/2000/svg\" xmlns:xlink=\"http://www.w3.org/1999/xlink\" contentStyleType=\"text/css\" height=\"603px\" preserveAspectRatio=\"none\" style=\"width:365px;height:603px;\" version=\"1.1\" viewBox=\"0 0 365 603\" width=\"365px\" zoomAndPan=\"magnify\"><defs><style type=\"text/css\"><![CDATA[*.f_f1f1f1_070707 {fill:#f1f1f1;}*.s_181818_e7e7e7 {stroke:#181818;}*.f_add1b2_2e5233 {fill:#add1b2;}*.f_000000_ffffff {fill:#000000;}@media (prefers-color-scheme:dark) {*.f_f1f1f1_070707 {fill:#070707;}*.s_181818_e7e7e7 {stroke:#e7e7e7;}*.f_add1b2_2e5233 {fill:#2e5233;}*.f_000000_ffffff {fill:#ffffff;}}]]></style></defs><g><!--MD5=[cf4d6237fcae255cd2e1656cf84a30e2]\n",
       "class Order--><g id=\"elem_Order\"><rect class=\"f_f1f1f1_070707 s_181818_e7e7e7\" codeLine=\"1\" height=\"145.7813\" id=\"Order\" rx=\"2.5\" ry=\"2.5\" style=\"stroke-width:0.5;\" width=\"82\" x=\"15\" y=\"7\"/><ellipse class=\"f_add1b2_2e5233 s_181818_e7e7e7\" cx=\"34.05\" cy=\"23\" rx=\"11\" ry=\"11\" style=\"stroke-width:1.0;\"/><path class=\"f_000000_ffffff\" d=\"M36.3938,18.6719 C35.4563,18.2344 34.8625,18.0938 33.9875,18.0938 C31.3625,18.0938 29.3625,20.1719 29.3625,22.8906 L29.3625,24.0156 C29.3625,26.5938 31.4719,28.4844 34.3625,28.4844 C35.5813,28.4844 36.7375,28.1875 37.4875,27.6406 C38.0656,27.2344 38.3938,26.7813 38.3938,26.3906 C38.3938,25.9375 38.0031,25.5469 37.5344,25.5469 C37.3156,25.5469 37.1125,25.625 36.925,25.8125 C36.4719,26.2969 36.4719,26.2969 36.2844,26.3906 C35.8625,26.6563 35.175,26.7813 34.4094,26.7813 C32.3625,26.7813 31.0656,25.6875 31.0656,23.9844 L31.0656,22.8906 C31.0656,21.1094 32.3156,19.7969 34.05,19.7969 C34.6281,19.7969 35.2375,19.9531 35.7063,20.2031 C36.1906,20.4844 36.3625,20.7031 36.4563,21.1094 C36.5188,21.5156 36.55,21.6406 36.6906,21.7656 C36.8313,21.9063 37.0656,22.0156 37.2844,22.0156 C37.55,22.0156 37.8156,21.875 37.9875,21.6563 C38.0969,21.5 38.1281,21.3125 38.1281,20.8906 L38.1281,19.4688 C38.1281,19.0313 38.1125,18.9063 38.0188,18.75 C37.8625,18.4844 37.5813,18.3438 37.2844,18.3438 C36.9875,18.3438 36.7844,18.4375 36.5656,18.75 L36.3938,18.6719 Z \"/><text class=\"f_000000_ffffff\" font-family=\"sans-serif\" font-size=\"14\" lengthAdjust=\"spacing\" textLength=\"41\" x=\"48.95\" y=\"27.8467\">Order</text><line class=\"s_181818_e7e7e7\" style=\"stroke-width:0.5;\" x1=\"16\" x2=\"96\" y1=\"39\" y2=\"39\"/><text class=\"f_000000_ffffff\" font-family=\"sans-serif\" font-size=\"14\" lengthAdjust=\"spacing\" textLength=\"13\" x=\"21\" y=\"55.9951\">id</text><text class=\"f_000000_ffffff\" font-family=\"sans-serif\" font-size=\"14\" lengthAdjust=\"spacing\" textLength=\"39\" x=\"21\" y=\"72.292\">petId</text><text class=\"f_000000_ffffff\" font-family=\"sans-serif\" font-size=\"14\" lengthAdjust=\"spacing\" textLength=\"60\" x=\"21\" y=\"88.5889\">quantity</text><text class=\"f_000000_ffffff\" font-family=\"sans-serif\" font-size=\"14\" lengthAdjust=\"spacing\" textLength=\"65\" x=\"21\" y=\"104.8857\">shipDate</text><text class=\"f_000000_ffffff\" font-family=\"sans-serif\" font-size=\"14\" lengthAdjust=\"spacing\" textLength=\"44\" x=\"21\" y=\"121.1826\">status</text><text class=\"f_000000_ffffff\" font-family=\"sans-serif\" font-size=\"14\" lengthAdjust=\"spacing\" textLength=\"70\" x=\"21\" y=\"137.4795\">complete</text><line class=\"s_181818_e7e7e7\" style=\"stroke-width:0.5;\" x1=\"16\" x2=\"96\" y1=\"144.7813\" y2=\"144.7813\"/></g><!--MD5=[2ce0c9fb7f55b1e256ab28a8ea6b25ec]\n",
       "class Customer--><g id=\"elem_Customer\"><rect class=\"f_f1f1f1_070707 s_181818_e7e7e7\" codeLine=\"9\" height=\"96.8906\" id=\"Customer\" rx=\"2.5\" ry=\"2.5\" style=\"stroke-width:0.5;\" width=\"102\" x=\"132\" y=\"31.5\"/><ellipse class=\"f_add1b2_2e5233 s_181818_e7e7e7\" cx=\"147\" cy=\"47.5\" rx=\"11\" ry=\"11\" style=\"stroke-width:1.0;\"/><path class=\"f_000000_ffffff\" d=\"M149.3438,43.1719 C148.4063,42.7344 147.8125,42.5938 146.9375,42.5938 C144.3125,42.5938 142.3125,44.6719 142.3125,47.3906 L142.3125,48.5156 C142.3125,51.0938 144.4219,52.9844 147.3125,52.9844 C148.5313,52.9844 149.6875,52.6875 150.4375,52.1406 C151.0156,51.7344 151.3438,51.2813 151.3438,50.8906 C151.3438,50.4375 150.9531,50.0469 150.4844,50.0469 C150.2656,50.0469 150.0625,50.125 149.875,50.3125 C149.4219,50.7969 149.4219,50.7969 149.2344,50.8906 C148.8125,51.1563 148.125,51.2813 147.3594,51.2813 C145.3125,51.2813 144.0156,50.1875 144.0156,48.4844 L144.0156,47.3906 C144.0156,45.6094 145.2656,44.2969 147,44.2969 C147.5781,44.2969 148.1875,44.4531 148.6563,44.7031 C149.1406,44.9844 149.3125,45.2031 149.4063,45.6094 C149.4688,46.0156 149.5,46.1406 149.6406,46.2656 C149.7813,46.4063 150.0156,46.5156 150.2344,46.5156 C150.5,46.5156 150.7656,46.375 150.9375,46.1563 C151.0469,46 151.0781,45.8125 151.0781,45.3906 L151.0781,43.9688 C151.0781,43.5313 151.0625,43.4063 150.9688,43.25 C150.8125,42.9844 150.5313,42.8438 150.2344,42.8438 C149.9375,42.8438 149.7344,42.9375 149.5156,43.25 L149.3438,43.1719 Z \"/><text class=\"f_000000_ffffff\" font-family=\"sans-serif\" font-size=\"14\" lengthAdjust=\"spacing\" textLength=\"70\" x=\"161\" y=\"52.3467\">Customer</text><line class=\"s_181818_e7e7e7\" style=\"stroke-width:0.5;\" x1=\"133\" x2=\"233\" y1=\"63.5\" y2=\"63.5\"/><text class=\"f_000000_ffffff\" font-family=\"sans-serif\" font-size=\"14\" lengthAdjust=\"spacing\" textLength=\"13\" x=\"138\" y=\"80.4951\">id</text><text class=\"f_000000_ffffff\" font-family=\"sans-serif\" font-size=\"14\" lengthAdjust=\"spacing\" textLength=\"70\" x=\"138\" y=\"96.792\">username</text><text class=\"f_000000_ffffff\" font-family=\"sans-serif\" font-size=\"14\" lengthAdjust=\"spacing\" textLength=\"55\" x=\"138\" y=\"113.0889\">address</text><line class=\"s_181818_e7e7e7\" style=\"stroke-width:0.5;\" x1=\"133\" x2=\"233\" y1=\"120.3906\" y2=\"120.3906\"/></g><!--MD5=[0f39e4cb6f03951afbf6d14bd2505654]\n",
       "class Address--><g id=\"elem_Address\"><rect class=\"f_f1f1f1_070707 s_181818_e7e7e7\" codeLine=\"14\" height=\"113.1875\" id=\"Address\" rx=\"2.5\" ry=\"2.5\" style=\"stroke-width:0.5;\" width=\"89\" x=\"269.5\" y=\"23.5\"/><ellipse class=\"f_add1b2_2e5233 s_181818_e7e7e7\" cx=\"284.5\" cy=\"39.5\" rx=\"11\" ry=\"11\" style=\"stroke-width:1.0;\"/><path class=\"f_000000_ffffff\" d=\"M286.8438,35.1719 C285.9063,34.7344 285.3125,34.5938 284.4375,34.5938 C281.8125,34.5938 279.8125,36.6719 279.8125,39.3906 L279.8125,40.5156 C279.8125,43.0938 281.9219,44.9844 284.8125,44.9844 C286.0313,44.9844 287.1875,44.6875 287.9375,44.1406 C288.5156,43.7344 288.8438,43.2813 288.8438,42.8906 C288.8438,42.4375 288.4531,42.0469 287.9844,42.0469 C287.7656,42.0469 287.5625,42.125 287.375,42.3125 C286.9219,42.7969 286.9219,42.7969 286.7344,42.8906 C286.3125,43.1563 285.625,43.2813 284.8594,43.2813 C282.8125,43.2813 281.5156,42.1875 281.5156,40.4844 L281.5156,39.3906 C281.5156,37.6094 282.7656,36.2969 284.5,36.2969 C285.0781,36.2969 285.6875,36.4531 286.1563,36.7031 C286.6406,36.9844 286.8125,37.2031 286.9063,37.6094 C286.9688,38.0156 287,38.1406 287.1406,38.2656 C287.2813,38.4063 287.5156,38.5156 287.7344,38.5156 C288,38.5156 288.2656,38.375 288.4375,38.1563 C288.5469,38 288.5781,37.8125 288.5781,37.3906 L288.5781,35.9688 C288.5781,35.5313 288.5625,35.4063 288.4688,35.25 C288.3125,34.9844 288.0313,34.8438 287.7344,34.8438 C287.4375,34.8438 287.2344,34.9375 287.0156,35.25 L286.8438,35.1719 Z \"/><text class=\"f_000000_ffffff\" font-family=\"sans-serif\" font-size=\"14\" lengthAdjust=\"spacing\" textLength=\"57\" x=\"298.5\" y=\"44.3467\">Address</text><line class=\"s_181818_e7e7e7\" style=\"stroke-width:0.5;\" x1=\"270.5\" x2=\"357.5\" y1=\"55.5\" y2=\"55.5\"/><text class=\"f_000000_ffffff\" font-family=\"sans-serif\" font-size=\"14\" lengthAdjust=\"spacing\" textLength=\"45\" x=\"275.5\" y=\"72.4951\">street</text><text class=\"f_000000_ffffff\" font-family=\"sans-serif\" font-size=\"14\" lengthAdjust=\"spacing\" textLength=\"27\" x=\"275.5\" y=\"88.792\">city</text><text class=\"f_000000_ffffff\" font-family=\"sans-serif\" font-size=\"14\" lengthAdjust=\"spacing\" textLength=\"38\" x=\"275.5\" y=\"105.0889\">state</text><text class=\"f_000000_ffffff\" font-family=\"sans-serif\" font-size=\"14\" lengthAdjust=\"spacing\" textLength=\"22\" x=\"275.5\" y=\"121.3857\">zip</text><line class=\"s_181818_e7e7e7\" style=\"stroke-width:0.5;\" x1=\"270.5\" x2=\"357.5\" y1=\"128.6875\" y2=\"128.6875\"/></g><!--MD5=[a96594a83e2ecdc78cbf17c2ddf01934]\n",
       "class Category--><g id=\"elem_Category\"><rect class=\"f_f1f1f1_070707 s_181818_e7e7e7\" codeLine=\"20\" height=\"80.5938\" id=\"Category\" rx=\"2.5\" ry=\"2.5\" style=\"stroke-width:0.5;\" width=\"98\" x=\"7\" y=\"261.5\"/><ellipse class=\"f_add1b2_2e5233 s_181818_e7e7e7\" cx=\"22\" cy=\"277.5\" rx=\"11\" ry=\"11\" style=\"stroke-width:1.0;\"/><path class=\"f_000000_ffffff\" d=\"M24.3438,273.1719 C23.4063,272.7344 22.8125,272.5938 21.9375,272.5938 C19.3125,272.5938 17.3125,274.6719 17.3125,277.3906 L17.3125,278.5156 C17.3125,281.0938 19.4219,282.9844 22.3125,282.9844 C23.5313,282.9844 24.6875,282.6875 25.4375,282.1406 C26.0156,281.7344 26.3438,281.2813 26.3438,280.8906 C26.3438,280.4375 25.9531,280.0469 25.4844,280.0469 C25.2656,280.0469 25.0625,280.125 24.875,280.3125 C24.4219,280.7969 24.4219,280.7969 24.2344,280.8906 C23.8125,281.1563 23.125,281.2813 22.3594,281.2813 C20.3125,281.2813 19.0156,280.1875 19.0156,278.4844 L19.0156,277.3906 C19.0156,275.6094 20.2656,274.2969 22,274.2969 C22.5781,274.2969 23.1875,274.4531 23.6563,274.7031 C24.1406,274.9844 24.3125,275.2031 24.4063,275.6094 C24.4688,276.0156 24.5,276.1406 24.6406,276.2656 C24.7813,276.4063 25.0156,276.5156 25.2344,276.5156 C25.5,276.5156 25.7656,276.375 25.9375,276.1563 C26.0469,276 26.0781,275.8125 26.0781,275.3906 L26.0781,273.9688 C26.0781,273.5313 26.0625,273.4063 25.9688,273.25 C25.8125,272.9844 25.5313,272.8438 25.2344,272.8438 C24.9375,272.8438 24.7344,272.9375 24.5156,273.25 L24.3438,273.1719 Z \"/><text class=\"f_000000_ffffff\" font-family=\"sans-serif\" font-size=\"14\" lengthAdjust=\"spacing\" textLength=\"66\" x=\"36\" y=\"282.3467\">Category</text><line class=\"s_181818_e7e7e7\" style=\"stroke-width:0.5;\" x1=\"8\" x2=\"104\" y1=\"293.5\" y2=\"293.5\"/><text class=\"f_000000_ffffff\" font-family=\"sans-serif\" font-size=\"14\" lengthAdjust=\"spacing\" textLength=\"13\" x=\"13\" y=\"310.4951\">id</text><text class=\"f_000000_ffffff\" font-family=\"sans-serif\" font-size=\"14\" lengthAdjust=\"spacing\" textLength=\"40\" x=\"13\" y=\"326.792\">name</text><line class=\"s_181818_e7e7e7\" style=\"stroke-width:0.5;\" x1=\"8\" x2=\"104\" y1=\"334.0938\" y2=\"334.0938\"/></g><!--MD5=[3fd616f346a44cd59a91eb10b19e157c]\n",
       "class User--><g id=\"elem_User\"><rect class=\"f_f1f1f1_070707 s_181818_e7e7e7\" codeLine=\"24\" height=\"178.375\" id=\"User\" rx=\"2.5\" ry=\"2.5\" style=\"stroke-width:0.5;\" width=\"88\" x=\"140\" y=\"213\"/><ellipse class=\"f_add1b2_2e5233 s_181818_e7e7e7\" cx=\"166.25\" cy=\"229\" rx=\"11\" ry=\"11\" style=\"stroke-width:1.0;\"/><path class=\"f_000000_ffffff\" d=\"M168.5938,224.6719 C167.6563,224.2344 167.0625,224.0938 166.1875,224.0938 C163.5625,224.0938 161.5625,226.1719 161.5625,228.8906 L161.5625,230.0156 C161.5625,232.5938 163.6719,234.4844 166.5625,234.4844 C167.7813,234.4844 168.9375,234.1875 169.6875,233.6406 C170.2656,233.2344 170.5938,232.7813 170.5938,232.3906 C170.5938,231.9375 170.2031,231.5469 169.7344,231.5469 C169.5156,231.5469 169.3125,231.625 169.125,231.8125 C168.6719,232.2969 168.6719,232.2969 168.4844,232.3906 C168.0625,232.6563 167.375,232.7813 166.6094,232.7813 C164.5625,232.7813 163.2656,231.6875 163.2656,229.9844 L163.2656,228.8906 C163.2656,227.1094 164.5156,225.7969 166.25,225.7969 C166.8281,225.7969 167.4375,225.9531 167.9063,226.2031 C168.3906,226.4844 168.5625,226.7031 168.6563,227.1094 C168.7188,227.5156 168.75,227.6406 168.8906,227.7656 C169.0313,227.9063 169.2656,228.0156 169.4844,228.0156 C169.75,228.0156 170.0156,227.875 170.1875,227.6563 C170.2969,227.5 170.3281,227.3125 170.3281,226.8906 L170.3281,225.4688 C170.3281,225.0313 170.3125,224.9063 170.2188,224.75 C170.0625,224.4844 169.7813,224.3438 169.4844,224.3438 C169.1875,224.3438 168.9844,224.4375 168.7656,224.75 L168.5938,224.6719 Z \"/><text class=\"f_000000_ffffff\" font-family=\"sans-serif\" font-size=\"14\" lengthAdjust=\"spacing\" textLength=\"31\" x=\"182.75\" y=\"233.8467\">User</text><line class=\"s_181818_e7e7e7\" style=\"stroke-width:0.5;\" x1=\"141\" x2=\"227\" y1=\"245\" y2=\"245\"/><text class=\"f_000000_ffffff\" font-family=\"sans-serif\" font-size=\"14\" lengthAdjust=\"spacing\" textLength=\"13\" x=\"146\" y=\"261.9951\">id</text><text class=\"f_000000_ffffff\" font-family=\"sans-serif\" font-size=\"14\" lengthAdjust=\"spacing\" textLength=\"70\" x=\"146\" y=\"278.292\">username</text><text class=\"f_000000_ffffff\" font-family=\"sans-serif\" font-size=\"14\" lengthAdjust=\"spacing\" textLength=\"71\" x=\"146\" y=\"294.5889\">firstName</text><text class=\"f_000000_ffffff\" font-family=\"sans-serif\" font-size=\"14\" lengthAdjust=\"spacing\" textLength=\"67\" x=\"146\" y=\"310.8857\">lastName</text><text class=\"f_000000_ffffff\" font-family=\"sans-serif\" font-size=\"14\" lengthAdjust=\"spacing\" textLength=\"39\" x=\"146\" y=\"327.1826\">email</text><text class=\"f_000000_ffffff\" font-family=\"sans-serif\" font-size=\"14\" lengthAdjust=\"spacing\" textLength=\"67\" x=\"146\" y=\"343.4795\">password</text><text class=\"f_000000_ffffff\" font-family=\"sans-serif\" font-size=\"14\" lengthAdjust=\"spacing\" textLength=\"46\" x=\"146\" y=\"359.7764\">phone</text><text class=\"f_000000_ffffff\" font-family=\"sans-serif\" font-size=\"14\" lengthAdjust=\"spacing\" textLength=\"76\" x=\"146\" y=\"376.0732\">userStatus</text><line class=\"s_181818_e7e7e7\" style=\"stroke-width:0.5;\" x1=\"141\" x2=\"227\" y1=\"383.375\" y2=\"383.375\"/></g><!--MD5=[39d6d2ea03de602dbf4d534e70c872a9]\n",
       "class Tag--><g id=\"elem_Tag\"><rect class=\"f_f1f1f1_070707 s_181818_e7e7e7\" codeLine=\"34\" height=\"80.5938\" id=\"Tag\" rx=\"2.5\" ry=\"2.5\" style=\"stroke-width:0.5;\" width=\"58\" x=\"263\" y=\"261.5\"/><ellipse class=\"f_add1b2_2e5233 s_181818_e7e7e7\" cx=\"278\" cy=\"277.5\" rx=\"11\" ry=\"11\" style=\"stroke-width:1.0;\"/><path class=\"f_000000_ffffff\" d=\"M280.3438,273.1719 C279.4063,272.7344 278.8125,272.5938 277.9375,272.5938 C275.3125,272.5938 273.3125,274.6719 273.3125,277.3906 L273.3125,278.5156 C273.3125,281.0938 275.4219,282.9844 278.3125,282.9844 C279.5313,282.9844 280.6875,282.6875 281.4375,282.1406 C282.0156,281.7344 282.3438,281.2813 282.3438,280.8906 C282.3438,280.4375 281.9531,280.0469 281.4844,280.0469 C281.2656,280.0469 281.0625,280.125 280.875,280.3125 C280.4219,280.7969 280.4219,280.7969 280.2344,280.8906 C279.8125,281.1563 279.125,281.2813 278.3594,281.2813 C276.3125,281.2813 275.0156,280.1875 275.0156,278.4844 L275.0156,277.3906 C275.0156,275.6094 276.2656,274.2969 278,274.2969 C278.5781,274.2969 279.1875,274.4531 279.6563,274.7031 C280.1406,274.9844 280.3125,275.2031 280.4063,275.6094 C280.4688,276.0156 280.5,276.1406 280.6406,276.2656 C280.7813,276.4063 281.0156,276.5156 281.2344,276.5156 C281.5,276.5156 281.7656,276.375 281.9375,276.1563 C282.0469,276 282.0781,275.8125 282.0781,275.3906 L282.0781,273.9688 C282.0781,273.5313 282.0625,273.4063 281.9688,273.25 C281.8125,272.9844 281.5313,272.8438 281.2344,272.8438 C280.9375,272.8438 280.7344,272.9375 280.5156,273.25 L280.3438,273.1719 Z \"/><text class=\"f_000000_ffffff\" font-family=\"sans-serif\" font-size=\"14\" lengthAdjust=\"spacing\" textLength=\"26\" x=\"292\" y=\"282.3467\">Tag</text><line class=\"s_181818_e7e7e7\" style=\"stroke-width:0.5;\" x1=\"264\" x2=\"320\" y1=\"293.5\" y2=\"293.5\"/><text class=\"f_000000_ffffff\" font-family=\"sans-serif\" font-size=\"14\" lengthAdjust=\"spacing\" textLength=\"13\" x=\"269\" y=\"310.4951\">id</text><text class=\"f_000000_ffffff\" font-family=\"sans-serif\" font-size=\"14\" lengthAdjust=\"spacing\" textLength=\"40\" x=\"269\" y=\"326.792\">name</text><line class=\"s_181818_e7e7e7\" style=\"stroke-width:0.5;\" x1=\"264\" x2=\"320\" y1=\"334.0938\" y2=\"334.0938\"/></g><!--MD5=[9cfa872a99fa8e70a8c023fe905238fd]\n",
       "class Pet--><g id=\"elem_Pet\"><rect class=\"f_f1f1f1_070707 s_181818_e7e7e7\" codeLine=\"38\" height=\"145.7813\" id=\"Pet\" rx=\"2.5\" ry=\"2.5\" style=\"stroke-width:0.5;\" width=\"82\" x=\"15\" y=\"451\"/><ellipse class=\"f_add1b2_2e5233 s_181818_e7e7e7\" cx=\"41.25\" cy=\"467\" rx=\"11\" ry=\"11\" style=\"stroke-width:1.0;\"/><path class=\"f_000000_ffffff\" d=\"M43.5938,462.6719 C42.6563,462.2344 42.0625,462.0938 41.1875,462.0938 C38.5625,462.0938 36.5625,464.1719 36.5625,466.8906 L36.5625,468.0156 C36.5625,470.5938 38.6719,472.4844 41.5625,472.4844 C42.7813,472.4844 43.9375,472.1875 44.6875,471.6406 C45.2656,471.2344 45.5938,470.7813 45.5938,470.3906 C45.5938,469.9375 45.2031,469.5469 44.7344,469.5469 C44.5156,469.5469 44.3125,469.625 44.125,469.8125 C43.6719,470.2969 43.6719,470.2969 43.4844,470.3906 C43.0625,470.6563 42.375,470.7813 41.6094,470.7813 C39.5625,470.7813 38.2656,469.6875 38.2656,467.9844 L38.2656,466.8906 C38.2656,465.1094 39.5156,463.7969 41.25,463.7969 C41.8281,463.7969 42.4375,463.9531 42.9063,464.2031 C43.3906,464.4844 43.5625,464.7031 43.6563,465.1094 C43.7188,465.5156 43.75,465.6406 43.8906,465.7656 C44.0313,465.9063 44.2656,466.0156 44.4844,466.0156 C44.75,466.0156 45.0156,465.875 45.1875,465.6563 C45.2969,465.5 45.3281,465.3125 45.3281,464.8906 L45.3281,463.4688 C45.3281,463.0313 45.3125,462.9063 45.2188,462.75 C45.0625,462.4844 44.7813,462.3438 44.4844,462.3438 C44.1875,462.3438 43.9844,462.4375 43.7656,462.75 L43.5938,462.6719 Z \"/><text class=\"f_000000_ffffff\" font-family=\"sans-serif\" font-size=\"14\" lengthAdjust=\"spacing\" textLength=\"25\" x=\"57.75\" y=\"471.8467\">Pet</text><line class=\"s_181818_e7e7e7\" style=\"stroke-width:0.5;\" x1=\"16\" x2=\"96\" y1=\"483\" y2=\"483\"/><text class=\"f_000000_ffffff\" font-family=\"sans-serif\" font-size=\"14\" lengthAdjust=\"spacing\" textLength=\"13\" x=\"21\" y=\"499.9951\">id</text><text class=\"f_000000_ffffff\" font-family=\"sans-serif\" font-size=\"14\" lengthAdjust=\"spacing\" textLength=\"40\" x=\"21\" y=\"516.292\">name</text><text class=\"f_000000_ffffff\" font-family=\"sans-serif\" font-size=\"14\" lengthAdjust=\"spacing\" textLength=\"64\" x=\"21\" y=\"532.5889\">category</text><text class=\"f_000000_ffffff\" font-family=\"sans-serif\" font-size=\"14\" lengthAdjust=\"spacing\" textLength=\"70\" x=\"21\" y=\"548.8857\">photoUrls</text><text class=\"f_000000_ffffff\" font-family=\"sans-serif\" font-size=\"14\" lengthAdjust=\"spacing\" textLength=\"31\" x=\"21\" y=\"565.1826\">tags</text><text class=\"f_000000_ffffff\" font-family=\"sans-serif\" font-size=\"14\" lengthAdjust=\"spacing\" textLength=\"44\" x=\"21\" y=\"581.4795\">status</text><line class=\"s_181818_e7e7e7\" style=\"stroke-width:0.5;\" x1=\"16\" x2=\"96\" y1=\"588.7813\" y2=\"588.7813\"/></g><!--MD5=[1b97144616e9018ba89e14d9883978ec]\n",
       "class ApiResponse--><g id=\"elem_ApiResponse\"><rect class=\"f_f1f1f1_070707 s_181818_e7e7e7\" codeLine=\"46\" height=\"96.8906\" id=\"ApiResponse\" rx=\"2.5\" ry=\"2.5\" style=\"stroke-width:0.5;\" width=\"126\" x=\"132\" y=\"475.5\"/><ellipse class=\"f_add1b2_2e5233 s_181818_e7e7e7\" cx=\"147\" cy=\"491.5\" rx=\"11\" ry=\"11\" style=\"stroke-width:1.0;\"/><path class=\"f_000000_ffffff\" d=\"M149.3438,487.1719 C148.4063,486.7344 147.8125,486.5938 146.9375,486.5938 C144.3125,486.5938 142.3125,488.6719 142.3125,491.3906 L142.3125,492.5156 C142.3125,495.0938 144.4219,496.9844 147.3125,496.9844 C148.5313,496.9844 149.6875,496.6875 150.4375,496.1406 C151.0156,495.7344 151.3438,495.2813 151.3438,494.8906 C151.3438,494.4375 150.9531,494.0469 150.4844,494.0469 C150.2656,494.0469 150.0625,494.125 149.875,494.3125 C149.4219,494.7969 149.4219,494.7969 149.2344,494.8906 C148.8125,495.1563 148.125,495.2813 147.3594,495.2813 C145.3125,495.2813 144.0156,494.1875 144.0156,492.4844 L144.0156,491.3906 C144.0156,489.6094 145.2656,488.2969 147,488.2969 C147.5781,488.2969 148.1875,488.4531 148.6563,488.7031 C149.1406,488.9844 149.3125,489.2031 149.4063,489.6094 C149.4688,490.0156 149.5,490.1406 149.6406,490.2656 C149.7813,490.4063 150.0156,490.5156 150.2344,490.5156 C150.5,490.5156 150.7656,490.375 150.9375,490.1563 C151.0469,490 151.0781,489.8125 151.0781,489.3906 L151.0781,487.9688 C151.0781,487.5313 151.0625,487.4063 150.9688,487.25 C150.8125,486.9844 150.5313,486.8438 150.2344,486.8438 C149.9375,486.8438 149.7344,486.9375 149.5156,487.25 L149.3438,487.1719 Z \"/><text class=\"f_000000_ffffff\" font-family=\"sans-serif\" font-size=\"14\" lengthAdjust=\"spacing\" textLength=\"94\" x=\"161\" y=\"496.3467\">ApiResponse</text><line class=\"s_181818_e7e7e7\" style=\"stroke-width:0.5;\" x1=\"133\" x2=\"257\" y1=\"507.5\" y2=\"507.5\"/><text class=\"f_000000_ffffff\" font-family=\"sans-serif\" font-size=\"14\" lengthAdjust=\"spacing\" textLength=\"35\" x=\"138\" y=\"524.4951\">code</text><text class=\"f_000000_ffffff\" font-family=\"sans-serif\" font-size=\"14\" lengthAdjust=\"spacing\" textLength=\"34\" x=\"138\" y=\"540.792\">type</text><text class=\"f_000000_ffffff\" font-family=\"sans-serif\" font-size=\"14\" lengthAdjust=\"spacing\" textLength=\"63\" x=\"138\" y=\"557.0889\">message</text><line class=\"s_181818_e7e7e7\" style=\"stroke-width:0.5;\" x1=\"133\" x2=\"257\" y1=\"564.3906\" y2=\"564.3906\"/></g><!--MD5=[65622aaf8fcfd7b10df86db327daabc8]\n",
       "link Order to Customer--></g></svg>"
      ],
      "text/plain": [
       "<IPython.core.display.SVG object>"
      ]
     },
     "execution_count": 63,
     "metadata": {},
     "output_type": "execute_result"
    }
   ],
   "source": [
    "%%plantuml\n",
    "@startuml\n",
    "class Order{\n",
    "id\n",
    "petId\n",
    "quantity\n",
    "shipDate\n",
    "status\n",
    "complete\n",
    "}\n",
    "class Customer{\n",
    "id\n",
    "username\n",
    "address\n",
    "}\n",
    "class Address{\n",
    "street\n",
    "city\n",
    "state\n",
    "zip\n",
    "}\n",
    "class Category{\n",
    "id\n",
    "name\n",
    "}\n",
    "class User{\n",
    "id\n",
    "username\n",
    "firstName\n",
    "lastName\n",
    "email\n",
    "password\n",
    "phone\n",
    "userStatus\n",
    "}\n",
    "class Tag{\n",
    "id\n",
    "name\n",
    "}\n",
    "class Pet{\n",
    "id\n",
    "name\n",
    "category\n",
    "photoUrls\n",
    "tags\n",
    "status\n",
    "}\n",
    "class ApiResponse{\n",
    "code\n",
    "type\n",
    "message\n",
    "}\n",
    "@enduml"
   ]
  }
 ],
 "metadata": {
  "kernelspec": {
   "display_name": "Python 3 (ipykernel)",
   "language": "python",
   "name": "python3"
  },
  "language_info": {
   "codemirror_mode": {
    "name": "ipython",
    "version": 3
   },
   "file_extension": ".py",
   "mimetype": "text/x-python",
   "name": "python",
   "nbconvert_exporter": "python",
   "pygments_lexer": "ipython3",
   "version": "3.9.12"
  }
 },
 "nbformat": 4,
 "nbformat_minor": 5
}
